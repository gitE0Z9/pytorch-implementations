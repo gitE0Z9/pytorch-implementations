{
    "cells": [
        {
            "cell_type": "code",
            "execution_count": 35,
            "metadata": {},
            "outputs": [],
            "source": [
                "from pathlib import Path\n",
                "\n",
                "import matplotlib.pyplot as plt\n",
                "import torch\n",
                "import torchinfo\n",
                "import torchvision\n",
                "from torch.utils.data import DataLoader\n",
                "from torchlake.common.constants import IMAGENET_MEAN, IMAGENET_STD\n",
                "from torchlake.common.controller.evaluator import ClassificationEvaluator\n",
                "from torchlake.common.controller.trainer import ClassificationTrainer\n",
                "from torchlake.common.utils.convert import img_tensor_to_np\n",
                "from torchlake.common.utils.platform import get_file_size, get_num_workers\n",
                "from torchlake.image_classification.models.wide_resnet import WideResNet\n",
                "from torchvision import transforms"
            ]
        },
        {
            "cell_type": "markdown",
            "metadata": {},
            "source": [
                "# Setting"
            ]
        },
        {
            "cell_type": "code",
            "execution_count": 36,
            "metadata": {},
            "outputs": [],
            "source": [
                "IMAGE_SIZE = 224\n",
                "BATCH_SIZE = 64"
            ]
        },
        {
            "cell_type": "code",
            "execution_count": 37,
            "metadata": {},
            "outputs": [],
            "source": [
                "artifact_path = Path(\"../../artifacts/wide-resnet\")\n",
                "data_path = Path(\"../../data/animal10\")"
            ]
        },
        {
            "cell_type": "code",
            "execution_count": 38,
            "metadata": {},
            "outputs": [],
            "source": [
                "device = torch.device(\"cuda:0\")"
            ]
        },
        {
            "cell_type": "markdown",
            "metadata": {},
            "source": [
                "# data"
            ]
        },
        {
            "cell_type": "code",
            "execution_count": 39,
            "metadata": {},
            "outputs": [],
            "source": [
                "preprocess = transforms.Compose(\n",
                "    [\n",
                "        transforms.RandomHorizontalFlip(),\n",
                "        transforms.ColorJitter(),\n",
                "        transforms.Resize((IMAGE_SIZE, IMAGE_SIZE)),\n",
                "        transforms.ToTensor(),\n",
                "        transforms.Normalize(IMAGENET_MEAN, IMAGENET_STD),\n",
                "    ]\n",
                ")"
            ]
        },
        {
            "cell_type": "code",
            "execution_count": 40,
            "metadata": {},
            "outputs": [],
            "source": [
                "dataset = torchvision.datasets.ImageFolder(\n",
                "    data_path.as_posix(),\n",
                "    transform=preprocess,\n",
                ")"
            ]
        },
        {
            "cell_type": "code",
            "execution_count": 41,
            "metadata": {},
            "outputs": [],
            "source": [
                "train_loader = DataLoader(\n",
                "    dataset,\n",
                "    batch_size=BATCH_SIZE,\n",
                "    shuffle=True,\n",
                "    drop_last=True,\n",
                "    pin_memory=True,\n",
                "    num_workers=get_num_workers(),\n",
                ")"
            ]
        },
        {
            "cell_type": "code",
            "execution_count": 42,
            "metadata": {},
            "outputs": [],
            "source": [
                "num_class = len(dataset.classes)"
            ]
        },
        {
            "cell_type": "code",
            "execution_count": 43,
            "metadata": {},
            "outputs": [
                {
                    "data": {
                        "text/plain": [
                            "['cane',\n",
                            " 'cavallo',\n",
                            " 'elefante',\n",
                            " 'farfalla',\n",
                            " 'gallina',\n",
                            " 'gatto',\n",
                            " 'mucca',\n",
                            " 'pecora',\n",
                            " 'ragno',\n",
                            " 'scoiattolo']"
                        ]
                    },
                    "execution_count": 43,
                    "metadata": {},
                    "output_type": "execute_result"
                }
            ],
            "source": [
                "dataset.classes"
            ]
        },
        {
            "cell_type": "code",
            "execution_count": 44,
            "metadata": {},
            "outputs": [
                {
                    "data": {
                        "text/plain": [
                            "26179"
                        ]
                    },
                    "execution_count": 44,
                    "metadata": {},
                    "output_type": "execute_result"
                }
            ],
            "source": [
                "len(dataset)"
            ]
        },
        {
            "cell_type": "code",
            "execution_count": 45,
            "metadata": {},
            "outputs": [
                {
                    "name": "stdout",
                    "output_type": "stream",
                    "text": [
                        "farfalla\n"
                    ]
                },
                {
                    "data": {
                        "text/plain": [
                            "<matplotlib.image.AxesImage at 0x264a68edc10>"
                        ]
                    },
                    "execution_count": 45,
                    "metadata": {},
                    "output_type": "execute_result"
                },
                {
                    "data": {
                        "image/png": "[encoded data removed]",
                        "text/plain": [
                            "<Figure size 640x480 with 1 Axes>"
                        ]
                    },
                    "metadata": {},
                    "output_type": "display_data"
                }
            ],
            "source": [
                "import random\n",
                "demo_img, demo_label = dataset[random.randint(0, len(dataset))]\n",
                "print(dataset.classes[demo_label])\n",
                "plt.imshow((img_tensor_to_np(demo_img) * IMAGENET_STD + IMAGENET_MEAN).clip(0, 1))"
            ]
        },
        {
            "cell_type": "markdown",
            "metadata": {},
            "source": [
                "# model"
            ]
        },
        {
            "cell_type": "code",
            "execution_count": 46,
            "metadata": {},
            "outputs": [],
            "source": [
                "# WRN-16-8\n",
                "model = WideResNet(\n",
                "    output_size=num_class,\n",
                "    deepening_factor=3,\n",
                "    widening_factor=8,\n",
                "    enable_dropout=False,\n",
                ").to(device)"
            ]
        },
        {
            "cell_type": "code",
            "execution_count": 47,
            "metadata": {},
            "outputs": [
                {
                    "data": {
                        "text/plain": [
                            "===========================================================================\n",
                            "Layer (type:depth-idx)                             Param #\n",
                            "===========================================================================\n",
                            "WideResNet                                         --\n",
                            "├─Sequential: 1-1                                  --\n",
                            "│    └─Conv2dNormActivation: 2-1                   --\n",
                            "│    │    └─Conv2d: 3-1                            2,352\n",
                            "│    │    └─BatchNorm2d: 3-2                       32\n",
                            "│    │    └─ReLU: 3-3                              --\n",
                            "│    └─MaxPool2d: 2-2                              --\n",
                            "├─Sequential: 1-2                                  --\n",
                            "│    └─ResBlock: 2-3                               --\n",
                            "│    │    └─ReLU: 3-4                              --\n",
                            "│    │    └─DropoutConvBlock: 3-5                  4,672\n",
                            "│    │    └─Sequential: 3-6                        288\n",
                            "├─Sequential: 1-3                                  --\n",
                            "│    └─ResBlock: 2-4                               --\n",
                            "│    │    └─ReLU: 3-7                              --\n",
                            "│    │    └─DropoutConvBlock: 3-8                  13,920\n",
                            "│    │    └─Sequential: 3-9                        576\n",
                            "├─Sequential: 1-4                                  --\n",
                            "│    └─ResBlock: 2-5                               --\n",
                            "│    │    └─ReLU: 3-10                             --\n",
                            "│    │    └─DropoutConvBlock: 3-11                 55,488\n",
                            "│    │    └─Sequential: 3-12                       2,176\n",
                            "├─FlattenFeature: 1-5                              --\n",
                            "│    └─Sequential: 2-6                             --\n",
                            "│    │    └─AdaptiveAvgPool2d: 3-13                --\n",
                            "│    │    └─Flatten: 3-14                          --\n",
                            "├─Linear: 1-6                                      650\n",
                            "===========================================================================\n",
                            "Total params: 80,154\n",
                            "Trainable params: 80,154\n",
                            "Non-trainable params: 0\n",
                            "==========================================================================="
                        ]
                    },
                    "execution_count": 47,
                    "metadata": {},
                    "output_type": "execute_result"
                }
            ],
            "source": [
                "torchinfo.summary(model)"
            ]
        },
        {
            "cell_type": "markdown",
            "metadata": {},
            "source": [
                "# training"
            ]
        },
        {
            "cell_type": "code",
            "execution_count": 48,
            "metadata": {},
            "outputs": [],
            "source": [
                "epochs = 10\n",
                "acc_iters = 64 // BATCH_SIZE"
            ]
        },
        {
            "cell_type": "code",
            "execution_count": 49,
            "metadata": {},
            "outputs": [],
            "source": [
                "trainer = ClassificationTrainer(epochs, device, acc_iters)"
            ]
        },
        {
            "cell_type": "code",
            "execution_count": 50,
            "metadata": {},
            "outputs": [],
            "source": [
                "criterion = trainer.get_criterion(num_class)\n",
                "optim = torch.optim.Adam(model.parameters(), weight_decay=1e-5)"
            ]
        },
        {
            "cell_type": "code",
            "execution_count": 51,
            "metadata": {},
            "outputs": [
                {
                    "name": "stderr",
                    "output_type": "stream",
                    "text": [
                        "100%|██████████| 1636/1636 [02:03<00:00, 13.27it/s]\n"
                    ]
                },
                {
                    "name": "stdout",
                    "output_type": "stream",
                    "text": [
                        "epoch 1 : 0.027645943476875427\n"
                    ]
                },
                {
                    "name": "stderr",
                    "output_type": "stream",
                    "text": [
                        "100%|██████████| 1636/1636 [02:03<00:00, 13.30it/s]\n"
                    ]
                },
                {
                    "name": "stdout",
                    "output_type": "stream",
                    "text": [
                        "epoch 2 : 0.02146590696670534\n"
                    ]
                },
                {
                    "name": "stderr",
                    "output_type": "stream",
                    "text": [
                        "100%|██████████| 1636/1636 [02:02<00:00, 13.40it/s]\n"
                    ]
                },
                {
                    "name": "stdout",
                    "output_type": "stream",
                    "text": [
                        "epoch 3 : 0.01868499347639514\n"
                    ]
                },
                {
                    "name": "stderr",
                    "output_type": "stream",
                    "text": [
                        "100%|██████████| 1636/1636 [02:03<00:00, 13.30it/s]\n"
                    ]
                },
                {
                    "name": "stdout",
                    "output_type": "stream",
                    "text": [
                        "epoch 4 : 0.016903525793897603\n"
                    ]
                },
                {
                    "name": "stderr",
                    "output_type": "stream",
                    "text": [
                        "100%|██████████| 1636/1636 [02:04<00:00, 13.15it/s]\n"
                    ]
                },
                {
                    "name": "stdout",
                    "output_type": "stream",
                    "text": [
                        "epoch 5 : 0.015890128524577777\n"
                    ]
                },
                {
                    "name": "stderr",
                    "output_type": "stream",
                    "text": [
                        "100%|██████████| 1636/1636 [02:03<00:00, 13.28it/s]\n"
                    ]
                },
                {
                    "name": "stdout",
                    "output_type": "stream",
                    "text": [
                        "epoch 6 : 0.01498685948238173\n"
                    ]
                },
                {
                    "name": "stderr",
                    "output_type": "stream",
                    "text": [
                        "100%|██████████| 1636/1636 [02:04<00:00, 13.13it/s]\n"
                    ]
                },
                {
                    "name": "stdout",
                    "output_type": "stream",
                    "text": [
                        "epoch 7 : 0.014184752416576107\n"
                    ]
                },
                {
                    "name": "stderr",
                    "output_type": "stream",
                    "text": [
                        "100%|██████████| 1636/1636 [02:02<00:00, 13.36it/s]\n"
                    ]
                },
                {
                    "name": "stdout",
                    "output_type": "stream",
                    "text": [
                        "epoch 8 : 0.013464408036615144\n"
                    ]
                },
                {
                    "name": "stderr",
                    "output_type": "stream",
                    "text": [
                        "100%|██████████| 1636/1636 [01:59<00:00, 13.68it/s]\n"
                    ]
                },
                {
                    "name": "stdout",
                    "output_type": "stream",
                    "text": [
                        "epoch 9 : 0.01282795872123716\n"
                    ]
                },
                {
                    "name": "stderr",
                    "output_type": "stream",
                    "text": [
                        "100%|██████████| 1636/1636 [02:06<00:00, 12.93it/s]"
                    ]
                },
                {
                    "name": "stdout",
                    "output_type": "stream",
                    "text": [
                        "epoch 10 : 0.01240900227635493\n"
                    ]
                },
                {
                    "name": "stderr",
                    "output_type": "stream",
                    "text": [
                        "\n"
                    ]
                }
            ],
            "source": [
                "training_loss = trainer.run(train_loader, model, optim, criterion)"
            ]
        },
        {
            "cell_type": "code",
            "execution_count": 52,
            "metadata": {},
            "outputs": [
                {
                    "data": {
                        "text/plain": [
                            "[<matplotlib.lines.Line2D at 0x264e2e9e610>]"
                        ]
                    },
                    "execution_count": 52,
                    "metadata": {},
                    "output_type": "execute_result"
                },
                {
                    "data": {
                        "image/png": "[encoded data removed]",
                        "text/plain": [
                            "<Figure size 640x480 with 1 Axes>"
                        ]
                    },
                    "metadata": {},
                    "output_type": "display_data"
                }
            ],
            "source": [
                "plt.plot(training_loss)"
            ]
        },
        {
            "cell_type": "markdown",
            "metadata": {},
            "source": [
                "# inference"
            ]
        },
        {
            "cell_type": "code",
            "execution_count": 53,
            "metadata": {},
            "outputs": [],
            "source": [
                "test_preprocess = transforms.Compose(\n",
                "    [\n",
                "        transforms.Resize((IMAGE_SIZE, IMAGE_SIZE)),\n",
                "        transforms.ToTensor(),\n",
                "        transforms.Normalize(IMAGENET_MEAN, IMAGENET_STD),\n",
                "    ]\n",
                ")"
            ]
        },
        {
            "cell_type": "code",
            "execution_count": 54,
            "metadata": {},
            "outputs": [],
            "source": [
                "test_dataset = torchvision.datasets.ImageFolder(\n",
                "    data_path.as_posix(),\n",
                "    transform=test_preprocess,\n",
                ")"
            ]
        },
        {
            "cell_type": "code",
            "execution_count": 55,
            "metadata": {},
            "outputs": [],
            "source": [
                "test_loader = DataLoader(\n",
                "    test_dataset,\n",
                "    batch_size=BATCH_SIZE,\n",
                "    pin_memory=True,\n",
                "    num_workers=get_num_workers(),\n",
                ")"
            ]
        },
        {
            "cell_type": "code",
            "execution_count": 56,
            "metadata": {},
            "outputs": [],
            "source": [
                "evaluator = ClassificationEvaluator(num_class, device)"
            ]
        },
        {
            "cell_type": "code",
            "execution_count": 57,
            "metadata": {},
            "outputs": [
                {
                    "name": "stderr",
                    "output_type": "stream",
                    "text": [
                        "100%|██████████| 1637/1637 [01:47<00:00, 15.19it/s]"
                    ]
                },
                {
                    "name": "stdout",
                    "output_type": "stream",
                    "text": [
                        "[[3979  104   49   35   84  179   80   89  194   70]\n",
                        " [ 291 1728   57   20   44   16  313   92   45   17]\n",
                        " [ 105   30 1091    4   37   11   62   52   27   27]\n",
                        " [  36    3    1 1779   26   12    5    3  220   27]\n",
                        " [ 173   14    5   80 2623   23   15   38   96   31]\n",
                        " [ 467    5   14   20   26  873    4   17  155   87]\n",
                        " [ 207  118   45    3   31    1 1250  179   24    8]\n",
                        " [ 168   28   44    3   55   23  152 1265   48   34]\n",
                        " [  58    7    7  151   34   29    6   12 4453   64]\n",
                        " [ 171    6   11   30   95   88    4   25  177 1255]]\n"
                    ]
                },
                {
                    "name": "stderr",
                    "output_type": "stream",
                    "text": [
                        "\n"
                    ]
                }
            ],
            "source": [
                "confusion_matrix = evaluator.run(test_loader, model)"
            ]
        },
        {
            "cell_type": "code",
            "execution_count": 58,
            "metadata": {},
            "outputs": [
                {
                    "name": "stdout",
                    "output_type": "stream",
                    "text": [
                        "cane      : 0.8182192062512852\n",
                        "cavallo   : 0.658787647731605\n",
                        "elefante  : 0.7544951590594744\n",
                        "farfalla  : 0.8423295454545454\n",
                        "gallina   : 0.8466752743705617\n",
                        "gatto     : 0.5233812949640287\n",
                        "mucca     : 0.669882100750268\n",
                        "pecora    : 0.695054945054945\n",
                        "ragno     : 0.9236672889442025\n",
                        "scoiattolo: 0.6740064446831364\n"
                    ]
                }
            ],
            "source": [
                "per_class_acc = evaluator.get_per_class_accuracy(confusion_matrix)\n",
                "evaluator.show_per_class_accuracy(test_dataset.classes, per_class_acc)"
            ]
        },
        {
            "cell_type": "code",
            "execution_count": 59,
            "metadata": {},
            "outputs": [
                {
                    "data": {
                        "text/plain": [
                            "0.7406498907264053"
                        ]
                    },
                    "execution_count": 59,
                    "metadata": {},
                    "output_type": "execute_result"
                }
            ],
            "source": [
                "per_class_acc.mean()"
            ]
        },
        {
            "cell_type": "code",
            "execution_count": 60,
            "metadata": {},
            "outputs": [
                {
                    "data": {
                        "image/png": "[encoded data removed]",
                        "text/plain": [
                            "<Figure size 600x400 with 2 Axes>"
                        ]
                    },
                    "metadata": {},
                    "output_type": "display_data"
                }
            ],
            "source": [
                "evaluator.plot_confusion_matrix(\n",
                "    confusion_matrix,\n",
                "    test_dataset.classes,\n",
                "    \"Blues\",\n",
                "    annot=False,\n",
                "    figsize=(6, 4),\n",
                ")"
            ]
        },
        {
            "cell_type": "code",
            "execution_count": 61,
            "metadata": {},
            "outputs": [],
            "source": [
                "model_path = artifact_path / f'wrn-{model.deepening_factor * 6 + 4}-{model.widening_factor}-dropout-{model.enable_dropout}.pth'"
            ]
        },
        {
            "cell_type": "code",
            "execution_count": 62,
            "metadata": {},
            "outputs": [],
            "source": [
                "torch.save(model.state_dict(), model_path)"
            ]
        },
        {
            "cell_type": "code",
            "execution_count": 63,
            "metadata": {},
            "outputs": [
                {
                    "data": {
                        "text/plain": [
                            "'0.33MB'"
                        ]
                    },
                    "execution_count": 63,
                    "metadata": {},
                    "output_type": "execute_result"
                }
            ],
            "source": [
                "get_file_size(model_path)"
            ]
        },
        {
            "cell_type": "code",
            "execution_count": 64,
            "metadata": {},
            "outputs": [
                {
                    "data": {
                        "text/plain": [
                            "<All keys matched successfully>"
                        ]
                    },
                    "execution_count": 64,
                    "metadata": {},
                    "output_type": "execute_result"
                }
            ],
            "source": [
                "model.load_state_dict(torch.load(model_path.as_posix()))"
            ]
        }
    ],
    "metadata": {
        "kernelspec": {
            "display_name": ".venv",
            "language": "python",
            "name": "python3"
        },
        "language_info": {
            "codemirror_mode": {
                "name": "ipython",
                "version": 3
            },
            "file_extension": ".py",
            "mimetype": "text/x-python",
            "name": "python",
            "nbconvert_exporter": "python",
            "pygments_lexer": "ipython3",
            "version": "3.11.4"
        }
    },
    "nbformat": 4,
    "nbformat_minor": 2
}