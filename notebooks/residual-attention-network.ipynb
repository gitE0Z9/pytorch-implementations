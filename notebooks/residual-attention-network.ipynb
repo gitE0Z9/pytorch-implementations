{
    "cells": [
        {
            "cell_type": "code",
            "execution_count": 1,
            "metadata": {},
            "outputs": [],
            "source": [
                "from pathlib import Path\n",
                "\n",
                "import matplotlib.pyplot as plt\n",
                "import torch\n",
                "import torchinfo\n",
                "import torchvision\n",
                "from torch.utils.data import DataLoader\n",
                "from torchlake.common.constants import IMAGENET_MEAN, IMAGENET_STD\n",
                "from torchlake.common.controller.evaluator import ClassificationEvaluator\n",
                "from torchlake.common.controller.trainer import ClassificationTrainer\n",
                "from torchlake.common.utils.platform import get_file_size, get_num_workers\n",
                "from torchlake.image_classification.models.residual_attention import ResidualAttentionNetwork\n",
                "from torchvision import transforms"
            ]
        },
        {
            "cell_type": "markdown",
            "metadata": {},
            "source": [
                "# Setting"
            ]
        },
        {
            "cell_type": "code",
            "execution_count": 2,
            "metadata": {},
            "outputs": [],
            "source": [
                "IMAGE_SIZE = 224\n",
                "BATCH_SIZE = 8"
            ]
        },
        {
            "cell_type": "code",
            "execution_count": 3,
            "metadata": {},
            "outputs": [],
            "source": [
                "artifact_path = Path(\"../../artifacts/residual-attention-network\")\n",
                "data_path = Path(\"../../data/animal10\")"
            ]
        },
        {
            "cell_type": "code",
            "execution_count": 4,
            "metadata": {},
            "outputs": [],
            "source": [
                "device = torch.device(\"cuda:0\")"
            ]
        },
        {
            "cell_type": "markdown",
            "metadata": {},
            "source": [
                "# data"
            ]
        },
        {
            "cell_type": "code",
            "execution_count": 5,
            "metadata": {},
            "outputs": [],
            "source": [
                "preprocess = transforms.Compose(\n",
                "    [\n",
                "        transforms.RandomHorizontalFlip(),\n",
                "        transforms.ColorJitter(),\n",
                "        transforms.Resize((IMAGE_SIZE, IMAGE_SIZE)),\n",
                "        transforms.ToTensor(),\n",
                "        transforms.Normalize(IMAGENET_MEAN, IMAGENET_STD),\n",
                "    ]\n",
                ")"
            ]
        },
        {
            "cell_type": "code",
            "execution_count": 6,
            "metadata": {},
            "outputs": [],
            "source": [
                "dataset = torchvision.datasets.ImageFolder(\n",
                "    data_path.as_posix(),\n",
                "    transform=preprocess,\n",
                ")"
            ]
        },
        {
            "cell_type": "code",
            "execution_count": 7,
            "metadata": {},
            "outputs": [],
            "source": [
                "train_loader = DataLoader(\n",
                "    dataset,\n",
                "    batch_size=BATCH_SIZE,\n",
                "    shuffle=True,\n",
                "    drop_last=True,\n",
                "    pin_memory=True,\n",
                "    num_workers=get_num_workers(),\n",
                ")"
            ]
        },
        {
            "cell_type": "code",
            "execution_count": 8,
            "metadata": {},
            "outputs": [],
            "source": [
                "num_class = len(dataset.classes)"
            ]
        },
        {
            "cell_type": "markdown",
            "metadata": {},
            "source": [
                "# model"
            ]
        },
        {
            "cell_type": "code",
            "execution_count": 9,
            "metadata": {},
            "outputs": [],
            "source": [
                "model = ResidualAttentionNetwork(output_size=num_class, num_layer=56).to(device)"
            ]
        },
        {
            "cell_type": "code",
            "execution_count": 10,
            "metadata": {},
            "outputs": [
                {
                    "data": {
                        "text/plain": [
                            "====================================================================================================\n",
                            "Layer (type:depth-idx)                                                      Param #\n",
                            "====================================================================================================\n",
                            "ResidualAttentionNetwork                                                    --\n",
                            "├─Sequential: 1-1                                                           --\n",
                            "│    └─Conv2dNormActivation: 2-1                                            --\n",
                            "│    │    └─Conv2d: 3-1                                                     9,472\n",
                            "│    │    └─ReLU: 3-2                                                       --\n",
                            "│    └─MaxPool2d: 2-2                                                       --\n",
                            "│    └─BatchNorm2d: 2-3                                                     128\n",
                            "│    └─ReLU: 2-4                                                            --\n",
                            "├─Sequential: 1-2                                                           --\n",
                            "│    └─AttentionModule: 2-5                                                 --\n",
                            "│    │    └─Sequential: 3-3                                                 74,624\n",
                            "│    │    └─Sequential: 3-4                                                 70,400\n",
                            "│    │    └─MaskBranch: 3-5                                                 1,532,672\n",
                            "│    │    └─Sequential: 3-6                                                 70,400\n",
                            "│    └─ResBlock: 2-6                                                        --\n",
                            "│    │    └─BottleNeck: 3-7                                                 70,400\n",
                            "│    │    └─Identity: 3-8                                                   --\n",
                            "├─Sequential: 1-3                                                           --\n",
                            "│    └─AttentionModule: 2-7                                                 --\n",
                            "│    │    └─Sequential: 3-9                                                 378,880\n",
                            "│    │    └─Sequential: 3-10                                                280,064\n",
                            "│    │    └─MaskBranch: 3-11                                                5,840,896\n",
                            "│    │    └─Sequential: 3-12                                                280,064\n",
                            "│    └─ResBlock: 2-8                                                        --\n",
                            "│    │    └─BottleNeck: 3-13                                                280,064\n",
                            "│    │    └─Identity: 3-14                                                  --\n",
                            "├─Sequential: 1-4                                                           --\n",
                            "│    └─AttentionModule: 2-9                                                 --\n",
                            "│    │    └─Sequential: 3-15                                                1,511,424\n",
                            "│    │    └─Sequential: 3-16                                                1,117,184\n",
                            "│    │    └─MaskBranch: 3-17                                                21,112,832\n",
                            "│    │    └─Sequential: 3-18                                                1,117,184\n",
                            "│    └─ResBlock: 2-10                                                       --\n",
                            "│    │    └─BottleNeck: 3-19                                                1,117,184\n",
                            "│    │    └─Identity: 3-20                                                  --\n",
                            "├─Sequential: 1-5                                                           --\n",
                            "│    └─ResBlock: 2-11                                                       --\n",
                            "│    │    └─BottleNeck: 3-21                                                3,936,256\n",
                            "│    │    └─ConvBnRelu: 3-22                                                2,101,248\n",
                            "│    └─ResBlock: 2-12                                                       --\n",
                            "│    │    └─BottleNeck: 3-23                                                4,462,592\n",
                            "│    │    └─Identity: 3-24                                                  --\n",
                            "│    └─ResBlock: 2-13                                                       --\n",
                            "│    │    └─BottleNeck: 3-25                                                4,462,592\n",
                            "│    │    └─Identity: 3-26                                                  --\n",
                            "├─Sequential: 1-6                                                           --\n",
                            "│    └─AdaptiveAvgPool2d: 2-14                                              --\n",
                            "│    └─Flatten: 2-15                                                        --\n",
                            "├─Linear: 1-7                                                               20,490\n",
                            "====================================================================================================\n",
                            "Total params: 49,847,050\n",
                            "Trainable params: 49,847,050\n",
                            "Non-trainable params: 0\n",
                            "===================================================================================================="
                        ]
                    },
                    "execution_count": 10,
                    "metadata": {},
                    "output_type": "execute_result"
                }
            ],
            "source": [
                "torchinfo.summary(model)"
            ]
        },
        {
            "cell_type": "markdown",
            "metadata": {},
            "source": [
                "# training"
            ]
        },
        {
            "cell_type": "code",
            "execution_count": 11,
            "metadata": {},
            "outputs": [],
            "source": [
                "epochs = 10\n",
                "acc_iters = 64 // BATCH_SIZE"
            ]
        },
        {
            "cell_type": "code",
            "execution_count": 12,
            "metadata": {},
            "outputs": [],
            "source": [
                "trainer = ClassificationTrainer(epochs, device, acc_iters)"
            ]
        },
        {
            "cell_type": "code",
            "execution_count": 13,
            "metadata": {},
            "outputs": [],
            "source": [
                "criterion = trainer.get_criterion(num_class)\n",
                "optim = torch.optim.Adam(model.parameters(), weight_decay=1e-5)"
            ]
        },
        {
            "cell_type": "code",
            "execution_count": 14,
            "metadata": {},
            "outputs": [
                {
                    "name": "stderr",
                    "output_type": "stream",
                    "text": [
                        "100%|██████████| 3272/3272 [31:19<00:00,  1.74it/s]\n"
                    ]
                },
                {
                    "name": "stdout",
                    "output_type": "stream",
                    "text": [
                        "epoch 1 : 0.02966595292637867\n"
                    ]
                },
                {
                    "name": "stderr",
                    "output_type": "stream",
                    "text": [
                        "100%|██████████| 3272/3272 [20:32<00:00,  2.66it/s]\n"
                    ]
                },
                {
                    "name": "stdout",
                    "output_type": "stream",
                    "text": [
                        "epoch 2 : 0.024424849684898966\n"
                    ]
                },
                {
                    "name": "stderr",
                    "output_type": "stream",
                    "text": [
                        "100%|██████████| 3272/3272 [20:10<00:00,  2.70it/s]\n"
                    ]
                },
                {
                    "name": "stdout",
                    "output_type": "stream",
                    "text": [
                        "epoch 3 : 0.021751269092726407\n"
                    ]
                },
                {
                    "name": "stderr",
                    "output_type": "stream",
                    "text": [
                        "100%|██████████| 3272/3272 [20:26<00:00,  2.67it/s]\n"
                    ]
                },
                {
                    "name": "stdout",
                    "output_type": "stream",
                    "text": [
                        "epoch 4 : 0.019763440522123334\n"
                    ]
                },
                {
                    "name": "stderr",
                    "output_type": "stream",
                    "text": [
                        "100%|██████████| 3272/3272 [20:27<00:00,  2.66it/s]\n"
                    ]
                },
                {
                    "name": "stdout",
                    "output_type": "stream",
                    "text": [
                        "epoch 5 : 0.018151958140574194\n"
                    ]
                },
                {
                    "name": "stderr",
                    "output_type": "stream",
                    "text": [
                        "100%|██████████| 3272/3272 [20:11<00:00,  2.70it/s]\n"
                    ]
                },
                {
                    "name": "stdout",
                    "output_type": "stream",
                    "text": [
                        "epoch 6 : 0.016806680654046925\n"
                    ]
                },
                {
                    "name": "stderr",
                    "output_type": "stream",
                    "text": [
                        "100%|██████████| 3272/3272 [20:15<00:00,  2.69it/s]\n"
                    ]
                },
                {
                    "name": "stdout",
                    "output_type": "stream",
                    "text": [
                        "epoch 7 : 0.015621627540276944\n"
                    ]
                },
                {
                    "name": "stderr",
                    "output_type": "stream",
                    "text": [
                        "100%|██████████| 3272/3272 [20:09<00:00,  2.71it/s]\n"
                    ]
                },
                {
                    "name": "stdout",
                    "output_type": "stream",
                    "text": [
                        "epoch 8 : 0.014645111590679645\n"
                    ]
                },
                {
                    "name": "stderr",
                    "output_type": "stream",
                    "text": [
                        "100%|██████████| 3272/3272 [20:42<00:00,  2.63it/s]\n"
                    ]
                },
                {
                    "name": "stdout",
                    "output_type": "stream",
                    "text": [
                        "epoch 9 : 0.013563649799056525\n"
                    ]
                },
                {
                    "name": "stderr",
                    "output_type": "stream",
                    "text": [
                        "100%|██████████| 3272/3272 [21:19<00:00,  2.56it/s]"
                    ]
                },
                {
                    "name": "stdout",
                    "output_type": "stream",
                    "text": [
                        "epoch 10 : 0.012730562554650729\n"
                    ]
                },
                {
                    "name": "stderr",
                    "output_type": "stream",
                    "text": [
                        "\n"
                    ]
                }
            ],
            "source": [
                "training_loss = trainer.run(train_loader, model, optim, criterion)"
            ]
        },
        {
            "cell_type": "code",
            "execution_count": 15,
            "metadata": {},
            "outputs": [
                {
                    "data": {
                        "text/plain": [
                            "[<matplotlib.lines.Line2D at 0x21abbdd0b50>]"
                        ]
                    },
                    "execution_count": 15,
                    "metadata": {},
                    "output_type": "execute_result"
                },
                {
                    "data": {
                        "image/png": "[encoded data removed]",
                        "text/plain": [
                            "<Figure size 640x480 with 1 Axes>"
                        ]
                    },
                    "metadata": {},
                    "output_type": "display_data"
                }
            ],
            "source": [
                "plt.plot(training_loss)"
            ]
        },
        {
            "cell_type": "markdown",
            "metadata": {},
            "source": [
                "# inference"
            ]
        },
        {
            "cell_type": "code",
            "execution_count": 19,
            "metadata": {},
            "outputs": [],
            "source": [
                "test_preprocess = transforms.Compose([\n",
                "    transforms.Resize((IMAGE_SIZE, IMAGE_SIZE)),\n",
                "    transforms.ToTensor(),\n",
                "    transforms.Normalize(IMAGENET_MEAN, IMAGENET_STD),\n",
                "])"
            ]
        },
        {
            "cell_type": "code",
            "execution_count": 20,
            "metadata": {},
            "outputs": [],
            "source": [
                "test_dataset = torchvision.datasets.ImageFolder(\n",
                "    data_path.as_posix(),\n",
                "    transform=test_preprocess,\n",
                ")"
            ]
        },
        {
            "cell_type": "code",
            "execution_count": 21,
            "metadata": {},
            "outputs": [],
            "source": [
                "test_loader = DataLoader(\n",
                "    test_dataset,\n",
                "    batch_size=BATCH_SIZE,\n",
                "    pin_memory=True,\n",
                "    num_workers=get_num_workers(),\n",
                ")"
            ]
        },
        {
            "cell_type": "code",
            "execution_count": 22,
            "metadata": {},
            "outputs": [],
            "source": [
                "evaluator = ClassificationEvaluator(num_class, device)"
            ]
        },
        {
            "cell_type": "code",
            "execution_count": 23,
            "metadata": {},
            "outputs": [
                {
                    "name": "stderr",
                    "output_type": "stream",
                    "text": [
                        "100%|██████████| 3273/3273 [08:51<00:00,  6.16it/s]"
                    ]
                },
                {
                    "name": "stdout",
                    "output_type": "stream",
                    "text": [
                        "[[3621  182    5  107   18  119  201  155  394   61]\n",
                        " [ 174 1708    9   43    8    1  453   65  155    7]\n",
                        " [  78  148  892   10    5    6  108   66   85   48]\n",
                        " [   9    2    3 1809    2    0    5    3  273    6]\n",
                        " [ 148   16   10  170 2310   14   27   49  254  100]\n",
                        " [ 221    0    6  106    9  925    9   22  304   66]\n",
                        " [ 110   75    9    9    0    0 1395  185   78    5]\n",
                        " [ 116   25   25   12   13    6  302 1124  152   45]\n",
                        " [  19    1    6  137    2    4    4    3 4634   11]\n",
                        " [  98    2    5   84    3   57    3   12  406 1192]]\n"
                    ]
                },
                {
                    "name": "stderr",
                    "output_type": "stream",
                    "text": [
                        "\n"
                    ]
                }
            ],
            "source": [
                "confusion_matrix = evaluator.run(test_loader, model)"
            ]
        },
        {
            "cell_type": "code",
            "execution_count": 24,
            "metadata": {},
            "outputs": [
                {
                    "name": "stdout",
                    "output_type": "stream",
                    "text": [
                        "cane      : 0.744602097470697\n",
                        "cavallo   : 0.6511627906976745\n",
                        "elefante  : 0.6168741355463347\n",
                        "farfalla  : 0.8565340909090909\n",
                        "gallina   : 0.7456423499031634\n",
                        "gatto     : 0.5545563549160671\n",
                        "mucca     : 0.747588424437299\n",
                        "pecora    : 0.6175824175824176\n",
                        "ragno     : 0.9612113669363203\n",
                        "scoiattolo: 0.640171858216971\n"
                    ]
                }
            ],
            "source": [
                "per_class_acc = evaluator.get_per_class_accuracy(confusion_matrix)\n",
                "evaluator.show_per_class_accuracy(test_dataset.classes, per_class_acc)"
            ]
        },
        {
            "cell_type": "code",
            "execution_count": 25,
            "metadata": {},
            "outputs": [
                {
                    "data": {
                        "text/plain": [
                            "0.7135925886616035"
                        ]
                    },
                    "execution_count": 25,
                    "metadata": {},
                    "output_type": "execute_result"
                }
            ],
            "source": [
                "per_class_acc.mean()"
            ]
        },
        {
            "cell_type": "code",
            "execution_count": 26,
            "metadata": {},
            "outputs": [
                {
                    "data": {
                        "image/png": "[encoded data removed]",
                        "text/plain": [
                            "<Figure size 600x400 with 2 Axes>"
                        ]
                    },
                    "metadata": {},
                    "output_type": "display_data"
                }
            ],
            "source": [
                "evaluator.plot_confusion_matrix(\n",
                "    confusion_matrix,\n",
                "    test_dataset.classes,\n",
                "    \"Blues\",\n",
                "    annot=False,\n",
                "    figsize=(6, 4),\n",
                ")"
            ]
        },
        {
            "cell_type": "code",
            "execution_count": 16,
            "metadata": {},
            "outputs": [],
            "source": [
                "model_path = artifact_path / 'attention-net-56.pth'"
            ]
        },
        {
            "cell_type": "code",
            "execution_count": 17,
            "metadata": {},
            "outputs": [],
            "source": [
                "torch.save(model.state_dict(), model_path)"
            ]
        },
        {
            "cell_type": "code",
            "execution_count": 18,
            "metadata": {},
            "outputs": [
                {
                    "data": {
                        "text/plain": [
                            "'190.65MB'"
                        ]
                    },
                    "execution_count": 18,
                    "metadata": {},
                    "output_type": "execute_result"
                }
            ],
            "source": [
                "get_file_size(model_path)"
            ]
        },
        {
            "cell_type": "code",
            "execution_count": 27,
            "metadata": {},
            "outputs": [
                {
                    "data": {
                        "text/plain": [
                            "<All keys matched successfully>"
                        ]
                    },
                    "execution_count": 27,
                    "metadata": {},
                    "output_type": "execute_result"
                }
            ],
            "source": [
                "model.load_state_dict(torch.load(model_path.as_posix()))"
            ]
        },
        {
            "cell_type": "code",
            "execution_count": null,
            "metadata": {},
            "outputs": [],
            "source": []
        }
    ],
    "metadata": {
        "kernelspec": {
            "display_name": ".venv",
            "language": "python",
            "name": "python3"
        },
        "language_info": {
            "codemirror_mode": {
                "name": "ipython",
                "version": 3
            },
            "file_extension": ".py",
            "mimetype": "text/x-python",
            "name": "python",
            "nbconvert_exporter": "python",
            "pygments_lexer": "ipython3",
            "version": "3.11.4"
        }
    },
    "nbformat": 4,
    "nbformat_minor": 2
}