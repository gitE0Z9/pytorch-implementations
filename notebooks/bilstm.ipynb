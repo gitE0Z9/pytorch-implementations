{
    "cells": [
        {
            "cell_type": "code",
            "execution_count": 171,
            "metadata": {},
            "outputs": [],
            "source": [
                "from pathlib import Path\n",
                "\n",
                "import matplotlib.pyplot as plt\n",
                "import torch\n",
                "import torchinfo\n",
                "import torchtext.transforms as T\n",
                "from torch import nn\n",
                "from torch.utils.data import DataLoader\n",
                "from torchlake.common.controller.evaluator import ClassificationEvaluator\n",
                "from torchlake.common.controller.trainer import ClassificationTrainer\n",
                "from torchlake.common.schemas import NlpContext\n",
                "from torchlake.common.utils.platform import get_file_size, get_num_workers\n",
                "from torchlake.common.utils.text import build_vocab\n",
                "from torchlake.sequence_data.models.lstm import LSTMDiscriminator\n",
                "from torchtext.data.utils import get_tokenizer\n",
                "from torchtext.datasets import CoNLL2000Chunking"
            ]
        },
        {
            "cell_type": "markdown",
            "metadata": {},
            "source": [
                "# setting\n"
            ]
        },
        {
            "cell_type": "code",
            "execution_count": 172,
            "metadata": {},
            "outputs": [],
            "source": [
                "artifacts_path = Path(\"../../artifacts/bilstm\")\n",
                "data_path = Path(\"../../data/CoNLL2000\")"
            ]
        },
        {
            "cell_type": "code",
            "execution_count": 173,
            "metadata": {},
            "outputs": [],
            "source": [
                "batch_size = 128\n",
                "context = NlpContext()"
            ]
        },
        {
            "cell_type": "markdown",
            "metadata": {},
            "source": [
                "# data\n"
            ]
        },
        {
            "cell_type": "code",
            "execution_count": 174,
            "metadata": {},
            "outputs": [],
            "source": [
                "def datapipe_factory(datapipe, text_transform=None, label_transform=None):\n",
                "    datapipe = datapipe.map(\n",
                "        lambda pair: [[word.lower() for word in pair[0]], pair[1]]\n",
                "    ).filter(lambda item: len(item[0]) > context.min_seq_len)\n",
                "\n",
                "    if text_transform:\n",
                "        datapipe = datapipe.map(lambda item: (text_transform(item[0]), item[1]))\n",
                "\n",
                "    if label_transform:\n",
                "        datapipe = datapipe.map(lambda item: (item[0], label_transform(item[1])))\n",
                "\n",
                "    return datapipe"
            ]
        },
        {
            "cell_type": "code",
            "execution_count": 175,
            "metadata": {},
            "outputs": [],
            "source": [
                "train_data, test_data = CoNLL2000Chunking(data_path.as_posix())"
            ]
        },
        {
            "cell_type": "code",
            "execution_count": 176,
            "metadata": {},
            "outputs": [],
            "source": [
                "vocab = build_vocab(map(lambda it: it[0], train_data))\n",
                "label_vocab = build_vocab(map(lambda it: it[1], train_data))"
            ]
        },
        {
            "cell_type": "code",
            "execution_count": 177,
            "metadata": {},
            "outputs": [],
            "source": [
                "VOCAB_SIZE = len(vocab)\n",
                "NUM_CLASS = len(label_vocab)"
            ]
        },
        {
            "cell_type": "code",
            "execution_count": 178,
            "metadata": {},
            "outputs": [
                {
                    "data": {
                        "text/plain": [
                            "(4406, 48)"
                        ]
                    },
                    "execution_count": 178,
                    "metadata": {},
                    "output_type": "execute_result"
                }
            ],
            "source": [
                "VOCAB_SIZE, NUM_CLASS"
            ]
        },
        {
            "cell_type": "code",
            "execution_count": 179,
            "metadata": {},
            "outputs": [],
            "source": [
                "text_transform = T.Sequential(\n",
                "    T.VocabTransform(vocab),\n",
                "    T.Truncate(context.max_seq_len - 2),\n",
                "    T.AddToken(token=context.bos_idx, begin=True),\n",
                "    T.AddToken(token=context.eos_idx, begin=False),\n",
                "    T.ToTensor(),\n",
                "    T.PadTransform(context.max_seq_len, context.padding_idx),\n",
                ")"
            ]
        },
        {
            "cell_type": "code",
            "execution_count": 180,
            "metadata": {},
            "outputs": [],
            "source": [
                "label_transform = T.Sequential(\n",
                "    T.VocabTransform(label_vocab),\n",
                "    T.Truncate(context.max_seq_len - 2),\n",
                "    T.AddToken(token=context.bos_idx, begin=True),\n",
                "    T.AddToken(token=context.eos_idx, begin=False),\n",
                "    T.ToTensor(),\n",
                "    T.PadTransform(context.max_seq_len, context.padding_idx),\n",
                ")"
            ]
        },
        {
            "cell_type": "code",
            "execution_count": 181,
            "metadata": {},
            "outputs": [],
            "source": [
                "def collate_fn(batch: list):\n",
                "    text_placeholder, label_placeholder = [], []\n",
                "\n",
                "    for row in batch:\n",
                "        text, label = row[0], row[1]\n",
                "        text_placeholder.append(text)\n",
                "        label_placeholder.append(label)\n",
                "\n",
                "    return torch.stack(text_placeholder), torch.stack(label_placeholder)"
            ]
        },
        {
            "cell_type": "code",
            "execution_count": 182,
            "metadata": {},
            "outputs": [],
            "source": [
                "NUM_WORKERS = get_num_workers()"
            ]
        },
        {
            "cell_type": "code",
            "execution_count": 183,
            "metadata": {},
            "outputs": [
                {
                    "name": "stderr",
                    "output_type": "stream",
                    "text": [
                        "d:\\research\\pytorch-implementations\\.venv\\Lib\\site-packages\\torch\\utils\\data\\datapipes\\utils\\common.py:141: UserWarning: Local function is not supported by pickle, please use regular python function or functools.partial instead.\n",
                        "  warnings.warn(\n"
                    ]
                }
            ],
            "source": [
                "train_iter = DataLoader(\n",
                "    datapipe_factory(train_data, text_transform, label_transform),\n",
                "    batch_size=batch_size,\n",
                "    # collate_fn=collate_fn,\n",
                "    num_workers=NUM_WORKERS,\n",
                "    shuffle=True,\n",
                "    drop_last=True,\n",
                ")\n",
                "\n",
                "test_iter = DataLoader(\n",
                "    datapipe_factory(test_data, text_transform, label_transform),\n",
                "    batch_size=batch_size,\n",
                "    # collate_fn=collate_fn,\n",
                "    num_workers=NUM_WORKERS,\n",
                ")"
            ]
        },
        {
            "cell_type": "code",
            "execution_count": 184,
            "metadata": {},
            "outputs": [
                {
                    "name": "stdout",
                    "output_type": "stream",
                    "text": [
                        "torch.Size([128, 256]) torch.Size([128, 256])\n"
                    ]
                }
            ],
            "source": [
                "for text, label in train_iter:\n",
                "    print(text.shape, label.shape)\n",
                "    break"
            ]
        },
        {
            "cell_type": "markdown",
            "metadata": {},
            "source": [
                "# model\n"
            ]
        },
        {
            "cell_type": "code",
            "execution_count": 185,
            "metadata": {},
            "outputs": [],
            "source": [
                "DEVICE = torch.device(context.device)"
            ]
        },
        {
            "cell_type": "code",
            "execution_count": 186,
            "metadata": {},
            "outputs": [],
            "source": [
                "EMBED_DIM = 300\n",
                "HIDDEN_DIM = 256\n",
                "model = LSTMDiscriminator(\n",
                "    VOCAB_SIZE,\n",
                "    EMBED_DIM,\n",
                "    HIDDEN_DIM,\n",
                "    NUM_CLASS,\n",
                "    num_layers=1,\n",
                "    bidirectional=True,\n",
                "    context=context,\n",
                "    sequence_output=True,\n",
                ").to(DEVICE)"
            ]
        },
        {
            "cell_type": "code",
            "execution_count": 187,
            "metadata": {},
            "outputs": [
                {
                    "data": {
                        "text/plain": [
                            "=================================================================\n",
                            "Layer (type:depth-idx)                   Param #\n",
                            "=================================================================\n",
                            "LSTMDiscriminator                        --\n",
                            "├─Embedding: 1-1                         1,321,800\n",
                            "├─LSTM: 1-2                              1,142,784\n",
                            "├─LayerNorm: 1-3                         1,024\n",
                            "├─Linear: 1-4                            24,624\n",
                            "=================================================================\n",
                            "Total params: 2,490,232\n",
                            "Trainable params: 2,490,232\n",
                            "Non-trainable params: 0\n",
                            "================================================================="
                        ]
                    },
                    "execution_count": 187,
                    "metadata": {},
                    "output_type": "execute_result"
                }
            ],
            "source": [
                "torchinfo.summary(model)"
            ]
        },
        {
            "cell_type": "markdown",
            "metadata": {},
            "source": [
                "# train\n"
            ]
        },
        {
            "cell_type": "code",
            "execution_count": 188,
            "metadata": {},
            "outputs": [],
            "source": [
                "EPOCHS = 30"
            ]
        },
        {
            "cell_type": "code",
            "execution_count": 189,
            "metadata": {},
            "outputs": [],
            "source": [
                "trainer = ClassificationTrainer(EPOCHS, DEVICE, feature_last=True)"
            ]
        },
        {
            "cell_type": "code",
            "execution_count": 190,
            "metadata": {},
            "outputs": [],
            "source": [
                "criterion = nn.CrossEntropyLoss(ignore_index=context.padding_idx, label_smoothing=0)\n",
                "optimizer = torch.optim.SGD(model.parameters(), lr=1e-2, weight_decay=1e-4)"
            ]
        },
        {
            "cell_type": "code",
            "execution_count": 191,
            "metadata": {},
            "outputs": [],
            "source": [
                "scheduler = torch.optim.lr_scheduler.ReduceLROnPlateau(optimizer, 'min', patience=2, threshold=.05 ,threshold_mode ='rel')"
            ]
        },
        {
            "cell_type": "code",
            "execution_count": 192,
            "metadata": {},
            "outputs": [
                {
                    "name": "stderr",
                    "output_type": "stream",
                    "text": [
                        "67it [00:05, 12.20it/s]\n"
                    ]
                },
                {
                    "name": "stdout",
                    "output_type": "stream",
                    "text": [
                        "epoch 1 : 0.01941645484584481\n"
                    ]
                },
                {
                    "name": "stderr",
                    "output_type": "stream",
                    "text": [
                        "67it [00:04, 13.68it/s]\n"
                    ]
                },
                {
                    "name": "stdout",
                    "output_type": "stream",
                    "text": [
                        "epoch 2 : 0.013692945575536186\n"
                    ]
                },
                {
                    "name": "stderr",
                    "output_type": "stream",
                    "text": [
                        "67it [00:05, 12.45it/s]\n"
                    ]
                },
                {
                    "name": "stdout",
                    "output_type": "stream",
                    "text": [
                        "epoch 3 : 0.011740108632218482\n"
                    ]
                },
                {
                    "name": "stderr",
                    "output_type": "stream",
                    "text": [
                        "67it [00:05, 12.94it/s]\n"
                    ]
                },
                {
                    "name": "stdout",
                    "output_type": "stream",
                    "text": [
                        "epoch 4 : 0.01058186152810926\n"
                    ]
                },
                {
                    "name": "stderr",
                    "output_type": "stream",
                    "text": [
                        "67it [00:05, 11.91it/s]\n"
                    ]
                },
                {
                    "name": "stdout",
                    "output_type": "stream",
                    "text": [
                        "epoch 5 : 0.009785068930307431\n"
                    ]
                },
                {
                    "name": "stderr",
                    "output_type": "stream",
                    "text": [
                        "67it [00:05, 13.20it/s]\n"
                    ]
                },
                {
                    "name": "stdout",
                    "output_type": "stream",
                    "text": [
                        "epoch 6 : 0.009176272356799289\n"
                    ]
                },
                {
                    "name": "stderr",
                    "output_type": "stream",
                    "text": [
                        "67it [00:05, 13.35it/s]\n"
                    ]
                },
                {
                    "name": "stdout",
                    "output_type": "stream",
                    "text": [
                        "epoch 7 : 0.008698735775342628\n"
                    ]
                },
                {
                    "name": "stderr",
                    "output_type": "stream",
                    "text": [
                        "67it [00:04, 13.59it/s]\n"
                    ]
                },
                {
                    "name": "stdout",
                    "output_type": "stream",
                    "text": [
                        "epoch 8 : 0.008305386098018333\n"
                    ]
                },
                {
                    "name": "stderr",
                    "output_type": "stream",
                    "text": [
                        "67it [00:05, 13.14it/s]\n"
                    ]
                },
                {
                    "name": "stdout",
                    "output_type": "stream",
                    "text": [
                        "epoch 9 : 0.007976411681955875\n"
                    ]
                },
                {
                    "name": "stderr",
                    "output_type": "stream",
                    "text": [
                        "67it [00:04, 13.53it/s]\n"
                    ]
                },
                {
                    "name": "stdout",
                    "output_type": "stream",
                    "text": [
                        "epoch 10 : 0.007701459180897296\n"
                    ]
                },
                {
                    "name": "stderr",
                    "output_type": "stream",
                    "text": [
                        "67it [00:04, 13.58it/s]\n"
                    ]
                },
                {
                    "name": "stdout",
                    "output_type": "stream",
                    "text": [
                        "epoch 11 : 0.007447840812713352\n"
                    ]
                },
                {
                    "name": "stderr",
                    "output_type": "stream",
                    "text": [
                        "67it [00:05, 13.01it/s]\n"
                    ]
                },
                {
                    "name": "stdout",
                    "output_type": "stream",
                    "text": [
                        "epoch 12 : 0.007237974443097613\n"
                    ]
                },
                {
                    "name": "stderr",
                    "output_type": "stream",
                    "text": [
                        "67it [00:05, 12.37it/s]\n"
                    ]
                },
                {
                    "name": "stdout",
                    "output_type": "stream",
                    "text": [
                        "epoch 13 : 0.007043014662757294\n"
                    ]
                },
                {
                    "name": "stderr",
                    "output_type": "stream",
                    "text": [
                        "67it [00:05, 13.34it/s]\n"
                    ]
                },
                {
                    "name": "stdout",
                    "output_type": "stream",
                    "text": [
                        "epoch 14 : 0.0068662159575788835\n"
                    ]
                },
                {
                    "name": "stderr",
                    "output_type": "stream",
                    "text": [
                        "67it [00:05, 12.93it/s]\n"
                    ]
                },
                {
                    "name": "stdout",
                    "output_type": "stream",
                    "text": [
                        "epoch 15 : 0.006709185199561848\n"
                    ]
                },
                {
                    "name": "stderr",
                    "output_type": "stream",
                    "text": [
                        "67it [00:04, 13.43it/s]\n"
                    ]
                },
                {
                    "name": "stdout",
                    "output_type": "stream",
                    "text": [
                        "epoch 16 : 0.006559998234872942\n"
                    ]
                },
                {
                    "name": "stderr",
                    "output_type": "stream",
                    "text": [
                        "67it [00:05, 13.09it/s]\n"
                    ]
                },
                {
                    "name": "stdout",
                    "output_type": "stream",
                    "text": [
                        "epoch 17 : 0.006425243183803647\n"
                    ]
                },
                {
                    "name": "stderr",
                    "output_type": "stream",
                    "text": [
                        "67it [00:05, 12.61it/s]\n"
                    ]
                },
                {
                    "name": "stdout",
                    "output_type": "stream",
                    "text": [
                        "epoch 18 : 0.006304182918436492\n"
                    ]
                },
                {
                    "name": "stderr",
                    "output_type": "stream",
                    "text": [
                        "67it [00:04, 13.87it/s]\n"
                    ]
                },
                {
                    "name": "stdout",
                    "output_type": "stream",
                    "text": [
                        "epoch 19 : 0.006196714889035741\n"
                    ]
                },
                {
                    "name": "stderr",
                    "output_type": "stream",
                    "text": [
                        "67it [00:04, 14.16it/s]\n"
                    ]
                },
                {
                    "name": "stdout",
                    "output_type": "stream",
                    "text": [
                        "epoch 20 : 0.006078159394882508\n"
                    ]
                },
                {
                    "name": "stderr",
                    "output_type": "stream",
                    "text": [
                        "67it [00:04, 14.24it/s]\n"
                    ]
                },
                {
                    "name": "stdout",
                    "output_type": "stream",
                    "text": [
                        "epoch 21 : 0.005972602564507901\n"
                    ]
                },
                {
                    "name": "stderr",
                    "output_type": "stream",
                    "text": [
                        "67it [00:04, 14.81it/s]\n"
                    ]
                },
                {
                    "name": "stdout",
                    "output_type": "stream",
                    "text": [
                        "epoch 22 : 0.00587892939628505\n"
                    ]
                },
                {
                    "name": "stderr",
                    "output_type": "stream",
                    "text": [
                        "67it [00:04, 14.73it/s]\n"
                    ]
                },
                {
                    "name": "stdout",
                    "output_type": "stream",
                    "text": [
                        "epoch 23 : 0.005786348134279251\n"
                    ]
                },
                {
                    "name": "stderr",
                    "output_type": "stream",
                    "text": [
                        "67it [00:04, 14.52it/s]\n"
                    ]
                },
                {
                    "name": "stdout",
                    "output_type": "stream",
                    "text": [
                        "epoch 24 : 0.005705128340467588\n"
                    ]
                },
                {
                    "name": "stderr",
                    "output_type": "stream",
                    "text": [
                        "67it [00:05, 12.67it/s]\n"
                    ]
                },
                {
                    "name": "stdout",
                    "output_type": "stream",
                    "text": [
                        "epoch 25 : 0.005623415494754688\n"
                    ]
                },
                {
                    "name": "stderr",
                    "output_type": "stream",
                    "text": [
                        "67it [00:05, 13.34it/s]\n"
                    ]
                },
                {
                    "name": "stdout",
                    "output_type": "stream",
                    "text": [
                        "epoch 26 : 0.005576681206697848\n"
                    ]
                },
                {
                    "name": "stderr",
                    "output_type": "stream",
                    "text": [
                        "67it [00:04, 13.77it/s]\n"
                    ]
                },
                {
                    "name": "stdout",
                    "output_type": "stream",
                    "text": [
                        "epoch 27 : 0.005561167096246535\n"
                    ]
                },
                {
                    "name": "stderr",
                    "output_type": "stream",
                    "text": [
                        "67it [00:05, 13.07it/s]\n"
                    ]
                },
                {
                    "name": "stdout",
                    "output_type": "stream",
                    "text": [
                        "epoch 28 : 0.005561161550012098\n"
                    ]
                },
                {
                    "name": "stderr",
                    "output_type": "stream",
                    "text": [
                        "67it [00:05, 13.08it/s]\n"
                    ]
                },
                {
                    "name": "stdout",
                    "output_type": "stream",
                    "text": [
                        "epoch 29 : 0.005549148642527524\n"
                    ]
                },
                {
                    "name": "stderr",
                    "output_type": "stream",
                    "text": [
                        "67it [00:05, 12.88it/s]"
                    ]
                },
                {
                    "name": "stdout",
                    "output_type": "stream",
                    "text": [
                        "epoch 30 : 0.00554326754897388\n"
                    ]
                },
                {
                    "name": "stderr",
                    "output_type": "stream",
                    "text": [
                        "\n"
                    ]
                }
            ],
            "source": [
                "training_loss = trainer.run(train_iter, model, optimizer, criterion, scheduler)"
            ]
        },
        {
            "cell_type": "code",
            "execution_count": 193,
            "metadata": {},
            "outputs": [
                {
                    "data": {
                        "text/plain": [
                            "[<matplotlib.lines.Line2D at 0x24d57bac8d0>]"
                        ]
                    },
                    "execution_count": 193,
                    "metadata": {},
                    "output_type": "execute_result"
                },
                {
                    "data": {
                        "image/png": "[encoded data removed]",
                        "text/plain": [
                            "<Figure size 640x480 with 1 Axes>"
                        ]
                    },
                    "metadata": {},
                    "output_type": "display_data"
                }
            ],
            "source": [
                "plt.plot(training_loss)"
            ]
        },
        {
            "cell_type": "markdown",
            "metadata": {},
            "source": [
                "# inference\n"
            ]
        },
        {
            "cell_type": "code",
            "execution_count": 194,
            "metadata": {},
            "outputs": [],
            "source": [
                "evaluator = ClassificationEvaluator(NUM_CLASS, DEVICE, feature_dim=-1)"
            ]
        },
        {
            "cell_type": "code",
            "execution_count": 195,
            "metadata": {},
            "outputs": [
                {
                    "name": "stderr",
                    "output_type": "stream",
                    "text": [
                        "0it [00:00, ?it/s]d:\\research\\pytorch-implementations\\.venv\\Lib\\site-packages\\torch\\utils\\data\\datapipes\\iter\\combining.py:333: UserWarning: Some child DataPipes are not exhausted when __iter__ is called. We are resetting the buffer and each child DataPipe will read from the start again.\n",
                        "  warnings.warn(\"Some child DataPipes are not exhausted when __iter__ is called. We are resetting \"\n",
                        "16it [00:01, 13.68it/s]"
                    ]
                },
                {
                    "name": "stdout",
                    "output_type": "stream",
                    "text": [
                        "[[   0    0    0 ...    0    0    0]\n",
                        " [   0 1949    0 ...    0    0    0]\n",
                        " [   0    0 1949 ...    0    0    0]\n",
                        " ...\n",
                        " [   0    0    0 ...    0    0    0]\n",
                        " [   0    0    0 ...    0    0    0]\n",
                        " [   0    0    0 ...    0    0    0]]\n"
                    ]
                },
                {
                    "name": "stderr",
                    "output_type": "stream",
                    "text": [
                        "\n"
                    ]
                }
            ],
            "source": [
                "confusion_matrix = evaluator.run(test_iter, model)"
            ]
        },
        {
            "cell_type": "code",
            "execution_count": 196,
            "metadata": {},
            "outputs": [
                {
                    "name": "stdout",
                    "output_type": "stream",
                    "text": [
                        "<unk>     : 0.0\n",
                        "<bos>     : 1.0\n",
                        "<eos>     : 1.0\n",
                        "<pad>     : 0.0\n",
                        "NN        : 0.5551181102362205\n",
                        "IN        : 0.9212640599892876\n",
                        "NNP       : 0.6421643695763144\n",
                        "DT        : 0.9556818181818182\n",
                        "NNS       : 0.43619909502262444\n",
                        "JJ        : 0.3976169461606355\n",
                        ",         : 1.0\n",
                        ".         : 0.9922440537745605\n",
                        "CD        : 0.5714285714285714\n",
                        "VBD       : 0.5823488533703961\n",
                        "RB        : 0.4938811188811189\n",
                        "VB        : 0.6924564796905223\n",
                        "CC        : 0.9845814977973568\n",
                        "TO        : 1.0\n",
                        "VBN       : 0.39082751744765704\n",
                        "VBZ       : 0.5995055624227441\n",
                        "PRP       : 0.8205521472392638\n",
                        "VBG       : 0.1910919540229885\n",
                        "VBP       : 0.565922920892495\n",
                        "MD        : 0.8933649289099526\n",
                        "PRP$      : 0.9350282485875706\n",
                        "POS       : 0.9664082687338501\n",
                        "$         : 0.9885496183206107\n",
                        "``        : 0.9833887043189369\n",
                        "''        : 0.9831081081081081\n",
                        ":         : 0.8987341772151899\n",
                        "WDT       : 0.5773195876288659\n",
                        "JJR       : 0.5549738219895288\n",
                        "WP        : 0.9519230769230769\n",
                        "WRB       : 0.9111111111111111\n",
                        "NNPS      : 0.0\n",
                        "JJS       : 0.06493506493506493\n",
                        "RBR       : 0.42857142857142855\n",
                        ")         : 0.0\n",
                        "(         : 0.0\n",
                        "EX        : 1.0\n",
                        "RBS       : 0.9183673469387755\n",
                        "RP        : 0.0\n",
                        "PDT       : 0.0\n",
                        "FW        : 0.0\n",
                        "#         : 0.0\n",
                        "WP$       : 0.0\n",
                        "UH        : 0.0\n",
                        "SYM       : 0.0\n"
                    ]
                },
                {
                    "name": "stderr",
                    "output_type": "stream",
                    "text": [
                        "d:\\research\\pytorch-implementations\\.venv\\Lib\\site-packages\\torchlake\\common\\controller\\evaluator.py:104: RuntimeWarning: invalid value encountered in divide\n",
                        "  return np.where(total == 0, 0, hits / total)\n"
                    ]
                }
            ],
            "source": [
                "per_class_acc = evaluator.get_per_class_accuracy(confusion_matrix)\n",
                "evaluator.show_per_class_accuracy(label_vocab.get_itos(), per_class_acc)"
            ]
        },
        {
            "cell_type": "code",
            "execution_count": 197,
            "metadata": {},
            "outputs": [
                {
                    "data": {
                        "text/plain": [
                            "0.5593472618422218"
                        ]
                    },
                    "execution_count": 197,
                    "metadata": {},
                    "output_type": "execute_result"
                }
            ],
            "source": [
                "per_class_acc.mean()"
            ]
        },
        {
            "cell_type": "code",
            "execution_count": 198,
            "metadata": {},
            "outputs": [
                {
                    "name": "stderr",
                    "output_type": "stream",
                    "text": [
                        "d:\\research\\pytorch-implementations\\.venv\\Lib\\site-packages\\torchlake\\common\\controller\\evaluator.py:123: RuntimeWarning: invalid value encountered in divide\n",
                        "  percentage = np.where(total == 0, 0, hits / total)\n"
                    ]
                },
                {
                    "data": {
                        "image/png": "[encoded data removed]",
                        "text/plain": [
                            "<Figure size 800x800 with 2 Axes>"
                        ]
                    },
                    "metadata": {},
                    "output_type": "display_data"
                }
            ],
            "source": [
                "evaluator.plot_confusion_matrix(\n",
                "    confusion_matrix,\n",
                "    label_vocab.get_itos(),\n",
                "    \"Blues\",\n",
                "    annot=False,\n",
                "    figsize=(8, 8),\n",
                ")"
            ]
        },
        {
            "cell_type": "code",
            "execution_count": 199,
            "metadata": {},
            "outputs": [],
            "source": [
                "model_path = artifacts_path / 'bilstm.pth'"
            ]
        },
        {
            "cell_type": "code",
            "execution_count": 200,
            "metadata": {},
            "outputs": [],
            "source": [
                "torch.save(model.state_dict(), model_path.as_posix())"
            ]
        },
        {
            "cell_type": "code",
            "execution_count": 201,
            "metadata": {},
            "outputs": [
                {
                    "data": {
                        "text/plain": [
                            "'9.5MiB'"
                        ]
                    },
                    "execution_count": 201,
                    "metadata": {},
                    "output_type": "execute_result"
                }
            ],
            "source": [
                "get_file_size(model_path)"
            ]
        },
        {
            "cell_type": "code",
            "execution_count": 202,
            "metadata": {},
            "outputs": [
                {
                    "data": {
                        "text/plain": [
                            "<All keys matched successfully>"
                        ]
                    },
                    "execution_count": 202,
                    "metadata": {},
                    "output_type": "execute_result"
                }
            ],
            "source": [
                "model.load_state_dict(torch.load(model_path.as_posix()))"
            ]
        },
        {
            "cell_type": "code",
            "execution_count": null,
            "metadata": {},
            "outputs": [],
            "source": []
        }
    ],
    "metadata": {
        "kernelspec": {
            "display_name": ".venv",
            "language": "python",
            "name": "python3"
        },
        "language_info": {
            "codemirror_mode": {
                "name": "ipython",
                "version": 3
            },
            "file_extension": ".py",
            "mimetype": "text/x-python",
            "name": "python",
            "nbconvert_exporter": "python",
            "pygments_lexer": "ipython3",
            "version": "3.11.4"
        }
    },
    "nbformat": 4,
    "nbformat_minor": 2
}