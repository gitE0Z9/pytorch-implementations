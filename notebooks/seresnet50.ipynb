{
    "cells": [
        {
            "cell_type": "code",
            "execution_count": 8,
            "metadata": {},
            "outputs": [],
            "source": [
                "from pathlib import Path\n",
                "\n",
                "import matplotlib.pyplot as plt\n",
                "import torch\n",
                "import torchinfo\n",
                "import torchvision\n",
                "from PIL import Image\n",
                "from torch import nn\n",
                "from torch.utils.data import DataLoader\n",
                "from torchlake.common.constants import IMAGENET_MEAN, IMAGENET_STD\n",
                "from torchlake.common.controller.evaluator import ClassificationEvaluator\n",
                "from torchlake.common.metrics.classification import IncrementalConfusionMatrix\n",
                "from torchlake.common.utils.platform import get_num_workers\n",
                "from torchlake.image_classification.models.senet import SeResNet\n",
                "from torchvision import transforms\n",
                "from tqdm import tqdm"
            ]
        },
        {
            "cell_type": "markdown",
            "metadata": {},
            "source": [
                "# Setting"
            ]
        },
        {
            "cell_type": "code",
            "execution_count": 2,
            "metadata": {},
            "outputs": [],
            "source": [
                "IMAGE_SIZE = 224\n",
                "BATCH_SIZE = 16"
            ]
        },
        {
            "cell_type": "code",
            "execution_count": 3,
            "metadata": {},
            "outputs": [],
            "source": [
                "artifact_path = Path(\"../../artifacts/senet\")\n",
                "data_path = Path(\"../../data/animal10\")"
            ]
        },
        {
            "cell_type": "code",
            "execution_count": 4,
            "metadata": {},
            "outputs": [],
            "source": [
                "device = torch.device(\"cuda:0\")"
            ]
        },
        {
            "cell_type": "markdown",
            "metadata": {},
            "source": [
                "# data"
            ]
        },
        {
            "cell_type": "code",
            "execution_count": 6,
            "metadata": {},
            "outputs": [],
            "source": [
                "preprocess = transforms.Compose(\n",
                "    [\n",
                "        transforms.RandomHorizontalFlip(),\n",
                "        transforms.ColorJitter(),\n",
                "        transforms.Resize((IMAGE_SIZE, IMAGE_SIZE)),\n",
                "        transforms.ToTensor(),\n",
                "        transforms.Normalize(IMAGENET_MEAN, IMAGENET_STD),\n",
                "    ]\n",
                ")"
            ]
        },
        {
            "cell_type": "code",
            "execution_count": 7,
            "metadata": {},
            "outputs": [],
            "source": [
                "dataset = torchvision.datasets.ImageFolder(\n",
                "    data_path.as_posix(),\n",
                "    transform=preprocess,\n",
                ")"
            ]
        },
        {
            "cell_type": "code",
            "execution_count": 9,
            "metadata": {},
            "outputs": [],
            "source": [
                "train_loader = DataLoader(\n",
                "    dataset,\n",
                "    batch_size=BATCH_SIZE,\n",
                "    shuffle=True,\n",
                "    drop_last=True,\n",
                "    pin_memory=True,\n",
                "    num_workers=get_num_workers(),\n",
                ")"
            ]
        },
        {
            "cell_type": "code",
            "execution_count": 10,
            "metadata": {},
            "outputs": [],
            "source": [
                "num_class = len(dataset.classes)"
            ]
        },
        {
            "cell_type": "markdown",
            "metadata": {},
            "source": [
                "# model"
            ]
        },
        {
            "cell_type": "code",
            "execution_count": 11,
            "metadata": {},
            "outputs": [],
            "source": [
                "model = SeResNet(output_size=num_class, key=50).to(device)"
            ]
        },
        {
            "cell_type": "code",
            "execution_count": 12,
            "metadata": {},
            "outputs": [
                {
                    "data": {
                        "text/plain": [
                            "===========================================================================\n",
                            "Layer (type:depth-idx)                             Param #\n",
                            "===========================================================================\n",
                            "SeResNet                                           --\n",
                            "├─Sequential: 1-1                                  --\n",
                            "│    └─ConvBnRelu: 2-1                             --\n",
                            "│    │    └─Conv2d: 3-1                            9,408\n",
                            "│    │    └─BatchNorm2d: 3-2                       128\n",
                            "│    │    └─ReLU: 3-3                              --\n",
                            "│    └─MaxPool2d: 2-2                              --\n",
                            "├─Sequential: 1-2                                  --\n",
                            "│    └─ResBlock: 2-3                               --\n",
                            "│    │    └─SeBottleNeck: 3-4                      66,576\n",
                            "│    │    └─ConvBnRelu: 3-5                        16,896\n",
                            "│    └─ResBlock: 2-4                               --\n",
                            "│    │    └─SeBottleNeck: 3-6                      78,864\n",
                            "│    │    └─Identity: 3-7                          --\n",
                            "│    └─ResBlock: 2-5                               --\n",
                            "│    │    └─SeBottleNeck: 3-8                      78,864\n",
                            "│    │    └─Identity: 3-9                          --\n",
                            "├─Sequential: 1-3                                  --\n",
                            "│    └─ResBlock: 2-6                               --\n",
                            "│    │    └─SeBottleNeck: 3-10                     280,608\n",
                            "│    │    └─ConvBnRelu: 3-11                       132,096\n",
                            "│    └─ResBlock: 2-7                               --\n",
                            "│    │    └─SeBottleNeck: 3-12                     313,376\n",
                            "│    │    └─Identity: 3-13                         --\n",
                            "│    └─ResBlock: 2-8                               --\n",
                            "│    │    └─SeBottleNeck: 3-14                     313,376\n",
                            "│    │    └─Identity: 3-15                         --\n",
                            "│    └─ResBlock: 2-9                               --\n",
                            "│    │    └─SeBottleNeck: 3-16                     313,376\n",
                            "│    │    └─Identity: 3-17                         --\n",
                            "│    └─MaxPool2d: 2-10                             --\n",
                            "├─Sequential: 1-4                                  --\n",
                            "│    └─ResBlock: 2-11                              --\n",
                            "│    │    └─SeBottleNeck: 3-18                     1,118,272\n",
                            "│    │    └─ConvBnRelu: 3-19                       526,336\n",
                            "│    └─ResBlock: 2-12                              --\n",
                            "│    │    └─SeBottleNeck: 3-20                     1,249,344\n",
                            "│    │    └─Identity: 3-21                         --\n",
                            "│    └─ResBlock: 2-13                              --\n",
                            "│    │    └─SeBottleNeck: 3-22                     1,249,344\n",
                            "│    │    └─Identity: 3-23                         --\n",
                            "│    └─ResBlock: 2-14                              --\n",
                            "│    │    └─SeBottleNeck: 3-24                     1,249,344\n",
                            "│    │    └─Identity: 3-25                         --\n",
                            "│    └─ResBlock: 2-15                              --\n",
                            "│    │    └─SeBottleNeck: 3-26                     1,249,344\n",
                            "│    │    └─Identity: 3-27                         --\n",
                            "│    └─ResBlock: 2-16                              --\n",
                            "│    │    └─SeBottleNeck: 3-28                     1,249,344\n",
                            "│    │    └─Identity: 3-29                         --\n",
                            "│    └─MaxPool2d: 2-17                             --\n",
                            "├─Sequential: 1-5                                  --\n",
                            "│    └─ResBlock: 2-18                              --\n",
                            "│    │    └─SeBottleNeck: 3-30                     4,464,768\n",
                            "│    │    └─ConvBnRelu: 3-31                       2,101,248\n",
                            "│    └─ResBlock: 2-19                              --\n",
                            "│    │    └─SeBottleNeck: 3-32                     4,989,056\n",
                            "│    │    └─Identity: 3-33                         --\n",
                            "│    └─ResBlock: 2-20                              --\n",
                            "│    │    └─SeBottleNeck: 3-34                     4,989,056\n",
                            "│    │    └─Identity: 3-35                         --\n",
                            "├─Sequential: 1-6                                  --\n",
                            "│    └─AdaptiveAvgPool2d: 2-21                     --\n",
                            "│    └─Flatten: 2-22                               --\n",
                            "├─Linear: 1-7                                      20,490\n",
                            "===========================================================================\n",
                            "Total params: 26,059,514\n",
                            "Trainable params: 26,059,514\n",
                            "Non-trainable params: 0\n",
                            "==========================================================================="
                        ]
                    },
                    "execution_count": 12,
                    "metadata": {},
                    "output_type": "execute_result"
                }
            ],
            "source": [
                "torchinfo.summary(model)"
            ]
        },
        {
            "cell_type": "markdown",
            "metadata": {},
            "source": [
                "# training"
            ]
        },
        {
            "cell_type": "code",
            "execution_count": 13,
            "metadata": {},
            "outputs": [],
            "source": [
                "criterion = nn.CrossEntropyLoss()\n",
                "optim = torch.optim.Adam(model.parameters(), weigth_decapy=1e-5)"
            ]
        },
        {
            "cell_type": "code",
            "execution_count": 14,
            "metadata": {},
            "outputs": [],
            "source": [
                "epochs = 10\n",
                "acc_iters = 64 // BATCH_SIZE"
            ]
        },
        {
            "cell_type": "code",
            "execution_count": 15,
            "metadata": {},
            "outputs": [
                {
                    "name": "stderr",
                    "output_type": "stream",
                    "text": [
                        "  0%|          | 0/1636 [00:00<?, ?it/s]"
                    ]
                },
                {
                    "name": "stderr",
                    "output_type": "stream",
                    "text": [
                        "100%|██████████| 1636/1636 [17:50<00:00,  1.53it/s]\n"
                    ]
                },
                {
                    "name": "stdout",
                    "output_type": "stream",
                    "text": [
                        "epoch 1: 0.025905563650413913\n"
                    ]
                },
                {
                    "name": "stderr",
                    "output_type": "stream",
                    "text": [
                        "100%|██████████| 1636/1636 [05:49<00:00,  4.68it/s]\n"
                    ]
                },
                {
                    "name": "stdout",
                    "output_type": "stream",
                    "text": [
                        "epoch 2: 0.01920019746466505\n"
                    ]
                },
                {
                    "name": "stderr",
                    "output_type": "stream",
                    "text": [
                        "100%|██████████| 1636/1636 [05:46<00:00,  4.72it/s]\n"
                    ]
                },
                {
                    "name": "stdout",
                    "output_type": "stream",
                    "text": [
                        "epoch 3: 0.016060559979743365\n"
                    ]
                },
                {
                    "name": "stderr",
                    "output_type": "stream",
                    "text": [
                        "100%|██████████| 1636/1636 [05:47<00:00,  4.71it/s]\n"
                    ]
                },
                {
                    "name": "stdout",
                    "output_type": "stream",
                    "text": [
                        "epoch 4: 0.013806696401600841\n"
                    ]
                },
                {
                    "name": "stderr",
                    "output_type": "stream",
                    "text": [
                        "100%|██████████| 1636/1636 [05:44<00:00,  4.75it/s]\n"
                    ]
                },
                {
                    "name": "stdout",
                    "output_type": "stream",
                    "text": [
                        "epoch 5: 0.01186020633971278\n"
                    ]
                },
                {
                    "name": "stderr",
                    "output_type": "stream",
                    "text": [
                        "100%|██████████| 1636/1636 [05:25<00:00,  5.02it/s]\n"
                    ]
                },
                {
                    "name": "stdout",
                    "output_type": "stream",
                    "text": [
                        "epoch 6: 0.010531409361301416\n"
                    ]
                },
                {
                    "name": "stderr",
                    "output_type": "stream",
                    "text": [
                        "100%|██████████| 1636/1636 [05:26<00:00,  5.01it/s]\n"
                    ]
                },
                {
                    "name": "stdout",
                    "output_type": "stream",
                    "text": [
                        "epoch 7: 0.009539057839158234\n"
                    ]
                },
                {
                    "name": "stderr",
                    "output_type": "stream",
                    "text": [
                        "100%|██████████| 1636/1636 [05:26<00:00,  5.01it/s]\n"
                    ]
                },
                {
                    "name": "stdout",
                    "output_type": "stream",
                    "text": [
                        "epoch 8: 0.008499849411475054\n"
                    ]
                },
                {
                    "name": "stderr",
                    "output_type": "stream",
                    "text": [
                        "100%|██████████| 1636/1636 [05:24<00:00,  5.04it/s]\n"
                    ]
                },
                {
                    "name": "stdout",
                    "output_type": "stream",
                    "text": [
                        "epoch 9: 0.0076206634593822655\n"
                    ]
                },
                {
                    "name": "stderr",
                    "output_type": "stream",
                    "text": [
                        "100%|██████████| 1636/1636 [05:23<00:00,  5.06it/s]"
                    ]
                },
                {
                    "name": "stdout",
                    "output_type": "stream",
                    "text": [
                        "epoch 10: 0.006685990006136571\n"
                    ]
                },
                {
                    "name": "stderr",
                    "output_type": "stream",
                    "text": [
                        "\n"
                    ]
                }
            ],
            "source": [
                "training_loss = []\n",
                "\n",
                "model.train()\n",
                "for e in range(epochs):\n",
                "    running_loss = 0.0\n",
                "    acc_iter = 0\n",
                "    optim.zero_grad()\n",
                "    \n",
                "    for img, label in tqdm(train_loader):\n",
                "        img = img.to(device)\n",
                "        label = label.to(device)\n",
                "        \n",
                "        output = model(img)\n",
                "        loss = criterion(output,label)\n",
                "        loss /= acc_iters\n",
                "        loss.backward()\n",
                "\n",
                "        if acc_iter % acc_iters == 0:\n",
                "            optim.step()\n",
                "            optim.zero_grad()\n",
                "            \n",
                "        running_loss += loss.item()\n",
                "        acc_iter += 1\n",
                "\n",
                "    training_loss.append(running_loss/len(dataset))\n",
                "    \n",
                "    print(f'epoch {e+1}: {training_loss[e]}')"
            ]
        },
        {
            "cell_type": "code",
            "execution_count": 16,
            "metadata": {},
            "outputs": [
                {
                    "data": {
                        "text/plain": [
                            "[<matplotlib.lines.Line2D at 0x202c57dca10>]"
                        ]
                    },
                    "execution_count": 16,
                    "metadata": {},
                    "output_type": "execute_result"
                },
                {
                    "data": {
                        "image/png": "[encoded data removed]",
                        "text/plain": [
                            "<Figure size 640x480 with 1 Axes>"
                        ]
                    },
                    "metadata": {},
                    "output_type": "display_data"
                }
            ],
            "source": [
                "plt.plot(training_loss)"
            ]
        },
        {
            "cell_type": "markdown",
            "metadata": {},
            "source": [
                "# inference"
            ]
        },
        {
            "cell_type": "code",
            "execution_count": 20,
            "metadata": {},
            "outputs": [],
            "source": [
                "test_preprocess = transforms.Compose([\n",
                "    transforms.Resize((IMAGE_SIZE, IMAGE_SIZE)),\n",
                "    transforms.ToTensor(),\n",
                "    transforms.Normalize(IMAGENET_MEAN, IMAGENET_STD),\n",
                "])"
            ]
        },
        {
            "cell_type": "code",
            "execution_count": 21,
            "metadata": {},
            "outputs": [],
            "source": [
                "test_dataset = torchvision.datasets.ImageFolder(\n",
                "    data_path.as_posix(),\n",
                "    transform=test_preprocess,\n",
                ")"
            ]
        },
        {
            "cell_type": "code",
            "execution_count": 22,
            "metadata": {},
            "outputs": [],
            "source": [
                "test_loader = DataLoader(\n",
                "    test_dataset,\n",
                "    batch_size=BATCH_SIZE,\n",
                "    pin_memory=True,\n",
                "    num_workers=get_num_workers(),\n",
                ")"
            ]
        },
        {
            "cell_type": "code",
            "execution_count": 23,
            "metadata": {},
            "outputs": [],
            "source": [
                "evaluator = ClassificationEvaluator(num_class, device)"
            ]
        },
        {
            "cell_type": "code",
            "execution_count": 24,
            "metadata": {},
            "outputs": [
                {
                    "name": "stderr",
                    "output_type": "stream",
                    "text": [
                        "100%|██████████| 1637/1637 [02:32<00:00, 10.70it/s]\n"
                    ]
                }
            ],
            "source": [
                "confusion_matrix = IncrementalConfusionMatrix(num_class)\n",
                "\n",
                "model.eval()\n",
                "with torch.no_grad():\n",
                "    for img, label in tqdm(test_loader):\n",
                "        img = img.to(device)\n",
                "        \n",
                "        output = model(img)\n",
                "        output = output.detach().cpu()\n",
                "\n",
                "        output = output.argmax(dim=1)\n",
                "        confusion_matrix.update(label, output)"
            ]
        },
        {
            "cell_type": "code",
            "execution_count": 25,
            "metadata": {},
            "outputs": [
                {
                    "name": "stdout",
                    "output_type": "stream",
                    "text": [
                        "[[4384  102    1   22   35   66  100   39   18   96]\n",
                        " [  91 2389    0    8   10    4   80   16    4   21]\n",
                        " [  99  114 1052   15   14    6   50   23   15   58]\n",
                        " [  17    4    0 1988   12    4    3    0   56   28]\n",
                        " [  80   14    0   12 2874   18   20    5   18   57]\n",
                        " [ 130    3    1    9    6 1369    8   10    8  124]\n",
                        " [  63   87    4    2   10    2 1652   33    2   11]\n",
                        " [  72   36    7    6   52   13  183 1392   18   41]\n",
                        " [  22    9    0  144   11   12    5    4 4551   63]\n",
                        " [  32    5    0    8    5    5    4    4   28 1771]]\n"
                    ]
                }
            ],
            "source": [
                "print(confusion_matrix)"
            ]
        },
        {
            "cell_type": "code",
            "execution_count": 26,
            "metadata": {},
            "outputs": [
                {
                    "name": "stdout",
                    "output_type": "stream",
                    "text": [
                        "cane      : 0.9015011309891013\n",
                        "cavallo   : 0.9107891727030119\n",
                        "elefante  : 0.7275242047026279\n",
                        "farfalla  : 0.9412878787878788\n",
                        "gallina   : 0.9276952872821175\n",
                        "gatto     : 0.8207434052757794\n",
                        "mucca     : 0.8853161843515541\n",
                        "pecora    : 0.7648351648351648\n",
                        "ragno     : 0.9439950217797137\n",
                        "scoiattolo: 0.9511278195488722\n"
                    ]
                }
            ],
            "source": [
                "per_class_acc = evaluator.get_per_class_accuracy(confusion_matrix)\n",
                "evaluator.show_per_class_accuracy(test_dataset.classes, per_class_acc)"
            ]
        },
        {
            "cell_type": "code",
            "execution_count": 27,
            "metadata": {},
            "outputs": [
                {
                    "data": {
                        "text/plain": [
                            "0.8774815270255821"
                        ]
                    },
                    "execution_count": 27,
                    "metadata": {},
                    "output_type": "execute_result"
                }
            ],
            "source": [
                "per_class_acc.mean()"
            ]
        },
        {
            "cell_type": "code",
            "execution_count": 28,
            "metadata": {},
            "outputs": [
                {
                    "data": {
                        "image/png": "[encoded data removed]",
                        "text/plain": [
                            "<Figure size 600x400 with 2 Axes>"
                        ]
                    },
                    "metadata": {},
                    "output_type": "display_data"
                }
            ],
            "source": [
                "evaluator.plot_confusion_matrix(\n",
                "    confusion_matrix,\n",
                "    test_dataset.classes,\n",
                "    \"Blues\",\n",
                "    annot=False,\n",
                "    figsize=(6, 4),\n",
                ")"
            ]
        },
        {
            "cell_type": "code",
            "execution_count": 31,
            "metadata": {},
            "outputs": [],
            "source": [
                "# image from internet\n",
                "import requests\n",
                "from io import BytesIO\n",
                "\n",
                "# demo_url = \"http://t2.gstatic.com/licensed-image?q=tbn:ANd9GcSFoiMCj_B7I2ML4tMYIbrcSgD9gBkp-G1JVfYz8R5xtL76jjcXyhY92BwcFNKCSxCU1NwmZ5XfIAO1VCF7WCM\" # cow\n",
                "demo_url = \"http://t0.gstatic.com/licensed-image?q=tbn:ANd9GcRgs4mxH44aRwV3qnlSmBlnP2u4pEDu8gatItCeqvXEb3yUol302ClE9ujMszbxXiyPZopDy-3i9EzcjjLNdTI\" # horse\n",
                "img = Image.open(BytesIO(requests.get(demo_url).content))\n",
                "img = test_preprocess(img).unsqueeze(0).to(device)"
            ]
        },
        {
            "cell_type": "code",
            "execution_count": null,
            "metadata": {},
            "outputs": [],
            "source": [
                "# randomly sampled from dataset\n",
                "\n",
                "# import random\n",
                "# idx = random.randint(0, len(dataset))\n",
                "# sample = test_dataset[idx]\n",
                "# img = sample[0].unsqueeze(0).to(device)"
            ]
        },
        {
            "cell_type": "code",
            "execution_count": 32,
            "metadata": {},
            "outputs": [
                {
                    "name": "stdout",
                    "output_type": "stream",
                    "text": [
                        "cavallo\n"
                    ]
                }
            ],
            "source": [
                "model.eval()\n",
                "with torch.no_grad():\n",
                "    prediction = model(img).detach().cpu()\n",
                "    print(dataset.classes[prediction.argmax()])\n",
                "    # print(dataset.classes[sample[1]])"
            ]
        },
        {
            "cell_type": "code",
            "execution_count": 17,
            "metadata": {},
            "outputs": [],
            "source": [
                "model_path = artifact_path / 'se-resnet50.pth'"
            ]
        },
        {
            "cell_type": "code",
            "execution_count": 18,
            "metadata": {},
            "outputs": [],
            "source": [
                "torch.save(model.state_dict(), model_path)"
            ]
        },
        {
            "cell_type": "code",
            "execution_count": 19,
            "metadata": {},
            "outputs": [
                {
                    "data": {
                        "text/plain": [
                            "99.74579048156738"
                        ]
                    },
                    "execution_count": 19,
                    "metadata": {},
                    "output_type": "execute_result"
                }
            ],
            "source": [
                "model_path.stat().st_size / 1024**2"
            ]
        },
        {
            "cell_type": "code",
            "execution_count": null,
            "metadata": {},
            "outputs": [],
            "source": [
                "model.load_state_dict(torch.load(model_path.as_posix()))"
            ]
        }
    ],
    "metadata": {
        "kernelspec": {
            "display_name": ".venv",
            "language": "python",
            "name": "python3"
        },
        "language_info": {
            "codemirror_mode": {
                "name": "ipython",
                "version": 3
            },
            "file_extension": ".py",
            "mimetype": "text/x-python",
            "name": "python",
            "nbconvert_exporter": "python",
            "pygments_lexer": "ipython3",
            "version": "3.11.4"
        }
    },
    "nbformat": 4,
    "nbformat_minor": 2
}