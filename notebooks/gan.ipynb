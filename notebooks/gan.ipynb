{
 "cells": [
  {
   "cell_type": "code",
   "execution_count": 1,
   "metadata": {},
   "outputs": [],
   "source": [
    "from pathlib import Path\n",
    "from typing import Generator\n",
    "\n",
    "import matplotlib.pyplot as plt\n",
    "import torch\n",
    "import torchinfo\n",
    "import torchvision\n",
    "from torch import nn\n",
    "from torch.utils.data import DataLoader\n",
    "from torchvision import transforms\n",
    "from tqdm import tqdm\n",
    "\n",
    "from torchlake.common.controller.recorder import TrainRecorder\n",
    "from torchlake.common.utils.convert import img_tensor_to_np\n",
    "from torchlake.common.utils.plot import plot_grids\n",
    "from torchlake.common.utils.random import generate_normal\n",
    "from torchlake.image_generation.controllers.trainer_gan import GANTrainer\n",
    "from torchlake.image_generation.models.gan import (\n",
    "    GANDiscriminator,\n",
    "    GANDiscriminatorLoss,\n",
    "    GANGenerator,\n",
    "    GANGeneratorLoss,\n",
    ")"
   ]
  },
  {
   "cell_type": "markdown",
   "metadata": {},
   "source": [
    "# Setting"
   ]
  },
  {
   "cell_type": "code",
   "execution_count": 2,
   "metadata": {},
   "outputs": [],
   "source": [
    "IMAGE_SIZE = 32\n",
    "BATCH_SIZE = 128"
   ]
  },
  {
   "cell_type": "code",
   "execution_count": 3,
   "metadata": {},
   "outputs": [],
   "source": [
    "artifact_path = Path(\"../../artifacts/gan\")\n",
    "artifact_path.mkdir(exist_ok=True)\n",
    "\n",
    "data_path = Path(\"../../data/fashionMnist\")"
   ]
  },
  {
   "cell_type": "code",
   "execution_count": 4,
   "metadata": {},
   "outputs": [],
   "source": [
    "DEVICE = torch.device(\"cuda:0\")"
   ]
  },
  {
   "cell_type": "markdown",
   "metadata": {},
   "source": [
    "# Data"
   ]
  },
  {
   "cell_type": "code",
   "execution_count": 5,
   "metadata": {},
   "outputs": [],
   "source": [
    "preprocess = transforms.Compose(\n",
    "    [\n",
    "        transforms.Resize(IMAGE_SIZE),\n",
    "        transforms.ToTensor(),\n",
    "        lambda x: 2 * x - 1,\n",
    "    ]\n",
    ")"
   ]
  },
  {
   "cell_type": "code",
   "execution_count": 6,
   "metadata": {},
   "outputs": [],
   "source": [
    "train_data = torchvision.datasets.FashionMNIST(\n",
    "    root=data_path.as_posix(),\n",
    "    train=True,\n",
    "    transform=preprocess,\n",
    "    download=True,\n",
    ")"
   ]
  },
  {
   "cell_type": "code",
   "execution_count": 7,
   "metadata": {},
   "outputs": [],
   "source": [
    "train_loader = DataLoader(\n",
    "    train_data,\n",
    "    batch_size=BATCH_SIZE,\n",
    "    shuffle=True,\n",
    "    drop_last=True,\n",
    ")"
   ]
  },
  {
   "cell_type": "code",
   "execution_count": 8,
   "metadata": {},
   "outputs": [
    {
     "data": {
      "image/png": "[encoded data removed]",
      "text/plain": [
       "<Figure size 800x800 with 9 Axes>"
      ]
     },
     "metadata": {},
     "output_type": "display_data"
    }
   ],
   "source": [
    "# 資料集繪圖\n",
    "plot_grids(\n",
    "    [*img_tensor_to_np(torch.stack([train_data[i][0] for i in range(9)]))],\n",
    "    num_row=3,\n",
    "    num_col=3,\n",
    "    cmap=\"gray\",\n",
    ")"
   ]
  },
  {
   "cell_type": "markdown",
   "metadata": {},
   "source": [
    "# model"
   ]
  },
  {
   "cell_type": "code",
   "execution_count": 9,
   "metadata": {},
   "outputs": [],
   "source": [
    "LATENT_DIM = 128\n",
    "HIDDEN_DIM = 256"
   ]
  },
  {
   "cell_type": "code",
   "execution_count": 10,
   "metadata": {},
   "outputs": [],
   "source": [
    "generator = GANGenerator(\n",
    "    LATENT_DIM,\n",
    "    HIDDEN_DIM,\n",
    "    (1, IMAGE_SIZE, IMAGE_SIZE),\n",
    ").to(DEVICE)\n",
    "discriminator = GANDiscriminator(\n",
    "    HIDDEN_DIM,\n",
    "    (1, IMAGE_SIZE, IMAGE_SIZE),\n",
    "    dropout_prob=0,\n",
    ").to(DEVICE)"
   ]
  },
  {
   "cell_type": "code",
   "execution_count": 11,
   "metadata": {},
   "outputs": [
    {
     "data": {
      "text/plain": [
       "=================================================================\n",
       "Layer (type:depth-idx)                   Param #\n",
       "=================================================================\n",
       "GANGenerator                             --\n",
       "├─Sequential: 1-1                        --\n",
       "│    └─Linear: 2-1                       33,024\n",
       "│    └─LeakyReLU: 2-2                    --\n",
       "├─Sequential: 1-2                        --\n",
       "│    └─Linear: 2-3                       131,584\n",
       "│    └─LeakyReLU: 2-4                    --\n",
       "│    └─Linear: 2-5                       525,312\n",
       "│    └─LeakyReLU: 2-6                    --\n",
       "├─Sequential: 1-3                        --\n",
       "│    └─Linear: 2-7                       1,049,600\n",
       "│    └─Tanh: 2-8                         --\n",
       "│    └─Unflatten: 2-9                    --\n",
       "=================================================================\n",
       "Total params: 1,739,520\n",
       "Trainable params: 1,739,520\n",
       "Non-trainable params: 0\n",
       "================================================================="
      ]
     },
     "execution_count": 11,
     "metadata": {},
     "output_type": "execute_result"
    }
   ],
   "source": [
    "torchinfo.summary(generator)"
   ]
  },
  {
   "cell_type": "code",
   "execution_count": 12,
   "metadata": {},
   "outputs": [
    {
     "data": {
      "text/plain": [
       "=================================================================\n",
       "Layer (type:depth-idx)                   Param #\n",
       "=================================================================\n",
       "GANDiscriminator                         --\n",
       "├─Sequential: 1-1                        --\n",
       "│    └─Flatten: 2-1                      --\n",
       "│    └─Linear: 2-2                       524,800\n",
       "│    └─LeakyReLU: 2-3                    --\n",
       "├─Sequential: 1-2                        --\n",
       "│    └─Linear: 2-4                       131,328\n",
       "│    └─LeakyReLU: 2-5                    --\n",
       "├─Sequential: 1-3                        --\n",
       "│    └─Dropout: 2-6                      --\n",
       "│    └─Linear: 2-7                       257\n",
       "=================================================================\n",
       "Total params: 656,385\n",
       "Trainable params: 656,385\n",
       "Non-trainable params: 0\n",
       "================================================================="
      ]
     },
     "execution_count": 12,
     "metadata": {},
     "output_type": "execute_result"
    }
   ],
   "source": [
    "torchinfo.summary(discriminator)"
   ]
  },
  {
   "cell_type": "markdown",
   "metadata": {},
   "source": [
    "# train"
   ]
  },
  {
   "cell_type": "code",
   "execution_count": 13,
   "metadata": {},
   "outputs": [],
   "source": [
    "def noise_generator(batch_size: int) -> Generator[torch.Tensor, None, None]:\n",
    "    while True:\n",
    "        yield generate_normal(batch_size, LATENT_DIM).to(DEVICE)"
   ]
  },
  {
   "cell_type": "code",
   "execution_count": 14,
   "metadata": {},
   "outputs": [],
   "source": [
    "EPOCH = 30"
   ]
  },
  {
   "cell_type": "code",
   "execution_count": 15,
   "metadata": {},
   "outputs": [],
   "source": [
    "trainer = GANTrainer(EPOCH, DEVICE)"
   ]
  },
  {
   "cell_type": "code",
   "execution_count": 16,
   "metadata": {},
   "outputs": [],
   "source": [
    "recorder = TrainRecorder(total_epoch=EPOCH, num_loss=2, loss_names=[\"discriminator\", \"generator\"])\n",
    "recorder.increment_data_size(len(train_data))"
   ]
  },
  {
   "cell_type": "code",
   "execution_count": 17,
   "metadata": {},
   "outputs": [],
   "source": [
    "LR = 1e-4\n",
    "BETA = (0.5, 0.999)"
   ]
  },
  {
   "cell_type": "code",
   "execution_count": 18,
   "metadata": {},
   "outputs": [],
   "source": [
    "criterion_g = GANGeneratorLoss()\n",
    "criterion_d = GANDiscriminatorLoss()\n",
    "optim_g = torch.optim.Adam(generator.parameters(), lr=LR, betas=BETA)\n",
    "optim_d = torch.optim.Adam(discriminator.parameters(), lr=LR, betas=BETA)"
   ]
  },
  {
   "cell_type": "code",
   "execution_count": 19,
   "metadata": {},
   "outputs": [
    {
     "name": "stdout",
     "output_type": "stream",
     "text": [
      "Enable AMP: False\n"
     ]
    },
    {
     "name": "stderr",
     "output_type": "stream",
     "text": [
      "100%|██████████| 468/468 [00:24<00:00, 19.07it/s]\n"
     ]
    },
    {
     "name": "stdout",
     "output_type": "stream",
     "text": [
      "------------------------------------\n",
      "Epoch 1\n",
      "------------------------------------\n",
      "discriminator: 6.7490e-03 (0.00%)\n",
      "generator: 8.2977e-03 (0.00%)\n"
     ]
    },
    {
     "name": "stderr",
     "output_type": "stream",
     "text": [
      "100%|██████████| 468/468 [00:24<00:00, 18.72it/s]\n"
     ]
    },
    {
     "name": "stdout",
     "output_type": "stream",
     "text": [
      "------------------------------------\n",
      "Epoch 2\n",
      "------------------------------------\n",
      "discriminator: 1.1361e-02 (68.00%)\n",
      "generator: 2.7032e-02 (226.00%)\n"
     ]
    },
    {
     "name": "stderr",
     "output_type": "stream",
     "text": [
      "100%|██████████| 468/468 [00:22<00:00, 20.83it/s]\n"
     ]
    },
    {
     "name": "stdout",
     "output_type": "stream",
     "text": [
      "------------------------------------\n",
      "Epoch 3\n",
      "------------------------------------\n",
      "discriminator: 1.6224e-02 (43.00%)\n",
      "generator: 4.5693e-02 (69.00%)\n"
     ]
    },
    {
     "name": "stderr",
     "output_type": "stream",
     "text": [
      "100%|██████████| 468/468 [00:25<00:00, 18.71it/s]\n"
     ]
    },
    {
     "name": "stdout",
     "output_type": "stream",
     "text": [
      "------------------------------------\n",
      "Epoch 4\n",
      "------------------------------------\n",
      "discriminator: 2.1832e-02 (35.00%)\n",
      "generator: 6.3768e-02 (40.00%)\n"
     ]
    },
    {
     "name": "stderr",
     "output_type": "stream",
     "text": [
      "100%|██████████| 468/468 [00:23<00:00, 19.58it/s]\n"
     ]
    },
    {
     "name": "stdout",
     "output_type": "stream",
     "text": [
      "------------------------------------\n",
      "Epoch 5\n",
      "------------------------------------\n",
      "discriminator: 2.7801e-02 (27.00%)\n",
      "generator: 8.0831e-02 (27.00%)\n"
     ]
    },
    {
     "name": "stderr",
     "output_type": "stream",
     "text": [
      "100%|██████████| 468/468 [00:24<00:00, 19.26it/s]\n"
     ]
    },
    {
     "name": "stdout",
     "output_type": "stream",
     "text": [
      "------------------------------------\n",
      "Epoch 6\n",
      "------------------------------------\n",
      "discriminator: 3.4356e-02 (24.00%)\n",
      "generator: 9.5282e-02 (18.00%)\n"
     ]
    },
    {
     "name": "stderr",
     "output_type": "stream",
     "text": [
      "100%|██████████| 468/468 [00:24<00:00, 18.85it/s]\n"
     ]
    },
    {
     "name": "stdout",
     "output_type": "stream",
     "text": [
      "------------------------------------\n",
      "Epoch 7\n",
      "------------------------------------\n",
      "discriminator: 4.2265e-02 (23.00%)\n",
      "generator: 1.0742e-01 (13.00%)\n"
     ]
    },
    {
     "name": "stderr",
     "output_type": "stream",
     "text": [
      "100%|██████████| 468/468 [00:24<00:00, 19.12it/s]\n"
     ]
    },
    {
     "name": "stdout",
     "output_type": "stream",
     "text": [
      "------------------------------------\n",
      "Epoch 8\n",
      "------------------------------------\n",
      "discriminator: 5.0300e-02 (19.00%)\n",
      "generator: 1.1874e-01 (11.00%)\n"
     ]
    },
    {
     "name": "stderr",
     "output_type": "stream",
     "text": [
      "100%|██████████| 468/468 [00:24<00:00, 19.19it/s]\n"
     ]
    },
    {
     "name": "stdout",
     "output_type": "stream",
     "text": [
      "------------------------------------\n",
      "Epoch 9\n",
      "------------------------------------\n",
      "discriminator: 5.8554e-02 (16.00%)\n",
      "generator: 1.2994e-01 (9.00%)\n"
     ]
    },
    {
     "name": "stderr",
     "output_type": "stream",
     "text": [
      "100%|██████████| 468/468 [00:24<00:00, 19.48it/s]\n"
     ]
    },
    {
     "name": "stdout",
     "output_type": "stream",
     "text": [
      "------------------------------------\n",
      "Epoch 10\n",
      "------------------------------------\n",
      "discriminator: 6.6915e-02 (14.00%)\n",
      "generator: 1.4083e-01 (8.00%)\n"
     ]
    },
    {
     "name": "stderr",
     "output_type": "stream",
     "text": [
      "100%|██████████| 468/468 [00:24<00:00, 18.86it/s]\n"
     ]
    },
    {
     "name": "stdout",
     "output_type": "stream",
     "text": [
      "------------------------------------\n",
      "Epoch 11\n",
      "------------------------------------\n",
      "discriminator: 7.5375e-02 (13.00%)\n",
      "generator: 1.5150e-01 (8.00%)\n"
     ]
    },
    {
     "name": "stderr",
     "output_type": "stream",
     "text": [
      "100%|██████████| 468/468 [00:23<00:00, 19.98it/s]\n"
     ]
    },
    {
     "name": "stdout",
     "output_type": "stream",
     "text": [
      "------------------------------------\n",
      "Epoch 12\n",
      "------------------------------------\n",
      "discriminator: 8.4315e-02 (12.00%)\n",
      "generator: 1.6130e-01 (6.00%)\n"
     ]
    },
    {
     "name": "stderr",
     "output_type": "stream",
     "text": [
      "100%|██████████| 468/468 [00:24<00:00, 18.87it/s]\n"
     ]
    },
    {
     "name": "stdout",
     "output_type": "stream",
     "text": [
      "------------------------------------\n",
      "Epoch 13\n",
      "------------------------------------\n",
      "discriminator: 9.3296e-02 (11.00%)\n",
      "generator: 1.7073e-01 (6.00%)\n"
     ]
    },
    {
     "name": "stderr",
     "output_type": "stream",
     "text": [
      "100%|██████████| 468/468 [00:24<00:00, 19.13it/s]\n"
     ]
    },
    {
     "name": "stdout",
     "output_type": "stream",
     "text": [
      "------------------------------------\n",
      "Epoch 14\n",
      "------------------------------------\n",
      "discriminator: 1.0233e-01 (10.00%)\n",
      "generator: 1.7996e-01 (5.00%)\n"
     ]
    },
    {
     "name": "stderr",
     "output_type": "stream",
     "text": [
      "100%|██████████| 468/468 [00:24<00:00, 19.10it/s]\n"
     ]
    },
    {
     "name": "stdout",
     "output_type": "stream",
     "text": [
      "------------------------------------\n",
      "Epoch 15\n",
      "------------------------------------\n",
      "discriminator: 1.1136e-01 (9.00%)\n",
      "generator: 1.8914e-01 (5.00%)\n"
     ]
    },
    {
     "name": "stderr",
     "output_type": "stream",
     "text": [
      "100%|██████████| 468/468 [00:25<00:00, 18.52it/s]\n"
     ]
    },
    {
     "name": "stdout",
     "output_type": "stream",
     "text": [
      "------------------------------------\n",
      "Epoch 16\n",
      "------------------------------------\n",
      "discriminator: 1.2054e-01 (8.00%)\n",
      "generator: 1.9807e-01 (5.00%)\n"
     ]
    },
    {
     "name": "stderr",
     "output_type": "stream",
     "text": [
      "100%|██████████| 468/468 [00:24<00:00, 18.78it/s]\n"
     ]
    },
    {
     "name": "stdout",
     "output_type": "stream",
     "text": [
      "------------------------------------\n",
      "Epoch 17\n",
      "------------------------------------\n",
      "discriminator: 1.2968e-01 (8.00%)\n",
      "generator: 2.0702e-01 (5.00%)\n"
     ]
    },
    {
     "name": "stderr",
     "output_type": "stream",
     "text": [
      "100%|██████████| 468/468 [00:24<00:00, 18.86it/s]\n"
     ]
    },
    {
     "name": "stdout",
     "output_type": "stream",
     "text": [
      "------------------------------------\n",
      "Epoch 18\n",
      "------------------------------------\n",
      "discriminator: 1.3895e-01 (7.00%)\n",
      "generator: 2.1564e-01 (4.00%)\n"
     ]
    },
    {
     "name": "stderr",
     "output_type": "stream",
     "text": [
      "100%|██████████| 468/468 [00:24<00:00, 19.05it/s]\n"
     ]
    },
    {
     "name": "stdout",
     "output_type": "stream",
     "text": [
      "------------------------------------\n",
      "Epoch 19\n",
      "------------------------------------\n",
      "discriminator: 1.4830e-01 (7.00%)\n",
      "generator: 2.2403e-01 (4.00%)\n"
     ]
    },
    {
     "name": "stderr",
     "output_type": "stream",
     "text": [
      "100%|██████████| 468/468 [00:24<00:00, 19.25it/s]\n"
     ]
    },
    {
     "name": "stdout",
     "output_type": "stream",
     "text": [
      "------------------------------------\n",
      "Epoch 20\n",
      "------------------------------------\n",
      "discriminator: 1.5779e-01 (6.00%)\n",
      "generator: 2.3228e-01 (4.00%)\n"
     ]
    },
    {
     "name": "stderr",
     "output_type": "stream",
     "text": [
      "100%|██████████| 468/468 [00:24<00:00, 19.30it/s]\n"
     ]
    },
    {
     "name": "stdout",
     "output_type": "stream",
     "text": [
      "------------------------------------\n",
      "Epoch 21\n",
      "------------------------------------\n",
      "discriminator: 1.6730e-01 (6.00%)\n",
      "generator: 2.4042e-01 (4.00%)\n"
     ]
    },
    {
     "name": "stderr",
     "output_type": "stream",
     "text": [
      "100%|██████████| 468/468 [00:24<00:00, 18.81it/s]\n"
     ]
    },
    {
     "name": "stdout",
     "output_type": "stream",
     "text": [
      "------------------------------------\n",
      "Epoch 22\n",
      "------------------------------------\n",
      "discriminator: 1.7688e-01 (6.00%)\n",
      "generator: 2.4839e-01 (3.00%)\n"
     ]
    },
    {
     "name": "stderr",
     "output_type": "stream",
     "text": [
      "100%|██████████| 468/468 [00:24<00:00, 19.25it/s]\n"
     ]
    },
    {
     "name": "stdout",
     "output_type": "stream",
     "text": [
      "------------------------------------\n",
      "Epoch 23\n",
      "------------------------------------\n",
      "discriminator: 1.8653e-01 (5.00%)\n",
      "generator: 2.5628e-01 (3.00%)\n"
     ]
    },
    {
     "name": "stderr",
     "output_type": "stream",
     "text": [
      "100%|██████████| 468/468 [00:25<00:00, 18.24it/s]\n"
     ]
    },
    {
     "name": "stdout",
     "output_type": "stream",
     "text": [
      "------------------------------------\n",
      "Epoch 24\n",
      "------------------------------------\n",
      "discriminator: 1.9628e-01 (5.00%)\n",
      "generator: 2.6391e-01 (3.00%)\n"
     ]
    },
    {
     "name": "stderr",
     "output_type": "stream",
     "text": [
      "100%|██████████| 468/468 [00:23<00:00, 20.09it/s]\n"
     ]
    },
    {
     "name": "stdout",
     "output_type": "stream",
     "text": [
      "------------------------------------\n",
      "Epoch 25\n",
      "------------------------------------\n",
      "discriminator: 2.0603e-01 (5.00%)\n",
      "generator: 2.7158e-01 (3.00%)\n"
     ]
    },
    {
     "name": "stderr",
     "output_type": "stream",
     "text": [
      "100%|██████████| 468/468 [00:22<00:00, 20.66it/s]\n"
     ]
    },
    {
     "name": "stdout",
     "output_type": "stream",
     "text": [
      "------------------------------------\n",
      "Epoch 26\n",
      "------------------------------------\n",
      "discriminator: 2.1581e-01 (5.00%)\n",
      "generator: 2.7919e-01 (3.00%)\n"
     ]
    },
    {
     "name": "stderr",
     "output_type": "stream",
     "text": [
      "100%|██████████| 468/468 [00:23<00:00, 19.97it/s]\n"
     ]
    },
    {
     "name": "stdout",
     "output_type": "stream",
     "text": [
      "------------------------------------\n",
      "Epoch 27\n",
      "------------------------------------\n",
      "discriminator: 2.2566e-01 (5.00%)\n",
      "generator: 2.8669e-01 (3.00%)\n"
     ]
    },
    {
     "name": "stderr",
     "output_type": "stream",
     "text": [
      "100%|██████████| 468/468 [00:22<00:00, 20.99it/s]\n"
     ]
    },
    {
     "name": "stdout",
     "output_type": "stream",
     "text": [
      "------------------------------------\n",
      "Epoch 28\n",
      "------------------------------------\n",
      "discriminator: 2.3549e-01 (4.00%)\n",
      "generator: 2.9417e-01 (3.00%)\n"
     ]
    },
    {
     "name": "stderr",
     "output_type": "stream",
     "text": [
      "100%|██████████| 468/468 [00:21<00:00, 21.75it/s]\n"
     ]
    },
    {
     "name": "stdout",
     "output_type": "stream",
     "text": [
      "------------------------------------\n",
      "Epoch 29\n",
      "------------------------------------\n",
      "discriminator: 2.4537e-01 (4.00%)\n",
      "generator: 3.0172e-01 (3.00%)\n"
     ]
    },
    {
     "name": "stderr",
     "output_type": "stream",
     "text": [
      "100%|██████████| 468/468 [00:24<00:00, 19.00it/s]"
     ]
    },
    {
     "name": "stdout",
     "output_type": "stream",
     "text": [
      "------------------------------------\n",
      "Epoch 30\n",
      "------------------------------------\n",
      "discriminator: 2.5521e-01 (4.00%)\n",
      "generator: 3.0920e-01 (2.00%)\n"
     ]
    },
    {
     "name": "stderr",
     "output_type": "stream",
     "text": [
      "\n"
     ]
    }
   ],
   "source": [
    "training_losses = trainer.run(\n",
    "    train_loader,\n",
    "    noise_generator,\n",
    "    generator,\n",
    "    discriminator,\n",
    "    optim_g,\n",
    "    optim_d,\n",
    "    criterion_g,\n",
    "    criterion_d,\n",
    "    recorder=recorder,\n",
    ")"
   ]
  },
  {
   "cell_type": "code",
   "execution_count": 20,
   "metadata": {},
   "outputs": [
    {
     "data": {
      "text/plain": [
       "<matplotlib.legend.Legend at 0x2100cef6b50>"
      ]
     },
     "execution_count": 20,
     "metadata": {},
     "output_type": "execute_result"
    },
    {
     "data": {
      "image/png": "[encoded data removed]",
      "text/plain": [
       "<Figure size 640x480 with 1 Axes>"
      ]
     },
     "metadata": {},
     "output_type": "display_data"
    }
   ],
   "source": [
    "plt.plot(training_losses[0], label=\"discriminator loss\")\n",
    "plt.plot(training_losses[1], label=\"generator loss\")\n",
    "plt.legend(bbox_to_anchor=(1, 1))"
   ]
  },
  {
   "cell_type": "markdown",
   "metadata": {},
   "source": [
    "# evaluation"
   ]
  },
  {
   "cell_type": "code",
   "execution_count": 21,
   "metadata": {},
   "outputs": [
    {
     "data": {
      "image/png": "[encoded data removed]",
      "text/plain": [
       "<Figure size 400x400 with 16 Axes>"
      ]
     },
     "metadata": {},
     "output_type": "display_data"
    }
   ],
   "source": [
    "# 合成圖片\n",
    "generator.eval()\n",
    "with torch.no_grad():\n",
    "    noise = generate_normal(16, LATENT_DIM).to(DEVICE)\n",
    "    gen_img = (generator(noise) + 1) / 2\n",
    "    \n",
    "    plot_grids(\n",
    "        img_tensor_to_np(gen_img),\n",
    "        num_row=4,\n",
    "        num_col=4,\n",
    "        is_gray_scale=True,\n",
    "        figsize=(4,4),\n",
    "    )"
   ]
  },
  {
   "cell_type": "code",
   "execution_count": 22,
   "metadata": {},
   "outputs": [
    {
     "name": "stderr",
     "output_type": "stream",
     "text": [
      "100%|██████████| 468/468 [00:14<00:00, 31.21it/s]"
     ]
    },
    {
     "name": "stdout",
     "output_type": "stream",
     "text": [
      "0.68155\n"
     ]
    },
    {
     "name": "stderr",
     "output_type": "stream",
     "text": [
      "\n"
     ]
    }
   ],
   "source": [
    "# 區別是否為真實圖片\n",
    "generator.eval()\n",
    "discriminator.eval()\n",
    "with torch.no_grad():\n",
    "    hits = 0.0\n",
    "    for img, _ in tqdm(train_loader):\n",
    "        img = img.to(DEVICE)\n",
    "        hits += discriminator(img).sigmoid().gt(0.5).sum().item()\n",
    "\n",
    "    print(hits / len(train_data))"
   ]
  },
  {
   "cell_type": "code",
   "execution_count": 23,
   "metadata": {},
   "outputs": [
    {
     "name": "stderr",
     "output_type": "stream",
     "text": [
      "100%|██████████| 468/468 [00:15<00:00, 30.75it/s]"
     ]
    },
    {
     "name": "stdout",
     "output_type": "stream",
     "text": [
      "0.47095\n"
     ]
    },
    {
     "name": "stderr",
     "output_type": "stream",
     "text": [
      "\n"
     ]
    }
   ],
   "source": [
    "# 區別是否為合成圖片\n",
    "generator.eval()\n",
    "discriminator.eval()\n",
    "with torch.no_grad():\n",
    "    hits = 0.0\n",
    "    for img, label in tqdm(train_loader):\n",
    "        noise = generate_normal(BATCH_SIZE, LATENT_DIM).to(DEVICE)\n",
    "        gen_img = generator(noise)\n",
    "        hits += discriminator(gen_img).sigmoid().gt(0.5).sum().item()\n",
    "    print(hits / len(train_data))"
   ]
  },
  {
   "cell_type": "code",
   "execution_count": 24,
   "metadata": {},
   "outputs": [],
   "source": [
    "model_path = artifact_path / 'gan.pth'"
   ]
  },
  {
   "cell_type": "code",
   "execution_count": 25,
   "metadata": {},
   "outputs": [],
   "source": [
    "torch.save(generator.state_dict(), model_path.as_posix())"
   ]
  },
  {
   "cell_type": "code",
   "execution_count": 26,
   "metadata": {},
   "outputs": [
    {
     "data": {
      "text/plain": [
       "<All keys matched successfully>"
      ]
     },
     "execution_count": 26,
     "metadata": {},
     "output_type": "execute_result"
    }
   ],
   "source": [
    "generator.load_state_dict(torch.load(model_path.as_posix()))"
   ]
  }
 ],
 "metadata": {
  "kernelspec": {
   "display_name": ".venv",
   "language": "python",
   "name": "python3"
  },
  "language_info": {
   "codemirror_mode": {
    "name": "ipython",
    "version": 3
   },
   "file_extension": ".py",
   "mimetype": "text/x-python",
   "name": "python",
   "nbconvert_exporter": "python",
   "pygments_lexer": "ipython3",
   "version": "3.11.4"
  }
 },
 "nbformat": 4,
 "nbformat_minor": 2
}
