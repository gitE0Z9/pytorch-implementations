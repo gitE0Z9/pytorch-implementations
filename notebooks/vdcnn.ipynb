{
    "cells": [
        {
            "cell_type": "code",
            "execution_count": 81,
            "metadata": {},
            "outputs": [],
            "source": [
                "from pathlib import Path\n",
                "\n",
                "import matplotlib.pyplot as plt\n",
                "import torch\n",
                "import torchinfo\n",
                "import torchtext.transforms as T\n",
                "from torch import optim\n",
                "from torch.utils.data import DataLoader\n",
                "from torchlake.common.controller.evaluator import ClassificationEvaluator\n",
                "from torchlake.common.controller.trainer import ClassificationTrainer\n",
                "from torchlake.common.schemas.nlp import NlpContext\n",
                "from torchlake.common.utils.platform import get_file_size, get_num_workers\n",
                "from torchlake.common.utils.text import is_corpus_title, is_longer_text\n",
                "from torchlake.text_classification.datasets.ag_news.constants import \\\n",
                "    CLASS_NAMES as AG_NEWS_CLASS_NAMES\n",
                "from torchlake.text_classification.models.vdcnn import VDCNN\n",
                "from torchlake.common.utils.text import build_vocab\n",
                "from torchlake.text_classification.constants.misc import CHARACTERS\n",
                "from torchtext.datasets import AG_NEWS"
            ]
        },
        {
            "cell_type": "markdown",
            "metadata": {},
            "source": [
                "# setting\n"
            ]
        },
        {
            "cell_type": "code",
            "execution_count": 82,
            "metadata": {},
            "outputs": [],
            "source": [
                "DATASET_NAME = \"AGNews\""
            ]
        },
        {
            "cell_type": "code",
            "execution_count": 83,
            "metadata": {},
            "outputs": [],
            "source": [
                "artifact_path = Path('../../artifacts/vdcnn')\n",
                "data_path = Path('../../data') / DATASET_NAME"
            ]
        },
        {
            "cell_type": "code",
            "execution_count": 84,
            "metadata": {},
            "outputs": [],
            "source": [
                "NUM_CLASS = len(AG_NEWS_CLASS_NAMES)"
            ]
        },
        {
            "cell_type": "code",
            "execution_count": 85,
            "metadata": {},
            "outputs": [],
            "source": [
                "CONTEXT = NlpContext(max_seq_len=256)"
            ]
        },
        {
            "cell_type": "code",
            "execution_count": 86,
            "metadata": {},
            "outputs": [],
            "source": [
                "BATCH_SIZE = 128\n",
                "MINIMUM_LENGTH = 5"
            ]
        },
        {
            "cell_type": "code",
            "execution_count": 87,
            "metadata": {},
            "outputs": [],
            "source": [
                "DEVICE = torch.device(CONTEXT.device)"
            ]
        },
        {
            "cell_type": "code",
            "execution_count": 88,
            "metadata": {},
            "outputs": [],
            "source": [
                "def datapipe_factory(\n",
                "    datapipe,\n",
                "    minimum_length: int = 1,\n",
                "    transform=None,\n",
                "):\n",
                "    datapipe = (\n",
                "        datapipe.map(lambda pair: (pair[0], pair[1].strip())) # label, text\n",
                "        .map(lambda pair: (pair[0], pair[1].lower()))\n",
                "        .filter(lambda pair: is_longer_text(pair[1], minimum_length))\n",
                "        .filter(lambda pair: not is_corpus_title(pair[1]))\n",
                "        .map(lambda pair: (pair[0], [*pair[1]])) # label, chars\n",
                "    )  \n",
                "\n",
                "    if transform:\n",
                "        datapipe = datapipe.map(\n",
                "            lambda pair: (\n",
                "                transform(pair[1]),\n",
                "                pair[0] - 1,\n",
                "            )  # tokens, label\n",
                "        )\n",
                "\n",
                "    return datapipe"
            ]
        },
        {
            "cell_type": "code",
            "execution_count": 89,
            "metadata": {},
            "outputs": [],
            "source": [
                "train_datapipe, test_datapipe = AG_NEWS(data_path.as_posix())"
            ]
        },
        {
            "cell_type": "code",
            "execution_count": 90,
            "metadata": {},
            "outputs": [],
            "source": [
                "vocab = build_vocab(\n",
                "    CHARACTERS,\n",
                "    context=NlpContext(min_frequency=0),\n",
                ")"
            ]
        },
        {
            "cell_type": "code",
            "execution_count": 91,
            "metadata": {},
            "outputs": [],
            "source": [
                "VOCAB_SIZE = len(vocab)"
            ]
        },
        {
            "cell_type": "code",
            "execution_count": 92,
            "metadata": {},
            "outputs": [],
            "source": [
                "text_transform = T.Sequential(\n",
                "    T.VocabTransform(vocab),\n",
                "    T.Truncate(CONTEXT.max_seq_len - 2),\n",
                "    T.AddToken(token=CONTEXT.bos_idx, begin=True),\n",
                "    T.AddToken(token=CONTEXT.eos_idx, begin=False),\n",
                "    T.ToTensor(),\n",
                "    T.PadTransform(CONTEXT.max_seq_len, CONTEXT.padding_idx),\n",
                ")"
            ]
        },
        {
            "cell_type": "code",
            "execution_count": 93,
            "metadata": {},
            "outputs": [],
            "source": [
                "train_datapipe = datapipe_factory(\n",
                "    train_datapipe,\n",
                "    MINIMUM_LENGTH,\n",
                "    text_transform,\n",
                ")\n",
                "\n",
                "test_datapipe = datapipe_factory(\n",
                "    test_datapipe,\n",
                "    MINIMUM_LENGTH,\n",
                "    text_transform,\n",
                ")"
            ]
        },
        {
            "cell_type": "code",
            "execution_count": 94,
            "metadata": {},
            "outputs": [
                {
                    "name": "stdout",
                    "output_type": "stream",
                    "text": [
                        "torch.Size([256])\n",
                        "2\n",
                        "torch.Size([256])\n",
                        "2\n",
                        "torch.Size([256])\n",
                        "2\n",
                        "torch.Size([256])\n",
                        "2\n",
                        "torch.Size([256])\n",
                        "2\n",
                        "torch.Size([256])\n",
                        "2\n",
                        "torch.Size([256])\n",
                        "2\n",
                        "torch.Size([256])\n",
                        "2\n",
                        "torch.Size([256])\n",
                        "2\n",
                        "torch.Size([256])\n",
                        "2\n",
                        "torch.Size([256])\n",
                        "2\n",
                        "torch.Size([256])\n",
                        "2\n"
                    ]
                }
            ],
            "source": [
                "count = 0\n",
                "for text, label in train_datapipe:\n",
                "    print(text.shape)\n",
                "    print(label)\n",
                "    if count > 10:\n",
                "        break\n",
                "    count+=1"
            ]
        },
        {
            "cell_type": "code",
            "execution_count": 95,
            "metadata": {},
            "outputs": [],
            "source": [
                "NUM_WORKERS = get_num_workers()"
            ]
        },
        {
            "cell_type": "code",
            "execution_count": 96,
            "metadata": {},
            "outputs": [],
            "source": [
                "train_dataloader = DataLoader(\n",
                "    train_datapipe,\n",
                "    batch_size=BATCH_SIZE,\n",
                "    pin_memory=True,\n",
                "    num_workers=NUM_WORKERS,\n",
                ")\n",
                "\n",
                "test_dataloader = DataLoader(\n",
                "    test_datapipe,\n",
                "    batch_size=BATCH_SIZE,\n",
                "    pin_memory=True,\n",
                "    num_workers=NUM_WORKERS,\n",
                ")"
            ]
        },
        {
            "cell_type": "code",
            "execution_count": 97,
            "metadata": {},
            "outputs": [
                {
                    "name": "stdout",
                    "output_type": "stream",
                    "text": [
                        "torch.Size([128, 256])\n",
                        "torch.Size([128])\n",
                        "torch.Size([128, 256])\n",
                        "torch.Size([128])\n",
                        "torch.Size([128, 256])\n",
                        "torch.Size([128])\n",
                        "torch.Size([128, 256])\n",
                        "torch.Size([128])\n",
                        "torch.Size([128, 256])\n",
                        "torch.Size([128])\n",
                        "torch.Size([128, 256])\n",
                        "torch.Size([128])\n",
                        "torch.Size([128, 256])\n",
                        "torch.Size([128])\n",
                        "torch.Size([128, 256])\n",
                        "torch.Size([128])\n",
                        "torch.Size([128, 256])\n",
                        "torch.Size([128])\n",
                        "torch.Size([128, 256])\n",
                        "torch.Size([128])\n",
                        "torch.Size([128, 256])\n",
                        "torch.Size([128])\n",
                        "torch.Size([128, 256])\n",
                        "torch.Size([128])\n"
                    ]
                }
            ],
            "source": [
                "count = 0\n",
                "for text, label in train_dataloader:\n",
                "    print(text.shape)\n",
                "    print(label.shape)\n",
                "    if count > 10:\n",
                "        break\n",
                "    count+=1"
            ]
        },
        {
            "cell_type": "markdown",
            "metadata": {},
            "source": [
                "# training\n"
            ]
        },
        {
            "cell_type": "code",
            "execution_count": 98,
            "metadata": {},
            "outputs": [],
            "source": [
                "EPOCHS = 10\n",
                "ACC_ITERS = max(1, 32 / BATCH_SIZE)\n",
                "LR = 1e-4"
            ]
        },
        {
            "cell_type": "code",
            "execution_count": 99,
            "metadata": {},
            "outputs": [],
            "source": [
                "trainer = ClassificationTrainer(EPOCHS, DEVICE, ACC_ITERS)"
            ]
        },
        {
            "cell_type": "code",
            "execution_count": 100,
            "metadata": {},
            "outputs": [],
            "source": [
                "model = VDCNN(\n",
                "    VOCAB_SIZE,\n",
                "    NUM_CLASS,\n",
                "    depth_multipier=1,\n",
                "    context=CONTEXT,\n",
                ").to(DEVICE)"
            ]
        },
        {
            "cell_type": "code",
            "execution_count": 101,
            "metadata": {},
            "outputs": [],
            "source": [
                "loss = trainer.get_criterion(NUM_CLASS)\n",
                "optimizer = optim.Adam(model.parameters(), lr=LR)"
            ]
        },
        {
            "cell_type": "code",
            "execution_count": 102,
            "metadata": {},
            "outputs": [
                {
                    "data": {
                        "text/plain": [
                            "======================================================================\n",
                            "Layer (type:depth-idx)                        Param #\n",
                            "======================================================================\n",
                            "Vdcnn                                         --\n",
                            "├─ModuleDict: 1-1                             --\n",
                            "│    └─Embedding: 2-1                         1,152\n",
                            "│    └─Conv1d: 2-2                            3,136\n",
                            "├─Sequential: 1-2                             --\n",
                            "│    └─Block: 2-3                             --\n",
                            "│    │    └─Sequential: 3-1                   24,832\n",
                            "│    │    └─Identity: 3-2                     --\n",
                            "│    └─Block: 2-4                             --\n",
                            "│    │    └─Sequential: 3-3                   24,832\n",
                            "│    │    └─ConvBnRelu: 3-4                   4,224\n",
                            "│    └─Block: 2-5                             --\n",
                            "│    │    └─Sequential: 3-5                   74,240\n",
                            "│    │    └─ConvBnRelu: 3-6                   8,448\n",
                            "│    └─Block: 2-6                             --\n",
                            "│    │    └─Sequential: 3-7                   98,816\n",
                            "│    │    └─ConvBnRelu: 3-8                   16,640\n",
                            "│    └─Block: 2-7                             --\n",
                            "│    │    └─Sequential: 3-9                   295,936\n",
                            "│    │    └─ConvBnRelu: 3-10                  33,280\n",
                            "│    └─Block: 2-8                             --\n",
                            "│    │    └─Sequential: 3-11                  394,240\n",
                            "│    │    └─ConvBnRelu: 3-12                  66,048\n",
                            "│    └─Block: 2-9                             --\n",
                            "│    │    └─Sequential: 3-13                  1,181,696\n",
                            "│    │    └─ConvBnRelu: 3-14                  132,096\n",
                            "│    └─Block: 2-10                            --\n",
                            "│    │    └─Sequential: 3-15                  1,574,912\n",
                            "│    └─KmaxPool1d: 2-11                       --\n",
                            "├─Sequential: 1-3                             --\n",
                            "│    └─Linear: 2-12                           8,390,656\n",
                            "│    └─ReLU: 2-13                             --\n",
                            "│    └─Linear: 2-14                           4,196,352\n",
                            "│    └─ReLU: 2-15                             --\n",
                            "│    └─Linear: 2-16                           8,196\n",
                            "======================================================================\n",
                            "Total params: 16,529,732\n",
                            "Trainable params: 16,529,732\n",
                            "Non-trainable params: 0\n",
                            "======================================================================"
                        ]
                    },
                    "execution_count": 102,
                    "metadata": {},
                    "output_type": "execute_result"
                }
            ],
            "source": [
                "torchinfo.summary(model)"
            ]
        },
        {
            "cell_type": "code",
            "execution_count": 103,
            "metadata": {},
            "outputs": [
                {
                    "name": "stderr",
                    "output_type": "stream",
                    "text": [
                        "938it [00:48, 19.50it/s]\n"
                    ]
                },
                {
                    "name": "stdout",
                    "output_type": "stream",
                    "text": [
                        "epoch 1 : 0.006101254427184661\n"
                    ]
                },
                {
                    "name": "stderr",
                    "output_type": "stream",
                    "text": [
                        "938it [00:51, 18.11it/s]\n"
                    ]
                },
                {
                    "name": "stdout",
                    "output_type": "stream",
                    "text": [
                        "epoch 2 : 0.003551024088387688\n"
                    ]
                },
                {
                    "name": "stderr",
                    "output_type": "stream",
                    "text": [
                        "938it [00:49, 18.93it/s]\n"
                    ]
                },
                {
                    "name": "stdout",
                    "output_type": "stream",
                    "text": [
                        "epoch 3 : 0.00281610206750532\n"
                    ]
                },
                {
                    "name": "stderr",
                    "output_type": "stream",
                    "text": [
                        "938it [00:49, 19.00it/s]\n"
                    ]
                },
                {
                    "name": "stdout",
                    "output_type": "stream",
                    "text": [
                        "epoch 4 : 0.002298118785303086\n"
                    ]
                },
                {
                    "name": "stderr",
                    "output_type": "stream",
                    "text": [
                        "938it [00:45, 20.81it/s]\n"
                    ]
                },
                {
                    "name": "stdout",
                    "output_type": "stream",
                    "text": [
                        "epoch 5 : 0.0018999288585347435\n"
                    ]
                },
                {
                    "name": "stderr",
                    "output_type": "stream",
                    "text": [
                        "938it [00:42, 22.02it/s]\n"
                    ]
                },
                {
                    "name": "stdout",
                    "output_type": "stream",
                    "text": [
                        "epoch 6 : 0.0016046384810780485\n"
                    ]
                },
                {
                    "name": "stderr",
                    "output_type": "stream",
                    "text": [
                        "938it [00:42, 21.98it/s]\n"
                    ]
                },
                {
                    "name": "stdout",
                    "output_type": "stream",
                    "text": [
                        "epoch 7 : 0.0013650515599176287\n"
                    ]
                },
                {
                    "name": "stderr",
                    "output_type": "stream",
                    "text": [
                        "938it [00:42, 22.01it/s]\n"
                    ]
                },
                {
                    "name": "stdout",
                    "output_type": "stream",
                    "text": [
                        "epoch 8 : 0.0011829806957083444\n"
                    ]
                },
                {
                    "name": "stderr",
                    "output_type": "stream",
                    "text": [
                        "938it [00:42, 22.02it/s]\n"
                    ]
                },
                {
                    "name": "stdout",
                    "output_type": "stream",
                    "text": [
                        "epoch 9 : 0.0010264907319331542\n"
                    ]
                },
                {
                    "name": "stderr",
                    "output_type": "stream",
                    "text": [
                        "938it [00:42, 22.07it/s]"
                    ]
                },
                {
                    "name": "stdout",
                    "output_type": "stream",
                    "text": [
                        "epoch 10 : 0.0008902401301272524\n"
                    ]
                },
                {
                    "name": "stderr",
                    "output_type": "stream",
                    "text": [
                        "\n"
                    ]
                }
            ],
            "source": [
                "training_loss = trainer.run(train_dataloader, model, optimizer, loss)"
            ]
        },
        {
            "cell_type": "code",
            "execution_count": 104,
            "metadata": {},
            "outputs": [
                {
                    "data": {
                        "text/plain": [
                            "[<matplotlib.lines.Line2D at 0x2bec9778cd0>]"
                        ]
                    },
                    "execution_count": 104,
                    "metadata": {},
                    "output_type": "execute_result"
                },
                {
                    "data": {
                        "image/png": "[encoded data removed]",
                        "text/plain": [
                            "<Figure size 640x480 with 1 Axes>"
                        ]
                    },
                    "metadata": {},
                    "output_type": "display_data"
                }
            ],
            "source": [
                "plt.plot(training_loss)"
            ]
        },
        {
            "cell_type": "markdown",
            "metadata": {},
            "source": [
                "# Inference"
            ]
        },
        {
            "cell_type": "code",
            "execution_count": 105,
            "metadata": {},
            "outputs": [],
            "source": [
                "evaluator = ClassificationEvaluator(NUM_CLASS, DEVICE, feature_dim=-1)"
            ]
        },
        {
            "cell_type": "code",
            "execution_count": 106,
            "metadata": {},
            "outputs": [
                {
                    "name": "stderr",
                    "output_type": "stream",
                    "text": [
                        "59it [00:01, 31.89it/s]"
                    ]
                },
                {
                    "name": "stdout",
                    "output_type": "stream",
                    "text": [
                        "[[1715   46   49   55]\n",
                        " [  86 1722   23   40]\n",
                        " [ 247   23 1375  238]\n",
                        " [ 186   19  103 1545]]\n"
                    ]
                },
                {
                    "name": "stderr",
                    "output_type": "stream",
                    "text": [
                        "\n"
                    ]
                }
            ],
            "source": [
                "confusion_matrix = evaluator.run(iter(test_dataloader), model)"
            ]
        },
        {
            "cell_type": "code",
            "execution_count": 107,
            "metadata": {},
            "outputs": [
                {
                    "name": "stdout",
                    "output_type": "stream",
                    "text": [
                        "world     : 0.9195710455764075\n",
                        "sports    : 0.9203634420096205\n",
                        "business  : 0.7302177376526819\n",
                        "science   : 0.8337830545062062\n"
                    ]
                }
            ],
            "source": [
                "per_class_acc = evaluator.get_per_class_accuracy(confusion_matrix)\n",
                "evaluator.show_per_class_accuracy(AG_NEWS_CLASS_NAMES, per_class_acc)"
            ]
        },
        {
            "cell_type": "code",
            "execution_count": 108,
            "metadata": {},
            "outputs": [
                {
                    "data": {
                        "text/plain": [
                            "0.850983819936229"
                        ]
                    },
                    "execution_count": 108,
                    "metadata": {},
                    "output_type": "execute_result"
                }
            ],
            "source": [
                "per_class_acc.mean()"
            ]
        },
        {
            "cell_type": "code",
            "execution_count": 109,
            "metadata": {},
            "outputs": [
                {
                    "data": {
                        "image/png": "[encoded data removed]",
                        "text/plain": [
                            "<Figure size 600x400 with 2 Axes>"
                        ]
                    },
                    "metadata": {},
                    "output_type": "display_data"
                }
            ],
            "source": [
                "evaluator.plot_confusion_matrix(\n",
                "    confusion_matrix,\n",
                "    AG_NEWS_CLASS_NAMES,\n",
                "    \"Blues\",\n",
                "    annot=True,\n",
                "    figsize=(6, 4),\n",
                ")"
            ]
        },
        {
            "cell_type": "markdown",
            "metadata": {},
            "source": [
                "# File\n"
            ]
        },
        {
            "cell_type": "code",
            "execution_count": 110,
            "metadata": {},
            "outputs": [],
            "source": [
                "model_path = artifact_path / \"vdcnn.pth\""
            ]
        },
        {
            "cell_type": "code",
            "execution_count": 111,
            "metadata": {},
            "outputs": [],
            "source": [
                "torch.save(model.state_dict(), model_path)"
            ]
        },
        {
            "cell_type": "code",
            "execution_count": 112,
            "metadata": {},
            "outputs": [
                {
                    "data": {
                        "text/plain": [
                            "'63.14MB'"
                        ]
                    },
                    "execution_count": 112,
                    "metadata": {},
                    "output_type": "execute_result"
                }
            ],
            "source": [
                "get_file_size(model_path)"
            ]
        },
        {
            "cell_type": "code",
            "execution_count": 113,
            "metadata": {},
            "outputs": [
                {
                    "data": {
                        "text/plain": [
                            "<All keys matched successfully>"
                        ]
                    },
                    "execution_count": 113,
                    "metadata": {},
                    "output_type": "execute_result"
                }
            ],
            "source": [
                "model.load_state_dict(torch.load(model_path.as_posix()))"
            ]
        }
    ],
    "metadata": {
        "kernelspec": {
            "display_name": ".venv",
            "language": "python",
            "name": "python3"
        },
        "language_info": {
            "codemirror_mode": {
                "name": "ipython",
                "version": 3
            },
            "file_extension": ".py",
            "mimetype": "text/x-python",
            "name": "python",
            "nbconvert_exporter": "python",
            "pygments_lexer": "ipython3",
            "version": "3.11.4"
        }
    },
    "nbformat": 4,
    "nbformat_minor": 2
}