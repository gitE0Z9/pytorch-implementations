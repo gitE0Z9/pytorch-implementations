{
    "cells": [
        {
            "cell_type": "code",
            "execution_count": 12,
            "metadata": {},
            "outputs": [],
            "source": [
                "from pathlib import Path\n",
                "\n",
                "import matplotlib.pyplot as plt\n",
                "import torch\n",
                "import torchinfo\n",
                "import torchvision\n",
                "from torch.utils.data import DataLoader\n",
                "from torchlake.common.constants import IMAGENET_MEAN, IMAGENET_STD\n",
                "from torchlake.common.controller.trainer import ClassificationTrainer\n",
                "from torchlake.common.controller.evaluator import ClassificationEvaluator\n",
                "from torchlake.common.utils.platform import get_num_workers, get_file_size\n",
                "from torchlake.image_classification.models.cbam import CBAMResNet\n",
                "from torchvision import transforms"
            ]
        },
        {
            "cell_type": "markdown",
            "metadata": {},
            "source": [
                "# Setting"
            ]
        },
        {
            "cell_type": "code",
            "execution_count": 2,
            "metadata": {},
            "outputs": [],
            "source": [
                "IMAGE_SIZE = 224\n",
                "BATCH_SIZE = 16"
            ]
        },
        {
            "cell_type": "code",
            "execution_count": 4,
            "metadata": {},
            "outputs": [],
            "source": [
                "artifact_path = Path(\"../../artifacts/cbam\")\n",
                "data_path = Path(\"../../data/animal10\")"
            ]
        },
        {
            "cell_type": "code",
            "execution_count": 5,
            "metadata": {},
            "outputs": [],
            "source": [
                "device = torch.device(\"cuda:0\")"
            ]
        },
        {
            "cell_type": "markdown",
            "metadata": {},
            "source": [
                "# data"
            ]
        },
        {
            "cell_type": "code",
            "execution_count": 6,
            "metadata": {},
            "outputs": [],
            "source": [
                "preprocess = transforms.Compose(\n",
                "    [\n",
                "        transforms.RandomHorizontalFlip(),\n",
                "        transforms.ColorJitter(),\n",
                "        transforms.Resize((IMAGE_SIZE, IMAGE_SIZE)),\n",
                "        transforms.ToTensor(),\n",
                "        transforms.Normalize(IMAGENET_MEAN, IMAGENET_STD),\n",
                "    ]\n",
                ")"
            ]
        },
        {
            "cell_type": "code",
            "execution_count": 7,
            "metadata": {},
            "outputs": [],
            "source": [
                "dataset = torchvision.datasets.ImageFolder(\n",
                "    data_path.as_posix(),\n",
                "    transform=preprocess,\n",
                ")"
            ]
        },
        {
            "cell_type": "code",
            "execution_count": 8,
            "metadata": {},
            "outputs": [],
            "source": [
                "train_loader = DataLoader(\n",
                "    dataset,\n",
                "    batch_size=BATCH_SIZE,\n",
                "    shuffle=True,\n",
                "    drop_last=True,\n",
                "    pin_memory=True,\n",
                "    num_workers=get_num_workers(),\n",
                ")"
            ]
        },
        {
            "cell_type": "code",
            "execution_count": 9,
            "metadata": {},
            "outputs": [],
            "source": [
                "num_class = len(dataset.classes)"
            ]
        },
        {
            "cell_type": "markdown",
            "metadata": {},
            "source": [
                "# model"
            ]
        },
        {
            "cell_type": "code",
            "execution_count": 10,
            "metadata": {},
            "outputs": [],
            "source": [
                "model = CBAMResNet(output_size=num_class, key=50).to(device)"
            ]
        },
        {
            "cell_type": "code",
            "execution_count": 11,
            "metadata": {},
            "outputs": [
                {
                    "data": {
                        "text/plain": [
                            "=====================================================================================\n",
                            "Layer (type:depth-idx)                                       Param #\n",
                            "=====================================================================================\n",
                            "CbamResNet                                                   --\n",
                            "├─Sequential: 1-1                                            --\n",
                            "│    └─ConvBnRelu: 2-1                                       --\n",
                            "│    │    └─Conv2d: 3-1                                      9,408\n",
                            "│    │    └─BatchNorm2d: 3-2                                 128\n",
                            "│    │    └─ReLU: 3-3                                        --\n",
                            "│    └─MaxPool2d: 2-2                                        --\n",
                            "├─Sequential: 1-2                                            --\n",
                            "│    └─ResBlock: 2-3                                         --\n",
                            "│    │    └─BottleNeck: 3-4                                  66,675\n",
                            "│    │    └─ConvBnRelu: 3-5                                  16,896\n",
                            "│    └─ResBlock: 2-4                                         --\n",
                            "│    │    └─BottleNeck: 3-6                                  78,963\n",
                            "│    │    └─Identity: 3-7                                    --\n",
                            "│    └─ResBlock: 2-5                                         --\n",
                            "│    │    └─BottleNeck: 3-8                                  78,963\n",
                            "│    │    └─Identity: 3-9                                    --\n",
                            "├─Sequential: 1-3                                            --\n",
                            "│    └─ResBlock: 2-6                                         --\n",
                            "│    │    └─BottleNeck: 3-10                                 280,707\n",
                            "│    │    └─ConvBnRelu: 3-11                                 132,096\n",
                            "│    └─ResBlock: 2-7                                         --\n",
                            "│    │    └─BottleNeck: 3-12                                 313,475\n",
                            "│    │    └─Identity: 3-13                                   --\n",
                            "│    └─ResBlock: 2-8                                         --\n",
                            "│    │    └─BottleNeck: 3-14                                 313,475\n",
                            "│    │    └─Identity: 3-15                                   --\n",
                            "│    └─ResBlock: 2-9                                         --\n",
                            "│    │    └─BottleNeck: 3-16                                 313,475\n",
                            "│    │    └─Identity: 3-17                                   --\n",
                            "│    └─MaxPool2d: 2-10                                       --\n",
                            "├─Sequential: 1-4                                            --\n",
                            "│    └─ResBlock: 2-11                                        --\n",
                            "│    │    └─BottleNeck: 3-18                                 1,118,371\n",
                            "│    │    └─ConvBnRelu: 3-19                                 526,336\n",
                            "│    └─ResBlock: 2-12                                        --\n",
                            "│    │    └─BottleNeck: 3-20                                 1,249,443\n",
                            "│    │    └─Identity: 3-21                                   --\n",
                            "│    └─ResBlock: 2-13                                        --\n",
                            "│    │    └─BottleNeck: 3-22                                 1,249,443\n",
                            "│    │    └─Identity: 3-23                                   --\n",
                            "│    └─ResBlock: 2-14                                        --\n",
                            "│    │    └─BottleNeck: 3-24                                 1,249,443\n",
                            "│    │    └─Identity: 3-25                                   --\n",
                            "│    └─ResBlock: 2-15                                        --\n",
                            "│    │    └─BottleNeck: 3-26                                 1,249,443\n",
                            "│    │    └─Identity: 3-27                                   --\n",
                            "│    └─ResBlock: 2-16                                        --\n",
                            "│    │    └─BottleNeck: 3-28                                 1,249,443\n",
                            "│    │    └─Identity: 3-29                                   --\n",
                            "│    └─MaxPool2d: 2-17                                       --\n",
                            "├─Sequential: 1-5                                            --\n",
                            "│    └─ResBlock: 2-18                                        --\n",
                            "│    │    └─BottleNeck: 3-30                                 4,464,867\n",
                            "│    │    └─ConvBnRelu: 3-31                                 2,101,248\n",
                            "│    └─ResBlock: 2-19                                        --\n",
                            "│    │    └─BottleNeck: 3-32                                 4,989,155\n",
                            "│    │    └─Identity: 3-33                                   --\n",
                            "│    └─ResBlock: 2-20                                        --\n",
                            "│    │    └─BottleNeck: 3-34                                 4,989,155\n",
                            "│    │    └─Identity: 3-35                                   --\n",
                            "├─Sequential: 1-6                                            --\n",
                            "│    └─AdaptiveAvgPool2d: 2-21                               --\n",
                            "│    └─Flatten: 2-22                                         --\n",
                            "├─Linear: 1-7                                                20,490\n",
                            "=====================================================================================\n",
                            "Total params: 26,061,098\n",
                            "Trainable params: 26,061,098\n",
                            "Non-trainable params: 0\n",
                            "====================================================================================="
                        ]
                    },
                    "execution_count": 11,
                    "metadata": {},
                    "output_type": "execute_result"
                }
            ],
            "source": [
                "torchinfo.summary(model)"
            ]
        },
        {
            "cell_type": "markdown",
            "metadata": {},
            "source": [
                "# training"
            ]
        },
        {
            "cell_type": "code",
            "execution_count": 14,
            "metadata": {},
            "outputs": [],
            "source": [
                "epochs = 10\n",
                "acc_iters = 64 // BATCH_SIZE"
            ]
        },
        {
            "cell_type": "code",
            "execution_count": 15,
            "metadata": {},
            "outputs": [],
            "source": [
                "trainer = ClassificationTrainer(epochs, device, acc_iters)"
            ]
        },
        {
            "cell_type": "code",
            "execution_count": 17,
            "metadata": {},
            "outputs": [],
            "source": [
                "criterion = trainer.get_criterion(num_class)\n",
                "optim = torch.optim.Adam(model.parameters(), weight_decay=1e-5)"
            ]
        },
        {
            "cell_type": "code",
            "execution_count": 18,
            "metadata": {},
            "outputs": [
                {
                    "name": "stderr",
                    "output_type": "stream",
                    "text": [
                        "100%|██████████| 1636/1636 [19:25<00:00,  1.40it/s]\n"
                    ]
                },
                {
                    "name": "stdout",
                    "output_type": "stream",
                    "text": [
                        "epoch 1 : 0.025301675313359587\n"
                    ]
                },
                {
                    "name": "stderr",
                    "output_type": "stream",
                    "text": [
                        "100%|██████████| 1636/1636 [07:50<00:00,  3.48it/s]\n"
                    ]
                },
                {
                    "name": "stdout",
                    "output_type": "stream",
                    "text": [
                        "epoch 2 : 0.018290914501482507\n"
                    ]
                },
                {
                    "name": "stderr",
                    "output_type": "stream",
                    "text": [
                        "100%|██████████| 1636/1636 [07:56<00:00,  3.43it/s]\n"
                    ]
                },
                {
                    "name": "stdout",
                    "output_type": "stream",
                    "text": [
                        "epoch 3 : 0.015131842359800283\n"
                    ]
                },
                {
                    "name": "stderr",
                    "output_type": "stream",
                    "text": [
                        "100%|██████████| 1636/1636 [07:50<00:00,  3.48it/s]\n"
                    ]
                },
                {
                    "name": "stdout",
                    "output_type": "stream",
                    "text": [
                        "epoch 4 : 0.013030196234360702\n"
                    ]
                },
                {
                    "name": "stderr",
                    "output_type": "stream",
                    "text": [
                        "100%|██████████| 1636/1636 [07:45<00:00,  3.51it/s]\n"
                    ]
                },
                {
                    "name": "stdout",
                    "output_type": "stream",
                    "text": [
                        "epoch 5 : 0.011587034727328327\n"
                    ]
                },
                {
                    "name": "stderr",
                    "output_type": "stream",
                    "text": [
                        "100%|██████████| 1636/1636 [07:18<00:00,  3.73it/s]\n"
                    ]
                },
                {
                    "name": "stdout",
                    "output_type": "stream",
                    "text": [
                        "epoch 6 : 0.01046729177197562\n"
                    ]
                },
                {
                    "name": "stderr",
                    "output_type": "stream",
                    "text": [
                        "100%|██████████| 1636/1636 [07:19<00:00,  3.72it/s]\n"
                    ]
                },
                {
                    "name": "stdout",
                    "output_type": "stream",
                    "text": [
                        "epoch 7 : 0.009514206620704607\n"
                    ]
                },
                {
                    "name": "stderr",
                    "output_type": "stream",
                    "text": [
                        "100%|██████████| 1636/1636 [07:19<00:00,  3.72it/s]\n"
                    ]
                },
                {
                    "name": "stdout",
                    "output_type": "stream",
                    "text": [
                        "epoch 8 : 0.008913610624352955\n"
                    ]
                },
                {
                    "name": "stderr",
                    "output_type": "stream",
                    "text": [
                        "100%|██████████| 1636/1636 [07:28<00:00,  3.65it/s]\n"
                    ]
                },
                {
                    "name": "stdout",
                    "output_type": "stream",
                    "text": [
                        "epoch 9 : 0.008097603047742796\n"
                    ]
                },
                {
                    "name": "stderr",
                    "output_type": "stream",
                    "text": [
                        "100%|██████████| 1636/1636 [07:25<00:00,  3.67it/s]"
                    ]
                },
                {
                    "name": "stdout",
                    "output_type": "stream",
                    "text": [
                        "epoch 10 : 0.0073800331222946295\n"
                    ]
                },
                {
                    "name": "stderr",
                    "output_type": "stream",
                    "text": [
                        "\n"
                    ]
                }
            ],
            "source": [
                "training_loss = trainer.run(train_loader, model, optim, criterion)"
            ]
        },
        {
            "cell_type": "code",
            "execution_count": 19,
            "metadata": {},
            "outputs": [
                {
                    "data": {
                        "text/plain": [
                            "[<matplotlib.lines.Line2D at 0x27d32623fd0>]"
                        ]
                    },
                    "execution_count": 19,
                    "metadata": {},
                    "output_type": "execute_result"
                },
                {
                    "data": {
                        "image/png": "[encoded data removed]",
                        "text/plain": [
                            "<Figure size 640x480 with 1 Axes>"
                        ]
                    },
                    "metadata": {},
                    "output_type": "display_data"
                }
            ],
            "source": [
                "plt.plot(training_loss)"
            ]
        },
        {
            "cell_type": "markdown",
            "metadata": {},
            "source": [
                "# inference"
            ]
        },
        {
            "cell_type": "code",
            "execution_count": 20,
            "metadata": {},
            "outputs": [],
            "source": [
                "test_preprocess = transforms.Compose([\n",
                "    transforms.Resize((IMAGE_SIZE, IMAGE_SIZE)),\n",
                "    transforms.ToTensor(),\n",
                "    transforms.Normalize(IMAGENET_MEAN, IMAGENET_STD),\n",
                "])"
            ]
        },
        {
            "cell_type": "code",
            "execution_count": 21,
            "metadata": {},
            "outputs": [],
            "source": [
                "test_dataset = torchvision.datasets.ImageFolder(\n",
                "    data_path.as_posix(),\n",
                "    transform=test_preprocess,\n",
                ")"
            ]
        },
        {
            "cell_type": "code",
            "execution_count": 22,
            "metadata": {},
            "outputs": [],
            "source": [
                "test_loader = DataLoader(\n",
                "    test_dataset,\n",
                "    batch_size=BATCH_SIZE,\n",
                "    pin_memory=True,\n",
                "    num_workers=get_num_workers(),\n",
                ")"
            ]
        },
        {
            "cell_type": "code",
            "execution_count": 23,
            "metadata": {},
            "outputs": [],
            "source": [
                "evaluator = ClassificationEvaluator(num_class, device)"
            ]
        },
        {
            "cell_type": "code",
            "execution_count": 24,
            "metadata": {},
            "outputs": [
                {
                    "name": "stderr",
                    "output_type": "stream",
                    "text": [
                        "100%|██████████| 1637/1637 [02:46<00:00,  9.84it/s]"
                    ]
                },
                {
                    "name": "stdout",
                    "output_type": "stream",
                    "text": [
                        "[[4382  155   29   19   40   24   57   46   62   49]\n",
                        " [ 111 2306   24    7   24    1  100   27   14    9]\n",
                        " [  57   37 1238    5   10    0   41   26   13   19]\n",
                        " [  16    7    7 1919    3    0    5    3  130   22]\n",
                        " [ 100   23   12   26 2836    6    7   18   47   23]\n",
                        " [ 381   16   12   29   16  980    9   22   89  114]\n",
                        " [ 119  149   15    1   20    2 1471   74    6    9]\n",
                        " [ 106   35   18    6   30    3  141 1449   17   15]\n",
                        " [  35   10    5  147    9    2    5    9 4568   31]\n",
                        " [  66    9   10   10   23    7    1   31   66 1639]]\n"
                    ]
                },
                {
                    "name": "stderr",
                    "output_type": "stream",
                    "text": [
                        "\n"
                    ]
                }
            ],
            "source": [
                "confusion_matrix = evaluator.run(test_loader, model)"
            ]
        },
        {
            "cell_type": "code",
            "execution_count": 25,
            "metadata": {},
            "outputs": [
                {
                    "name": "stdout",
                    "output_type": "stream",
                    "text": [
                        "cane      : 0.901089862224964\n",
                        "cavallo   : 0.8791460160121998\n",
                        "elefante  : 0.8561549100968188\n",
                        "farfalla  : 0.9086174242424242\n",
                        "gallina   : 0.9154293092317625\n",
                        "gatto     : 0.5875299760191847\n",
                        "mucca     : 0.7883172561629154\n",
                        "pecora    : 0.7961538461538461\n",
                        "ragno     : 0.9475212611491391\n",
                        "scoiattolo: 0.8802363050483352\n"
                    ]
                }
            ],
            "source": [
                "per_class_acc = evaluator.get_per_class_accuracy(confusion_matrix)\n",
                "evaluator.show_per_class_accuracy(test_dataset.classes, per_class_acc)"
            ]
        },
        {
            "cell_type": "code",
            "execution_count": 26,
            "metadata": {},
            "outputs": [
                {
                    "data": {
                        "text/plain": [
                            "0.8460196166341589"
                        ]
                    },
                    "execution_count": 26,
                    "metadata": {},
                    "output_type": "execute_result"
                }
            ],
            "source": [
                "per_class_acc.mean()"
            ]
        },
        {
            "cell_type": "code",
            "execution_count": 27,
            "metadata": {},
            "outputs": [
                {
                    "data": {
                        "image/png": "[encoded data removed]",
                        "text/plain": [
                            "<Figure size 600x400 with 2 Axes>"
                        ]
                    },
                    "metadata": {},
                    "output_type": "display_data"
                }
            ],
            "source": [
                "evaluator.plot_confusion_matrix(\n",
                "    confusion_matrix,\n",
                "    test_dataset.classes,\n",
                "    \"Blues\",\n",
                "    annot=False,\n",
                "    figsize=(6, 4),\n",
                ")"
            ]
        },
        {
            "cell_type": "code",
            "execution_count": 28,
            "metadata": {},
            "outputs": [],
            "source": [
                "model_path = artifact_path / 'cbam-resnet50.pth'"
            ]
        },
        {
            "cell_type": "code",
            "execution_count": 29,
            "metadata": {},
            "outputs": [],
            "source": [
                "torch.save(model.state_dict(), model_path)"
            ]
        },
        {
            "cell_type": "code",
            "execution_count": 30,
            "metadata": {},
            "outputs": [
                {
                    "data": {
                        "text/plain": [
                            "'99.77MB'"
                        ]
                    },
                    "execution_count": 30,
                    "metadata": {},
                    "output_type": "execute_result"
                }
            ],
            "source": [
                "get_file_size(model_path)"
            ]
        },
        {
            "cell_type": "code",
            "execution_count": 31,
            "metadata": {},
            "outputs": [
                {
                    "data": {
                        "text/plain": [
                            "<All keys matched successfully>"
                        ]
                    },
                    "execution_count": 31,
                    "metadata": {},
                    "output_type": "execute_result"
                }
            ],
            "source": [
                "model.load_state_dict(torch.load(model_path.as_posix()))"
            ]
        },
        {
            "cell_type": "code",
            "execution_count": null,
            "metadata": {},
            "outputs": [],
            "source": []
        }
    ],
    "metadata": {
        "kernelspec": {
            "display_name": "Python 3.11.4 ('pytorch_implementation-d01dM_ad')",
            "language": "python",
            "name": "python3"
        },
        "language_info": {
            "codemirror_mode": {
                "name": "ipython",
                "version": 3
            },
            "file_extension": ".py",
            "mimetype": "text/x-python",
            "name": "python",
            "nbconvert_exporter": "python",
            "pygments_lexer": "ipython3",
            "version": "3.11.4"
        },
        "vscode": {
            "interpreter": {
                "hash": "e9a0f5bc210cc2fd6db4126ab49b4d48087584897d11cdd399640c3fb0a9b61d"
            }
        }
    },
    "nbformat": 4,
    "nbformat_minor": 2
}