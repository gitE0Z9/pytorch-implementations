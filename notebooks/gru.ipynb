{
    "cells": [
        {
            "cell_type": "code",
            "execution_count": 1,
            "metadata": {},
            "outputs": [],
            "source": [
                "from pathlib import Path\n",
                "\n",
                "import matplotlib.pyplot as plt\n",
                "import torch\n",
                "import torchinfo\n",
                "import torchtext\n",
                "import torchtext.transforms as T\n",
                "from torch.utils.data import DataLoader\n",
                "from torchlake.common.controller.evaluator import ClassificationEvaluator\n",
                "from torchlake.common.controller.trainer import ClassificationTrainer\n",
                "from torchlake.common.schemas import NlpContext\n",
                "from torchlake.common.utils.platform import get_file_size, get_num_workers\n",
                "from torchlake.common.utils.text import build_vocab, is_longer_text\n",
                "from torchlake.sequence_data.models.gru import GRUDiscriminator\n",
                "from torchlake.text_classification.datasets.ag_news.constants import \\\n",
                "    CLASS_NAMES\n",
                "from torchtext.data.utils import get_tokenizer\n",
                "from torchtext.datasets import AG_NEWS"
            ]
        },
        {
            "cell_type": "code",
            "execution_count": 2,
            "metadata": {},
            "outputs": [
                {
                    "data": {
                        "text/plain": [
                            "'2.1.0+cu118'"
                        ]
                    },
                    "execution_count": 2,
                    "metadata": {},
                    "output_type": "execute_result"
                }
            ],
            "source": [
                "torch.__version__"
            ]
        },
        {
            "cell_type": "code",
            "execution_count": 3,
            "metadata": {},
            "outputs": [
                {
                    "data": {
                        "text/plain": [
                            "'0.16.0+cpu'"
                        ]
                    },
                    "execution_count": 3,
                    "metadata": {},
                    "output_type": "execute_result"
                }
            ],
            "source": [
                "torchtext.__version__"
            ]
        },
        {
            "cell_type": "markdown",
            "metadata": {},
            "source": [
                "# setting\n"
            ]
        },
        {
            "cell_type": "code",
            "execution_count": 4,
            "metadata": {},
            "outputs": [],
            "source": [
                "batch_size = 512\n",
                "context = NlpContext()"
            ]
        },
        {
            "cell_type": "code",
            "execution_count": 5,
            "metadata": {},
            "outputs": [],
            "source": [
                "tokenizer = get_tokenizer(\"basic_english\")"
            ]
        },
        {
            "cell_type": "code",
            "execution_count": 6,
            "metadata": {},
            "outputs": [],
            "source": [
                "artifact_path = Path(\"../../artifacts/gru\")\n",
                "dataset_path = Path(\"../../data/AGNews\")"
            ]
        },
        {
            "cell_type": "code",
            "execution_count": 7,
            "metadata": {},
            "outputs": [],
            "source": [
                "DEVICE = torch.device(context.device)"
            ]
        },
        {
            "cell_type": "markdown",
            "metadata": {},
            "source": [
                "# dataset\n"
            ]
        },
        {
            "cell_type": "code",
            "execution_count": 8,
            "metadata": {},
            "outputs": [],
            "source": [
                "NUM_CLASS = len(CLASS_NAMES)"
            ]
        },
        {
            "cell_type": "code",
            "execution_count": 9,
            "metadata": {},
            "outputs": [],
            "source": [
                "MINIMUM_LENGTH = 5"
            ]
        },
        {
            "cell_type": "code",
            "execution_count": 10,
            "metadata": {},
            "outputs": [],
            "source": [
                "def datapipe_factory(\n",
                "    datapipe,\n",
                "    minimum_length: int = 1,\n",
                "    transform=None,\n",
                "):\n",
                "    datapipe = (\n",
                "        datapipe\n",
                "            .map(lambda pair: (pair[1], pair[0])) # label, text -> text, label\n",
                "            .map(lambda pair: (pair[0], pair[1]-1))\n",
                "            .map(lambda pair: (pair[0].strip(), pair[1]))\n",
                "            .map(lambda pair: (pair[0].lower(), pair[1]))\n",
                "            .filter(lambda pair: is_longer_text(pair[0], minimum_length))\n",
                "            .map(\n",
                "                lambda pair: (tokenizer(pair[0]), pair[1])\n",
                "            )\n",
                "    )\n",
                "\n",
                "    if transform:\n",
                "        datapipe = datapipe.map(lambda item: (transform(item[0]), item[1]))\n",
                "\n",
                "    return datapipe"
            ]
        },
        {
            "cell_type": "code",
            "execution_count": 11,
            "metadata": {},
            "outputs": [],
            "source": [
                "train_datapipe, test_datapipe = AG_NEWS(dataset_path.as_posix())"
            ]
        },
        {
            "cell_type": "code",
            "execution_count": 12,
            "metadata": {},
            "outputs": [
                {
                    "name": "stderr",
                    "output_type": "stream",
                    "text": [
                        "d:\\research\\pytorch-implementations\\.venv\\Lib\\site-packages\\torch\\utils\\data\\datapipes\\utils\\common.py:141: UserWarning: Local function is not supported by pickle, please use regular python function or functools.partial instead.\n",
                        "  warnings.warn(\n"
                    ]
                }
            ],
            "source": [
                "vocab = build_vocab(map(lambda x: x[0], datapipe_factory(train_datapipe)))"
            ]
        },
        {
            "cell_type": "code",
            "execution_count": 13,
            "metadata": {},
            "outputs": [
                {
                    "data": {
                        "text/plain": [
                            "30335"
                        ]
                    },
                    "execution_count": 13,
                    "metadata": {},
                    "output_type": "execute_result"
                }
            ],
            "source": [
                "VOCAB_SIZE = len(vocab)\n",
                "VOCAB_SIZE"
            ]
        },
        {
            "cell_type": "code",
            "execution_count": 14,
            "metadata": {},
            "outputs": [],
            "source": [
                "text_transform = T.Sequential(\n",
                "    T.VocabTransform(vocab),\n",
                "    # T.Truncate(context.max_seq_len - 2),\n",
                "    # T.AddToken(token=context.bos_idx, begin=True),\n",
                "    # T.AddToken(token=context.eos_idx, begin=False),\n",
                "    T.ToTensor(),\n",
                "    T.PadTransform(context.max_seq_len, context.padding_idx),\n",
                ")"
            ]
        },
        {
            "cell_type": "code",
            "execution_count": 15,
            "metadata": {},
            "outputs": [],
            "source": [
                "train_datapipe = datapipe_factory(\n",
                "    train_datapipe,\n",
                "    minimum_length=MINIMUM_LENGTH,\n",
                "    transform=text_transform,\n",
                ")\n",
                "\n",
                "test_datapipe = datapipe_factory(\n",
                "    test_datapipe,\n",
                "    minimum_length=MINIMUM_LENGTH,\n",
                "    transform=text_transform,\n",
                ")"
            ]
        },
        {
            "cell_type": "code",
            "execution_count": 16,
            "metadata": {},
            "outputs": [
                {
                    "name": "stdout",
                    "output_type": "stream",
                    "text": [
                        "torch.Size([256])\n",
                        "2\n"
                    ]
                }
            ],
            "source": [
                "for text, label in train_datapipe:\n",
                "    print(text.shape)\n",
                "    print(label)\n",
                "    break"
            ]
        },
        {
            "cell_type": "code",
            "execution_count": 17,
            "metadata": {},
            "outputs": [],
            "source": [
                "NUM_WORKERS = get_num_workers()"
            ]
        },
        {
            "cell_type": "code",
            "execution_count": 18,
            "metadata": {},
            "outputs": [],
            "source": [
                "def collate_fn(batch: list):\n",
                "    text_placeholder, label_placeholder = [], []\n",
                "    for text, label in batch:\n",
                "        text_placeholder.append(text)\n",
                "        label_placeholder.append(label)\n",
                "\n",
                "    return torch.stack(text_placeholder), torch.LongTensor(label_placeholder)"
            ]
        },
        {
            "cell_type": "code",
            "execution_count": 19,
            "metadata": {},
            "outputs": [],
            "source": [
                "train_dataloader = DataLoader(\n",
                "    train_datapipe,\n",
                "    batch_size=batch_size,\n",
                "    num_workers=NUM_WORKERS,\n",
                "    collate_fn=collate_fn,\n",
                "    shuffle=True,\n",
                ")\n",
                "\n",
                "test_dataloader = DataLoader(\n",
                "    test_datapipe,\n",
                "    batch_size=batch_size,\n",
                "    num_workers=NUM_WORKERS,\n",
                "    collate_fn=collate_fn,\n",
                ")"
            ]
        },
        {
            "cell_type": "code",
            "execution_count": 20,
            "metadata": {},
            "outputs": [
                {
                    "name": "stderr",
                    "output_type": "stream",
                    "text": [
                        "d:\\research\\pytorch-implementations\\.venv\\Lib\\site-packages\\torch\\utils\\data\\datapipes\\iter\\combining.py:333: UserWarning: Some child DataPipes are not exhausted when __iter__ is called. We are resetting the buffer and each child DataPipe will read from the start again.\n",
                        "  warnings.warn(\"Some child DataPipes are not exhausted when __iter__ is called. We are resetting \"\n"
                    ]
                },
                {
                    "name": "stdout",
                    "output_type": "stream",
                    "text": [
                        "torch.Size([512, 256]) torch.Size([512])\n"
                    ]
                }
            ],
            "source": [
                "for text, label in train_dataloader:\n",
                "    print(text.shape, label.shape)\n",
                "    break"
            ]
        },
        {
            "cell_type": "markdown",
            "metadata": {},
            "source": [
                "# model\n"
            ]
        },
        {
            "cell_type": "code",
            "execution_count": 21,
            "metadata": {},
            "outputs": [],
            "source": [
                "EMBED_DIM = 256\n",
                "HIDDEN_DIM = 256\n",
                "model = GRUDiscriminator(\n",
                "    VOCAB_SIZE,\n",
                "    EMBED_DIM,\n",
                "    HIDDEN_DIM,\n",
                "    NUM_CLASS,\n",
                "    num_layers=1,\n",
                "    context=context,\n",
                ").to(DEVICE)"
            ]
        },
        {
            "cell_type": "code",
            "execution_count": 22,
            "metadata": {},
            "outputs": [
                {
                    "data": {
                        "text/plain": [
                            "=================================================================\n",
                            "Layer (type:depth-idx)                   Param #\n",
                            "=================================================================\n",
                            "GRUDiscriminator                         --\n",
                            "├─Embedding: 1-1                         7,765,760\n",
                            "├─GRU: 1-2                               394,752\n",
                            "├─LayerNorm: 1-3                         512\n",
                            "├─Linear: 1-4                            1,028\n",
                            "=================================================================\n",
                            "Total params: 8,162,052\n",
                            "Trainable params: 8,162,052\n",
                            "Non-trainable params: 0\n",
                            "================================================================="
                        ]
                    },
                    "execution_count": 22,
                    "metadata": {},
                    "output_type": "execute_result"
                }
            ],
            "source": [
                "torchinfo.summary(model)"
            ]
        },
        {
            "cell_type": "code",
            "execution_count": 23,
            "metadata": {},
            "outputs": [],
            "source": [
                "EPOCHS = 10"
            ]
        },
        {
            "cell_type": "code",
            "execution_count": 24,
            "metadata": {},
            "outputs": [],
            "source": [
                "trainer = ClassificationTrainer(EPOCHS, DEVICE, feature_last=True)"
            ]
        },
        {
            "cell_type": "code",
            "execution_count": 25,
            "metadata": {},
            "outputs": [],
            "source": [
                "criterion = trainer.get_criterion(NUM_CLASS)\n",
                "optimizer = torch.optim.Adam(model.parameters(), lr=1e-3)"
            ]
        },
        {
            "cell_type": "code",
            "execution_count": 26,
            "metadata": {},
            "outputs": [],
            "source": [
                "scheduler = torch.optim.lr_scheduler.ReduceLROnPlateau(optimizer, 'min', patience=2, threshold=.05 ,threshold_mode ='rel')"
            ]
        },
        {
            "cell_type": "code",
            "execution_count": 27,
            "metadata": {},
            "outputs": [
                {
                    "name": "stderr",
                    "output_type": "stream",
                    "text": [
                        "235it [00:28,  8.20it/s]\n"
                    ]
                },
                {
                    "name": "stdout",
                    "output_type": "stream",
                    "text": [
                        "epoch 1 : 0.2852810105110737\n"
                    ]
                },
                {
                    "name": "stderr",
                    "output_type": "stream",
                    "text": [
                        "235it [00:29,  8.02it/s]\n"
                    ]
                },
                {
                    "name": "stdout",
                    "output_type": "stream",
                    "text": [
                        "epoch 2 : 0.13263814202014437\n"
                    ]
                },
                {
                    "name": "stderr",
                    "output_type": "stream",
                    "text": [
                        "235it [00:29,  7.99it/s]\n"
                    ]
                },
                {
                    "name": "stdout",
                    "output_type": "stream",
                    "text": [
                        "epoch 3 : 0.09994190522330873\n"
                    ]
                },
                {
                    "name": "stderr",
                    "output_type": "stream",
                    "text": [
                        "235it [00:27,  8.53it/s]\n"
                    ]
                },
                {
                    "name": "stdout",
                    "output_type": "stream",
                    "text": [
                        "epoch 4 : 0.07622452444852666\n"
                    ]
                },
                {
                    "name": "stderr",
                    "output_type": "stream",
                    "text": [
                        "235it [00:28,  8.26it/s]\n"
                    ]
                },
                {
                    "name": "stdout",
                    "output_type": "stream",
                    "text": [
                        "epoch 5 : 0.056477997792845076\n"
                    ]
                },
                {
                    "name": "stderr",
                    "output_type": "stream",
                    "text": [
                        "235it [00:29,  8.09it/s]\n"
                    ]
                },
                {
                    "name": "stdout",
                    "output_type": "stream",
                    "text": [
                        "epoch 6 : 0.04176963111583857\n"
                    ]
                },
                {
                    "name": "stderr",
                    "output_type": "stream",
                    "text": [
                        "235it [00:32,  7.30it/s]\n"
                    ]
                },
                {
                    "name": "stdout",
                    "output_type": "stream",
                    "text": [
                        "epoch 7 : 0.0293245746813556\n"
                    ]
                },
                {
                    "name": "stderr",
                    "output_type": "stream",
                    "text": [
                        "235it [00:29,  7.95it/s]\n"
                    ]
                },
                {
                    "name": "stdout",
                    "output_type": "stream",
                    "text": [
                        "epoch 8 : 0.02025989377474848\n"
                    ]
                },
                {
                    "name": "stderr",
                    "output_type": "stream",
                    "text": [
                        "235it [00:28,  8.12it/s]\n"
                    ]
                },
                {
                    "name": "stdout",
                    "output_type": "stream",
                    "text": [
                        "epoch 9 : 0.015250130629840684\n"
                    ]
                },
                {
                    "name": "stderr",
                    "output_type": "stream",
                    "text": [
                        "235it [00:33,  6.99it/s]"
                    ]
                },
                {
                    "name": "stdout",
                    "output_type": "stream",
                    "text": [
                        "epoch 10 : 0.012153603589320754\n"
                    ]
                },
                {
                    "name": "stderr",
                    "output_type": "stream",
                    "text": [
                        "\n"
                    ]
                }
            ],
            "source": [
                "training_loss = trainer.run(train_dataloader, model, optimizer, criterion, scheduler)"
            ]
        },
        {
            "cell_type": "code",
            "execution_count": 28,
            "metadata": {},
            "outputs": [
                {
                    "data": {
                        "text/plain": [
                            "[<matplotlib.lines.Line2D at 0x1e8830486d0>]"
                        ]
                    },
                    "execution_count": 28,
                    "metadata": {},
                    "output_type": "execute_result"
                },
                {
                    "data": {
                        "image/png": "[encoded data removed]",
                        "text/plain": [
                            "<Figure size 640x480 with 1 Axes>"
                        ]
                    },
                    "metadata": {},
                    "output_type": "display_data"
                }
            ],
            "source": [
                "plt.plot(training_loss)"
            ]
        },
        {
            "cell_type": "markdown",
            "metadata": {},
            "source": [
                "# inference\n"
            ]
        },
        {
            "cell_type": "code",
            "execution_count": 29,
            "metadata": {},
            "outputs": [],
            "source": [
                "evaluator = ClassificationEvaluator(NUM_CLASS, DEVICE)"
            ]
        },
        {
            "cell_type": "code",
            "execution_count": 30,
            "metadata": {},
            "outputs": [
                {
                    "name": "stderr",
                    "output_type": "stream",
                    "text": [
                        "15it [00:01,  7.66it/s]"
                    ]
                },
                {
                    "name": "stdout",
                    "output_type": "stream",
                    "text": [
                        "[[1753   41   56   50]\n",
                        " [  42 1840    9    9]\n",
                        " [  86   25 1630  159]\n",
                        " [  66   24  134 1676]]\n"
                    ]
                },
                {
                    "name": "stderr",
                    "output_type": "stream",
                    "text": [
                        "\n"
                    ]
                }
            ],
            "source": [
                "confusion_matrix = evaluator.run(test_dataloader, model)"
            ]
        },
        {
            "cell_type": "code",
            "execution_count": 31,
            "metadata": {},
            "outputs": [
                {
                    "name": "stdout",
                    "output_type": "stream",
                    "text": [
                        "world     : 0.9226315789473685\n",
                        "sports    : 0.968421052631579\n",
                        "business  : 0.8578947368421053\n",
                        "science   : 0.8821052631578947\n"
                    ]
                }
            ],
            "source": [
                "per_class_acc = evaluator.get_per_class_accuracy(confusion_matrix)\n",
                "evaluator.show_per_class_accuracy(CLASS_NAMES , per_class_acc)"
            ]
        },
        {
            "cell_type": "code",
            "execution_count": 32,
            "metadata": {},
            "outputs": [
                {
                    "data": {
                        "text/plain": [
                            "0.9077631578947369"
                        ]
                    },
                    "execution_count": 32,
                    "metadata": {},
                    "output_type": "execute_result"
                }
            ],
            "source": [
                "per_class_acc.mean()"
            ]
        },
        {
            "cell_type": "code",
            "execution_count": 33,
            "metadata": {},
            "outputs": [
                {
                    "data": {
                        "image/png": "[encoded data removed]",
                        "text/plain": [
                            "<Figure size 600x400 with 2 Axes>"
                        ]
                    },
                    "metadata": {},
                    "output_type": "display_data"
                }
            ],
            "source": [
                "evaluator.plot_confusion_matrix(\n",
                "    confusion_matrix,\n",
                "    CLASS_NAMES,\n",
                "    \"Blues\",\n",
                "    annot=True,\n",
                "    figsize=(6, 4),\n",
                ")"
            ]
        },
        {
            "cell_type": "code",
            "execution_count": 34,
            "metadata": {},
            "outputs": [],
            "source": [
                "model_path = artifact_path.joinpath(\"gru.pth\")"
            ]
        },
        {
            "cell_type": "code",
            "execution_count": 35,
            "metadata": {},
            "outputs": [],
            "source": [
                "torch.save(model.state_dict(), model_path)"
            ]
        },
        {
            "cell_type": "code",
            "execution_count": 36,
            "metadata": {},
            "outputs": [
                {
                    "data": {
                        "text/plain": [
                            "'31.14MiB'"
                        ]
                    },
                    "execution_count": 36,
                    "metadata": {},
                    "output_type": "execute_result"
                }
            ],
            "source": [
                "get_file_size(model_path)"
            ]
        },
        {
            "cell_type": "code",
            "execution_count": 37,
            "metadata": {},
            "outputs": [
                {
                    "data": {
                        "text/plain": [
                            "<All keys matched successfully>"
                        ]
                    },
                    "execution_count": 37,
                    "metadata": {},
                    "output_type": "execute_result"
                }
            ],
            "source": [
                "model.load_state_dict(torch.load(model_path))"
            ]
        }
    ],
    "metadata": {
        "kernelspec": {
            "display_name": ".venv",
            "language": "python",
            "name": "python3"
        },
        "language_info": {
            "codemirror_mode": {
                "name": "ipython",
                "version": 3
            },
            "file_extension": ".py",
            "mimetype": "text/x-python",
            "name": "python",
            "nbconvert_exporter": "python",
            "pygments_lexer": "ipython3",
            "version": "3.11.4"
        }
    },
    "nbformat": 4,
    "nbformat_minor": 2
}