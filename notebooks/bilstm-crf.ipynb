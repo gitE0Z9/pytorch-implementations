{
    "cells": [
        {
            "cell_type": "code",
            "execution_count": 40,
            "metadata": {},
            "outputs": [],
            "source": [
                "from pathlib import Path\n",
                "\n",
                "import matplotlib.pyplot as plt\n",
                "import numpy as np\n",
                "import pandas as pd\n",
                "import torch\n",
                "import torchinfo\n",
                "import torchtext.transforms as T\n",
                "from seaborn import heatmap\n",
                "from sklearn.model_selection import train_test_split\n",
                "from torch import nn\n",
                "from torch.utils.data import DataLoader\n",
                "from torchlake.common.schemas import NlpContext\n",
                "from torchlake.common.utils.platform import get_file_size, get_num_workers\n",
                "from torchlake.sequence_data.models.lstm import LSTMDiscriminator\n",
                "from torchlake.common.controller.trainer import ClassificationTrainer\n",
                "from torchlake.common.controller.evaluator import ClassificationEvaluator\n",
                "from torchlake.tag_prediction.controllers.trainer_bilstm_crf import BiLSTMCRFTrainer\n",
                "from torchlake.tag_prediction.models.bilstm_crf import (BiLSTMCRF,\n",
                "                                                        LinearCRFLoss)\n",
                "from torchtext.data import get_tokenizer\n",
                "from torchlake.common.utils.text import build_vocab"
            ]
        },
        {
            "cell_type": "markdown",
            "metadata": {},
            "source": [
                "# setting\n"
            ]
        },
        {
            "cell_type": "code",
            "execution_count": 41,
            "metadata": {},
            "outputs": [],
            "source": [
                "artifacts_path = Path(\"../../artifacts/bilstm-crf\")\n",
                "artifacts_path.mkdir(exist_ok=True)\n",
                "\n",
                "data_path = Path(\"../../data/nerDataset\")"
            ]
        },
        {
            "cell_type": "code",
            "execution_count": 42,
            "metadata": {},
            "outputs": [],
            "source": [
                "batch_size = 128\n",
                "CONTEXT = NlpContext(device=\"cuda:0\")"
            ]
        },
        {
            "cell_type": "code",
            "execution_count": 43,
            "metadata": {},
            "outputs": [],
            "source": [
                "tokenizer = get_tokenizer(\"basic_english\")"
            ]
        },
        {
            "cell_type": "code",
            "execution_count": 44,
            "metadata": {},
            "outputs": [],
            "source": [
                "DEVICE = torch.device(CONTEXT.device)"
            ]
        },
        {
            "cell_type": "code",
            "execution_count": 45,
            "metadata": {},
            "outputs": [],
            "source": [
                "NUM_WORKERS = get_num_workers()"
            ]
        },
        {
            "cell_type": "markdown",
            "metadata": {},
            "source": [
                "# data\n"
            ]
        },
        {
            "cell_type": "code",
            "execution_count": 46,
            "metadata": {},
            "outputs": [],
            "source": [
                "# data = pd.read_csv(data_path.joinpath(\"ner_dataset.csv\"), encoding=\"latin-1\")"
            ]
        },
        {
            "cell_type": "code",
            "execution_count": 47,
            "metadata": {},
            "outputs": [],
            "source": [
                "# data[\"Sentence #\"] = data[\"Sentence #\"].ffill()"
            ]
        },
        {
            "cell_type": "code",
            "execution_count": 48,
            "metadata": {},
            "outputs": [],
            "source": [
                "# speedup groupby to save you hours to 10 seconds\n",
                "# data = data.set_index(\"Sentence #\")"
            ]
        },
        {
            "cell_type": "code",
            "execution_count": 49,
            "metadata": {},
            "outputs": [],
            "source": [
                "# new_df = data.groupby(level=(0)).apply(\n",
                "#     lambda row: [row[\"Word\"].str.cat(sep=\" \"), row[\"Tag\"].str.cat(sep=\" \")]\n",
                "# )"
            ]
        },
        {
            "cell_type": "code",
            "execution_count": 50,
            "metadata": {},
            "outputs": [],
            "source": [
                "# new_df = pd.DataFrame(new_df.tolist(), columns=[\"Text\", \"Label\"])"
            ]
        },
        {
            "cell_type": "code",
            "execution_count": 51,
            "metadata": {},
            "outputs": [],
            "source": [
                "# new_df.to_csv(data_path.joinpath(\"processed.csv\"), index=False)"
            ]
        },
        {
            "cell_type": "markdown",
            "metadata": {},
            "source": [
                "# load text data\n"
            ]
        },
        {
            "cell_type": "code",
            "execution_count": 52,
            "metadata": {},
            "outputs": [],
            "source": [
                "new_df = pd.read_csv(data_path.joinpath(\"processed.csv\"))"
            ]
        },
        {
            "cell_type": "code",
            "execution_count": 53,
            "metadata": {},
            "outputs": [],
            "source": [
                "# TODO: stratified so every label are present in train and test\n",
                "train_data, test_data = train_test_split(new_df, test_size=1/5, random_state=32)"
            ]
        },
        {
            "cell_type": "code",
            "execution_count": 54,
            "metadata": {},
            "outputs": [
                {
                    "data": {
                        "text/html": [
                            "<div>\n",
                            "<style scoped>\n",
                            "    .dataframe tbody tr th:only-of-type {\n",
                            "        vertical-align: middle;\n",
                            "    }\n",
                            "\n",
                            "    .dataframe tbody tr th {\n",
                            "        vertical-align: top;\n",
                            "    }\n",
                            "\n",
                            "    .dataframe thead th {\n",
                            "        text-align: right;\n",
                            "    }\n",
                            "</style>\n",
                            "<table border=\"1\" class=\"dataframe\">\n",
                            "  <thead>\n",
                            "    <tr style=\"text-align: right;\">\n",
                            "      <th></th>\n",
                            "      <th>Text</th>\n",
                            "      <th>Label</th>\n",
                            "    </tr>\n",
                            "  </thead>\n",
                            "  <tbody>\n",
                            "    <tr>\n",
                            "      <th>2122</th>\n",
                            "      <td>U Win Tin was arrested in 1989 and is serving ...</td>\n",
                            "      <td>B-org I-org I-org O O O B-tim O O O O O O O O ...</td>\n",
                            "    </tr>\n",
                            "    <tr>\n",
                            "      <th>1095</th>\n",
                            "      <td>The last time the Vatican issued a vacant see ...</td>\n",
                            "      <td>O O O O B-gpe O O O O O O O B-tim O O O B-per ...</td>\n",
                            "    </tr>\n",
                            "    <tr>\n",
                            "      <th>46391</th>\n",
                            "      <td>Witnesses say a top Palestinian bombmaker for ...</td>\n",
                            "      <td>O O O O B-gpe O O O O B-geo I-geo O O O O B-ti...</td>\n",
                            "    </tr>\n",
                            "    <tr>\n",
                            "      <th>22794</th>\n",
                            "      <td>Pakistani police say a suicide bomber crashed ...</td>\n",
                            "      <td>B-gpe O O O O O O O O O O O O O O O O O O O O ...</td>\n",
                            "    </tr>\n",
                            "    <tr>\n",
                            "      <th>31861</th>\n",
                            "      <td>The Defense Department is investigating the ac...</td>\n",
                            "      <td>O B-org I-org O O O O O</td>\n",
                            "    </tr>\n",
                            "    <tr>\n",
                            "      <th>...</th>\n",
                            "      <td>...</td>\n",
                            "      <td>...</td>\n",
                            "    </tr>\n",
                            "    <tr>\n",
                            "      <th>24828</th>\n",
                            "      <td>The militant Hezbollah movement fought a 34-da...</td>\n",
                            "      <td>O O B-org O O O O O O B-geo O B-tim O O O O O ...</td>\n",
                            "    </tr>\n",
                            "    <tr>\n",
                            "      <th>20414</th>\n",
                            "      <td>The rebels say they will continue until the mo...</td>\n",
                            "      <td>O O O O O O O O O O O O O O O O O O O O O</td>\n",
                            "    </tr>\n",
                            "    <tr>\n",
                            "      <th>9526</th>\n",
                            "      <td>The Olympic torch will make two trips to the w...</td>\n",
                            "      <td>O O O O O O O O O O O O O O O O O O O O B-tim ...</td>\n",
                            "    </tr>\n",
                            "    <tr>\n",
                            "      <th>42539</th>\n",
                            "      <td>There were no reports of injuries and no claim...</td>\n",
                            "      <td>O O O O O O O O O O O O</td>\n",
                            "    </tr>\n",
                            "    <tr>\n",
                            "      <th>10967</th>\n",
                            "      <td>In Belgrade , visiting French Foreign Minister...</td>\n",
                            "      <td>O B-geo O O B-gpe O O B-per I-per O B-gpe O O ...</td>\n",
                            "    </tr>\n",
                            "  </tbody>\n",
                            "</table>\n",
                            "<p>38367 rows × 2 columns</p>\n",
                            "</div>"
                        ],
                        "text/plain": [
                            "                                                    Text  \\\n",
                            "2122   U Win Tin was arrested in 1989 and is serving ...   \n",
                            "1095   The last time the Vatican issued a vacant see ...   \n",
                            "46391  Witnesses say a top Palestinian bombmaker for ...   \n",
                            "22794  Pakistani police say a suicide bomber crashed ...   \n",
                            "31861  The Defense Department is investigating the ac...   \n",
                            "...                                                  ...   \n",
                            "24828  The militant Hezbollah movement fought a 34-da...   \n",
                            "20414  The rebels say they will continue until the mo...   \n",
                            "9526   The Olympic torch will make two trips to the w...   \n",
                            "42539  There were no reports of injuries and no claim...   \n",
                            "10967  In Belgrade , visiting French Foreign Minister...   \n",
                            "\n",
                            "                                                   Label  \n",
                            "2122   B-org I-org I-org O O O B-tim O O O O O O O O ...  \n",
                            "1095   O O O O B-gpe O O O O O O O B-tim O O O B-per ...  \n",
                            "46391  O O O O B-gpe O O O O B-geo I-geo O O O O B-ti...  \n",
                            "22794  B-gpe O O O O O O O O O O O O O O O O O O O O ...  \n",
                            "31861                            O B-org I-org O O O O O  \n",
                            "...                                                  ...  \n",
                            "24828  O O B-org O O O O O O B-geo O B-tim O O O O O ...  \n",
                            "20414          O O O O O O O O O O O O O O O O O O O O O  \n",
                            "9526   O O O O O O O O O O O O O O O O O O O O B-tim ...  \n",
                            "42539                            O O O O O O O O O O O O  \n",
                            "10967  O B-geo O O B-gpe O O B-per I-per O B-gpe O O ...  \n",
                            "\n",
                            "[38367 rows x 2 columns]"
                        ]
                    },
                    "execution_count": 54,
                    "metadata": {},
                    "output_type": "execute_result"
                }
            ],
            "source": [
                "train_data"
            ]
        },
        {
            "cell_type": "code",
            "execution_count": 55,
            "metadata": {},
            "outputs": [
                {
                    "data": {
                        "text/plain": [
                            "count    38367.000000\n",
                            "mean       125.074283\n",
                            "std         46.875765\n",
                            "min          3.000000\n",
                            "25%         92.000000\n",
                            "50%        123.000000\n",
                            "75%        155.000000\n",
                            "max        541.000000\n",
                            "Name: Text, dtype: float64"
                        ]
                    },
                    "execution_count": 55,
                    "metadata": {},
                    "output_type": "execute_result"
                }
            ],
            "source": [
                "train_data[\"Text\"].str.len().describe()"
            ]
        },
        {
            "cell_type": "code",
            "execution_count": 56,
            "metadata": {},
            "outputs": [
                {
                    "data": {
                        "text/plain": [
                            "<Axes: title={'center': 'tag count'}, xlabel='Label'>"
                        ]
                    },
                    "execution_count": 56,
                    "metadata": {},
                    "output_type": "execute_result"
                },
                {
                    "data": {
                        "image/png": "[encoded data removed]",
                        "text/plain": [
                            "<Figure size 640x480 with 1 Axes>"
                        ]
                    },
                    "metadata": {},
                    "output_type": "display_data"
                }
            ],
            "source": [
                "train_data[\"Label\"].str.lower().str.split().explode().value_counts().plot(kind='bar', title='tag count')"
            ]
        },
        {
            "cell_type": "code",
            "execution_count": 57,
            "metadata": {},
            "outputs": [],
            "source": [
                "vocab = build_vocab(\n",
                "    train_data[\"Text\"].str.lower().str.split(),\n",
                "    context=CONTEXT,\n",
                ")"
            ]
        },
        {
            "cell_type": "code",
            "execution_count": 58,
            "metadata": {},
            "outputs": [],
            "source": [
                "label_vocab = build_vocab(\n",
                "    train_data[\"Label\"].str.lower().str.split(),\n",
                "    context=CONTEXT,\n",
                ")"
            ]
        },
        {
            "cell_type": "code",
            "execution_count": 59,
            "metadata": {},
            "outputs": [],
            "source": [
                "VOCAB_SIZE = len(vocab)\n",
                "NUM_CLASS = len(label_vocab)"
            ]
        },
        {
            "cell_type": "code",
            "execution_count": 60,
            "metadata": {},
            "outputs": [
                {
                    "data": {
                        "text/plain": [
                            "(9104, 21)"
                        ]
                    },
                    "execution_count": 60,
                    "metadata": {},
                    "output_type": "execute_result"
                }
            ],
            "source": [
                "VOCAB_SIZE, NUM_CLASS"
            ]
        },
        {
            "cell_type": "code",
            "execution_count": 61,
            "metadata": {},
            "outputs": [],
            "source": [
                "text_transform = T.Sequential(\n",
                "    T.VocabTransform(vocab),\n",
                "    T.Truncate(CONTEXT.max_seq_len - 2),\n",
                "    T.AddToken(token=CONTEXT.bos_idx, begin=True),\n",
                "    T.AddToken(token=CONTEXT.eos_idx, begin=False),\n",
                "    T.ToTensor(),\n",
                "    T.PadTransform(CONTEXT.max_seq_len, CONTEXT.padding_idx),\n",
                ")"
            ]
        },
        {
            "cell_type": "code",
            "execution_count": 62,
            "metadata": {},
            "outputs": [],
            "source": [
                "label_transform = T.Sequential(\n",
                "    T.VocabTransform(label_vocab),\n",
                "    T.Truncate(CONTEXT.max_seq_len - 2),\n",
                "    T.AddToken(token=CONTEXT.bos_idx, begin=True),\n",
                "    T.AddToken(token=CONTEXT.eos_idx, begin=False),\n",
                "    T.ToTensor(),\n",
                "    T.PadTransform(CONTEXT.max_seq_len, CONTEXT.padding_idx),\n",
                ")"
            ]
        },
        {
            "cell_type": "code",
            "execution_count": 63,
            "metadata": {},
            "outputs": [],
            "source": [
                "def collate_fn(batch: np.ndarray):\n",
                "    text_placeholder, label_placeholder = [], []\n",
                "\n",
                "    for text, label in batch:\n",
                "        text = tokenizer(text)\n",
                "        text = text_transform(text)\n",
                "        text_placeholder.append(text)\n",
                "        \n",
                "        label = tokenizer(label)\n",
                "        label = label_transform(label)\n",
                "        label_placeholder.append(label)\n",
                "\n",
                "    return torch.stack(text_placeholder), torch.stack(label_placeholder)"
            ]
        },
        {
            "cell_type": "code",
            "execution_count": 64,
            "metadata": {},
            "outputs": [],
            "source": [
                "train_iter = DataLoader(\n",
                "    train_data.to_numpy(),\n",
                "    batch_size=batch_size,\n",
                "    collate_fn=collate_fn,\n",
                "    shuffle=True,\n",
                "    drop_last=True,\n",
                "    num_workers=NUM_WORKERS,\n",
                ")\n",
                "\n",
                "test_iter = DataLoader(\n",
                "    test_data.to_numpy(),\n",
                "    batch_size=batch_size,\n",
                "    collate_fn=collate_fn,\n",
                "    num_workers=NUM_WORKERS,\n",
                ")"
            ]
        },
        {
            "cell_type": "code",
            "execution_count": 65,
            "metadata": {},
            "outputs": [
                {
                    "name": "stdout",
                    "output_type": "stream",
                    "text": [
                        "torch.Size([128, 256]) torch.Size([128, 256])\n"
                    ]
                }
            ],
            "source": [
                "for text, label in train_iter:\n",
                "    # print(text[0], label[0])\n",
                "    print(text.shape, label.shape)\n",
                "    break"
            ]
        },
        {
            "cell_type": "markdown",
            "metadata": {},
            "source": [
                "# model\n"
            ]
        },
        {
            "cell_type": "code",
            "execution_count": 66,
            "metadata": {},
            "outputs": [],
            "source": [
                "EMBED_DIM = 300\n",
                "HIDDEN_DIM = 256"
            ]
        },
        {
            "cell_type": "code",
            "execution_count": 67,
            "metadata": {},
            "outputs": [],
            "source": [
                "model = BiLSTMCRF(\n",
                "    VOCAB_SIZE,\n",
                "    EMBED_DIM,\n",
                "    HIDDEN_DIM,\n",
                "    NUM_CLASS,\n",
                "    num_layers=2,\n",
                "    context=CONTEXT,\n",
                ").to(DEVICE)"
            ]
        },
        {
            "cell_type": "code",
            "execution_count": 68,
            "metadata": {},
            "outputs": [
                {
                    "data": {
                        "text/plain": [
                            "=================================================================\n",
                            "Layer (type:depth-idx)                   Param #\n",
                            "=================================================================\n",
                            "BiLSTMCRF                                --\n",
                            "├─LSTMDiscriminator: 1-1                 --\n",
                            "│    └─Embedding: 2-1                    2,731,200\n",
                            "│    └─LSTM: 2-2                         2,719,744\n",
                            "│    └─LayerNorm: 2-3                    1,024\n",
                            "│    └─Linear: 2-4                       10,773\n",
                            "├─LinearCRF: 1-2                         441\n",
                            "=================================================================\n",
                            "Total params: 5,463,182\n",
                            "Trainable params: 5,463,182\n",
                            "Non-trainable params: 0\n",
                            "================================================================="
                        ]
                    },
                    "execution_count": 68,
                    "metadata": {},
                    "output_type": "execute_result"
                }
            ],
            "source": [
                "torchinfo.summary(model)"
            ]
        },
        {
            "cell_type": "markdown",
            "metadata": {},
            "source": [
                "# training\n"
            ]
        },
        {
            "cell_type": "code",
            "execution_count": 125,
            "metadata": {},
            "outputs": [],
            "source": [
                "EPOCHS = 30"
            ]
        },
        {
            "cell_type": "code",
            "execution_count": 126,
            "metadata": {},
            "outputs": [],
            "source": [
                "trainer = BiLSTMCRFTrainer(EPOCHS, DEVICE)"
            ]
        },
        {
            "cell_type": "code",
            "execution_count": 127,
            "metadata": {},
            "outputs": [],
            "source": [
                "criterion = LinearCRFLoss(crf_weight=1e-1, context=CONTEXT)\n",
                "optimizer = torch.optim.RMSprop(model.parameters(), lr=1e-3)"
            ]
        },
        {
            "cell_type": "code",
            "execution_count": 128,
            "metadata": {},
            "outputs": [],
            "source": [
                "scheduler = torch.optim.lr_scheduler.ReduceLROnPlateau(\n",
                "    optimizer,\n",
                "    \"min\",\n",
                "    patience=2,\n",
                "    threshold=0.05,\n",
                "    threshold_mode=\"rel\",\n",
                ")"
            ]
        },
        {
            "cell_type": "code",
            "execution_count": 129,
            "metadata": {},
            "outputs": [
                {
                    "name": "stderr",
                    "output_type": "stream",
                    "text": [
                        "100%|██████████| 299/299 [00:20<00:00, 14.54it/s]\n"
                    ]
                },
                {
                    "name": "stdout",
                    "output_type": "stream",
                    "text": [
                        "epoch 1 : 1.0609367955289157\n"
                    ]
                },
                {
                    "name": "stderr",
                    "output_type": "stream",
                    "text": [
                        "100%|██████████| 299/299 [00:19<00:00, 15.00it/s]\n"
                    ]
                },
                {
                    "name": "stdout",
                    "output_type": "stream",
                    "text": [
                        "epoch 2 : 0.7569757955130128\n"
                    ]
                },
                {
                    "name": "stderr",
                    "output_type": "stream",
                    "text": [
                        "100%|██████████| 299/299 [00:19<00:00, 15.02it/s]\n"
                    ]
                },
                {
                    "name": "stdout",
                    "output_type": "stream",
                    "text": [
                        "epoch 3 : 0.6130775258094571\n"
                    ]
                },
                {
                    "name": "stderr",
                    "output_type": "stream",
                    "text": [
                        "100%|██████████| 299/299 [00:19<00:00, 15.02it/s]\n"
                    ]
                },
                {
                    "name": "stdout",
                    "output_type": "stream",
                    "text": [
                        "epoch 4 : 0.512219038695396\n"
                    ]
                },
                {
                    "name": "stderr",
                    "output_type": "stream",
                    "text": [
                        "100%|██████████| 299/299 [00:20<00:00, 14.67it/s]\n"
                    ]
                },
                {
                    "name": "stdout",
                    "output_type": "stream",
                    "text": [
                        "epoch 5 : 0.4331184236899666\n"
                    ]
                },
                {
                    "name": "stderr",
                    "output_type": "stream",
                    "text": [
                        "100%|██████████| 299/299 [00:19<00:00, 15.07it/s]\n"
                    ]
                },
                {
                    "name": "stdout",
                    "output_type": "stream",
                    "text": [
                        "epoch 6 : 0.3752272089687877\n"
                    ]
                },
                {
                    "name": "stderr",
                    "output_type": "stream",
                    "text": [
                        "100%|██████████| 299/299 [00:19<00:00, 15.25it/s]\n"
                    ]
                },
                {
                    "name": "stdout",
                    "output_type": "stream",
                    "text": [
                        "epoch 7 : 0.3318436365562139\n"
                    ]
                },
                {
                    "name": "stderr",
                    "output_type": "stream",
                    "text": [
                        "100%|██████████| 299/299 [00:19<00:00, 15.24it/s]\n"
                    ]
                },
                {
                    "name": "stdout",
                    "output_type": "stream",
                    "text": [
                        "epoch 8 : 0.29992062750468684\n"
                    ]
                },
                {
                    "name": "stderr",
                    "output_type": "stream",
                    "text": [
                        "100%|██████████| 299/299 [00:19<00:00, 15.33it/s]\n"
                    ]
                },
                {
                    "name": "stdout",
                    "output_type": "stream",
                    "text": [
                        "epoch 9 : 0.2813511369220389\n"
                    ]
                },
                {
                    "name": "stderr",
                    "output_type": "stream",
                    "text": [
                        "100%|██████████| 299/299 [00:19<00:00, 15.31it/s]\n"
                    ]
                },
                {
                    "name": "stdout",
                    "output_type": "stream",
                    "text": [
                        "epoch 10 : 0.2658120503892069\n"
                    ]
                },
                {
                    "name": "stderr",
                    "output_type": "stream",
                    "text": [
                        "100%|██████████| 299/299 [00:19<00:00, 15.27it/s]\n"
                    ]
                },
                {
                    "name": "stdout",
                    "output_type": "stream",
                    "text": [
                        "epoch 11 : 0.2596388524990018\n"
                    ]
                },
                {
                    "name": "stderr",
                    "output_type": "stream",
                    "text": [
                        "100%|██████████| 299/299 [00:19<00:00, 15.18it/s]\n"
                    ]
                },
                {
                    "name": "stdout",
                    "output_type": "stream",
                    "text": [
                        "epoch 12 : 0.2529548238402226\n"
                    ]
                },
                {
                    "name": "stderr",
                    "output_type": "stream",
                    "text": [
                        "100%|██████████| 299/299 [00:19<00:00, 15.25it/s]\n"
                    ]
                },
                {
                    "name": "stdout",
                    "output_type": "stream",
                    "text": [
                        "epoch 13 : 0.24734984106543073\n"
                    ]
                },
                {
                    "name": "stderr",
                    "output_type": "stream",
                    "text": [
                        "100%|██████████| 299/299 [00:19<00:00, 15.18it/s]\n"
                    ]
                },
                {
                    "name": "stdout",
                    "output_type": "stream",
                    "text": [
                        "epoch 14 : 0.24672570069597716\n"
                    ]
                },
                {
                    "name": "stderr",
                    "output_type": "stream",
                    "text": [
                        "100%|██████████| 299/299 [00:19<00:00, 15.18it/s]\n"
                    ]
                },
                {
                    "name": "stdout",
                    "output_type": "stream",
                    "text": [
                        "epoch 15 : 0.24234246168547252\n"
                    ]
                },
                {
                    "name": "stderr",
                    "output_type": "stream",
                    "text": [
                        "100%|██████████| 299/299 [00:19<00:00, 15.34it/s]\n"
                    ]
                },
                {
                    "name": "stdout",
                    "output_type": "stream",
                    "text": [
                        "epoch 16 : 0.24114500898182592\n"
                    ]
                },
                {
                    "name": "stderr",
                    "output_type": "stream",
                    "text": [
                        "100%|██████████| 299/299 [00:19<00:00, 15.24it/s]\n"
                    ]
                },
                {
                    "name": "stdout",
                    "output_type": "stream",
                    "text": [
                        "epoch 17 : 0.2400583629325082\n"
                    ]
                },
                {
                    "name": "stderr",
                    "output_type": "stream",
                    "text": [
                        "100%|██████████| 299/299 [00:20<00:00, 14.34it/s]\n"
                    ]
                },
                {
                    "name": "stdout",
                    "output_type": "stream",
                    "text": [
                        "epoch 18 : 0.23805766153993416\n"
                    ]
                },
                {
                    "name": "stderr",
                    "output_type": "stream",
                    "text": [
                        "100%|██████████| 299/299 [00:21<00:00, 13.79it/s]\n"
                    ]
                },
                {
                    "name": "stdout",
                    "output_type": "stream",
                    "text": [
                        "epoch 19 : 0.2350989143086915\n"
                    ]
                },
                {
                    "name": "stderr",
                    "output_type": "stream",
                    "text": [
                        "100%|██████████| 299/299 [00:21<00:00, 14.24it/s]\n"
                    ]
                },
                {
                    "name": "stdout",
                    "output_type": "stream",
                    "text": [
                        "epoch 20 : 0.23571821105320717\n"
                    ]
                },
                {
                    "name": "stderr",
                    "output_type": "stream",
                    "text": [
                        "100%|██████████| 299/299 [00:20<00:00, 14.76it/s]\n"
                    ]
                },
                {
                    "name": "stdout",
                    "output_type": "stream",
                    "text": [
                        "epoch 21 : 0.23545044224497466\n"
                    ]
                },
                {
                    "name": "stderr",
                    "output_type": "stream",
                    "text": [
                        "100%|██████████| 299/299 [00:20<00:00, 14.49it/s]\n"
                    ]
                },
                {
                    "name": "stdout",
                    "output_type": "stream",
                    "text": [
                        "epoch 22 : 0.2335387760879204\n"
                    ]
                },
                {
                    "name": "stderr",
                    "output_type": "stream",
                    "text": [
                        "100%|██████████| 299/299 [00:19<00:00, 15.25it/s]\n"
                    ]
                },
                {
                    "name": "stdout",
                    "output_type": "stream",
                    "text": [
                        "epoch 23 : 0.23565795519280194\n"
                    ]
                },
                {
                    "name": "stderr",
                    "output_type": "stream",
                    "text": [
                        "100%|██████████| 299/299 [00:19<00:00, 15.41it/s]\n"
                    ]
                },
                {
                    "name": "stdout",
                    "output_type": "stream",
                    "text": [
                        "epoch 24 : 0.23627165827065408\n"
                    ]
                },
                {
                    "name": "stderr",
                    "output_type": "stream",
                    "text": [
                        "100%|██████████| 299/299 [00:19<00:00, 15.36it/s]\n"
                    ]
                },
                {
                    "name": "stdout",
                    "output_type": "stream",
                    "text": [
                        "epoch 25 : 0.23819365646428486\n"
                    ]
                },
                {
                    "name": "stderr",
                    "output_type": "stream",
                    "text": [
                        "100%|██████████| 299/299 [00:19<00:00, 15.40it/s]\n"
                    ]
                },
                {
                    "name": "stdout",
                    "output_type": "stream",
                    "text": [
                        "epoch 26 : 0.23631455594779655\n"
                    ]
                },
                {
                    "name": "stderr",
                    "output_type": "stream",
                    "text": [
                        "100%|██████████| 299/299 [00:22<00:00, 13.32it/s]\n"
                    ]
                },
                {
                    "name": "stdout",
                    "output_type": "stream",
                    "text": [
                        "epoch 27 : 0.23430384536052629\n"
                    ]
                },
                {
                    "name": "stderr",
                    "output_type": "stream",
                    "text": [
                        "100%|██████████| 299/299 [00:20<00:00, 14.57it/s]\n"
                    ]
                },
                {
                    "name": "stdout",
                    "output_type": "stream",
                    "text": [
                        "epoch 28 : 0.23566616231880858\n"
                    ]
                },
                {
                    "name": "stderr",
                    "output_type": "stream",
                    "text": [
                        "100%|██████████| 299/299 [00:19<00:00, 15.36it/s]\n"
                    ]
                },
                {
                    "name": "stdout",
                    "output_type": "stream",
                    "text": [
                        "epoch 29 : 0.23473736297426415\n"
                    ]
                },
                {
                    "name": "stderr",
                    "output_type": "stream",
                    "text": [
                        "100%|██████████| 299/299 [00:19<00:00, 15.38it/s]"
                    ]
                },
                {
                    "name": "stdout",
                    "output_type": "stream",
                    "text": [
                        "epoch 30 : 0.2331008327794713\n"
                    ]
                },
                {
                    "name": "stderr",
                    "output_type": "stream",
                    "text": [
                        "\n"
                    ]
                }
            ],
            "source": [
                "training_loss = trainer.run(\n",
                "    train_iter,\n",
                "    model,\n",
                "    optimizer,\n",
                "    criterion,\n",
                "    scheduler,\n",
                ")"
            ]
        },
        {
            "cell_type": "code",
            "execution_count": 67,
            "metadata": {},
            "outputs": [
                {
                    "data": {
                        "text/plain": [
                            "[<matplotlib.lines.Line2D at 0x1afa757ee10>]"
                        ]
                    },
                    "execution_count": 67,
                    "metadata": {},
                    "output_type": "execute_result"
                },
                {
                    "data": {
                        "image/png": "[encoded data removed]",
                        "text/plain": [
                            "<Figure size 640x480 with 1 Axes>"
                        ]
                    },
                    "metadata": {},
                    "output_type": "display_data"
                }
            ],
            "source": [
                "plt.plot(training_loss)"
            ]
        },
        {
            "cell_type": "code",
            "execution_count": 69,
            "metadata": {},
            "outputs": [],
            "source": [
                "model_path = artifacts_path.joinpath(\"crf.pth\")"
            ]
        },
        {
            "cell_type": "code",
            "execution_count": 77,
            "metadata": {},
            "outputs": [],
            "source": [
                "torch.save(model.state_dict(), model_path)"
            ]
        },
        {
            "cell_type": "code",
            "execution_count": 78,
            "metadata": {},
            "outputs": [
                {
                    "data": {
                        "text/plain": [
                            "'20.84MiB'"
                        ]
                    },
                    "execution_count": 78,
                    "metadata": {},
                    "output_type": "execute_result"
                }
            ],
            "source": [
                "get_file_size(model_path)"
            ]
        },
        {
            "cell_type": "code",
            "execution_count": 70,
            "metadata": {},
            "outputs": [
                {
                    "data": {
                        "text/plain": [
                            "<All keys matched successfully>"
                        ]
                    },
                    "execution_count": 70,
                    "metadata": {},
                    "output_type": "execute_result"
                }
            ],
            "source": [
                "model.load_state_dict(torch.load(model_path))"
            ]
        },
        {
            "cell_type": "markdown",
            "metadata": {},
            "source": [
                "## baseline"
            ]
        },
        {
            "cell_type": "code",
            "execution_count": 74,
            "metadata": {},
            "outputs": [],
            "source": [
                "baseline = LSTMDiscriminator(\n",
                "    VOCAB_SIZE,\n",
                "    EMBED_DIM,\n",
                "    HIDDEN_DIM,\n",
                "    NUM_CLASS,\n",
                "    num_layers=2,\n",
                "    bidirectional=True,\n",
                "    context=CONTEXT,\n",
                "    sequence_output=True,\n",
                ").to(DEVICE)"
            ]
        },
        {
            "cell_type": "code",
            "execution_count": 75,
            "metadata": {},
            "outputs": [
                {
                    "data": {
                        "text/plain": [
                            "=================================================================\n",
                            "Layer (type:depth-idx)                   Param #\n",
                            "=================================================================\n",
                            "LSTMDiscriminator                        --\n",
                            "├─Embedding: 1-1                         2,731,200\n",
                            "├─LSTM: 1-2                              2,719,744\n",
                            "├─LayerNorm: 1-3                         1,024\n",
                            "├─Linear: 1-4                            10,773\n",
                            "=================================================================\n",
                            "Total params: 5,462,741\n",
                            "Trainable params: 5,462,741\n",
                            "Non-trainable params: 0\n",
                            "================================================================="
                        ]
                    },
                    "execution_count": 75,
                    "metadata": {},
                    "output_type": "execute_result"
                }
            ],
            "source": [
                "torchinfo.summary(baseline)"
            ]
        },
        {
            "cell_type": "code",
            "execution_count": 80,
            "metadata": {},
            "outputs": [],
            "source": [
                "trainer = ClassificationTrainer(EPOCHS, DEVICE, feature_last=True)"
            ]
        },
        {
            "cell_type": "code",
            "execution_count": 81,
            "metadata": {},
            "outputs": [],
            "source": [
                "criterion = nn.CrossEntropyLoss(ignore_index=CONTEXT.padding_idx)\n",
                "optimizer = torch.optim.Adam(baseline.parameters(), lr=1e-3)"
            ]
        },
        {
            "cell_type": "code",
            "execution_count": 82,
            "metadata": {},
            "outputs": [],
            "source": [
                "scheduler = torch.optim.lr_scheduler.ReduceLROnPlateau(\n",
                "    optimizer,\n",
                "    \"min\",\n",
                "    patience=2,\n",
                "    threshold=0.05,\n",
                "    threshold_mode=\"rel\",\n",
                ")"
            ]
        },
        {
            "cell_type": "code",
            "execution_count": 83,
            "metadata": {},
            "outputs": [
                {
                    "name": "stderr",
                    "output_type": "stream",
                    "text": [
                        "100%|██████████| 299/299 [00:18<00:00, 16.03it/s]\n"
                    ]
                },
                {
                    "name": "stdout",
                    "output_type": "stream",
                    "text": [
                        "epoch 1 : 0.2062370120532138\n"
                    ]
                },
                {
                    "name": "stderr",
                    "output_type": "stream",
                    "text": [
                        "100%|██████████| 299/299 [00:17<00:00, 16.71it/s]\n"
                    ]
                },
                {
                    "name": "stdout",
                    "output_type": "stream",
                    "text": [
                        "epoch 2 : 0.10340591111410422\n"
                    ]
                },
                {
                    "name": "stderr",
                    "output_type": "stream",
                    "text": [
                        "100%|██████████| 299/299 [00:18<00:00, 16.15it/s]\n"
                    ]
                },
                {
                    "name": "stdout",
                    "output_type": "stream",
                    "text": [
                        "epoch 3 : 0.07775310061896924\n"
                    ]
                },
                {
                    "name": "stderr",
                    "output_type": "stream",
                    "text": [
                        "100%|██████████| 299/299 [00:18<00:00, 16.31it/s]\n"
                    ]
                },
                {
                    "name": "stdout",
                    "output_type": "stream",
                    "text": [
                        "epoch 4 : 0.058208013158976835\n"
                    ]
                },
                {
                    "name": "stderr",
                    "output_type": "stream",
                    "text": [
                        "100%|██████████| 299/299 [00:18<00:00, 16.22it/s]\n"
                    ]
                },
                {
                    "name": "stdout",
                    "output_type": "stream",
                    "text": [
                        "epoch 5 : 0.043137373296811825\n"
                    ]
                },
                {
                    "name": "stderr",
                    "output_type": "stream",
                    "text": [
                        "100%|██████████| 299/299 [00:17<00:00, 16.62it/s]\n"
                    ]
                },
                {
                    "name": "stdout",
                    "output_type": "stream",
                    "text": [
                        "epoch 6 : 0.031068588890459225\n"
                    ]
                },
                {
                    "name": "stderr",
                    "output_type": "stream",
                    "text": [
                        "100%|██████████| 299/299 [00:17<00:00, 16.86it/s]\n"
                    ]
                },
                {
                    "name": "stdout",
                    "output_type": "stream",
                    "text": [
                        "epoch 7 : 0.02205801007951482\n"
                    ]
                },
                {
                    "name": "stderr",
                    "output_type": "stream",
                    "text": [
                        "100%|██████████| 299/299 [00:17<00:00, 16.98it/s]\n"
                    ]
                },
                {
                    "name": "stdout",
                    "output_type": "stream",
                    "text": [
                        "epoch 8 : 0.01621586949499106\n"
                    ]
                },
                {
                    "name": "stderr",
                    "output_type": "stream",
                    "text": [
                        "100%|██████████| 299/299 [00:17<00:00, 17.06it/s]\n"
                    ]
                },
                {
                    "name": "stdout",
                    "output_type": "stream",
                    "text": [
                        "epoch 9 : 0.0124169275301655\n"
                    ]
                },
                {
                    "name": "stderr",
                    "output_type": "stream",
                    "text": [
                        "100%|██████████| 299/299 [00:17<00:00, 17.03it/s]\n"
                    ]
                },
                {
                    "name": "stdout",
                    "output_type": "stream",
                    "text": [
                        "epoch 10 : 0.009475773022849623\n"
                    ]
                },
                {
                    "name": "stderr",
                    "output_type": "stream",
                    "text": [
                        "100%|██████████| 299/299 [00:17<00:00, 17.05it/s]\n"
                    ]
                },
                {
                    "name": "stdout",
                    "output_type": "stream",
                    "text": [
                        "epoch 11 : 0.007984185925401423\n"
                    ]
                },
                {
                    "name": "stderr",
                    "output_type": "stream",
                    "text": [
                        "100%|██████████| 299/299 [00:18<00:00, 15.85it/s]\n"
                    ]
                },
                {
                    "name": "stdout",
                    "output_type": "stream",
                    "text": [
                        "epoch 12 : 0.006550975671866566\n"
                    ]
                },
                {
                    "name": "stderr",
                    "output_type": "stream",
                    "text": [
                        "100%|██████████| 299/299 [00:17<00:00, 17.45it/s]\n"
                    ]
                },
                {
                    "name": "stdout",
                    "output_type": "stream",
                    "text": [
                        "epoch 13 : 0.005962815229550477\n"
                    ]
                },
                {
                    "name": "stderr",
                    "output_type": "stream",
                    "text": [
                        "100%|██████████| 299/299 [00:17<00:00, 17.43it/s]\n"
                    ]
                },
                {
                    "name": "stdout",
                    "output_type": "stream",
                    "text": [
                        "epoch 14 : 0.005382522012817247\n"
                    ]
                },
                {
                    "name": "stderr",
                    "output_type": "stream",
                    "text": [
                        "100%|██████████| 299/299 [00:16<00:00, 17.69it/s]\n"
                    ]
                },
                {
                    "name": "stdout",
                    "output_type": "stream",
                    "text": [
                        "epoch 15 : 0.00479997784276197\n"
                    ]
                },
                {
                    "name": "stderr",
                    "output_type": "stream",
                    "text": [
                        "100%|██████████| 299/299 [00:17<00:00, 17.49it/s]\n"
                    ]
                },
                {
                    "name": "stdout",
                    "output_type": "stream",
                    "text": [
                        "epoch 16 : 0.00441340264049748\n"
                    ]
                },
                {
                    "name": "stderr",
                    "output_type": "stream",
                    "text": [
                        "100%|██████████| 299/299 [00:17<00:00, 17.34it/s]\n"
                    ]
                },
                {
                    "name": "stdout",
                    "output_type": "stream",
                    "text": [
                        "epoch 17 : 0.00434203200582664\n"
                    ]
                },
                {
                    "name": "stderr",
                    "output_type": "stream",
                    "text": [
                        "100%|██████████| 299/299 [00:16<00:00, 17.62it/s]\n"
                    ]
                },
                {
                    "name": "stdout",
                    "output_type": "stream",
                    "text": [
                        "epoch 18 : 0.00420728836494364\n"
                    ]
                },
                {
                    "name": "stderr",
                    "output_type": "stream",
                    "text": [
                        "100%|██████████| 299/299 [00:17<00:00, 17.55it/s]\n"
                    ]
                },
                {
                    "name": "stdout",
                    "output_type": "stream",
                    "text": [
                        "epoch 19 : 0.00386979706611883\n"
                    ]
                },
                {
                    "name": "stderr",
                    "output_type": "stream",
                    "text": [
                        "100%|██████████| 299/299 [00:17<00:00, 17.35it/s]\n"
                    ]
                },
                {
                    "name": "stdout",
                    "output_type": "stream",
                    "text": [
                        "epoch 20 : 0.0034159990786777244\n"
                    ]
                },
                {
                    "name": "stderr",
                    "output_type": "stream",
                    "text": [
                        "100%|██████████| 299/299 [00:17<00:00, 17.44it/s]\n"
                    ]
                },
                {
                    "name": "stdout",
                    "output_type": "stream",
                    "text": [
                        "epoch 21 : 0.0037656747041048986\n"
                    ]
                },
                {
                    "name": "stderr",
                    "output_type": "stream",
                    "text": [
                        "100%|██████████| 299/299 [00:17<00:00, 17.58it/s]\n"
                    ]
                },
                {
                    "name": "stdout",
                    "output_type": "stream",
                    "text": [
                        "epoch 22 : 0.003413185635721778\n"
                    ]
                },
                {
                    "name": "stderr",
                    "output_type": "stream",
                    "text": [
                        "100%|██████████| 299/299 [00:18<00:00, 16.60it/s]\n"
                    ]
                },
                {
                    "name": "stdout",
                    "output_type": "stream",
                    "text": [
                        "epoch 23 : 0.0033652905589296642\n"
                    ]
                },
                {
                    "name": "stderr",
                    "output_type": "stream",
                    "text": [
                        "100%|██████████| 299/299 [00:18<00:00, 16.41it/s]\n"
                    ]
                },
                {
                    "name": "stdout",
                    "output_type": "stream",
                    "text": [
                        "epoch 24 : 0.0020929588479757697\n"
                    ]
                },
                {
                    "name": "stderr",
                    "output_type": "stream",
                    "text": [
                        "100%|██████████| 299/299 [00:18<00:00, 16.35it/s]\n"
                    ]
                },
                {
                    "name": "stdout",
                    "output_type": "stream",
                    "text": [
                        "epoch 25 : 0.001207593053197379\n"
                    ]
                },
                {
                    "name": "stderr",
                    "output_type": "stream",
                    "text": [
                        "100%|██████████| 299/299 [00:18<00:00, 16.50it/s]\n"
                    ]
                },
                {
                    "name": "stdout",
                    "output_type": "stream",
                    "text": [
                        "epoch 26 : 0.001100526814471446\n"
                    ]
                },
                {
                    "name": "stderr",
                    "output_type": "stream",
                    "text": [
                        "100%|██████████| 299/299 [00:18<00:00, 16.50it/s]\n"
                    ]
                },
                {
                    "name": "stdout",
                    "output_type": "stream",
                    "text": [
                        "epoch 27 : 0.0010889031232044998\n"
                    ]
                },
                {
                    "name": "stderr",
                    "output_type": "stream",
                    "text": [
                        "100%|██████████| 299/299 [00:18<00:00, 16.58it/s]\n"
                    ]
                },
                {
                    "name": "stdout",
                    "output_type": "stream",
                    "text": [
                        "epoch 28 : 0.0010574801730107474\n"
                    ]
                },
                {
                    "name": "stderr",
                    "output_type": "stream",
                    "text": [
                        "100%|██████████| 299/299 [00:18<00:00, 16.52it/s]\n"
                    ]
                },
                {
                    "name": "stdout",
                    "output_type": "stream",
                    "text": [
                        "epoch 29 : 0.0010502855395717662\n"
                    ]
                },
                {
                    "name": "stderr",
                    "output_type": "stream",
                    "text": [
                        "100%|██████████| 299/299 [00:18<00:00, 16.41it/s]"
                    ]
                },
                {
                    "name": "stdout",
                    "output_type": "stream",
                    "text": [
                        "epoch 30 : 0.0010085543289214698\n"
                    ]
                },
                {
                    "name": "stderr",
                    "output_type": "stream",
                    "text": [
                        "\n"
                    ]
                }
            ],
            "source": [
                "training_loss = trainer.run(\n",
                "    train_iter,\n",
                "    baseline,\n",
                "    optimizer,\n",
                "    criterion,\n",
                "    scheduler,\n",
                ")"
            ]
        },
        {
            "cell_type": "code",
            "execution_count": 84,
            "metadata": {},
            "outputs": [
                {
                    "data": {
                        "text/plain": [
                            "[<matplotlib.lines.Line2D at 0x1afa7548150>]"
                        ]
                    },
                    "execution_count": 84,
                    "metadata": {},
                    "output_type": "execute_result"
                },
                {
                    "data": {
                        "image/png": "[encoded data removed]",
                        "text/plain": [
                            "<Figure size 640x480 with 1 Axes>"
                        ]
                    },
                    "metadata": {},
                    "output_type": "display_data"
                }
            ],
            "source": [
                "plt.plot(training_loss)"
            ]
        },
        {
            "cell_type": "code",
            "execution_count": 85,
            "metadata": {},
            "outputs": [],
            "source": [
                "baseline_path = artifacts_path.joinpath(\"baseline.pth\")"
            ]
        },
        {
            "cell_type": "code",
            "execution_count": 86,
            "metadata": {},
            "outputs": [],
            "source": [
                "torch.save(baseline.state_dict(), baseline_path)"
            ]
        },
        {
            "cell_type": "code",
            "execution_count": 87,
            "metadata": {},
            "outputs": [
                {
                    "data": {
                        "text/plain": [
                            "'20.84MiB'"
                        ]
                    },
                    "execution_count": 87,
                    "metadata": {},
                    "output_type": "execute_result"
                }
            ],
            "source": [
                "get_file_size(baseline_path)"
            ]
        },
        {
            "cell_type": "code",
            "execution_count": 88,
            "metadata": {},
            "outputs": [
                {
                    "data": {
                        "text/plain": [
                            "<All keys matched successfully>"
                        ]
                    },
                    "execution_count": 88,
                    "metadata": {},
                    "output_type": "execute_result"
                }
            ],
            "source": [
                "baseline.load_state_dict(torch.load(baseline_path))"
            ]
        },
        {
            "cell_type": "markdown",
            "metadata": {},
            "source": [
                "# prediction\n"
            ]
        },
        {
            "cell_type": "code",
            "execution_count": 32,
            "metadata": {},
            "outputs": [
                {
                    "name": "stdout",
                    "output_type": "stream",
                    "text": [
                        "--------------sentence 0\n",
                        "score:  -45.018123626708984\n",
                        "pred :  <bos> b-per o     o     o     o     b-tim i-tim o     o     o     o     o     o     o     o     o     o     o     o     o     o     o     o     o     o     o     o     o    \n",
                        "label:  b-per o     o     o     o     b-tim i-tim o     o     o     o     o     o     o     o     o     o     o     o     o     o     o     o     o     o     o     o     o     o    \n",
                        "text :  Wielgus resigned his post on January 7 , after a church commission said it found numerous documents confirming the cleric had collaborated with communist security organizations for years .\n",
                        "--------------sentence 1\n",
                        "score:  -35.37142562866211\n",
                        "pred :  <bos> b-geo o     o     o     o     o     o     o     o     o     o     o     o     o     o     o     o     o     o    \n",
                        "label:  b-geo o     o     o     o     o     o     o     o     o     o     o     o     o     o     o     o     o     o     o    \n",
                        "text :  Iran 's air force also has Russian-made Sukhoi warplanes and recently conducted test flights on two domestically-produced fighter jets .\n",
                        "--------------sentence 2\n",
                        "score:  -26.337970733642578\n",
                        "pred :  <bos> o     o     o     o     o     o     o     o     o     o     o     o     o     o     o    \n",
                        "label:  o     o     o     o     o     o     o     o     o     o     o     o     o     o     o     o    \n",
                        "text :  Local authorities say security guards fired at the demonstrators with automatic weapons to disperse them .\n",
                        "--------------sentence 3\n",
                        "score:  -45.481727600097656\n",
                        "pred :  <bos> o     o     o     o     o     o     o     o     o     o     o     o     o     o     o     o     o    \n",
                        "label:  o     o     o     b-gpe o     o     o     o     o     o     o     o     o     o     o     o     o     o    \n",
                        "text :  Of the 88,000 Americans missing from all conflicts , more than 8,100 are from the Korean War .\n",
                        "--------------sentence 4\n",
                        "score:  -37.7485466003418\n",
                        "pred :  <bos> o     o     o     o     b-geo o     o     o     o     b-tim o     o     o     o     o     o     o     o     o     o     o     o     o     o     o     o     o    \n",
                        "label:  o     o     o     o     b-geo o     o     o     o     b-tim o     o     o     o     o     o     o     o     o     o     o     o     o     o     o     o     o     o    \n",
                        "text :  In the chaos after Haiti 's devastating earthquake in January , thousands of prisoners escaped the massively overcrowded penitentiary , including some well-known , dangerous gang leaders .\n",
                        "--------------sentence 5\n",
                        "score:  -25.264110565185547\n",
                        "pred :  <bos> o     o     o     o     o     o     o     o     o     o     o     o    \n",
                        "label:  o     o     o     o     o     o     o     o     o     o     o     o     o    \n",
                        "text :  Some supporters of the president threw rocks and bottles at the marchers .\n",
                        "--------------sentence 6\n",
                        "score:  -32.3329963684082\n",
                        "pred :  <bos> o     b-geo o     o     o     o     o     o     o     o     o     o     o     o     o     o     o     o     o     o     o     o     o     o    \n",
                        "label:  o     b-geo o     o     o     o     o     o     o     o     o     o     o     o     o     o     o     o     o     o     o     o     o     o     o    \n",
                        "text :  But Burma 's military rulers have not allowed the party to take power and have detained its leader for several periods totaling a decade .\n",
                        "--------------sentence 7\n",
                        "score:  -65.46000671386719\n",
                        "pred :  <bos> b-tim o     o     o     o     o     b-tim o     o     b-per o     o     o     o     o     i-per i-per o     b-gpe o     o     i-per i-per\n",
                        "label:  b-tim o     o     o     o     o     b-tim o     o     b-per o     o     o     b-org o     b-per i-per o     b-gpe o     o     b-per i-per o    \n",
                        "text :  Thursday 's vote follows a meeting Wednesday between Vice Prime Minister and Labor Party leader Shimon Peres and Palestinian Cabinet Minister Mohammed Dahlan .\n",
                        "--------------sentence 8\n",
                        "score:  -38.29221725463867\n",
                        "pred :  <bos> b-geo o     o     o     o     o     o     o     o     o     o     o     o     o     o     o     o     b-org o     o     o     o     o     o     o     o     o     o     o     o     o     o     o     o     o     o    \n",
                        "label:  b-geo o     o     o     o     o     o     o     o     o     o     o     o     o     o     o     o     b-per o     o     o     o     o     o     o     o     o     o     o     o     o     o     o     o     o     o     o    \n",
                        "text :  China says it does not condone cyber attacks , but added that all foreign companies , including Google , must comply with all local laws , regulations and customs , including government controls over the Internet .\n",
                        "--------------sentence 9\n",
                        "score:  -27.51386260986328\n",
                        "pred :  <bos> b-geo o     o     o     o     o     o     o     o     o     o     o    \n",
                        "label:  b-geo o     o     o     o     o     o     o     o     o     o     o     o    \n",
                        "text :  Tehran says its nuclear facilities will only be used to generate electricity .\n",
                        "--------------sentence 10\n",
                        "score:  -34.23564910888672\n",
                        "pred :  <bos> o     o     o     o     o     o     o     o     o     o     b-tim o     o     o     o     o     o     o     o     b-geo o    \n",
                        "label:  o     o     o     o     o     o     o     o     o     o     b-tim o     o     o     o     o     o     o     o     o     o     o    \n",
                        "text :  The astronauts are to begin the mission 's fourth spacewalk Thursday to test a new procedure for repairing damaged heat-shielding tiles .\n",
                        "--------------sentence 11\n",
                        "score:  -52.888633728027344\n",
                        "pred :  <bos> o     o     o     b-per i-per o     o     b-org o     o     o     o     o     o     o     i-geo o     o     o     o     o     o     b-geo\n",
                        "label:  o     o     o     b-per i-per o     o     b-geo o     o     o     o     o     o     b-geo i-geo o     o     o     o     o     o     b-geo o    \n",
                        "text :  The spokesman said President Bush will recognize Rwanda 's contributions to stability in the Great Lakes region and its peacekeeping contributions to Sudan .\n"
                    ]
                }
            ],
            "source": [
                "model.eval()\n",
                "with torch.no_grad():\n",
                "    for i, (_, row) in enumerate(test_data.iterrows()):\n",
                "        sentence, tag = row['Text'], row['Label']\n",
                "        tokenized_tag = tokenizer(tag)\n",
                "        \n",
                "        x = text_transform(tokenizer(sentence)).unsqueeze(0).to(DEVICE)\n",
                "        tag_seq, score = model.forward(x, output_score=True)\n",
                "        tag_seq = tag_seq.long().detach().cpu().flatten().tolist()\n",
                "        decoded_seq = label_vocab.lookup_tokens(tag_seq)\n",
                "        \n",
                "        print(\"--------------sentence\", i)\n",
                "        print(\"score: \", score.item())\n",
                "        print(\"pred : \", *[f\"{d:<5}\" for d in decoded_seq[:len(tokenized_tag)]])\n",
                "        print(\"label: \", *[f\"{t:<5}\" for t in tokenized_tag])\n",
                "        print(\"text : \", sentence)\n",
                "        if i > 10:\n",
                "            break"
            ]
        },
        {
            "cell_type": "code",
            "execution_count": 55,
            "metadata": {},
            "outputs": [
                {
                    "name": "stdout",
                    "output_type": "stream",
                    "text": [
                        "--------------sentence 0\n",
                        "pred :  <bos> b-org i-org i-org o     o     o     b-tim o     o     o     o     o     o     o     o     o     o    \n",
                        "label:  b-org i-org i-org o     o     o     b-tim o     o     o     o     o     o     o     o     o     o     o    \n",
                        "text :  U Win Tin was arrested in 1989 and is serving a 20-year sentence for writing anti-government propaganda .\n",
                        "\n",
                        "--------------sentence 1\n",
                        "pred :  <bos> o     o     o     o     b-gpe o     o     o     o     o     o     o     b-tim o     o     o     b-per i-per i-per o    \n",
                        "label:  o     o     o     o     b-gpe o     o     o     o     o     o     o     b-tim o     o     o     b-per i-per i-per o     o    \n",
                        "text :  The last time the Vatican issued a vacant see stamp was in 1978 , when Pope John Paul I died .\n",
                        "\n",
                        "--------------sentence 2\n",
                        "pred :  <bos> o     o     o     o     b-gpe o     o     o     o     b-geo i-geo o     o     o     o     b-tim o     o     b-gpe o     o     o     b-geo i-geo\n",
                        "label:  o     o     o     o     b-gpe o     o     o     o     b-geo i-geo o     o     o     o     b-tim o     o     b-gpe o     o     o     b-geo i-geo o    \n",
                        "text :  Witnesses say a top Palestinian bombmaker for the militant Islamic Jihad group was killed late Sunday in an Israeli missile strike in Gaza City .\n",
                        "\n",
                        "--------------sentence 3\n",
                        "pred :  <bos> b-gpe o     o     o     o     o     o     o     o     o     o     o     o     o     o     o     o     o     o     o     o     o     o    \n",
                        "label:  b-gpe o     o     o     o     o     o     o     o     o     o     o     o     o     o     o     o     o     o     o     o     o     o     o    \n",
                        "text :  Pakistani police say a suicide bomber crashed an explosives-laden car into a police checkpoint killing at least three officers and wounding 17 others .\n",
                        "\n",
                        "--------------sentence 4\n",
                        "pred :  <bos> o     b-org i-org o     o     o     o    \n",
                        "label:  o     b-org i-org o     o     o     o     o    \n",
                        "text :  The Defense Department is investigating the accusations .\n",
                        "\n",
                        "--------------sentence 5\n",
                        "pred :  <bos> o     o     o     o     o     b-geo o     b-geo o     b-tim\n",
                        "label:  o     o     o     o     o     b-geo o     b-geo o     b-tim o    \n",
                        "text :  The pope will arrive in Darwin , Australia on Sunday .\n",
                        "\n",
                        "--------------sentence 6\n",
                        "pred :  <bos> o     o     o     o     o     o     o     o     o     b-org i-org o    \n",
                        "label:  o     o     o     o     o     o     o     o     o     b-org i-org o     o    \n",
                        "text :  Many of the protesters were supporters of the banned Muslim Brotherhood movement .\n",
                        "\n",
                        "--------------sentence 7\n",
                        "pred :  <bos> o     o     o     o     o     o     o     o     o     o     o     o     o     o     b-geo\n",
                        "label:  o     o     o     o     o     o     o     o     o     o     o     o     o     o     b-geo o    \n",
                        "text :  When told there was not enough fuel , he agreed to go to neighboring Chad .\n",
                        "\n",
                        "--------------sentence 8\n",
                        "pred :  <bos> b-org o     o     o     o     o     o     o     o     o    \n",
                        "label:  b-org o     o     o     o     o     o     o     o     o     o    \n",
                        "text :  Damascus has denied it played any role in the assassination .\n",
                        "\n",
                        "--------------sentence 9\n",
                        "pred :  <bos> o     o     o     o     o     o     o     o     b-geo i-geo o     o     o     o     o     o     o     o    \n",
                        "label:  o     o     o     o     o     o     o     o     b-geo i-geo o     o     o     o     o     o     o     o     o    \n",
                        "text :  An estimate 5,000 to 10,000 residents remain in New Orleans , despite contaminated floodwaters and several raging fires .\n",
                        "\n",
                        "--------------sentence 10\n",
                        "pred :  <bos> b-org o     o     o     o     o     o    \n",
                        "label:  b-org o     o     o     o     o     o     o    \n",
                        "text :  Ford is the world 's third-largest automaker .\n",
                        "\n",
                        "--------------sentence 11\n",
                        "pred :  <bos> b-gpe o     o     o     o     o     o     b-org i-org o     o     o     b-org i-org o     o     o     o     o     o     b-geo\n",
                        "label:  b-gpe o     o     o     o     o     o     b-org i-org o     o     o     b-org i-org o     o     o     o     o     o     b-geo o    \n",
                        "text :  Lebanese artillery and tanks continued to pound Fatah al-Islam militants inside the Nahr el-Bared refugee camp near the city of Tripoli .\n",
                        "\n"
                    ]
                }
            ],
            "source": [
                "baseline.eval()\n",
                "with torch.no_grad():\n",
                "    for i, (_, row) in enumerate(test_data.iterrows()):\n",
                "        sentence, tag = row['Text'], row['Label']\n",
                "        x = text_transform(tokenizer(sentence)).unsqueeze(0).to(DEVICE)\n",
                "        score = baseline(x).detach().cpu()\n",
                "        tag_seq = score.argmax(-1).numpy().flatten().tolist()\n",
                "        decoded_seq = label_vocab.lookup_tokens(tag_seq[:len(sentence.split())])\n",
                "        print(\"--------------sentence\", i)\n",
                "        print(\"pred : \", *[f\"{d:<5}\" for d in decoded_seq])\n",
                "        print(\"label: \", *[f\"{t:<5}\" for t in tokenizer(tag)])\n",
                "        print(\"text : \", sentence)\n",
                "        print()\n",
                "        if i > 10:\n",
                "            break"
            ]
        },
        {
            "cell_type": "markdown",
            "metadata": {},
            "source": [
                "# Evaluation\n"
            ]
        },
        {
            "cell_type": "markdown",
            "metadata": {},
            "source": [
                "## model"
            ]
        },
        {
            "cell_type": "code",
            "execution_count": 38,
            "metadata": {},
            "outputs": [],
            "source": [
                "evaluator = ClassificationEvaluator(NUM_CLASS, DEVICE, feature_dim=-1) # for crf, need to set reduction=None"
            ]
        },
        {
            "cell_type": "code",
            "execution_count": 39,
            "metadata": {},
            "outputs": [
                {
                    "name": "stderr",
                    "output_type": "stream",
                    "text": [
                        "100%|██████████| 75/75 [00:08<00:00,  8.99it/s]"
                    ]
                },
                {
                    "name": "stdout",
                    "output_type": "stream",
                    "text": [
                        "[[   0    0    0    0    0    0    0    0    0    0    0    0    0    0\n",
                        "     0    0    0    0    0    0    0]\n",
                        " [   0 9592    0    0    0    0    0    0    0    0    0    0    0    0\n",
                        "     0    0    0    0    0    0    0]\n",
                        " [   0    0 9270    0  310    3    0    0    2    0    0    2    3    2\n",
                        "     0    0    0    0    0    0    0]\n",
                        " [   0    0 9592    0 1602    2    1    0    0    2    0    0    0    1\n",
                        "     0    0    0    0    0    0    0]\n",
                        " [   0    0  455    0 9590  392  281  383  128  256  313   84   92  109\n",
                        "    10    7    1   10    7    4    3]\n",
                        " [   0    0   19    0  555 4198   27  314   33  105   24   53   71    3\n",
                        "     3    4    0    0    1    1    0]\n",
                        " [   0    0    4    0  463   46 3108    7    7    9    5    1    3   76\n",
                        "     1    3    0    0    0    0    0]\n",
                        " [   0    0    5    0  645  494   12 2116   48  148   73   46    4    4\n",
                        "     8    2    0    2    0    0    0]\n",
                        " [   0    0    4    0  175   14    2   31 1886  140  104    2   38    3\n",
                        "     0    0    1    0    0    0    0]\n",
                        " [   0    0    1    0  307  102    8  136  147 2167   48    9    6    2\n",
                        "     1    1    0    0    0    0    0]\n",
                        " [   0    0    3    0  519   52    4   90  124   52 1142    7   85    3\n",
                        "     2    0    4    1    0    0    0]\n",
                        " [   0    0    2    0  121  118    0   38    2    9    4 2374    4    0\n",
                        "     1    1    0    0    0    3    0]\n",
                        " [   0    0    5    0  169  102    2    6   43    6   76    4  892    1\n",
                        "     0    0    2    1    0    0    0]\n",
                        " [   0    0    3    0  186   13  103    1    1    1    4    1    2  628\n",
                        "     0    0    0    2    0    0    0]\n",
                        " [   0    0    0    0   33    8    0    8    0    2    2    3    1    0\n",
                        "     7    2    1    0    0    0    0]\n",
                        " [   0    0    0    0   21    5    3    7    0    2    1    3    0    1\n",
                        "     0   20    0    3    0    0    0]\n",
                        " [   0    0    1    0   16    4    1    1    2    2    8    0    3    0\n",
                        "     2    0    1    1    0    1    0]\n",
                        " [   0    0    0    0   16    1    4    2    3    1    5    0    2    1\n",
                        "     1    6    0    6    0    0    0]\n",
                        " [   0    0    0    0   20    3    0    0    1    2    0    1    0    0\n",
                        "     0    0    0    0   17    0    0]\n",
                        " [   0    0    0    0    3    1    0    0    0    1    3    4   10    0\n",
                        "     0    0    0    0    0   27    0]\n",
                        " [   0    0    0    0    5    0    0    0    0    0    0    0    0    0\n",
                        "     0    0    0    0    1    0    3]]\n"
                    ]
                },
                {
                    "name": "stderr",
                    "output_type": "stream",
                    "text": [
                        "\n"
                    ]
                }
            ],
            "source": [
                "confusion_matrix = evaluator.run(test_iter, model.foot) # for bilstm itself, use model.foot, otherwise use model"
            ]
        },
        {
            "cell_type": "code",
            "execution_count": 40,
            "metadata": {},
            "outputs": [
                {
                    "name": "stdout",
                    "output_type": "stream",
                    "text": [
                        "<unk>     : 0.0\n",
                        "<bos>     : 1.0\n",
                        "<eos>     : 0.9664303586321935\n",
                        "<pad>     : 0.0\n",
                        "o         : 0.7909278350515464\n",
                        "b-geo     : 0.7758270190352985\n",
                        "b-tim     : 0.8325743369943746\n",
                        "b-org     : 0.5866370945383975\n",
                        "i-per     : 0.7858333333333334\n",
                        "b-per     : 0.7383304940374787\n",
                        "i-org     : 0.5469348659003831\n",
                        "b-gpe     : 0.8868135973104221\n",
                        "i-geo     : 0.6814362108479756\n",
                        "i-tim     : 0.6645502645502646\n",
                        "b-art     : 0.1044776119402985\n",
                        "b-eve     : 0.30303030303030304\n",
                        "i-art     : 0.023255813953488372\n",
                        "i-eve     : 0.125\n",
                        "b-nat     : 0.38636363636363635\n",
                        "i-gpe     : 0.5510204081632653\n",
                        "i-nat     : 0.3333333333333333\n"
                    ]
                },
                {
                    "name": "stderr",
                    "output_type": "stream",
                    "text": [
                        "d:\\research\\pytorch-implementations\\.venv\\Lib\\site-packages\\torchlake\\common\\controller\\evaluator.py:110: RuntimeWarning: invalid value encountered in divide\n",
                        "  return np.where(total == 0, 0, hits / total)\n"
                    ]
                }
            ],
            "source": [
                "per_class_acc = evaluator.get_per_class_accuracy(confusion_matrix)\n",
                "evaluator.show_per_class_accuracy(label_vocab.get_itos(), per_class_acc)"
            ]
        },
        {
            "cell_type": "code",
            "execution_count": 41,
            "metadata": {},
            "outputs": [
                {
                    "data": {
                        "text/plain": [
                            "0.5362556563755176"
                        ]
                    },
                    "execution_count": 41,
                    "metadata": {},
                    "output_type": "execute_result"
                }
            ],
            "source": [
                "per_class_acc[4:].mean()"
            ]
        },
        {
            "cell_type": "code",
            "execution_count": 43,
            "metadata": {},
            "outputs": [
                {
                    "name": "stderr",
                    "output_type": "stream",
                    "text": [
                        "d:\\research\\pytorch-implementations\\.venv\\Lib\\site-packages\\torchlake\\common\\controller\\evaluator.py:129: RuntimeWarning: invalid value encountered in divide\n",
                        "  percentage = np.where(total == 0, 0, hits / total)\n"
                    ]
                },
                {
                    "data": {
                        "image/png": "[encoded data removed]",
                        "text/plain": [
                            "<Figure size 800x600 with 2 Axes>"
                        ]
                    },
                    "metadata": {},
                    "output_type": "display_data"
                }
            ],
            "source": [
                "evaluator.plot_confusion_matrix(\n",
                "    confusion_matrix,\n",
                "    label_vocab.get_itos(),\n",
                "    \"Blues\",\n",
                "    annot=False,\n",
                "    figsize=(8, 6),\n",
                ")"
            ]
        },
        {
            "cell_type": "markdown",
            "metadata": {},
            "source": [
                "## baseline"
            ]
        },
        {
            "cell_type": "code",
            "execution_count": 89,
            "metadata": {},
            "outputs": [],
            "source": [
                "evaluator = ClassificationEvaluator(NUM_CLASS, DEVICE, feature_dim=-1)"
            ]
        },
        {
            "cell_type": "code",
            "execution_count": 90,
            "metadata": {},
            "outputs": [
                {
                    "name": "stderr",
                    "output_type": "stream",
                    "text": [
                        "100%|██████████| 75/75 [00:05<00:00, 14.57it/s]"
                    ]
                },
                {
                    "name": "stdout",
                    "output_type": "stream",
                    "text": [
                        "[[   0    0    0    0    0    0    0    0    0    0    0    0    0    0\n",
                        "     0    0    0    0    0    0    0]\n",
                        " [   0 9592    0    0    0    0    0    0    0    0    0    0    0    0\n",
                        "     0    0    0    0    0    0    0]\n",
                        " [   0    0 9282    0  293    7    4    0    2    0    1    0    1    2\n",
                        "     0    0    0    0    0    0    0]\n",
                        " [   0    0 9592    0 1163    0    0    0    0    0    0    0    1    2\n",
                        "     0    0    0    0    0    0    0]\n",
                        " [   0    0  447    0 9590  385  236  388  157  240  327   89   96  138\n",
                        "     7    5    4    6    4    2    2]\n",
                        " [   0    0   23    0  577 4206   30  308   34   96   31   55   53    4\n",
                        "     2    1    0    0    1    0    0]\n",
                        " [   0    0    5    0  463   44 3098    9    7    6    9    1    1   73\n",
                        "     1    1    0    1    0    0    0]\n",
                        " [   0    0    6    0  663  465   18 2116   53  158   80   48    8    2\n",
                        "     5    3    1    2    0    0    0]\n",
                        " [   0    0    4    0  165   12    4   29 1904  132  101    2   27    4\n",
                        "     0    0    2    0    0    1    0]\n",
                        " [   0    0    2    0  302   99    6  138  155 2159   50    8    6    1\n",
                        "     2    0    2    0    0    1    0]\n",
                        " [   0    0    3    0  532   61    2   89  143   49 1137    9   79    0\n",
                        "     1    1    5    2    1    0    0]\n",
                        " [   0    0    1    0  130  111    2   39    2    7    3 2375    6    2\n",
                        "     0    1    0    0    0    2    0]\n",
                        " [   0    0    5    0  168  114    3    6   39    8   82    2  877    1\n",
                        "     0    0    2    0    0    1    0]\n",
                        " [   0    0    2    0  189    9  105    2    5    2    4    0    1  628\n",
                        "     0    1    0    2    0    0    0]\n",
                        " [   0    0    0    0   38   12    1    7    0    2    2    3    1    0\n",
                        "     4    0    0    0    0    0    0]\n",
                        " [   0    0    0    0   19    4    3    7    0    2    2    4    0    0\n",
                        "     0   19    0    6    0    0    0]\n",
                        " [   0    0    2    0   19    2    1    0    2    1   10    1    6    0\n",
                        "     0    0    0    0    0    0    0]\n",
                        " [   0    0    0    0   15    1    3    0    2    0    7    0    2    0\n",
                        "     0    7    0    9    0    0    0]\n",
                        " [   0    0    0    0   16    7    1    1    0    2    1    0    0    0\n",
                        "     1    0    0    0   15    0    0]\n",
                        " [   0    0    0    0    6    0    0    0    1    0    4    3    8    0\n",
                        "     0    0    0    0    0   26    0]\n",
                        " [   0    0    0    0    4    1    0    0    0    0    0    0    0    0\n",
                        "     0    0    1    0    2    0    1]]\n"
                    ]
                },
                {
                    "name": "stderr",
                    "output_type": "stream",
                    "text": [
                        "\n"
                    ]
                }
            ],
            "source": [
                "confusion_matrix = evaluator.run(test_iter, baseline)"
            ]
        },
        {
            "cell_type": "code",
            "execution_count": 91,
            "metadata": {},
            "outputs": [
                {
                    "name": "stdout",
                    "output_type": "stream",
                    "text": [
                        "<unk>     : 0.0\n",
                        "<bos>     : 1.0\n",
                        "<eos>     : 0.9676814011676397\n",
                        "<pad>     : 0.0\n",
                        "o         : 0.7910583188979625\n",
                        "b-geo     : 0.7758716104039846\n",
                        "b-tim     : 0.8330196289325087\n",
                        "b-org     : 0.5832414553472988\n",
                        "i-per     : 0.7976539589442815\n",
                        "b-per     : 0.7366086659843057\n",
                        "i-org     : 0.5378429517502366\n",
                        "b-gpe     : 0.8858634837747109\n",
                        "i-geo     : 0.6704892966360856\n",
                        "i-tim     : 0.6610526315789473\n",
                        "b-art     : 0.05714285714285714\n",
                        "b-eve     : 0.2878787878787879\n",
                        "i-art     : 0.0\n",
                        "i-eve     : 0.1956521739130435\n",
                        "b-nat     : 0.3409090909090909\n",
                        "i-gpe     : 0.5416666666666666\n",
                        "i-nat     : 0.1111111111111111\n"
                    ]
                },
                {
                    "name": "stderr",
                    "output_type": "stream",
                    "text": [
                        "d:\\research\\pytorch-implementations\\.venv\\Lib\\site-packages\\torchlake\\common\\controller\\evaluator.py:110: RuntimeWarning: invalid value encountered in divide\n",
                        "  return np.where(total == 0, 0, hits / total)\n"
                    ]
                }
            ],
            "source": [
                "per_class_acc = evaluator.get_per_class_accuracy(confusion_matrix)\n",
                "evaluator.show_per_class_accuracy(label_vocab.get_itos(), per_class_acc)"
            ]
        },
        {
            "cell_type": "code",
            "execution_count": 92,
            "metadata": {},
            "outputs": [
                {
                    "data": {
                        "text/plain": [
                            "0.518062511168934"
                        ]
                    },
                    "execution_count": 92,
                    "metadata": {},
                    "output_type": "execute_result"
                }
            ],
            "source": [
                "per_class_acc[4:].mean()"
            ]
        },
        {
            "cell_type": "code",
            "execution_count": 93,
            "metadata": {},
            "outputs": [
                {
                    "name": "stderr",
                    "output_type": "stream",
                    "text": [
                        "d:\\research\\pytorch-implementations\\.venv\\Lib\\site-packages\\torchlake\\common\\controller\\evaluator.py:129: RuntimeWarning: invalid value encountered in divide\n",
                        "  percentage = np.where(total == 0, 0, hits / total)\n"
                    ]
                },
                {
                    "data": {
                        "image/png": "[encoded data removed]",
                        "text/plain": [
                            "<Figure size 800x600 with 2 Axes>"
                        ]
                    },
                    "metadata": {},
                    "output_type": "display_data"
                }
            ],
            "source": [
                "evaluator.plot_confusion_matrix(\n",
                "    confusion_matrix,\n",
                "    label_vocab.get_itos(),\n",
                "    \"Blues\",\n",
                "    annot=False,\n",
                "    figsize=(8, 6),\n",
                ")"
            ]
        },
        {
            "cell_type": "markdown",
            "metadata": {},
            "source": [
                "# Visualization\n"
            ]
        },
        {
            "cell_type": "code",
            "execution_count": 71,
            "metadata": {},
            "outputs": [
                {
                    "data": {
                        "text/plain": [
                            "<Axes: title={'center': 'transition probability'}>"
                        ]
                    },
                    "execution_count": 71,
                    "metadata": {},
                    "output_type": "execute_result"
                },
                {
                    "data": {
                        "image/png": "[encoded data removed]",
                        "text/plain": [
                            "<Figure size 800x600 with 2 Axes>"
                        ]
                    },
                    "metadata": {},
                    "output_type": "display_data"
                }
            ],
            "source": [
                "plt.figure(figsize=(8, 6))\n",
                "plt.title('transition probability')\n",
                "heatmap(\n",
                "    model.head.transition\n",
                "    .softmax(-1)\n",
                "    .clone()\n",
                "    .detach()\n",
                "    .cpu()\n",
                "    .numpy(),\n",
                "    xticklabels=label_vocab.get_itos(),\n",
                "    yticklabels=label_vocab.get_itos(),\n",
                "    cmap=\"Reds\",\n",
                ")"
            ]
        },
        {
            "cell_type": "code",
            "execution_count": null,
            "metadata": {},
            "outputs": [],
            "source": []
        }
    ],
    "metadata": {
        "kernelspec": {
            "display_name": ".venv",
            "language": "python",
            "name": "python3"
        },
        "language_info": {
            "codemirror_mode": {
                "name": "ipython",
                "version": 3
            },
            "file_extension": ".py",
            "mimetype": "text/x-python",
            "name": "python",
            "nbconvert_exporter": "python",
            "pygments_lexer": "ipython3",
            "version": "3.11.4"
        }
    },
    "nbformat": 4,
    "nbformat_minor": 4
}