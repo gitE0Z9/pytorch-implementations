{
    "cells": [
        {
            "cell_type": "code",
            "execution_count": 1,
            "metadata": {},
            "outputs": [],
            "source": [
                "from pathlib import Path\n",
                "\n",
                "import matplotlib.pyplot as plt\n",
                "import torch\n",
                "import torchinfo\n",
                "import torchvision\n",
                "from torch.utils.data import DataLoader\n",
                "from torchlake.common.constants import IMAGENET_MEAN, IMAGENET_STD\n",
                "from torchlake.common.controller.trainer import ClassificationTrainer\n",
                "from torchlake.common.controller.evaluator import ClassificationEvaluator\n",
                "from torchlake.common.utils.platform import get_num_workers, get_file_size\n",
                "from torchlake.image_classification.models.bam import BAMResNet\n",
                "from torchvision import transforms"
            ]
        },
        {
            "cell_type": "markdown",
            "metadata": {},
            "source": [
                "# Setting"
            ]
        },
        {
            "cell_type": "code",
            "execution_count": 2,
            "metadata": {},
            "outputs": [],
            "source": [
                "IMAGE_SIZE = 224\n",
                "BATCH_SIZE = 16"
            ]
        },
        {
            "cell_type": "code",
            "execution_count": 3,
            "metadata": {},
            "outputs": [],
            "source": [
                "artifact_path = Path(\"../../artifacts/bam\")\n",
                "data_path = Path(\"../../data/animal10\")"
            ]
        },
        {
            "cell_type": "code",
            "execution_count": 4,
            "metadata": {},
            "outputs": [],
            "source": [
                "device = torch.device(\"cuda:0\")"
            ]
        },
        {
            "cell_type": "markdown",
            "metadata": {},
            "source": [
                "# data"
            ]
        },
        {
            "cell_type": "code",
            "execution_count": 5,
            "metadata": {},
            "outputs": [],
            "source": [
                "preprocess = transforms.Compose(\n",
                "    [\n",
                "        transforms.RandomHorizontalFlip(),\n",
                "        transforms.ColorJitter(),\n",
                "        transforms.Resize((IMAGE_SIZE, IMAGE_SIZE)),\n",
                "        transforms.ToTensor(),\n",
                "        transforms.Normalize(IMAGENET_MEAN, IMAGENET_STD),\n",
                "    ]\n",
                ")"
            ]
        },
        {
            "cell_type": "code",
            "execution_count": 6,
            "metadata": {},
            "outputs": [],
            "source": [
                "dataset = torchvision.datasets.ImageFolder(\n",
                "    data_path.as_posix(),\n",
                "    transform=preprocess,\n",
                ")"
            ]
        },
        {
            "cell_type": "code",
            "execution_count": 7,
            "metadata": {},
            "outputs": [],
            "source": [
                "train_loader = DataLoader(\n",
                "    dataset,\n",
                "    batch_size=BATCH_SIZE,\n",
                "    shuffle=True,\n",
                "    drop_last=True,\n",
                "    pin_memory=True,\n",
                "    num_workers=get_num_workers(),\n",
                ")"
            ]
        },
        {
            "cell_type": "code",
            "execution_count": 8,
            "metadata": {},
            "outputs": [],
            "source": [
                "num_class = len(dataset.classes)"
            ]
        },
        {
            "cell_type": "markdown",
            "metadata": {},
            "source": [
                "# model"
            ]
        },
        {
            "cell_type": "code",
            "execution_count": 9,
            "metadata": {},
            "outputs": [],
            "source": [
                "model = BAMResNet(output_size=num_class, key=50).to(device)"
            ]
        },
        {
            "cell_type": "code",
            "execution_count": 10,
            "metadata": {},
            "outputs": [
                {
                    "data": {
                        "text/plain": [
                            "===========================================================================\n",
                            "Layer (type:depth-idx)                             Param #\n",
                            "===========================================================================\n",
                            "BamResNet                                          --\n",
                            "├─Sequential: 1-1                                  --\n",
                            "│    └─ConvBnRelu: 2-1                             --\n",
                            "│    │    └─Conv2d: 3-1                            9,408\n",
                            "│    │    └─BatchNorm2d: 3-2                       128\n",
                            "│    │    └─ReLU: 3-3                              --\n",
                            "│    └─MaxPool2d: 2-2                              --\n",
                            "├─Sequential: 1-2                                  --\n",
                            "│    └─ResBlock: 2-3                               --\n",
                            "│    │    └─BottleNeck: 3-4                        58,112\n",
                            "│    │    └─ConvBnRelu: 3-5                        16,896\n",
                            "│    └─ResBlock: 2-4                               --\n",
                            "│    │    └─BottleNeck: 3-6                        70,400\n",
                            "│    │    └─Identity: 3-7                          --\n",
                            "│    └─ResBlock: 2-5                               --\n",
                            "│    │    └─BottleNeck: 3-8                        70,400\n",
                            "│    │    └─Identity: 3-9                          --\n",
                            "├─Sequential: 1-3                                  --\n",
                            "│    └─ResBlock: 2-6                               --\n",
                            "│    │    └─BottleNeck: 3-10                       247,296\n",
                            "│    │    └─ConvBnRelu: 3-11                       132,096\n",
                            "│    └─ResBlock: 2-7                               --\n",
                            "│    │    └─BottleNeck: 3-12                       280,064\n",
                            "│    │    └─Identity: 3-13                         --\n",
                            "│    └─ResBlock: 2-8                               --\n",
                            "│    │    └─BottleNeck: 3-14                       280,064\n",
                            "│    │    └─Identity: 3-15                         --\n",
                            "│    └─ResBlock: 2-9                               --\n",
                            "│    │    └─BottleNeck: 3-16                       280,064\n",
                            "│    │    └─Identity: 3-17                         --\n",
                            "│    └─Bam2d: 2-10                                 --\n",
                            "│    │    └─Sequential: 3-18                       33,824\n",
                            "│    │    └─Sequential: 3-19                       34,946\n",
                            "│    └─MaxPool2d: 2-11                             --\n",
                            "├─Sequential: 1-4                                  --\n",
                            "│    └─ResBlock: 2-12                              --\n",
                            "│    │    └─BottleNeck: 3-20                       986,112\n",
                            "│    │    └─ConvBnRelu: 3-21                       526,336\n",
                            "│    └─ResBlock: 2-13                              --\n",
                            "│    │    └─BottleNeck: 3-22                       1,117,184\n",
                            "│    │    └─Identity: 3-23                         --\n",
                            "│    └─ResBlock: 2-14                              --\n",
                            "│    │    └─BottleNeck: 3-24                       1,117,184\n",
                            "│    │    └─Identity: 3-25                         --\n",
                            "│    └─ResBlock: 2-15                              --\n",
                            "│    │    └─BottleNeck: 3-26                       1,117,184\n",
                            "│    │    └─Identity: 3-27                         --\n",
                            "│    └─ResBlock: 2-16                              --\n",
                            "│    │    └─BottleNeck: 3-28                       1,117,184\n",
                            "│    │    └─Identity: 3-29                         --\n",
                            "│    └─ResBlock: 2-17                              --\n",
                            "│    │    └─BottleNeck: 3-30                       1,117,184\n",
                            "│    │    └─Identity: 3-31                         --\n",
                            "│    └─Bam2d: 2-18                                 --\n",
                            "│    │    └─Sequential: 3-32                       133,184\n",
                            "│    │    └─Sequential: 3-33                       139,522\n",
                            "│    └─MaxPool2d: 2-19                             --\n",
                            "├─Sequential: 1-5                                  --\n",
                            "│    └─ResBlock: 2-20                              --\n",
                            "│    │    └─BottleNeck: 3-34                       3,938,304\n",
                            "│    │    └─ConvBnRelu: 3-35                       2,101,248\n",
                            "│    └─ResBlock: 2-21                              --\n",
                            "│    │    └─BottleNeck: 3-36                       4,462,592\n",
                            "│    │    └─Identity: 3-37                         --\n",
                            "│    └─ResBlock: 2-22                              --\n",
                            "│    │    └─BottleNeck: 3-38                       4,462,592\n",
                            "│    │    └─Identity: 3-39                         --\n",
                            "├─Sequential: 1-6                                  --\n",
                            "│    └─AdaptiveAvgPool2d: 2-23                     --\n",
                            "│    └─Flatten: 2-24                               --\n",
                            "├─Linear: 1-7                                      20,490\n",
                            "===========================================================================\n",
                            "Total params: 23,869,998\n",
                            "Trainable params: 23,869,998\n",
                            "Non-trainable params: 0\n",
                            "==========================================================================="
                        ]
                    },
                    "execution_count": 10,
                    "metadata": {},
                    "output_type": "execute_result"
                }
            ],
            "source": [
                "torchinfo.summary(model)"
            ]
        },
        {
            "cell_type": "markdown",
            "metadata": {},
            "source": [
                "# training"
            ]
        },
        {
            "cell_type": "code",
            "execution_count": 11,
            "metadata": {},
            "outputs": [],
            "source": [
                "epochs = 10\n",
                "acc_iters = 64 // BATCH_SIZE"
            ]
        },
        {
            "cell_type": "code",
            "execution_count": 12,
            "metadata": {},
            "outputs": [],
            "source": [
                "trainer = ClassificationTrainer(epochs, device, acc_iters)"
            ]
        },
        {
            "cell_type": "code",
            "execution_count": 13,
            "metadata": {},
            "outputs": [],
            "source": [
                "criterion = trainer.get_criterion(num_class)\n",
                "optim = torch.optim.Adam(model.parameters(), weight_decay=1e-5)"
            ]
        },
        {
            "cell_type": "code",
            "execution_count": 14,
            "metadata": {},
            "outputs": [
                {
                    "name": "stderr",
                    "output_type": "stream",
                    "text": [
                        "  0%|          | 0/1636 [00:00<?, ?it/s]"
                    ]
                },
                {
                    "name": "stderr",
                    "output_type": "stream",
                    "text": [
                        "100%|██████████| 1636/1636 [08:24<00:00,  3.25it/s]\n"
                    ]
                },
                {
                    "name": "stdout",
                    "output_type": "stream",
                    "text": [
                        "epoch 1 : 0.02800877321987415\n"
                    ]
                },
                {
                    "name": "stderr",
                    "output_type": "stream",
                    "text": [
                        "100%|██████████| 1636/1636 [05:12<00:00,  5.23it/s]\n"
                    ]
                },
                {
                    "name": "stdout",
                    "output_type": "stream",
                    "text": [
                        "epoch 2 : 0.021557943270402825\n"
                    ]
                },
                {
                    "name": "stderr",
                    "output_type": "stream",
                    "text": [
                        "100%|██████████| 1636/1636 [05:02<00:00,  5.40it/s]\n"
                    ]
                },
                {
                    "name": "stdout",
                    "output_type": "stream",
                    "text": [
                        "epoch 3 : 0.017967309021734813\n"
                    ]
                },
                {
                    "name": "stderr",
                    "output_type": "stream",
                    "text": [
                        "100%|██████████| 1636/1636 [04:58<00:00,  5.48it/s]\n"
                    ]
                },
                {
                    "name": "stdout",
                    "output_type": "stream",
                    "text": [
                        "epoch 4 : 0.015392963608275998\n"
                    ]
                },
                {
                    "name": "stderr",
                    "output_type": "stream",
                    "text": [
                        "100%|██████████| 1636/1636 [04:58<00:00,  5.48it/s]\n"
                    ]
                },
                {
                    "name": "stdout",
                    "output_type": "stream",
                    "text": [
                        "epoch 5 : 0.013681148036558427\n"
                    ]
                },
                {
                    "name": "stderr",
                    "output_type": "stream",
                    "text": [
                        "100%|██████████| 1636/1636 [04:57<00:00,  5.50it/s]\n"
                    ]
                },
                {
                    "name": "stdout",
                    "output_type": "stream",
                    "text": [
                        "epoch 6 : 0.012090959992802823\n"
                    ]
                },
                {
                    "name": "stderr",
                    "output_type": "stream",
                    "text": [
                        "100%|██████████| 1636/1636 [04:59<00:00,  5.47it/s]\n"
                    ]
                },
                {
                    "name": "stdout",
                    "output_type": "stream",
                    "text": [
                        "epoch 7 : 0.01083882333385453\n"
                    ]
                },
                {
                    "name": "stderr",
                    "output_type": "stream",
                    "text": [
                        "100%|██████████| 1636/1636 [04:57<00:00,  5.50it/s]\n"
                    ]
                },
                {
                    "name": "stdout",
                    "output_type": "stream",
                    "text": [
                        "epoch 8 : 0.009901810960598235\n"
                    ]
                },
                {
                    "name": "stderr",
                    "output_type": "stream",
                    "text": [
                        "100%|██████████| 1636/1636 [04:51<00:00,  5.62it/s]\n"
                    ]
                },
                {
                    "name": "stdout",
                    "output_type": "stream",
                    "text": [
                        "epoch 9 : 0.008777543187538768\n"
                    ]
                },
                {
                    "name": "stderr",
                    "output_type": "stream",
                    "text": [
                        "100%|██████████| 1636/1636 [04:51<00:00,  5.62it/s]"
                    ]
                },
                {
                    "name": "stdout",
                    "output_type": "stream",
                    "text": [
                        "epoch 10 : 0.007986737900815761\n"
                    ]
                },
                {
                    "name": "stderr",
                    "output_type": "stream",
                    "text": [
                        "\n"
                    ]
                }
            ],
            "source": [
                "training_loss = trainer.run(train_loader, model, optim, criterion)"
            ]
        },
        {
            "cell_type": "code",
            "execution_count": 15,
            "metadata": {},
            "outputs": [
                {
                    "data": {
                        "text/plain": [
                            "[<matplotlib.lines.Line2D at 0x22f76c77c50>]"
                        ]
                    },
                    "execution_count": 15,
                    "metadata": {},
                    "output_type": "execute_result"
                },
                {
                    "data": {
                        "image/png": "[encoded data removed]",
                        "text/plain": [
                            "<Figure size 640x480 with 1 Axes>"
                        ]
                    },
                    "metadata": {},
                    "output_type": "display_data"
                }
            ],
            "source": [
                "plt.plot(training_loss)"
            ]
        },
        {
            "cell_type": "markdown",
            "metadata": {},
            "source": [
                "# inference"
            ]
        },
        {
            "cell_type": "code",
            "execution_count": 16,
            "metadata": {},
            "outputs": [],
            "source": [
                "test_preprocess = transforms.Compose([\n",
                "    transforms.Resize((IMAGE_SIZE, IMAGE_SIZE)),\n",
                "    transforms.ToTensor(),\n",
                "    transforms.Normalize(IMAGENET_MEAN, IMAGENET_STD),\n",
                "])"
            ]
        },
        {
            "cell_type": "code",
            "execution_count": 17,
            "metadata": {},
            "outputs": [],
            "source": [
                "test_dataset = torchvision.datasets.ImageFolder(\n",
                "    data_path.as_posix(),\n",
                "    transform=test_preprocess,\n",
                ")"
            ]
        },
        {
            "cell_type": "code",
            "execution_count": 18,
            "metadata": {},
            "outputs": [],
            "source": [
                "test_loader = DataLoader(\n",
                "    test_dataset,\n",
                "    batch_size=BATCH_SIZE,\n",
                "    pin_memory=True,\n",
                "    num_workers=get_num_workers(),\n",
                ")"
            ]
        },
        {
            "cell_type": "code",
            "execution_count": 19,
            "metadata": {},
            "outputs": [],
            "source": [
                "evaluator = ClassificationEvaluator(num_class, device)"
            ]
        },
        {
            "cell_type": "code",
            "execution_count": 20,
            "metadata": {},
            "outputs": [
                {
                    "name": "stderr",
                    "output_type": "stream",
                    "text": [
                        "100%|██████████| 1637/1637 [02:20<00:00, 11.64it/s]"
                    ]
                },
                {
                    "name": "stdout",
                    "output_type": "stream",
                    "text": [
                        "[[3824  362  212   16   29  142  108   55   74   41]\n",
                        " [  36 2380   77    6    4    6   68   22   21    3]\n",
                        " [   4   27 1369    2    4    1    8    9   15    7]\n",
                        " [  14   39    7 1708    6    2    4    1  314   17]\n",
                        " [  81   75   37   29 2693   37   26   25   62   33]\n",
                        " [ 162   26   51    8    7 1286   10    6   66   46]\n",
                        " [  50  176  128    2    1    2 1424   72    7    4]\n",
                        " [  47   66  118    1   12   21  119 1377   30   29]\n",
                        " [  36   29   16   49   11   11    7    1 4648   13]\n",
                        " [  38   28   50    7   13   16   14   11  121 1564]]\n"
                    ]
                },
                {
                    "name": "stderr",
                    "output_type": "stream",
                    "text": [
                        "\n"
                    ]
                }
            ],
            "source": [
                "confusion_matrix = evaluator.run(test_loader, model)"
            ]
        },
        {
            "cell_type": "code",
            "execution_count": 21,
            "metadata": {},
            "outputs": [
                {
                    "name": "stdout",
                    "output_type": "stream",
                    "text": [
                        "cane      : 0.7863458770306395\n",
                        "cavallo   : 0.9073579870377431\n",
                        "elefante  : 0.9467496542185339\n",
                        "farfalla  : 0.8087121212121212\n",
                        "gallina   : 0.8692704970948999\n",
                        "gatto     : 0.7709832134292566\n",
                        "mucca     : 0.7631296891747053\n",
                        "pecora    : 0.7565934065934066\n",
                        "ragno     : 0.9641153287699648\n",
                        "scoiattolo: 0.8399570354457573\n"
                    ]
                }
            ],
            "source": [
                "per_class_acc = evaluator.get_per_class_accuracy(confusion_matrix)\n",
                "evaluator.show_per_class_accuracy(test_dataset.classes, per_class_acc)"
            ]
        },
        {
            "cell_type": "code",
            "execution_count": 22,
            "metadata": {},
            "outputs": [
                {
                    "data": {
                        "text/plain": [
                            "0.8413214810007027"
                        ]
                    },
                    "execution_count": 22,
                    "metadata": {},
                    "output_type": "execute_result"
                }
            ],
            "source": [
                "per_class_acc.mean()"
            ]
        },
        {
            "cell_type": "code",
            "execution_count": 23,
            "metadata": {},
            "outputs": [
                {
                    "data": {
                        "image/png": "[encoded data removed]",
                        "text/plain": [
                            "<Figure size 600x400 with 2 Axes>"
                        ]
                    },
                    "metadata": {},
                    "output_type": "display_data"
                }
            ],
            "source": [
                "evaluator.plot_confusion_matrix(\n",
                "    confusion_matrix,\n",
                "    test_dataset.classes,\n",
                "    \"Blues\",\n",
                "    annot=False,\n",
                "    figsize=(6, 4),\n",
                ")"
            ]
        },
        {
            "cell_type": "code",
            "execution_count": 24,
            "metadata": {},
            "outputs": [],
            "source": [
                "model_path = artifact_path / 'bam-resnet50.pth'"
            ]
        },
        {
            "cell_type": "code",
            "execution_count": 25,
            "metadata": {},
            "outputs": [],
            "source": [
                "torch.save(model.state_dict(), model_path)"
            ]
        },
        {
            "cell_type": "code",
            "execution_count": 26,
            "metadata": {},
            "outputs": [
                {
                    "data": {
                        "text/plain": [
                            "'91.38MB'"
                        ]
                    },
                    "execution_count": 26,
                    "metadata": {},
                    "output_type": "execute_result"
                }
            ],
            "source": [
                "get_file_size(model_path)"
            ]
        },
        {
            "cell_type": "code",
            "execution_count": 27,
            "metadata": {},
            "outputs": [
                {
                    "data": {
                        "text/plain": [
                            "<All keys matched successfully>"
                        ]
                    },
                    "execution_count": 27,
                    "metadata": {},
                    "output_type": "execute_result"
                }
            ],
            "source": [
                "model.load_state_dict(torch.load(model_path.as_posix()))"
            ]
        },
        {
            "cell_type": "code",
            "execution_count": null,
            "metadata": {},
            "outputs": [],
            "source": []
        }
    ],
    "metadata": {
        "kernelspec": {
            "display_name": ".venv",
            "language": "python",
            "name": "python3"
        },
        "language_info": {
            "codemirror_mode": {
                "name": "ipython",
                "version": 3
            },
            "file_extension": ".py",
            "mimetype": "text/x-python",
            "name": "python",
            "nbconvert_exporter": "python",
            "pygments_lexer": "ipython3",
            "version": "3.11.4"
        }
    },
    "nbformat": 4,
    "nbformat_minor": 2
}