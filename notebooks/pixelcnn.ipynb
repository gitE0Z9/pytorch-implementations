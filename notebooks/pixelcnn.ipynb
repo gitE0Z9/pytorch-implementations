{
 "cells": [
  {
   "cell_type": "code",
   "execution_count": 1,
   "metadata": {},
   "outputs": [],
   "source": [
    "from pathlib import Path\n",
    "\n",
    "import matplotlib.pyplot as plt\n",
    "import torch\n",
    "import torchvision\n",
    "from torch import nn\n",
    "from torch.utils.data import DataLoader\n",
    "from torchlake.image_generation.controllers.trainer_pixelcnn import PixelCNNTrainer\n",
    "from torchlake.image_generation.controllers.predictor_pixelcnn import PixelCNNPredictor\n",
    "from torchlake.common.utils.convert import img_tensor_to_np\n",
    "from torchlake.common.utils.plot import plot_grids\n",
    "from torchlake.common.utils.platform import get_num_workers\n",
    "from torchlake.image_generation.models.pixelcnn import PixelCNN\n",
    "from torchvision import transforms\n",
    "from tqdm import tqdm"
   ]
  },
  {
   "cell_type": "markdown",
   "metadata": {},
   "source": [
    "# Setting"
   ]
  },
  {
   "cell_type": "code",
   "execution_count": 2,
   "metadata": {},
   "outputs": [],
   "source": [
    "IMAGE_SIZE = 28\n",
    "BATCH_SIZE = 128"
   ]
  },
  {
   "cell_type": "code",
   "execution_count": 3,
   "metadata": {},
   "outputs": [],
   "source": [
    "artifact_path = Path(\"../../artifacts/pixelcnn\")\n",
    "artifact_path.mkdir(exist_ok=True)\n",
    "\n",
    "data_path = Path(\"../../data/mnist\")"
   ]
  },
  {
   "cell_type": "code",
   "execution_count": 4,
   "metadata": {},
   "outputs": [],
   "source": [
    "DEVICE = torch.device(\"cuda:0\")"
   ]
  },
  {
   "cell_type": "markdown",
   "metadata": {},
   "source": [
    "# Data"
   ]
  },
  {
   "cell_type": "code",
   "execution_count": 5,
   "metadata": {},
   "outputs": [],
   "source": [
    "preprocess = transforms.Compose(\n",
    "    [\n",
    "        transforms.ToTensor(),\n",
    "    ]\n",
    ")"
   ]
  },
  {
   "cell_type": "code",
   "execution_count": 6,
   "metadata": {},
   "outputs": [],
   "source": [
    "train_data = torchvision.datasets.MNIST(\n",
    "    root=data_path.as_posix(),\n",
    "    train=True,\n",
    "    transform=preprocess,\n",
    "    download=True,\n",
    ")"
   ]
  },
  {
   "cell_type": "code",
   "execution_count": 7,
   "metadata": {},
   "outputs": [
    {
     "data": {
      "text/plain": [
       "<matplotlib.image.AxesImage at 0x1e520d71690>"
      ]
     },
     "execution_count": 7,
     "metadata": {},
     "output_type": "execute_result"
    },
    {
     "data": {
      "image/png": "[encoded data removed]",
      "text/plain": [
       "<Figure size 300x300 with 1 Axes>"
      ]
     },
     "metadata": {},
     "output_type": "display_data"
    }
   ],
   "source": [
    "plt.figure(figsize=(3, 3))\n",
    "plt.imshow(img_tensor_to_np(train_data[0][0]), cmap=\"gray\")"
   ]
  },
  {
   "cell_type": "code",
   "execution_count": 8,
   "metadata": {},
   "outputs": [],
   "source": [
    "def collate_fn(batch):\n",
    "    x, y = [], []\n",
    "    for img, _ in batch:\n",
    "        x.append(img)\n",
    "        y.append(img)\n",
    "        \n",
    "    return torch.stack(x), torch.stack(y).mul_(255).long().view(-1, IMAGE_SIZE, IMAGE_SIZE)"
   ]
  },
  {
   "cell_type": "code",
   "execution_count": 9,
   "metadata": {},
   "outputs": [],
   "source": [
    "train_loader = DataLoader(\n",
    "    train_data,\n",
    "    batch_size=BATCH_SIZE,\n",
    "    shuffle=True,\n",
    "    drop_last=True,\n",
    "    pin_memory=True,\n",
    "    collate_fn=collate_fn,\n",
    "    num_workers=get_num_workers(),\n",
    ")"
   ]
  },
  {
   "cell_type": "code",
   "execution_count": 10,
   "metadata": {},
   "outputs": [
    {
     "name": "stdout",
     "output_type": "stream",
     "text": [
      "torch.Size([128, 1, 28, 28]) torch.Size([128, 28, 28])\n"
     ]
    }
   ],
   "source": [
    "for x, y in train_loader:\n",
    "    print(x.shape, y.shape)\n",
    "    break"
   ]
  },
  {
   "cell_type": "markdown",
   "metadata": {},
   "source": [
    "# Model"
   ]
  },
  {
   "cell_type": "code",
   "execution_count": 11,
   "metadata": {},
   "outputs": [],
   "source": [
    "model = PixelCNN(\n",
    "    1,\n",
    "    256,\n",
    "    hidden_dim=128,\n",
    "    num_layer=12,\n",
    ").to(DEVICE)"
   ]
  },
  {
   "cell_type": "code",
   "execution_count": 12,
   "metadata": {},
   "outputs": [
    {
     "data": {
      "text/plain": [
       "=================================================================\n",
       "Layer (type:depth-idx)                   Param #\n",
       "=================================================================\n",
       "PixelCNN                                 --\n",
       "├─Sequential: 1-1                        --\n",
       "│    └─MaskedConv2d: 2-1                 12,800\n",
       "├─Sequential: 1-2                        --\n",
       "│    └─ResBlock: 2-2                     --\n",
       "│    │    └─ReLU: 3-1                    --\n",
       "│    │    └─BottleNeck: 3-2              213,504\n",
       "│    │    └─Identity: 3-3                --\n",
       "│    └─ResBlock: 2-3                     (recursive)\n",
       "│    │    └─ReLU: 3-4                    --\n",
       "│    │    └─BottleNeck: 3-5              (recursive)\n",
       "│    │    └─Identity: 3-6                --\n",
       "│    └─ResBlock: 2-4                     (recursive)\n",
       "│    │    └─ReLU: 3-7                    --\n",
       "│    │    └─BottleNeck: 3-8              (recursive)\n",
       "│    │    └─Identity: 3-9                --\n",
       "│    └─ResBlock: 2-5                     (recursive)\n",
       "│    │    └─ReLU: 3-10                   --\n",
       "│    │    └─BottleNeck: 3-11             (recursive)\n",
       "│    │    └─Identity: 3-12               --\n",
       "│    └─ResBlock: 2-6                     (recursive)\n",
       "│    │    └─ReLU: 3-13                   --\n",
       "│    │    └─BottleNeck: 3-14             (recursive)\n",
       "│    │    └─Identity: 3-15               --\n",
       "│    └─ResBlock: 2-7                     (recursive)\n",
       "│    │    └─ReLU: 3-16                   --\n",
       "│    │    └─BottleNeck: 3-17             (recursive)\n",
       "│    │    └─Identity: 3-18               --\n",
       "│    └─ResBlock: 2-8                     (recursive)\n",
       "│    │    └─ReLU: 3-19                   --\n",
       "│    │    └─BottleNeck: 3-20             (recursive)\n",
       "│    │    └─Identity: 3-21               --\n",
       "│    └─ResBlock: 2-9                     (recursive)\n",
       "│    │    └─ReLU: 3-22                   --\n",
       "│    │    └─BottleNeck: 3-23             (recursive)\n",
       "│    │    └─Identity: 3-24               --\n",
       "│    └─ResBlock: 2-10                    (recursive)\n",
       "│    │    └─ReLU: 3-25                   --\n",
       "│    │    └─BottleNeck: 3-26             (recursive)\n",
       "│    │    └─Identity: 3-27               --\n",
       "│    └─ResBlock: 2-11                    (recursive)\n",
       "│    │    └─ReLU: 3-28                   --\n",
       "│    │    └─BottleNeck: 3-29             (recursive)\n",
       "│    │    └─Identity: 3-30               --\n",
       "│    └─ResBlock: 2-12                    (recursive)\n",
       "│    │    └─ReLU: 3-31                   --\n",
       "│    │    └─BottleNeck: 3-32             (recursive)\n",
       "│    │    └─Identity: 3-33               --\n",
       "│    └─ResBlock: 2-13                    (recursive)\n",
       "│    │    └─ReLU: 3-34                   --\n",
       "│    │    └─BottleNeck: 3-35             (recursive)\n",
       "│    │    └─Identity: 3-36               --\n",
       "├─Sequential: 1-3                        --\n",
       "│    └─ReLU: 2-14                        --\n",
       "│    └─MaskedConv2d: 2-15                32,896\n",
       "│    └─ReLU: 2-16                        --\n",
       "│    └─MaskedConv2d: 2-17                16,512\n",
       "├─Sequential: 1-4                        --\n",
       "│    └─MaskedConv2d: 2-18                33,024\n",
       "│    └─Unflatten: 2-19                   --\n",
       "=================================================================\n",
       "Total params: 308,736\n",
       "Trainable params: 308,736\n",
       "Non-trainable params: 0\n",
       "================================================================="
      ]
     },
     "execution_count": 12,
     "metadata": {},
     "output_type": "execute_result"
    }
   ],
   "source": [
    "import torchinfo\n",
    "\n",
    "torchinfo.summary(model)"
   ]
  },
  {
   "cell_type": "markdown",
   "metadata": {},
   "source": [
    "# train"
   ]
  },
  {
   "cell_type": "code",
   "execution_count": 13,
   "metadata": {},
   "outputs": [],
   "source": [
    "EPOCH = 10"
   ]
  },
  {
   "cell_type": "code",
   "execution_count": 14,
   "metadata": {},
   "outputs": [],
   "source": [
    "trainer = PixelCNNTrainer(EPOCH, DEVICE)"
   ]
  },
  {
   "cell_type": "code",
   "execution_count": 15,
   "metadata": {},
   "outputs": [],
   "source": [
    "trainer.recorder.increment_data_size(len(train_data))"
   ]
  },
  {
   "cell_type": "code",
   "execution_count": 16,
   "metadata": {},
   "outputs": [],
   "source": [
    "criterion = trainer.get_criterion(256)\n",
    "optim = torch.optim.Adam(model.parameters(), lr=1e-3)"
   ]
  },
  {
   "cell_type": "code",
   "execution_count": 17,
   "metadata": {},
   "outputs": [
    {
     "name": "stderr",
     "output_type": "stream",
     "text": [
      "C:\\Users\\User\\AppData\\Local\\Temp\\ipykernel_15552\\2340218076.py:1: FutureWarning: `torch.cuda.amp.GradScaler(args...)` is deprecated. Please use `torch.amp.GradScaler('cuda', args...)` instead.\n",
      "  scaler = torch.cuda.amp.GradScaler()\n"
     ]
    }
   ],
   "source": [
    "scaler = torch.cuda.amp.GradScaler()"
   ]
  },
  {
   "cell_type": "code",
   "execution_count": 18,
   "metadata": {},
   "outputs": [
    {
     "name": "stdout",
     "output_type": "stream",
     "text": [
      "Enable AMP: True\n",
      "Training...\n"
     ]
    },
    {
     "name": "stderr",
     "output_type": "stream",
     "text": [
      "100%|██████████| 1875/1875 [00:52<00:00, 35.43it/s]\n"
     ]
    },
    {
     "name": "stdout",
     "output_type": "stream",
     "text": [
      "------------------------------------\n",
      "Epoch 1\n",
      "------------------------------------\n",
      "0.026193776825070365 (0%)\n"
     ]
    },
    {
     "name": "stderr",
     "output_type": "stream",
     "text": [
      "100%|██████████| 1875/1875 [01:10<00:00, 26.77it/s]\n"
     ]
    },
    {
     "name": "stdout",
     "output_type": "stream",
     "text": [
      "------------------------------------\n",
      "Epoch 2\n",
      "------------------------------------\n",
      "0.02423136587540313 (-7%)\n"
     ]
    },
    {
     "name": "stderr",
     "output_type": "stream",
     "text": [
      "100%|██████████| 1875/1875 [01:16<00:00, 24.47it/s]\n"
     ]
    },
    {
     "name": "stdout",
     "output_type": "stream",
     "text": [
      "------------------------------------\n",
      "Epoch 3\n",
      "------------------------------------\n",
      "0.02368259144822756 (-2%)\n"
     ]
    },
    {
     "name": "stderr",
     "output_type": "stream",
     "text": [
      "100%|██████████| 1875/1875 [01:16<00:00, 24.37it/s]\n"
     ]
    },
    {
     "name": "stdout",
     "output_type": "stream",
     "text": [
      "------------------------------------\n",
      "Epoch 4\n",
      "------------------------------------\n",
      "0.023249989512562744 (-2%)\n"
     ]
    },
    {
     "name": "stderr",
     "output_type": "stream",
     "text": [
      "100%|██████████| 1875/1875 [01:06<00:00, 28.22it/s]\n"
     ]
    },
    {
     "name": "stdout",
     "output_type": "stream",
     "text": [
      "------------------------------------\n",
      "Epoch 5\n",
      "------------------------------------\n",
      "0.023014318683743488 (-1%)\n"
     ]
    },
    {
     "name": "stderr",
     "output_type": "stream",
     "text": [
      "100%|██████████| 1875/1875 [00:50<00:00, 37.08it/s]\n"
     ]
    },
    {
     "name": "stdout",
     "output_type": "stream",
     "text": [
      "------------------------------------\n",
      "Epoch 6\n",
      "------------------------------------\n",
      "0.0227452918608984 (-1%)\n"
     ]
    },
    {
     "name": "stderr",
     "output_type": "stream",
     "text": [
      "100%|██████████| 1875/1875 [00:50<00:00, 37.17it/s]\n"
     ]
    },
    {
     "name": "stdout",
     "output_type": "stream",
     "text": [
      "------------------------------------\n",
      "Epoch 7\n",
      "------------------------------------\n",
      "0.02244563309351602 (-1%)\n"
     ]
    },
    {
     "name": "stderr",
     "output_type": "stream",
     "text": [
      "100%|██████████| 1875/1875 [00:50<00:00, 37.26it/s]\n"
     ]
    },
    {
     "name": "stdout",
     "output_type": "stream",
     "text": [
      "------------------------------------\n",
      "Epoch 8\n",
      "------------------------------------\n",
      "0.02214674875140194 (-1%)\n"
     ]
    },
    {
     "name": "stderr",
     "output_type": "stream",
     "text": [
      "100%|██████████| 1875/1875 [00:50<00:00, 37.16it/s]\n"
     ]
    },
    {
     "name": "stdout",
     "output_type": "stream",
     "text": [
      "------------------------------------\n",
      "Epoch 9\n",
      "------------------------------------\n",
      "0.02188070532778902 (-1%)\n"
     ]
    },
    {
     "name": "stderr",
     "output_type": "stream",
     "text": [
      "100%|██████████| 1875/1875 [00:51<00:00, 36.67it/s]"
     ]
    },
    {
     "name": "stdout",
     "output_type": "stream",
     "text": [
      "------------------------------------\n",
      "Epoch 10\n",
      "------------------------------------\n",
      "0.021656867371002777 (-1%)\n"
     ]
    },
    {
     "name": "stderr",
     "output_type": "stream",
     "text": [
      "\n"
     ]
    }
   ],
   "source": [
    "training_loss = trainer.run(train_loader, model, optim, criterion, scaler=scaler)"
   ]
  },
  {
   "cell_type": "code",
   "execution_count": 19,
   "metadata": {},
   "outputs": [
    {
     "data": {
      "text/plain": [
       "[<matplotlib.lines.Line2D at 0x25a743c0bd0>]"
      ]
     },
     "execution_count": 19,
     "metadata": {},
     "output_type": "execute_result"
    },
    {
     "data": {
      "image/png": "[encoded data removed]",
      "text/plain": [
       "<Figure size 640x480 with 1 Axes>"
      ]
     },
     "metadata": {},
     "output_type": "display_data"
    }
   ],
   "source": [
    "plt.plot(training_loss)"
   ]
  },
  {
   "cell_type": "code",
   "execution_count": 13,
   "metadata": {},
   "outputs": [],
   "source": [
    "from torchlake.common.controller.weight_manager import WeightManager\n",
    "\n",
    "manager = WeightManager(artifact_path.joinpath('pixelcnn.d{hidden_dim}.l{num_layer}.mnist.pth').as_posix())\n",
    "model_path = manager.get_filename(hidden_dim=model.hidden_dim, num_layer=model.num_layer)"
   ]
  },
  {
   "cell_type": "code",
   "execution_count": 14,
   "metadata": {},
   "outputs": [
    {
     "data": {
      "text/plain": [
       "WindowsPath('../../artifacts/pixelcnn/pixelcnn.d128.l12.mnist.pth')"
      ]
     },
     "execution_count": 14,
     "metadata": {},
     "output_type": "execute_result"
    }
   ],
   "source": [
    "model_path"
   ]
  },
  {
   "cell_type": "code",
   "execution_count": 24,
   "metadata": {},
   "outputs": [
    {
     "name": "stdout",
     "output_type": "stream",
     "text": [
      "Save weight to ..\\..\\artifacts\\pixelcnn\\pixelcnn.d128.l12.mnist.pth, model size is 1.19MiB\n"
     ]
    }
   ],
   "source": [
    "manager.save_weight(model.state_dict(), model_path)"
   ]
  },
  {
   "cell_type": "code",
   "execution_count": 15,
   "metadata": {},
   "outputs": [],
   "source": [
    "manager.load_weight(model_path, model)"
   ]
  },
  {
   "cell_type": "markdown",
   "metadata": {},
   "source": [
    "# evaluation"
   ]
  },
  {
   "cell_type": "code",
   "execution_count": 20,
   "metadata": {},
   "outputs": [],
   "source": [
    "TEST_BATCH_SIZE = 16"
   ]
  },
  {
   "cell_type": "code",
   "execution_count": 21,
   "metadata": {},
   "outputs": [],
   "source": [
    "predictor = PixelCNNPredictor(DEVICE)"
   ]
  },
  {
   "cell_type": "code",
   "execution_count": 22,
   "metadata": {},
   "outputs": [
    {
     "name": "stderr",
     "output_type": "stream",
     "text": [
      "784it [00:05, 156.39it/s]\n"
     ]
    },
    {
     "data": {
      "image/png": "[encoded data removed]",
      "text/plain": [
       "<Figure size 500x500 with 16 Axes>"
      ]
     },
     "metadata": {},
     "output_type": "display_data"
    }
   ],
   "source": [
    "output = predictor.run(model, (TEST_BATCH_SIZE, 1, IMAGE_SIZE, IMAGE_SIZE))\n",
    "\n",
    "plot_grids(\n",
    "    img_tensor_to_np(output), \n",
    "    cmap='gray',\n",
    "    num_col=4,\n",
    "    num_row=4,\n",
    "    figsize=(5,5),\n",
    ")"
   ]
  },
  {
   "cell_type": "code",
   "execution_count": null,
   "metadata": {},
   "outputs": [],
   "source": []
  }
 ],
 "metadata": {
  "kernelspec": {
   "display_name": ".venv",
   "language": "python",
   "name": "python3"
  },
  "language_info": {
   "codemirror_mode": {
    "name": "ipython",
    "version": 3
   },
   "file_extension": ".py",
   "mimetype": "text/x-python",
   "name": "python",
   "nbconvert_exporter": "python",
   "pygments_lexer": "ipython3",
   "version": "3.11.4"
  }
 },
 "nbformat": 4,
 "nbformat_minor": 2
}
