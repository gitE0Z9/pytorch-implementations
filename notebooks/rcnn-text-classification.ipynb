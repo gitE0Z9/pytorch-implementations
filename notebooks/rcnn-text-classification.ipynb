{
    "cells": [
        {
            "cell_type": "code",
            "execution_count": 118,
            "metadata": {},
            "outputs": [],
            "source": [
                "from pathlib import Path\n",
                "\n",
                "import matplotlib.pyplot as plt\n",
                "import torch\n",
                "import torchinfo\n",
                "import torchtext.transforms as T\n",
                "from torch import optim\n",
                "from torch.utils.data import DataLoader\n",
                "from torchlake.common.controller.evaluator import ClassificationEvaluator\n",
                "from torchlake.common.controller.trainer import ClassificationTrainer\n",
                "from torchlake.common.schemas.nlp import NlpContext\n",
                "from torchlake.common.utils.platform import get_file_size, get_num_workers\n",
                "from torchlake.common.utils.text import is_corpus_title, is_longer_text\n",
                "from torchlake.text_classification.datasets.ag_news.constants import \\\n",
                "    CLASS_NAMES as AG_NEWS_CLASS_NAMES\n",
                "from torchlake.text_classification.models.rcnn import RCNN\n",
                "from torchlake.common.utils.text import build_vocab\n",
                "from torchtext.data.utils import get_tokenizer\n",
                "from torchtext.datasets import AG_NEWS"
            ]
        },
        {
            "cell_type": "markdown",
            "metadata": {},
            "source": [
                "# setting\n"
            ]
        },
        {
            "cell_type": "code",
            "execution_count": 119,
            "metadata": {},
            "outputs": [],
            "source": [
                "DATASET_NAME = \"AGNews\""
            ]
        },
        {
            "cell_type": "code",
            "execution_count": 120,
            "metadata": {},
            "outputs": [],
            "source": [
                "artifact_path = Path('../../artifacts/rcnn-text-classification')\n",
                "data_path = Path('../../data') / DATASET_NAME"
            ]
        },
        {
            "cell_type": "code",
            "execution_count": 121,
            "metadata": {},
            "outputs": [],
            "source": [
                "NUM_CLASS = len(AG_NEWS_CLASS_NAMES)"
            ]
        },
        {
            "cell_type": "code",
            "execution_count": 122,
            "metadata": {},
            "outputs": [],
            "source": [
                "CONTEXT = NlpContext(max_seq_len=256)"
            ]
        },
        {
            "cell_type": "code",
            "execution_count": 123,
            "metadata": {},
            "outputs": [],
            "source": [
                "BATCH_SIZE = 128\n",
                "MINIMUM_LENGTH = 5"
            ]
        },
        {
            "cell_type": "code",
            "execution_count": 124,
            "metadata": {},
            "outputs": [],
            "source": [
                "DEVICE = torch.device(CONTEXT.device)"
            ]
        },
        {
            "cell_type": "code",
            "execution_count": 125,
            "metadata": {},
            "outputs": [],
            "source": [
                "tokenizer = get_tokenizer('basic_english')"
            ]
        },
        {
            "cell_type": "code",
            "execution_count": 126,
            "metadata": {},
            "outputs": [],
            "source": [
                "def datapipe_factory(\n",
                "    datapipe,\n",
                "    minimum_length: int = 1,\n",
                "    transform=None,\n",
                "):\n",
                "    datapipe = (\n",
                "        datapipe.map(lambda pair: (pair[0], pair[1].strip())) # label, text\n",
                "        .map(lambda pair: (pair[0], pair[1].lower()))\n",
                "        .filter(lambda pair: is_longer_text(pair[1], minimum_length))\n",
                "        .filter(lambda pair: not is_corpus_title(pair[1]))\n",
                "        .map(lambda pair: (pair[0], tokenizer(pair[1])))\n",
                "    )  \n",
                "\n",
                "    if transform:\n",
                "        datapipe = datapipe.map(\n",
                "            lambda pair: (\n",
                "                transform(pair[1]),\n",
                "                pair[0] - 1,\n",
                "            )  # tokens, label\n",
                "        )\n",
                "\n",
                "    return datapipe"
            ]
        },
        {
            "cell_type": "code",
            "execution_count": 127,
            "metadata": {},
            "outputs": [],
            "source": [
                "train_datapipe, test_datapipe = AG_NEWS(data_path.as_posix())"
            ]
        },
        {
            "cell_type": "code",
            "execution_count": 128,
            "metadata": {},
            "outputs": [
                {
                    "name": "stderr",
                    "output_type": "stream",
                    "text": [
                        "d:\\research\\pytorch-implementations\\.venv\\Lib\\site-packages\\torch\\utils\\data\\datapipes\\utils\\common.py:141: UserWarning: Local function is not supported by pickle, please use regular python function or functools.partial instead.\n",
                        "  warnings.warn(\n"
                    ]
                }
            ],
            "source": [
                "vocab = build_vocab(\n",
                "    map(lambda pair: pair[1], datapipe_factory(train_datapipe)),\n",
                "    context=NlpContext(),\n",
                ")"
            ]
        },
        {
            "cell_type": "code",
            "execution_count": 129,
            "metadata": {},
            "outputs": [],
            "source": [
                "VOCAB_SIZE = len(vocab)"
            ]
        },
        {
            "cell_type": "code",
            "execution_count": 130,
            "metadata": {},
            "outputs": [],
            "source": [
                "text_transform = T.Sequential(\n",
                "    T.VocabTransform(vocab),\n",
                "    T.Truncate(CONTEXT.max_seq_len - 2),\n",
                "    T.AddToken(token=CONTEXT.bos_idx, begin=True),\n",
                "    T.AddToken(token=CONTEXT.eos_idx, begin=False),\n",
                "    T.ToTensor(),\n",
                "    T.PadTransform(CONTEXT.max_seq_len, CONTEXT.padding_idx),\n",
                ")"
            ]
        },
        {
            "cell_type": "code",
            "execution_count": 131,
            "metadata": {},
            "outputs": [],
            "source": [
                "train_datapipe = datapipe_factory(\n",
                "    train_datapipe,\n",
                "    MINIMUM_LENGTH,\n",
                "    text_transform,\n",
                ")\n",
                "\n",
                "test_datapipe = datapipe_factory(\n",
                "    test_datapipe,\n",
                "    MINIMUM_LENGTH,\n",
                "    text_transform,\n",
                ")"
            ]
        },
        {
            "cell_type": "code",
            "execution_count": 132,
            "metadata": {},
            "outputs": [
                {
                    "name": "stdout",
                    "output_type": "stream",
                    "text": [
                        "torch.Size([256])\n",
                        "2\n",
                        "torch.Size([256])\n",
                        "2\n",
                        "torch.Size([256])\n",
                        "2\n",
                        "torch.Size([256])\n",
                        "2\n",
                        "torch.Size([256])\n",
                        "2\n",
                        "torch.Size([256])\n",
                        "2\n",
                        "torch.Size([256])\n",
                        "2\n",
                        "torch.Size([256])\n",
                        "2\n",
                        "torch.Size([256])\n",
                        "2\n",
                        "torch.Size([256])\n",
                        "2\n",
                        "torch.Size([256])\n",
                        "2\n",
                        "torch.Size([256])\n",
                        "2\n"
                    ]
                }
            ],
            "source": [
                "count = 0\n",
                "for text, label in train_datapipe:\n",
                "    print(text.shape)\n",
                "    print(label)\n",
                "    if count > 10:\n",
                "        break\n",
                "    count+=1"
            ]
        },
        {
            "cell_type": "code",
            "execution_count": 133,
            "metadata": {},
            "outputs": [],
            "source": [
                "NUM_WORKERS = get_num_workers()"
            ]
        },
        {
            "cell_type": "code",
            "execution_count": 134,
            "metadata": {},
            "outputs": [],
            "source": [
                "train_dataloader = DataLoader(\n",
                "    train_datapipe,\n",
                "    batch_size=BATCH_SIZE,\n",
                "    pin_memory=True,\n",
                "    num_workers=NUM_WORKERS,\n",
                ")\n",
                "\n",
                "test_dataloader = DataLoader(\n",
                "    test_datapipe,\n",
                "    batch_size=BATCH_SIZE,\n",
                "    pin_memory=True,\n",
                "    num_workers=NUM_WORKERS,\n",
                ")"
            ]
        },
        {
            "cell_type": "code",
            "execution_count": 135,
            "metadata": {},
            "outputs": [
                {
                    "name": "stdout",
                    "output_type": "stream",
                    "text": [
                        "torch.Size([128, 256])\n",
                        "torch.Size([128])\n",
                        "torch.Size([128, 256])\n",
                        "torch.Size([128])\n",
                        "torch.Size([128, 256])\n",
                        "torch.Size([128])\n"
                    ]
                },
                {
                    "name": "stderr",
                    "output_type": "stream",
                    "text": [
                        "d:\\research\\pytorch-implementations\\.venv\\Lib\\site-packages\\torch\\utils\\data\\datapipes\\iter\\combining.py:333: UserWarning: Some child DataPipes are not exhausted when __iter__ is called. We are resetting the buffer and each child DataPipe will read from the start again.\n",
                        "  warnings.warn(\"Some child DataPipes are not exhausted when __iter__ is called. We are resetting \"\n"
                    ]
                },
                {
                    "name": "stdout",
                    "output_type": "stream",
                    "text": [
                        "torch.Size([128, 256])\n",
                        "torch.Size([128])\n",
                        "torch.Size([128, 256])\n",
                        "torch.Size([128])\n",
                        "torch.Size([128, 256])\n",
                        "torch.Size([128])\n",
                        "torch.Size([128, 256])\n",
                        "torch.Size([128])\n",
                        "torch.Size([128, 256])\n",
                        "torch.Size([128])\n",
                        "torch.Size([128, 256])\n",
                        "torch.Size([128])\n",
                        "torch.Size([128, 256])\n",
                        "torch.Size([128])\n",
                        "torch.Size([128, 256])\n",
                        "torch.Size([128])\n",
                        "torch.Size([128, 256])\n",
                        "torch.Size([128])\n"
                    ]
                }
            ],
            "source": [
                "count = 0\n",
                "for text, label in train_dataloader:\n",
                "    print(text.shape)\n",
                "    print(label.shape)\n",
                "    if count > 10:\n",
                "        break\n",
                "    count+=1"
            ]
        },
        {
            "cell_type": "markdown",
            "metadata": {},
            "source": [
                "# training\n"
            ]
        },
        {
            "cell_type": "code",
            "execution_count": 136,
            "metadata": {},
            "outputs": [],
            "source": [
                "EMBED_DIM = 300\n",
                "HIDDEN_DIM = 128"
            ]
        },
        {
            "cell_type": "code",
            "execution_count": 137,
            "metadata": {},
            "outputs": [],
            "source": [
                "EPOCHS = 10\n",
                "ACC_ITERS = max(1, 32 / BATCH_SIZE)\n",
                "LR = 1e-3"
            ]
        },
        {
            "cell_type": "code",
            "execution_count": 138,
            "metadata": {},
            "outputs": [],
            "source": [
                "trainer = ClassificationTrainer(EPOCHS, DEVICE, ACC_ITERS)"
            ]
        },
        {
            "cell_type": "code",
            "execution_count": 139,
            "metadata": {},
            "outputs": [],
            "source": [
                "model = RCNN(\n",
                "    VOCAB_SIZE,\n",
                "    EMBED_DIM,\n",
                "    HIDDEN_DIM,\n",
                "    NUM_CLASS,\n",
                "    context=CONTEXT,\n",
                ").to(DEVICE)"
            ]
        },
        {
            "cell_type": "code",
            "execution_count": 140,
            "metadata": {},
            "outputs": [],
            "source": [
                "loss = trainer.get_criterion(NUM_CLASS)\n",
                "optimizer = optim.Adam(model.parameters(), lr=LR)"
            ]
        },
        {
            "cell_type": "code",
            "execution_count": 141,
            "metadata": {},
            "outputs": [
                {
                    "data": {
                        "text/plain": [
                            "======================================================================\n",
                            "Layer (type:depth-idx)                        Param #\n",
                            "======================================================================\n",
                            "Rcnn                                          --\n",
                            "├─SequenceModelFullFeatureExtractor: 1-1      --\n",
                            "│    └─Embedding: 2-1                         9,100,500\n",
                            "│    └─ModuleList: 2-2                        --\n",
                            "│    │    └─RNN: 3-1                          110,080\n",
                            "├─Conv1d: 1-2                                 71,296\n",
                            "├─Linear: 1-3                                 516\n",
                            "======================================================================\n",
                            "Total params: 9,282,392\n",
                            "Trainable params: 9,282,392\n",
                            "Non-trainable params: 0\n",
                            "======================================================================"
                        ]
                    },
                    "execution_count": 141,
                    "metadata": {},
                    "output_type": "execute_result"
                }
            ],
            "source": [
                "torchinfo.summary(model)"
            ]
        },
        {
            "cell_type": "code",
            "execution_count": 142,
            "metadata": {},
            "outputs": [
                {
                    "name": "stderr",
                    "output_type": "stream",
                    "text": [
                        "938it [00:56, 16.64it/s]\n"
                    ]
                },
                {
                    "name": "stdout",
                    "output_type": "stream",
                    "text": [
                        "epoch 1 : 0.0037612016944835584\n"
                    ]
                },
                {
                    "name": "stderr",
                    "output_type": "stream",
                    "text": [
                        "938it [00:51, 18.25it/s]\n"
                    ]
                },
                {
                    "name": "stdout",
                    "output_type": "stream",
                    "text": [
                        "epoch 2 : 0.0019729302361607554\n"
                    ]
                },
                {
                    "name": "stderr",
                    "output_type": "stream",
                    "text": [
                        "938it [00:50, 18.64it/s]\n"
                    ]
                },
                {
                    "name": "stdout",
                    "output_type": "stream",
                    "text": [
                        "epoch 3 : 0.0015257669110782445\n"
                    ]
                },
                {
                    "name": "stderr",
                    "output_type": "stream",
                    "text": [
                        "938it [00:50, 18.58it/s]\n"
                    ]
                },
                {
                    "name": "stdout",
                    "output_type": "stream",
                    "text": [
                        "epoch 4 : 0.0012089951860097547\n"
                    ]
                },
                {
                    "name": "stderr",
                    "output_type": "stream",
                    "text": [
                        "938it [00:50, 18.70it/s]\n"
                    ]
                },
                {
                    "name": "stdout",
                    "output_type": "stream",
                    "text": [
                        "epoch 5 : 0.0009542696892749518\n"
                    ]
                },
                {
                    "name": "stderr",
                    "output_type": "stream",
                    "text": [
                        "938it [00:49, 18.76it/s]\n"
                    ]
                },
                {
                    "name": "stdout",
                    "output_type": "stream",
                    "text": [
                        "epoch 6 : 0.0007306478816550225\n"
                    ]
                },
                {
                    "name": "stderr",
                    "output_type": "stream",
                    "text": [
                        "938it [00:50, 18.49it/s]\n"
                    ]
                },
                {
                    "name": "stdout",
                    "output_type": "stream",
                    "text": [
                        "epoch 7 : 0.000548900315274174\n"
                    ]
                },
                {
                    "name": "stderr",
                    "output_type": "stream",
                    "text": [
                        "938it [00:50, 18.65it/s]\n"
                    ]
                },
                {
                    "name": "stdout",
                    "output_type": "stream",
                    "text": [
                        "epoch 8 : 0.00042023257348143187\n"
                    ]
                },
                {
                    "name": "stderr",
                    "output_type": "stream",
                    "text": [
                        "938it [00:50, 18.62it/s]\n"
                    ]
                },
                {
                    "name": "stdout",
                    "output_type": "stream",
                    "text": [
                        "epoch 9 : 0.0003378057519420205\n"
                    ]
                },
                {
                    "name": "stderr",
                    "output_type": "stream",
                    "text": [
                        "938it [00:51, 18.05it/s]"
                    ]
                },
                {
                    "name": "stdout",
                    "output_type": "stream",
                    "text": [
                        "epoch 10 : 0.00028456061495429213\n"
                    ]
                },
                {
                    "name": "stderr",
                    "output_type": "stream",
                    "text": [
                        "\n"
                    ]
                }
            ],
            "source": [
                "training_loss = trainer.run(train_dataloader, model, optimizer, loss)"
            ]
        },
        {
            "cell_type": "code",
            "execution_count": 143,
            "metadata": {},
            "outputs": [
                {
                    "data": {
                        "text/plain": [
                            "[<matplotlib.lines.Line2D at 0x2931c329a90>]"
                        ]
                    },
                    "execution_count": 143,
                    "metadata": {},
                    "output_type": "execute_result"
                },
                {
                    "data": {
                        "image/png": "[encoded data removed]",
                        "text/plain": [
                            "<Figure size 640x480 with 1 Axes>"
                        ]
                    },
                    "metadata": {},
                    "output_type": "display_data"
                }
            ],
            "source": [
                "plt.plot(training_loss)"
            ]
        },
        {
            "cell_type": "markdown",
            "metadata": {},
            "source": [
                "# Inference"
            ]
        },
        {
            "cell_type": "code",
            "execution_count": 144,
            "metadata": {},
            "outputs": [],
            "source": [
                "evaluator = ClassificationEvaluator(NUM_CLASS, DEVICE, feature_dim=-1)"
            ]
        },
        {
            "cell_type": "code",
            "execution_count": 145,
            "metadata": {},
            "outputs": [
                {
                    "name": "stderr",
                    "output_type": "stream",
                    "text": [
                        "59it [00:03, 18.15it/s]"
                    ]
                },
                {
                    "name": "stdout",
                    "output_type": "stream",
                    "text": [
                        "[[1696   39   91   39]\n",
                        " [  27 1815   25    4]\n",
                        " [  71   14 1687  111]\n",
                        " [  82   18  236 1517]]\n"
                    ]
                },
                {
                    "name": "stderr",
                    "output_type": "stream",
                    "text": [
                        "\n"
                    ]
                }
            ],
            "source": [
                "confusion_matrix = evaluator.run(iter(test_dataloader), model)"
            ]
        },
        {
            "cell_type": "code",
            "execution_count": 146,
            "metadata": {},
            "outputs": [
                {
                    "name": "stdout",
                    "output_type": "stream",
                    "text": [
                        "world     : 0.9093833780160858\n",
                        "sports    : 0.9700694815606627\n",
                        "business  : 0.895910780669145\n",
                        "science   : 0.8186724230976794\n"
                    ]
                }
            ],
            "source": [
                "per_class_acc = evaluator.get_per_class_accuracy(confusion_matrix)\n",
                "evaluator.show_per_class_accuracy(AG_NEWS_CLASS_NAMES, per_class_acc)"
            ]
        },
        {
            "cell_type": "code",
            "execution_count": 147,
            "metadata": {},
            "outputs": [
                {
                    "data": {
                        "text/plain": [
                            "0.8985090158358933"
                        ]
                    },
                    "execution_count": 147,
                    "metadata": {},
                    "output_type": "execute_result"
                }
            ],
            "source": [
                "per_class_acc.mean()"
            ]
        },
        {
            "cell_type": "code",
            "execution_count": 148,
            "metadata": {},
            "outputs": [
                {
                    "data": {
                        "image/png": "[encoded data removed]",
                        "text/plain": [
                            "<Figure size 600x400 with 2 Axes>"
                        ]
                    },
                    "metadata": {},
                    "output_type": "display_data"
                }
            ],
            "source": [
                "evaluator.plot_confusion_matrix(\n",
                "    confusion_matrix,\n",
                "    AG_NEWS_CLASS_NAMES,\n",
                "    \"Blues\",\n",
                "    annot=True,\n",
                "    figsize=(6, 4),\n",
                ")"
            ]
        },
        {
            "cell_type": "markdown",
            "metadata": {},
            "source": [
                "# File\n"
            ]
        },
        {
            "cell_type": "code",
            "execution_count": 149,
            "metadata": {},
            "outputs": [],
            "source": [
                "model_path = artifact_path / \"rcnn.pth\""
            ]
        },
        {
            "cell_type": "code",
            "execution_count": 150,
            "metadata": {},
            "outputs": [],
            "source": [
                "torch.save(model.state_dict(), model_path)"
            ]
        },
        {
            "cell_type": "code",
            "execution_count": 151,
            "metadata": {},
            "outputs": [
                {
                    "data": {
                        "text/plain": [
                            "'35.41MB'"
                        ]
                    },
                    "execution_count": 151,
                    "metadata": {},
                    "output_type": "execute_result"
                }
            ],
            "source": [
                "get_file_size(model_path)"
            ]
        },
        {
            "cell_type": "code",
            "execution_count": 152,
            "metadata": {},
            "outputs": [
                {
                    "data": {
                        "text/plain": [
                            "<All keys matched successfully>"
                        ]
                    },
                    "execution_count": 152,
                    "metadata": {},
                    "output_type": "execute_result"
                }
            ],
            "source": [
                "model.load_state_dict(torch.load(model_path.as_posix()))"
            ]
        }
    ],
    "metadata": {
        "kernelspec": {
            "display_name": ".venv",
            "language": "python",
            "name": "python3"
        },
        "language_info": {
            "codemirror_mode": {
                "name": "ipython",
                "version": 3
            },
            "file_extension": ".py",
            "mimetype": "text/x-python",
            "name": "python",
            "nbconvert_exporter": "python",
            "pygments_lexer": "ipython3",
            "version": "3.11.4"
        }
    },
    "nbformat": 4,
    "nbformat_minor": 2
}