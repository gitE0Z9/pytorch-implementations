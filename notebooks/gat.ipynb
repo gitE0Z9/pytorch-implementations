{
 "cells": [
  {
   "cell_type": "code",
   "execution_count": null,
   "metadata": {},
   "outputs": [],
   "source": [
    "from pathlib import Path\n",
    "\n",
    "import torch\n",
    "import torchinfo\n",
    "from torch import nn\n",
    "from torch_geometric.datasets.citation_full import CitationFull\n",
    "from torchlake.common.controller.evaluator import ClassificationEvaluator\n",
    "from torchlake.common.metrics.classification import IncrementalConfusionMatrix\n",
    "from torchlake.graph.models.attention import GAT\n",
    "from tqdm import trange"
   ]
  },
  {
   "cell_type": "markdown",
   "metadata": {},
   "source": [
    "# setting"
   ]
  },
  {
   "cell_type": "code",
   "execution_count": 64,
   "metadata": {},
   "outputs": [],
   "source": [
    "data_path = Path(\"../../data/citationFull\")\n",
    "artifacts_path = Path(\"../../artifacts/gat\")"
   ]
  },
  {
   "cell_type": "code",
   "execution_count": 65,
   "metadata": {},
   "outputs": [],
   "source": [
    "device = torch.device(\"cuda:0\")"
   ]
  },
  {
   "cell_type": "markdown",
   "metadata": {},
   "source": [
    "# data"
   ]
  },
  {
   "cell_type": "code",
   "execution_count": 66,
   "metadata": {},
   "outputs": [],
   "source": [
    "dataset = CitationFull(data_path.as_posix(), 'DBLP')"
   ]
  },
  {
   "cell_type": "code",
   "execution_count": 67,
   "metadata": {},
   "outputs": [
    {
     "data": {
      "text/plain": [
       "Data(x=[17716, 1639], edge_index=[2, 105734], y=[17716])"
      ]
     },
     "execution_count": 67,
     "metadata": {},
     "output_type": "execute_result"
    }
   ],
   "source": [
    "dataset._data"
   ]
  },
  {
   "cell_type": "code",
   "execution_count": 68,
   "metadata": {},
   "outputs": [],
   "source": [
    "X = dataset.x.to(device)\n",
    "E = dataset.edge_index.T.to(device)\n",
    "Y = dataset.y.to(device)"
   ]
  },
  {
   "cell_type": "markdown",
   "metadata": {},
   "source": [
    "browse graph in gephi(a JAVA program)"
   ]
  },
  {
   "cell_type": "code",
   "execution_count": 69,
   "metadata": {},
   "outputs": [],
   "source": [
    "# import networkx\n",
    "# from torch_geometric.utils import to_networkx"
   ]
  },
  {
   "cell_type": "code",
   "execution_count": 70,
   "metadata": {},
   "outputs": [],
   "source": [
    "# networkx.write_gexf(\n",
    "#     to_networkx(dataset._data, to_undirected=True),\n",
    "#     artifacts_path / \"pubmed.gexf\",\n",
    "# )"
   ]
  },
  {
   "cell_type": "markdown",
   "metadata": {},
   "source": [
    "# model"
   ]
  },
  {
   "cell_type": "code",
   "execution_count": 71,
   "metadata": {},
   "outputs": [],
   "source": [
    "NODE_SIZE = dataset.x.size(0)\n",
    "FEATURE_SIZE = dataset.num_node_features\n",
    "LATENT_DIM = 8\n",
    "LABEL_SIZE = dataset.num_classes"
   ]
  },
  {
   "cell_type": "code",
   "execution_count": 72,
   "metadata": {},
   "outputs": [],
   "source": [
    "VERSION = 2"
   ]
  },
  {
   "cell_type": "code",
   "execution_count": null,
   "metadata": {},
   "outputs": [],
   "source": [
    "model = GAT(\n",
    "    FEATURE_SIZE,\n",
    "    LATENT_DIM,\n",
    "    LABEL_SIZE,\n",
    "    num_layer=2,\n",
    "    num_heads=8,\n",
    "    version=VERSION,\n",
    ").to(device)"
   ]
  },
  {
   "cell_type": "code",
   "execution_count": 74,
   "metadata": {},
   "outputs": [
    {
     "data": {
      "text/plain": [
       "=================================================================\n",
       "Layer (type:depth-idx)                   Param #\n",
       "=================================================================\n",
       "Gat                                      --\n",
       "├─Dropout: 1-1                           --\n",
       "├─ELU: 1-2                               --\n",
       "├─ModuleList: 1-3                        --\n",
       "│    └─GatLayerV2: 2-1                   105,024\n",
       "│    └─GatLayerV2: 2-2                   2,112\n",
       "=================================================================\n",
       "Total params: 107,136\n",
       "Trainable params: 107,136\n",
       "Non-trainable params: 0\n",
       "================================================================="
      ]
     },
     "execution_count": 74,
     "metadata": {},
     "output_type": "execute_result"
    }
   ],
   "source": [
    "torchinfo.summary(model)"
   ]
  },
  {
   "cell_type": "markdown",
   "metadata": {},
   "source": [
    "# train"
   ]
  },
  {
   "cell_type": "code",
   "execution_count": 75,
   "metadata": {},
   "outputs": [],
   "source": [
    "epoch = 300"
   ]
  },
  {
   "cell_type": "code",
   "execution_count": 76,
   "metadata": {},
   "outputs": [],
   "source": [
    "criterion = nn.CrossEntropyLoss(reduction='sum')\n",
    "optimizer = torch.optim.Adam(model.parameters(), lr=1e-3, weight_decay=1e-5)"
   ]
  },
  {
   "cell_type": "code",
   "execution_count": 77,
   "metadata": {},
   "outputs": [
    {
     "name": "stderr",
     "output_type": "stream",
     "text": [
      "  3%|▎         | 8/300 [00:00<00:09, 29.73it/s]"
     ]
    },
    {
     "name": "stdout",
     "output_type": "stream",
     "text": [
      "epoch 1: 12.117760781214722\n",
      "epoch 2: 11.092772776021675\n",
      "epoch 3: 10.108811420467374\n",
      "epoch 4: 9.565902644502145\n",
      "epoch 5: 9.59958864867916\n",
      "epoch 6: 8.36644752624746\n",
      "epoch 7: 7.8033045693158725\n",
      "epoch 8: 7.14556006928765\n",
      "epoch 9: 6.545944961475502\n",
      "epoch 10: 6.232286051450666\n",
      "epoch 11: 5.653106214015579\n",
      "epoch 12: 4.997819326456311\n",
      "epoch 13: 4.303917980215624\n"
     ]
    },
    {
     "name": "stderr",
     "output_type": "stream",
     "text": [
      "  7%|▋         | 20/300 [00:00<00:06, 45.07it/s]"
     ]
    },
    {
     "name": "stdout",
     "output_type": "stream",
     "text": [
      "epoch 14: 3.7368718601828856\n",
      "epoch 15: 3.19872528716979\n",
      "epoch 16: 2.7875977664963876\n",
      "epoch 17: 2.309325786012644\n",
      "epoch 18: 2.1228775365488826\n",
      "epoch 19: 1.9683359145687513\n",
      "epoch 20: 1.877880517611199\n",
      "epoch 21: 1.8637041551422442\n",
      "epoch 22: 1.8582762845027094\n",
      "epoch 23: 1.819595237003274\n"
     ]
    },
    {
     "name": "stderr",
     "output_type": "stream",
     "text": [
      " 11%|█▏        | 34/300 [00:00<00:04, 53.99it/s]"
     ]
    },
    {
     "name": "stdout",
     "output_type": "stream",
     "text": [
      "epoch 24: 1.8153079754882593\n",
      "epoch 25: 1.7402151921285842\n",
      "epoch 26: 1.725816131956988\n",
      "epoch 27: 1.6794107815675097\n",
      "epoch 28: 1.745032738767216\n",
      "epoch 29: 1.7461488731937231\n",
      "epoch 30: 1.6085856358658839\n",
      "epoch 31: 1.7929212338070106\n",
      "epoch 32: 1.7747199962251636\n",
      "epoch 33: 1.7130720905537367\n",
      "epoch 34: 1.8075625052918265\n",
      "epoch 35: 1.820994153413581\n",
      "epoch 36: 1.6971113903039625\n",
      "epoch 37: 1.7025036513603522\n",
      "epoch 38: 1.600214186681531\n"
     ]
    },
    {
     "name": "stderr",
     "output_type": "stream",
     "text": [
      " 17%|█▋        | 50/300 [00:00<00:03, 65.43it/s]"
     ]
    },
    {
     "name": "stdout",
     "output_type": "stream",
     "text": [
      "epoch 39: 1.4621007096339467\n",
      "epoch 40: 1.5577291978296455\n",
      "epoch 41: 1.446090288263434\n",
      "epoch 42: 1.423013293950384\n",
      "epoch 43: 1.3916530475629374\n",
      "epoch 44: 1.412435153074904\n",
      "epoch 45: 1.3277756291981824\n",
      "epoch 46: 1.4246058030170468\n",
      "epoch 47: 1.3109871990714608\n",
      "epoch 48: 1.3243614088253557\n",
      "epoch 49: 1.2977052655438586\n",
      "epoch 50: 1.3971120076837322\n",
      "epoch 51: 1.3452615882182772\n",
      "epoch 52: 1.2974937027263491\n",
      "epoch 53: 1.3655582788863174\n",
      "epoch 54: 1.2508421721537029\n"
     ]
    },
    {
     "name": "stderr",
     "output_type": "stream",
     "text": [
      " 22%|██▏       | 66/300 [00:01<00:03, 69.43it/s]"
     ]
    },
    {
     "name": "stdout",
     "output_type": "stream",
     "text": [
      "epoch 55: 1.249649526734308\n",
      "epoch 56: 1.2475838401727253\n",
      "epoch 57: 1.2340654281440506\n",
      "epoch 58: 1.2063785913863174\n",
      "epoch 59: 1.2027822439814293\n",
      "epoch 60: 1.196339224606288\n",
      "epoch 61: 1.2605135364924362\n",
      "epoch 62: 1.2057918601123279\n",
      "epoch 63: 1.1597535199466584\n",
      "epoch 64: 1.1894480536661776\n",
      "epoch 65: 1.197223400633608\n",
      "epoch 66: 1.1652441207806503\n",
      "epoch 67: 1.1566257196884173\n",
      "epoch 68: 1.1540147544945247\n",
      "epoch 69: 1.1724755120724204\n"
     ]
    },
    {
     "name": "stderr",
     "output_type": "stream",
     "text": [
      " 27%|██▋       | 82/300 [00:01<00:03, 72.27it/s]"
     ]
    },
    {
     "name": "stdout",
     "output_type": "stream",
     "text": [
      "epoch 70: 1.1387425429343532\n",
      "epoch 71: 1.1392696309127341\n",
      "epoch 72: 1.103560605526078\n",
      "epoch 73: 1.103164710748758\n",
      "epoch 74: 1.1100795846621698\n",
      "epoch 75: 1.1262493120625423\n",
      "epoch 76: 1.182227687013152\n",
      "epoch 77: 1.1219338274723414\n",
      "epoch 78: 1.1005322475093136\n",
      "epoch 79: 1.0974026833088733\n",
      "epoch 80: 1.0791765300434635\n",
      "epoch 81: 1.1396284829038723\n",
      "epoch 82: 1.105682627991646\n",
      "epoch 83: 1.0590374917094716\n",
      "epoch 84: 1.051504135562486\n",
      "epoch 85: 1.0811039676351886\n",
      "epoch 86: 1.047087665281384\n"
     ]
    },
    {
     "name": "stderr",
     "output_type": "stream",
     "text": [
      " 30%|███       | 90/300 [00:01<00:03, 66.80it/s]"
     ]
    },
    {
     "name": "stdout",
     "output_type": "stream",
     "text": [
      "epoch 87: 1.0650612440731542\n",
      "epoch 88: 1.0857559241998758\n",
      "epoch 89: 1.0595524525852338\n",
      "epoch 90: 1.0343129753824227\n",
      "epoch 91: 1.100867506773538\n",
      "epoch 92: 1.063530693476236\n",
      "epoch 93: 1.0107582834725672\n"
     ]
    },
    {
     "name": "stderr",
     "output_type": "stream",
     "text": [
      " 34%|███▍      | 103/300 [00:01<00:03, 53.71it/s]"
     ]
    },
    {
     "name": "stdout",
     "output_type": "stream",
     "text": [
      "epoch 94: 1.071335035243565\n",
      "epoch 95: 0.9998709014803003\n",
      "epoch 96: 1.0440395731612666\n",
      "epoch 97: 1.0250706899836306\n",
      "epoch 98: 1.0460107785688078\n",
      "epoch 99: 1.0188109001044254\n",
      "epoch 100: 1.0436992425632197\n",
      "epoch 101: 1.0356599657442425\n",
      "epoch 102: 1.0133140152263491\n",
      "epoch 103: 0.9959871417433394\n",
      "epoch 104: 1.0103962343361932\n",
      "epoch 105: 1.0227231034093476\n",
      "epoch 106: 0.9905921245272635\n"
     ]
    },
    {
     "name": "stderr",
     "output_type": "stream",
     "text": [
      " 40%|████      | 121/300 [00:02<00:02, 66.86it/s]"
     ]
    },
    {
     "name": "stdout",
     "output_type": "stream",
     "text": [
      "epoch 107: 0.9948142304272973\n",
      "epoch 108: 1.0191023915528337\n",
      "epoch 109: 0.9674498643528449\n",
      "epoch 110: 0.9905678703220253\n",
      "epoch 111: 1.0090884916883043\n",
      "epoch 112: 0.9899027538665613\n",
      "epoch 113: 0.9591887718023255\n",
      "epoch 114: 0.969854007323888\n",
      "epoch 115: 0.9472936275824114\n",
      "epoch 116: 0.9714231441564123\n",
      "epoch 117: 0.9388268152729171\n",
      "epoch 118: 0.9574110488047528\n",
      "epoch 119: 0.9908398481598555\n",
      "epoch 120: 0.9464790170255701\n",
      "epoch 121: 0.9877113864232897\n",
      "epoch 122: 0.9845020038383382\n",
      "epoch 123: 0.9520783207975841\n",
      "epoch 124: 0.9866707707721833\n"
     ]
    },
    {
     "name": "stderr",
     "output_type": "stream",
     "text": [
      " 46%|████▋     | 139/300 [00:02<00:02, 74.28it/s]"
     ]
    },
    {
     "name": "stdout",
     "output_type": "stream",
     "text": [
      "epoch 125: 0.9820687558210093\n",
      "epoch 126: 0.9708083000536238\n",
      "epoch 127: 0.9519781068313954\n",
      "epoch 128: 0.9506614342261233\n",
      "epoch 129: 0.9457607618113569\n",
      "epoch 130: 0.9281249779507225\n",
      "epoch 131: 0.9948173173261459\n",
      "epoch 132: 0.9204314889259708\n",
      "epoch 133: 0.9453224221748702\n",
      "epoch 134: 0.929183894502145\n",
      "epoch 135: 0.9890259643472002\n",
      "epoch 136: 0.9397339225488259\n",
      "epoch 137: 0.9237541496740235\n",
      "epoch 138: 0.9145271885230865\n",
      "epoch 139: 0.9261932407498871\n",
      "epoch 140: 0.9244349211165048\n",
      "epoch 141: 0.9123121732297076\n"
     ]
    },
    {
     "name": "stderr",
     "output_type": "stream",
     "text": [
      " 49%|████▉     | 148/300 [00:02<00:01, 76.45it/s]"
     ]
    },
    {
     "name": "stdout",
     "output_type": "stream",
     "text": [
      "epoch 142: 0.9147713842712802\n",
      "epoch 143: 0.9290872084203545\n",
      "epoch 144: 0.8895136612913468\n",
      "epoch 145: 0.9099629880828065\n",
      "epoch 146: 0.908099162656638\n",
      "epoch 147: 0.9148808038108207\n",
      "epoch 148: 0.8868929392921653\n",
      "epoch 149: 0.9185674981302213\n",
      "epoch 150: 0.8894251885654211\n",
      "epoch 151: 0.9139168093989896\n",
      "epoch 152: 0.9019435556135696\n",
      "epoch 153: 0.8781650084140042\n",
      "epoch 154: 0.9100593434254346\n",
      "epoch 155: 0.8994870456084895\n",
      "epoch 156: 0.9149065463422894\n",
      "epoch 157: 0.9105639411407767\n"
     ]
    },
    {
     "name": "stderr",
     "output_type": "stream",
     "text": [
      " 55%|█████▌    | 165/300 [00:02<00:01, 74.54it/s]"
     ]
    },
    {
     "name": "stdout",
     "output_type": "stream",
     "text": [
      "epoch 158: 0.8884670372121246\n",
      "epoch 159: 0.8824465371168717\n",
      "epoch 160: 0.8486730524314179\n",
      "epoch 161: 0.8682386993043012\n",
      "epoch 162: 0.8738592806290923\n",
      "epoch 163: 0.8645264278230131\n",
      "epoch 164: 0.8705196970605668\n",
      "epoch 165: 0.8779495318497403\n",
      "epoch 166: 0.8873342555811131\n",
      "epoch 167: 0.8748763035532852\n",
      "epoch 168: 0.869400696227986\n",
      "epoch 169: 0.8639109222419\n",
      "epoch 170: 0.8730609865375931\n",
      "epoch 171: 0.8628771418668153\n",
      "epoch 172: 0.8688951614183507\n",
      "epoch 173: 0.8537891462872544\n"
     ]
    },
    {
     "name": "stderr",
     "output_type": "stream",
     "text": [
      " 61%|██████    | 182/300 [00:02<00:01, 75.47it/s]"
     ]
    },
    {
     "name": "stdout",
     "output_type": "stream",
     "text": [
      "epoch 174: 0.8453959785645744\n",
      "epoch 175: 0.8718787042786182\n",
      "epoch 176: 0.8564528643775401\n",
      "epoch 177: 0.8636266519318695\n",
      "epoch 178: 0.8502721762813276\n",
      "epoch 179: 0.8611491951131746\n",
      "epoch 180: 0.8642256205548656\n",
      "epoch 181: 0.8442649057525683\n",
      "epoch 182: 0.8755064167807349\n",
      "epoch 183: 0.8328045732847426\n",
      "epoch 184: 0.8692939226017442\n",
      "epoch 185: 0.8423182852894276\n",
      "epoch 186: 0.8736485997826823\n",
      "epoch 187: 0.8398883446637221\n",
      "epoch 188: 0.8768638254261685\n"
     ]
    },
    {
     "name": "stderr",
     "output_type": "stream",
     "text": [
      " 66%|██████▌   | 198/300 [00:03<00:01, 75.56it/s]"
     ]
    },
    {
     "name": "stdout",
     "output_type": "stream",
     "text": [
      "epoch 189: 0.8321046189708455\n",
      "epoch 190: 0.8547965777757395\n",
      "epoch 191: 0.8190560219222737\n",
      "epoch 192: 0.8642895083363908\n",
      "epoch 193: 0.8335016060693723\n",
      "epoch 194: 0.8395646612701795\n",
      "epoch 195: 0.8348906003048092\n",
      "epoch 196: 0.8287987156736848\n",
      "epoch 197: 0.826795373444203\n",
      "epoch 198: 0.8303741916734872\n",
      "epoch 199: 0.8343830810601999\n",
      "epoch 200: 0.828350619231909\n",
      "epoch 201: 0.8574795889838281\n",
      "epoch 202: 0.825733369993932\n",
      "epoch 203: 0.8086031760661266\n",
      "epoch 204: 0.8300346328001524\n"
     ]
    },
    {
     "name": "stderr",
     "output_type": "stream",
     "text": [
      " 72%|███████▏  | 215/300 [00:03<00:01, 77.48it/s]"
     ]
    },
    {
     "name": "stdout",
     "output_type": "stream",
     "text": [
      "epoch 205: 0.8386594281828573\n",
      "epoch 206: 0.8278862614479848\n",
      "epoch 207: 0.8035614433986227\n",
      "epoch 208: 0.8278060572011177\n",
      "epoch 209: 0.8371155928962519\n",
      "epoch 210: 0.8121955546010668\n",
      "epoch 211: 0.8514962970443385\n",
      "epoch 212: 0.8189968196122149\n",
      "epoch 213: 0.8016923812690506\n",
      "epoch 214: 0.8342916316818131\n",
      "epoch 215: 0.7983209916177467\n",
      "epoch 216: 0.8079482022783078\n",
      "epoch 217: 0.8255404388159009\n",
      "epoch 218: 0.8478936655953657\n",
      "epoch 219: 0.8181606007634342\n"
     ]
    },
    {
     "name": "stderr",
     "output_type": "stream",
     "text": [
      " 77%|███████▋  | 232/300 [00:03<00:00, 76.96it/s]"
     ]
    },
    {
     "name": "stdout",
     "output_type": "stream",
     "text": [
      "epoch 220: 0.8484847516016595\n",
      "epoch 221: 0.8281914785716301\n",
      "epoch 222: 0.8201203956698747\n",
      "epoch 223: 0.8254945763187231\n",
      "epoch 224: 0.8101793686674476\n",
      "epoch 225: 0.8193744686124125\n",
      "epoch 226: 0.7984528462971325\n",
      "epoch 227: 0.8171869597927015\n",
      "epoch 228: 0.7943630360620343\n",
      "epoch 229: 0.8114812682568018\n",
      "epoch 230: 0.7936387724197054\n",
      "epoch 231: 0.825206667877907\n",
      "epoch 232: 0.7879645011042278\n",
      "epoch 233: 0.8269475685820727\n",
      "epoch 234: 0.8144455731224599\n",
      "epoch 235: 0.7915892369538835\n",
      "epoch 236: 0.8046310538496274\n"
     ]
    },
    {
     "name": "stderr",
     "output_type": "stream",
     "text": [
      " 83%|████████▎ | 249/300 [00:03<00:00, 78.45it/s]"
     ]
    },
    {
     "name": "stdout",
     "output_type": "stream",
     "text": [
      "epoch 237: 0.8309511110189941\n",
      "epoch 238: 0.800204937009624\n",
      "epoch 239: 0.792186166018712\n",
      "epoch 240: 0.7833574148192312\n",
      "epoch 241: 0.7734302788616223\n",
      "epoch 242: 0.802893074674729\n",
      "epoch 243: 0.8233639546349345\n",
      "epoch 244: 0.7891125518599007\n",
      "epoch 245: 0.788971105744807\n",
      "epoch 246: 0.7769223331839862\n",
      "epoch 247: 0.7750345291685482\n",
      "epoch 248: 0.7971953760019191\n",
      "epoch 249: 0.8250950434106176\n",
      "epoch 250: 0.7870933892738202\n",
      "epoch 251: 0.8079499662205069\n",
      "epoch 252: 0.7779377024123674\n"
     ]
    },
    {
     "name": "stderr",
     "output_type": "stream",
     "text": [
      " 88%|████████▊ | 265/300 [00:03<00:00, 78.48it/s]"
     ]
    },
    {
     "name": "stdout",
     "output_type": "stream",
     "text": [
      "epoch 253: 0.788996186797951\n",
      "epoch 254: 0.8241131339608264\n",
      "epoch 255: 0.8036126528455916\n",
      "epoch 256: 0.7722153636719632\n",
      "epoch 257: 0.8062967665175548\n",
      "epoch 258: 0.7970322113484986\n",
      "epoch 259: 0.8074437148093532\n",
      "epoch 260: 0.801429829497347\n",
      "epoch 261: 0.7533796030071687\n",
      "epoch 262: 0.7954442223837209\n",
      "epoch 263: 0.7672366368148849\n",
      "epoch 264: 0.7716229547090201\n",
      "epoch 265: 0.7860749882697844\n",
      "epoch 266: 0.7718738203636544\n",
      "epoch 267: 0.7942335516799786\n",
      "epoch 268: 0.7658208527072985\n",
      "epoch 269: 0.7910095614486905\n"
     ]
    },
    {
     "name": "stderr",
     "output_type": "stream",
     "text": [
      " 94%|█████████▍| 282/300 [00:04<00:00, 75.64it/s]"
     ]
    },
    {
     "name": "stdout",
     "output_type": "stream",
     "text": [
      "epoch 270: 0.7945981916064574\n",
      "epoch 271: 0.8130174414194795\n",
      "epoch 272: 0.7820836831818695\n",
      "epoch 273: 0.7618332959965568\n",
      "epoch 274: 0.8099373778470027\n",
      "epoch 275: 0.7820326391044818\n",
      "epoch 276: 0.7462041066338339\n",
      "epoch 277: 0.7432936571284432\n",
      "epoch 278: 0.7871757433252428\n",
      "epoch 279: 0.7810072925780368\n",
      "epoch 280: 0.8022352896040302\n",
      "epoch 281: 0.7502822858750564\n",
      "epoch 282: 0.7865262818567961\n",
      "epoch 283: 0.7782173423741251\n"
     ]
    },
    {
     "name": "stderr",
     "output_type": "stream",
     "text": [
      " 99%|█████████▉| 298/300 [00:04<00:00, 72.06it/s]"
     ]
    },
    {
     "name": "stdout",
     "output_type": "stream",
     "text": [
      "epoch 284: 0.7633300560757225\n",
      "epoch 285: 0.7876917515416855\n",
      "epoch 286: 0.7573804995307913\n",
      "epoch 287: 0.7466621803736735\n",
      "epoch 288: 0.7605412083356853\n",
      "epoch 289: 0.7806102953368425\n",
      "epoch 290: 0.7732659014979397\n",
      "epoch 291: 0.8106729417440449\n",
      "epoch 292: 0.753447239165867\n",
      "epoch 293: 0.7685754689440336\n",
      "epoch 294: 0.7681181118057123\n",
      "epoch 295: 0.7634706753429104\n",
      "epoch 296: 0.7647069783317341\n",
      "epoch 297: 0.7607344702528788\n",
      "epoch 298: 0.7568819102435651\n"
     ]
    },
    {
     "name": "stderr",
     "output_type": "stream",
     "text": [
      "100%|██████████| 300/300 [00:04<00:00, 67.59it/s]"
     ]
    },
    {
     "name": "stdout",
     "output_type": "stream",
     "text": [
      "epoch 299: 0.7854267946347934\n",
      "epoch 300: 0.75273692169155\n"
     ]
    },
    {
     "name": "stderr",
     "output_type": "stream",
     "text": [
      "\n"
     ]
    }
   ],
   "source": [
    "for e in trange(epoch):\n",
    "    running_loss = 0.0\n",
    "    \n",
    "    optimizer.zero_grad()\n",
    "    \n",
    "    output = model.forward(X, E)\n",
    "    loss = criterion.forward(output, Y)\n",
    "    running_loss += loss.item()\n",
    "    \n",
    "    loss.backward()\n",
    "    optimizer.step()\n",
    "    \n",
    "    print(f\"epoch {e+1}: {running_loss / NODE_SIZE}\")"
   ]
  },
  {
   "cell_type": "markdown",
   "metadata": {},
   "source": [
    "# evaluation"
   ]
  },
  {
   "cell_type": "code",
   "execution_count": 78,
   "metadata": {},
   "outputs": [
    {
     "name": "stdout",
     "output_type": "stream",
     "text": [
      "[[7099  493   52  276]\n",
      " [ 629 4656  156  204]\n",
      " [ 262  302 1375   43]\n",
      " [ 839  671   42  617]]\n"
     ]
    }
   ],
   "source": [
    "with torch.no_grad():\n",
    "    model.eval()\n",
    "\n",
    "    confusion_matrix = IncrementalConfusionMatrix(LABEL_SIZE)\n",
    "\n",
    "    X = dataset.x.to(device)\n",
    "    E = dataset.edge_index.T.to(device)\n",
    "    output = model(X, E).argmax(-1)\n",
    "\n",
    "    confusion_matrix.update(\n",
    "        dataset.y.numpy(),\n",
    "        output.view(-1).detach().cpu().numpy(),\n",
    "    )\n",
    "\n",
    "    print(confusion_matrix)"
   ]
  },
  {
   "cell_type": "code",
   "execution_count": 79,
   "metadata": {},
   "outputs": [],
   "source": [
    "evaluator = ClassificationEvaluator(LABEL_SIZE, device)"
   ]
  },
  {
   "cell_type": "code",
   "execution_count": 80,
   "metadata": {},
   "outputs": [
    {
     "name": "stdout",
     "output_type": "stream",
     "text": [
      "0         : 0.8963383838383838\n",
      "1         : 0.8248007085916741\n",
      "2         : 0.6937436932391524\n",
      "3         : 0.28446288612263715\n"
     ]
    }
   ],
   "source": [
    "per_class_accs = evaluator.get_per_class_accuracy(confusion_matrix)\n",
    "\n",
    "evaluator.show_per_class_accuracy(range(LABEL_SIZE), per_class_accs)"
   ]
  },
  {
   "cell_type": "code",
   "execution_count": 81,
   "metadata": {},
   "outputs": [
    {
     "data": {
      "text/plain": [
       "0.6748364179479618"
      ]
     },
     "execution_count": 81,
     "metadata": {},
     "output_type": "execute_result"
    }
   ],
   "source": [
    "per_class_accs.mean()"
   ]
  },
  {
   "cell_type": "code",
   "execution_count": 82,
   "metadata": {},
   "outputs": [
    {
     "data": {
      "image/png": "[encoded data removed]",
      "text/plain": [
       "<Figure size 400x300 with 2 Axes>"
      ]
     },
     "metadata": {},
     "output_type": "display_data"
    }
   ],
   "source": [
    "evaluator.plot_confusion_matrix(confusion_matrix, range(LABEL_SIZE), cmap='Blues')"
   ]
  },
  {
   "cell_type": "markdown",
   "metadata": {},
   "source": [
    "# Save"
   ]
  },
  {
   "cell_type": "code",
   "execution_count": 83,
   "metadata": {},
   "outputs": [],
   "source": [
    "model_path = artifacts_path.joinpath(f\"gat.{VERSION}.pth\")"
   ]
  },
  {
   "cell_type": "code",
   "execution_count": 84,
   "metadata": {},
   "outputs": [],
   "source": [
    "torch.save(model.state_dict(), model_path)"
   ]
  },
  {
   "cell_type": "code",
   "execution_count": 85,
   "metadata": {},
   "outputs": [
    {
     "data": {
      "text/plain": [
       "<All keys matched successfully>"
      ]
     },
     "execution_count": 85,
     "metadata": {},
     "output_type": "execute_result"
    }
   ],
   "source": [
    "model.load_state_dict(torch.load(model_path))"
   ]
  },
  {
   "cell_type": "code",
   "execution_count": null,
   "metadata": {},
   "outputs": [],
   "source": []
  },
  {
   "cell_type": "code",
   "execution_count": null,
   "metadata": {},
   "outputs": [],
   "source": []
  }
 ],
 "metadata": {
  "kernelspec": {
   "display_name": ".venv",
   "language": "python",
   "name": "python3"
  },
  "language_info": {
   "codemirror_mode": {
    "name": "ipython",
    "version": 3
   },
   "file_extension": ".py",
   "mimetype": "text/x-python",
   "name": "python",
   "nbconvert_exporter": "python",
   "pygments_lexer": "ipython3",
   "version": "3.11.4"
  }
 },
 "nbformat": 4,
 "nbformat_minor": 2
}
