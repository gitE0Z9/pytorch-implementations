{
    "cells": [
        {
            "cell_type": "code",
            "execution_count": 41,
            "metadata": {},
            "outputs": [],
            "source": [
                "from pathlib import Path\n",
                "\n",
                "import matplotlib.pyplot as plt\n",
                "import numpy as np\n",
                "import pandas as pd\n",
                "import torch\n",
                "import torchinfo\n",
                "import torchtext.transforms as T\n",
                "from sklearn.model_selection import train_test_split\n",
                "from torch.utils.data import DataLoader\n",
                "from torchlake.common.controller.evaluator import ClassificationEvaluator\n",
                "from torchlake.common.controller.trainer import ClassificationTrainer\n",
                "from torchlake.common.schemas import NlpContext\n",
                "from torchlake.common.utils.platform import get_file_size\n",
                "from torchlake.text_classification.models.textcnn import TextCNN\n",
                "from torchtext.data.utils import get_tokenizer\n",
                "from torchtext.vocab import build_vocab_from_iterator"
            ]
        },
        {
            "cell_type": "markdown",
            "metadata": {},
            "source": [
                "# setting\n"
            ]
        },
        {
            "cell_type": "code",
            "execution_count": 42,
            "metadata": {},
            "outputs": [],
            "source": [
                "data_path = Path(\"../../data/childrenBooksAndStories\")\n",
                "artifacts_path = Path(\"../../artifacts/textcnn\")"
            ]
        },
        {
            "cell_type": "code",
            "execution_count": 43,
            "metadata": {},
            "outputs": [],
            "source": [
                "batch_size = 32\n",
                "context = NlpContext()"
            ]
        },
        {
            "cell_type": "code",
            "execution_count": 44,
            "metadata": {},
            "outputs": [],
            "source": [
                "tokenizer = get_tokenizer(\"basic_english\")"
            ]
        },
        {
            "cell_type": "markdown",
            "metadata": {},
            "source": [
                "# data"
            ]
        },
        {
            "cell_type": "code",
            "execution_count": 45,
            "metadata": {},
            "outputs": [],
            "source": [
                "data = pd.read_csv(\n",
                "    data_path.joinpath(\"children_stories.csv\").as_posix(),\n",
                "    encoding=\"latin-1\",\n",
                "    usecols=[\"cats\", \"desc\"],\n",
                ")"
            ]
        },
        {
            "cell_type": "code",
            "execution_count": 46,
            "metadata": {},
            "outputs": [],
            "source": [
                "# 移除空標籤\n",
                "data = data.query('cats != \"Age \"')"
            ]
        },
        {
            "cell_type": "code",
            "execution_count": 47,
            "metadata": {},
            "outputs": [],
            "source": [
                "def convert_to_bound(label: str) -> tuple[int, int]:\n",
                "    \"\"\"convert age label to label\n",
                "\n",
                "    Args:\n",
                "        label (str): age label, in format like 'x-y', 'x+'\n",
                "\n",
                "    Returns:\n",
                "        tuple[int, int]: lower and upper bound\n",
                "    \"\"\"\n",
                "\n",
                "    label = label.replace(\"6months\", \"0.5\")\n",
                "\n",
                "    if \"-\" in label:\n",
                "        [lower, upper] = label.split(\"-\")\n",
                "        lower, upper = float(lower), float(upper)\n",
                "    else:\n",
                "        lower = float(label.replace(\"+\", \"\"))\n",
                "        upper = np.Inf\n",
                "\n",
                "    return (lower, upper)"
            ]
        },
        {
            "cell_type": "code",
            "execution_count": 48,
            "metadata": {},
            "outputs": [],
            "source": [
                "def convert_to_label(lower: float, upper: float) -> int:\n",
                "    \"\"\"convert age bound to label\n",
                "\n",
                "    Args:\n",
                "        lower (float): lower bound of age\n",
                "        upper (float): upper bound of age\n",
                "\n",
                "    Returns:\n",
                "        int: 0 -> before kindergarten, 1 -> kindergarten, 2 -> elementary school\n",
                "    \"\"\"\n",
                "    if lower >= 8:\n",
                "        return 2\n",
                "    elif lower >= 3:\n",
                "        return 1\n",
                "    else:\n",
                "        return 0"
            ]
        },
        {
            "cell_type": "code",
            "execution_count": 49,
            "metadata": {},
            "outputs": [],
            "source": [
                "data[\"cats\"] = data.cats.str.replace(\"Age\\s\", \"\", regex=True)"
            ]
        },
        {
            "cell_type": "code",
            "execution_count": 50,
            "metadata": {},
            "outputs": [],
            "source": [
                "data[\"cats\"] = data.cats.apply(convert_to_bound)"
            ]
        },
        {
            "cell_type": "code",
            "execution_count": 51,
            "metadata": {},
            "outputs": [
                {
                    "data": {
                        "text/plain": [
                            "cats\n",
                            "(0.0, 2.0)       2\n",
                            "(0.0, 3.0)      12\n",
                            "(0.0, 4.0)      16\n",
                            "(0.0, 5.0)       8\n",
                            "(0.0, 6.0)       1\n",
                            "(0.0, inf)      13\n",
                            "(0.5, inf)       1\n",
                            "(1.0, 2.0)       1\n",
                            "(1.0, 3.0)       6\n",
                            "(1.0, 4.0)       4\n",
                            "(1.0, 5.0)       5\n",
                            "(1.0, 6.0)       1\n",
                            "(1.0, inf)       2\n",
                            "(2.0, 4.0)       1\n",
                            "(2.0, 5.0)       9\n",
                            "(2.0, 6.0)      10\n",
                            "(2.0, 7.0)       1\n",
                            "(2.0, 9.0)      20\n",
                            "(2.0, inf)      12\n",
                            "(3.0, 4.0)       1\n",
                            "(3.0, 5.0)       7\n",
                            "(3.0, 6.0)       9\n",
                            "(3.0, 7.0)       5\n",
                            "(3.0, inf)      32\n",
                            "(4.0, 5.0)       1\n",
                            "(4.0, 6.0)       3\n",
                            "(4.0, 7.0)       2\n",
                            "(4.0, 8.0)       3\n",
                            "(4.0, 11.0)      1\n",
                            "(4.0, inf)      20\n",
                            "(5.0, 8.0)       3\n",
                            "(5.0, 9.0)       2\n",
                            "(5.0, inf)      17\n",
                            "(6.0, 8.0)       2\n",
                            "(6.0, 9.0)       1\n",
                            "(6.0, 11.0)      3\n",
                            "(6.0, inf)      21\n",
                            "(7.0, 9.0)       2\n",
                            "(7.0, 10.0)      2\n",
                            "(7.0, 11.0)      4\n",
                            "(7.0, 12.0)      1\n",
                            "(7.0, inf)      27\n",
                            "(8.0, 11.0)      1\n",
                            "(8.0, 12.0)      4\n",
                            "(8.0, inf)      26\n",
                            "(9.0, 11.0)      3\n",
                            "(9.0, 12.0)      2\n",
                            "(9.0, 13.0)      2\n",
                            "(9.0, 14.0)      1\n",
                            "(9.0, inf)      32\n",
                            "(10.0, 14.0)     1\n",
                            "(10.0, inf)     26\n",
                            "(11.0, 14.0)     1\n",
                            "(11.0, 15.0)     1\n",
                            "(11.0, inf)     19\n",
                            "(12.0, inf)     12\n",
                            "(13.0, inf)      3\n",
                            "Name: count, dtype: int64"
                        ]
                    },
                    "execution_count": 51,
                    "metadata": {},
                    "output_type": "execute_result"
                }
            ],
            "source": [
                "data.cats.value_counts().sort_index()"
            ]
        },
        {
            "cell_type": "code",
            "execution_count": 52,
            "metadata": {},
            "outputs": [],
            "source": [
                "CLASS_NAMES = [\"3y-\", \"3~8y\", \"8y+\"]"
            ]
        },
        {
            "cell_type": "code",
            "execution_count": 53,
            "metadata": {},
            "outputs": [],
            "source": [
                "data[\"cats\"] = data.cats.apply(lambda bound: convert_to_label(*bound))"
            ]
        },
        {
            "cell_type": "code",
            "execution_count": 54,
            "metadata": {},
            "outputs": [
                {
                    "data": {
                        "text/plain": [
                            "cats\n",
                            "0    125\n",
                            "1    169\n",
                            "2    134\n",
                            "Name: count, dtype: int64"
                        ]
                    },
                    "execution_count": 54,
                    "metadata": {},
                    "output_type": "execute_result"
                }
            ],
            "source": [
                "data.cats.value_counts().sort_index()"
            ]
        },
        {
            "cell_type": "code",
            "execution_count": 55,
            "metadata": {},
            "outputs": [],
            "source": [
                "train_data, test_data = train_test_split(data, test_size=1 / 5)"
            ]
        },
        {
            "cell_type": "code",
            "execution_count": 56,
            "metadata": {},
            "outputs": [],
            "source": [
                "vocab = build_vocab_from_iterator(\n",
                "    train_data[\"desc\"].str.split(),\n",
                "    specials=context.special_tokens,\n",
                "    min_freq=context.min_frequency,\n",
                ")\n",
                "\n",
                "vocab.set_default_index(context.unk_idx)"
            ]
        },
        {
            "cell_type": "code",
            "execution_count": 57,
            "metadata": {},
            "outputs": [],
            "source": [
                "text_transform = T.Sequential(\n",
                "    T.VocabTransform(vocab),\n",
                "    T.Truncate(context.max_seq_len - 2),\n",
                "    T.AddToken(token=context.bos_idx, begin=True),\n",
                "    T.AddToken(token=context.eos_idx, begin=False),\n",
                "    T.ToTensor(),\n",
                "    T.PadTransform(context.max_seq_len, context.padding_idx),\n",
                ")"
            ]
        },
        {
            "cell_type": "code",
            "execution_count": 58,
            "metadata": {},
            "outputs": [],
            "source": [
                "def collate_fn(batch: np.ndarray):\n",
                "    text_placeholder, label_placeholder = [], []\n",
                "\n",
                "    for label, text in batch:\n",
                "        text = tokenizer(text)\n",
                "        text = text_transform(text)\n",
                "        text_placeholder.append(text)\n",
                "        label_placeholder.append(label)\n",
                "\n",
                "    return torch.stack(text_placeholder), torch.Tensor(label_placeholder)"
            ]
        },
        {
            "cell_type": "code",
            "execution_count": 59,
            "metadata": {},
            "outputs": [],
            "source": [
                "train_iter = DataLoader(\n",
                "    train_data.to_numpy(),\n",
                "    batch_size=batch_size,\n",
                "    collate_fn=collate_fn,\n",
                "    shuffle=True,\n",
                "    drop_last=True,\n",
                ")\n",
                "\n",
                "test_iter = DataLoader(\n",
                "    test_data.to_numpy(),\n",
                "    batch_size=batch_size,\n",
                "    collate_fn=collate_fn,\n",
                ")"
            ]
        },
        {
            "cell_type": "code",
            "execution_count": 60,
            "metadata": {},
            "outputs": [
                {
                    "name": "stdout",
                    "output_type": "stream",
                    "text": [
                        "torch.Size([32, 256]) torch.Size([32])\n"
                    ]
                }
            ],
            "source": [
                "for text, label in train_iter:\n",
                "    print(text.shape, label.shape)\n",
                "    break"
            ]
        },
        {
            "cell_type": "markdown",
            "metadata": {},
            "source": [
                "# model\n"
            ]
        },
        {
            "cell_type": "code",
            "execution_count": 61,
            "metadata": {},
            "outputs": [],
            "source": [
                "VOCAB_SIZE = len(vocab)\n",
                "LABEL_SIZE = data.cats.nunique()"
            ]
        },
        {
            "cell_type": "code",
            "execution_count": 62,
            "metadata": {},
            "outputs": [],
            "source": [
                "DEVICE = torch.device(context.device)"
            ]
        },
        {
            "cell_type": "code",
            "execution_count": 63,
            "metadata": {},
            "outputs": [],
            "source": [
                "EMBED_DIM = 32"
            ]
        },
        {
            "cell_type": "code",
            "execution_count": 64,
            "metadata": {},
            "outputs": [],
            "source": [
                "model = TextCNN(VOCAB_SIZE, EMBED_DIM, output_size=LABEL_SIZE, padding_idx=context.padding_idx).to(DEVICE)"
            ]
        },
        {
            "cell_type": "code",
            "execution_count": 65,
            "metadata": {},
            "outputs": [
                {
                    "data": {
                        "text/plain": [
                            "======================================================================\n",
                            "Layer (type:depth-idx)                        Param #\n",
                            "======================================================================\n",
                            "TextCnn                                       --\n",
                            "├─Embedding: 1-1                              29,696\n",
                            "├─MultiKernelConvModule: 1-2                  --\n",
                            "│    └─FlattenFeature: 2-1                    --\n",
                            "│    │    └─Sequential: 3-1                   --\n",
                            "│    └─ModuleList: 2-2                        --\n",
                            "│    │    └─ConvBnRelu: 3-2                   9,700\n",
                            "│    │    └─ConvBnRelu: 3-3                   12,900\n",
                            "│    │    └─ConvBnRelu: 3-4                   16,100\n",
                            "├─Linear: 1-3                                 903\n",
                            "├─Dropout: 1-4                                --\n",
                            "======================================================================\n",
                            "Total params: 69,299\n",
                            "Trainable params: 69,299\n",
                            "Non-trainable params: 0\n",
                            "======================================================================"
                        ]
                    },
                    "execution_count": 65,
                    "metadata": {},
                    "output_type": "execute_result"
                }
            ],
            "source": [
                "torchinfo.summary(model)"
            ]
        },
        {
            "cell_type": "markdown",
            "metadata": {},
            "source": [
                "# train\n"
            ]
        },
        {
            "cell_type": "code",
            "execution_count": 66,
            "metadata": {},
            "outputs": [],
            "source": [
                "EPOCHS = 20"
            ]
        },
        {
            "cell_type": "code",
            "execution_count": 67,
            "metadata": {},
            "outputs": [],
            "source": [
                "trainer = ClassificationTrainer(EPOCHS, DEVICE)"
            ]
        },
        {
            "cell_type": "code",
            "execution_count": 68,
            "metadata": {},
            "outputs": [],
            "source": [
                "criterion = trainer.get_criterion(LABEL_SIZE)\n",
                "optimizer = torch.optim.Adam(model.parameters())"
            ]
        },
        {
            "cell_type": "code",
            "execution_count": 69,
            "metadata": {},
            "outputs": [
                {
                    "name": "stderr",
                    "output_type": "stream",
                    "text": [
                        "100%|██████████| 10/10 [00:00<00:00, 31.14it/s]\n"
                    ]
                },
                {
                    "name": "stdout",
                    "output_type": "stream",
                    "text": [
                        "epoch 1 : 0.6985853374004364\n"
                    ]
                },
                {
                    "name": "stderr",
                    "output_type": "stream",
                    "text": [
                        "100%|██████████| 10/10 [00:00<00:00, 41.95it/s]\n"
                    ]
                },
                {
                    "name": "stdout",
                    "output_type": "stream",
                    "text": [
                        "epoch 2 : 0.5914365708827972\n"
                    ]
                },
                {
                    "name": "stderr",
                    "output_type": "stream",
                    "text": [
                        "100%|██████████| 10/10 [00:00<00:00, 54.75it/s]\n"
                    ]
                },
                {
                    "name": "stdout",
                    "output_type": "stream",
                    "text": [
                        "epoch 3 : 0.5901546239852905\n"
                    ]
                },
                {
                    "name": "stderr",
                    "output_type": "stream",
                    "text": [
                        "100%|██████████| 10/10 [00:00<00:00, 52.24it/s]\n"
                    ]
                },
                {
                    "name": "stdout",
                    "output_type": "stream",
                    "text": [
                        "epoch 4 : 0.5234571516513824\n"
                    ]
                },
                {
                    "name": "stderr",
                    "output_type": "stream",
                    "text": [
                        "100%|██████████| 10/10 [00:00<00:00, 50.70it/s]\n"
                    ]
                },
                {
                    "name": "stdout",
                    "output_type": "stream",
                    "text": [
                        "epoch 5 : 0.5049300491809845\n"
                    ]
                },
                {
                    "name": "stderr",
                    "output_type": "stream",
                    "text": [
                        "100%|██████████| 10/10 [00:00<00:00, 55.02it/s]\n"
                    ]
                },
                {
                    "name": "stdout",
                    "output_type": "stream",
                    "text": [
                        "epoch 6 : 0.4574477195739746\n"
                    ]
                },
                {
                    "name": "stderr",
                    "output_type": "stream",
                    "text": [
                        "100%|██████████| 10/10 [00:00<00:00, 51.15it/s]\n"
                    ]
                },
                {
                    "name": "stdout",
                    "output_type": "stream",
                    "text": [
                        "epoch 7 : 0.42644847333431246\n"
                    ]
                },
                {
                    "name": "stderr",
                    "output_type": "stream",
                    "text": [
                        "100%|██████████| 10/10 [00:00<00:00, 46.85it/s]\n"
                    ]
                },
                {
                    "name": "stdout",
                    "output_type": "stream",
                    "text": [
                        "epoch 8 : 0.4413722187280655\n"
                    ]
                },
                {
                    "name": "stderr",
                    "output_type": "stream",
                    "text": [
                        "100%|██████████| 10/10 [00:00<00:00, 54.20it/s]\n"
                    ]
                },
                {
                    "name": "stdout",
                    "output_type": "stream",
                    "text": [
                        "epoch 9 : 0.3852264225482941\n"
                    ]
                },
                {
                    "name": "stderr",
                    "output_type": "stream",
                    "text": [
                        "100%|██████████| 10/10 [00:00<00:00, 56.02it/s]\n"
                    ]
                },
                {
                    "name": "stdout",
                    "output_type": "stream",
                    "text": [
                        "epoch 10 : 0.3723932087421417\n"
                    ]
                },
                {
                    "name": "stderr",
                    "output_type": "stream",
                    "text": [
                        "100%|██████████| 10/10 [00:00<00:00, 51.68it/s]\n"
                    ]
                },
                {
                    "name": "stdout",
                    "output_type": "stream",
                    "text": [
                        "epoch 11 : 0.3652725785970688\n"
                    ]
                },
                {
                    "name": "stderr",
                    "output_type": "stream",
                    "text": [
                        "100%|██████████| 10/10 [00:00<00:00, 53.93it/s]\n"
                    ]
                },
                {
                    "name": "stdout",
                    "output_type": "stream",
                    "text": [
                        "epoch 12 : 0.34339832961559297\n"
                    ]
                },
                {
                    "name": "stderr",
                    "output_type": "stream",
                    "text": [
                        "100%|██████████| 10/10 [00:00<00:00, 48.03it/s]\n"
                    ]
                },
                {
                    "name": "stdout",
                    "output_type": "stream",
                    "text": [
                        "epoch 13 : 0.33563591837882994\n"
                    ]
                },
                {
                    "name": "stderr",
                    "output_type": "stream",
                    "text": [
                        "100%|██████████| 10/10 [00:00<00:00, 54.67it/s]\n"
                    ]
                },
                {
                    "name": "stdout",
                    "output_type": "stream",
                    "text": [
                        "epoch 14 : 0.3124926269054413\n"
                    ]
                },
                {
                    "name": "stderr",
                    "output_type": "stream",
                    "text": [
                        "100%|██████████| 10/10 [00:00<00:00, 51.33it/s]\n"
                    ]
                },
                {
                    "name": "stdout",
                    "output_type": "stream",
                    "text": [
                        "epoch 15 : 0.294578418135643\n"
                    ]
                },
                {
                    "name": "stderr",
                    "output_type": "stream",
                    "text": [
                        "100%|██████████| 10/10 [00:00<00:00, 52.22it/s]\n"
                    ]
                },
                {
                    "name": "stdout",
                    "output_type": "stream",
                    "text": [
                        "epoch 16 : 0.29118155837059023\n"
                    ]
                },
                {
                    "name": "stderr",
                    "output_type": "stream",
                    "text": [
                        "100%|██████████| 10/10 [00:00<00:00, 56.45it/s]\n"
                    ]
                },
                {
                    "name": "stdout",
                    "output_type": "stream",
                    "text": [
                        "epoch 17 : 0.28572751134634017\n"
                    ]
                },
                {
                    "name": "stderr",
                    "output_type": "stream",
                    "text": [
                        "100%|██████████| 10/10 [00:00<00:00, 51.40it/s]\n"
                    ]
                },
                {
                    "name": "stdout",
                    "output_type": "stream",
                    "text": [
                        "epoch 18 : 0.2595067650079727\n"
                    ]
                },
                {
                    "name": "stderr",
                    "output_type": "stream",
                    "text": [
                        "100%|██████████| 10/10 [00:00<00:00, 56.34it/s]\n"
                    ]
                },
                {
                    "name": "stdout",
                    "output_type": "stream",
                    "text": [
                        "epoch 19 : 0.24139989763498307\n"
                    ]
                },
                {
                    "name": "stderr",
                    "output_type": "stream",
                    "text": [
                        "100%|██████████| 10/10 [00:00<00:00, 56.58it/s]"
                    ]
                },
                {
                    "name": "stdout",
                    "output_type": "stream",
                    "text": [
                        "epoch 20 : 0.22503875195980072\n"
                    ]
                },
                {
                    "name": "stderr",
                    "output_type": "stream",
                    "text": [
                        "\n"
                    ]
                }
            ],
            "source": [
                "training_loss = trainer.run(train_iter, model, optimizer, criterion)"
            ]
        },
        {
            "cell_type": "code",
            "execution_count": 70,
            "metadata": {},
            "outputs": [
                {
                    "data": {
                        "text/plain": [
                            "[<matplotlib.lines.Line2D at 0x2183207eed0>]"
                        ]
                    },
                    "execution_count": 70,
                    "metadata": {},
                    "output_type": "execute_result"
                },
                {
                    "data": {
                        "image/png": "[encoded data removed]",
                        "text/plain": [
                            "<Figure size 640x480 with 1 Axes>"
                        ]
                    },
                    "metadata": {},
                    "output_type": "display_data"
                }
            ],
            "source": [
                "plt.plot(training_loss)"
            ]
        },
        {
            "cell_type": "markdown",
            "metadata": {},
            "source": [
                "# inference\n"
            ]
        },
        {
            "cell_type": "code",
            "execution_count": 71,
            "metadata": {},
            "outputs": [],
            "source": [
                "evaluator = ClassificationEvaluator(LABEL_SIZE, DEVICE)"
            ]
        },
        {
            "cell_type": "code",
            "execution_count": 72,
            "metadata": {},
            "outputs": [
                {
                    "name": "stderr",
                    "output_type": "stream",
                    "text": [
                        "100%|██████████| 3/3 [00:00<00:00, 77.13it/s]"
                    ]
                },
                {
                    "name": "stdout",
                    "output_type": "stream",
                    "text": [
                        "[[18  6  1]\n",
                        " [ 0 23 10]\n",
                        " [ 0 13 15]]\n"
                    ]
                },
                {
                    "name": "stderr",
                    "output_type": "stream",
                    "text": [
                        "\n"
                    ]
                }
            ],
            "source": [
                "confusion_matrix = evaluator.run(test_iter, model)"
            ]
        },
        {
            "cell_type": "code",
            "execution_count": 73,
            "metadata": {},
            "outputs": [],
            "source": [
                "per_class_accuracy = evaluator.get_per_class_accuracy(confusion_matrix)"
            ]
        },
        {
            "cell_type": "code",
            "execution_count": 74,
            "metadata": {},
            "outputs": [
                {
                    "name": "stdout",
                    "output_type": "stream",
                    "text": [
                        "3y-       : 0.72\n",
                        "3~8y      : 0.696969696969697\n",
                        "8y+       : 0.5357142857142857\n"
                    ]
                }
            ],
            "source": [
                "evaluator.show_per_class_accuracy(CLASS_NAMES, per_class_accuracy)"
            ]
        },
        {
            "cell_type": "code",
            "execution_count": 75,
            "metadata": {},
            "outputs": [
                {
                    "data": {
                        "text/plain": [
                            "array(0.65116279)"
                        ]
                    },
                    "execution_count": 75,
                    "metadata": {},
                    "output_type": "execute_result"
                }
            ],
            "source": [
                "evaluator.get_total_accuracy(confusion_matrix)"
            ]
        },
        {
            "cell_type": "code",
            "execution_count": 76,
            "metadata": {},
            "outputs": [
                {
                    "data": {
                        "image/png": "[encoded data removed]",
                        "text/plain": [
                            "<Figure size 400x300 with 2 Axes>"
                        ]
                    },
                    "metadata": {},
                    "output_type": "display_data"
                }
            ],
            "source": [
                "evaluator.plot_confusion_matrix(confusion_matrix, CLASS_NAMES, cmap=\"Blues\")"
            ]
        },
        {
            "cell_type": "markdown",
            "metadata": {},
            "source": [
                "# File"
            ]
        },
        {
            "cell_type": "code",
            "execution_count": 77,
            "metadata": {},
            "outputs": [],
            "source": [
                "model_path = artifacts_path.joinpath(\"textcnn.pth\")"
            ]
        },
        {
            "cell_type": "code",
            "execution_count": 78,
            "metadata": {},
            "outputs": [],
            "source": [
                "torch.save(model.state_dict(), model_path)"
            ]
        },
        {
            "cell_type": "code",
            "execution_count": 79,
            "metadata": {},
            "outputs": [
                {
                    "data": {
                        "text/plain": [
                            "'274.31KiB'"
                        ]
                    },
                    "execution_count": 79,
                    "metadata": {},
                    "output_type": "execute_result"
                }
            ],
            "source": [
                "get_file_size(model_path, unit=\"K\")"
            ]
        },
        {
            "cell_type": "code",
            "execution_count": 80,
            "metadata": {},
            "outputs": [
                {
                    "data": {
                        "text/plain": [
                            "<All keys matched successfully>"
                        ]
                    },
                    "execution_count": 80,
                    "metadata": {},
                    "output_type": "execute_result"
                }
            ],
            "source": [
                "model.load_state_dict(torch.load(model_path))"
            ]
        }
    ],
    "metadata": {
        "kernelspec": {
            "display_name": ".venv",
            "language": "python",
            "name": "python3"
        },
        "language_info": {
            "codemirror_mode": {
                "name": "ipython",
                "version": 3
            },
            "file_extension": ".py",
            "mimetype": "text/x-python",
            "name": "python",
            "nbconvert_exporter": "python",
            "pygments_lexer": "ipython3",
            "version": "3.11.4"
        }
    },
    "nbformat": 4,
    "nbformat_minor": 2
}