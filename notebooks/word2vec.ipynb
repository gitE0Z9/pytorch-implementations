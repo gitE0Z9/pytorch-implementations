{
  "cells": [
    {
      "cell_type": "code",
      "execution_count": 1,
      "metadata": {
        "id": "d7sKSxZC0mlq"
      },
      "outputs": [],
      "source": [
        "from pathlib import Path\n",
        "\n",
        "import matplotlib.pyplot as plt\n",
        "import torch\n",
        "import torchinfo\n",
        "import torchtext\n",
        "import torchtext.transforms as T\n",
        "from torch import nn, optim\n",
        "from torch.utils.data import DataLoader\n",
        "from torchlake.common.schemas.nlp import NlpContext\n",
        "from torchlake.common.utils.file import read_json_file, write_json_file\n",
        "from torchlake.common.utils.platform import get_num_workers\n",
        "from torchlake.common.utils.text import (build_vocab, get_context,\n",
        "                                         get_unigram_counts, is_corpus_title,\n",
        "                                         is_longer_text)\n",
        "from torchlake.language_model.constants.enum import LossType, Word2VecModelType\n",
        "from torchlake.language_model.controller.trainer_word2vec import (\n",
        "    CBOWTrainer, SkipGramTrainer)\n",
        "from torchlake.language_model.models.word2vec import Word2Vec\n",
        "from torchlake.language_model.models.word2vec import (HierarchicalSoftmax,\n",
        "                                                           NegativeSampling)\n",
        "from torchlake.language_model.utils.stats import subsampling_probability\n",
        "from torchtext.data.utils import get_tokenizer, ngrams_iterator\n",
        "from torchtext.datasets import WikiText2, WikiText103\n",
        "from tqdm import tqdm"
      ]
    },
    {
      "cell_type": "markdown",
      "metadata": {},
      "source": [
        "To utilize this notebook, you have to install `portalocker` first"
      ]
    },
    {
      "cell_type": "code",
      "execution_count": 2,
      "metadata": {
        "colab": {
          "base_uri": "https://localhost:8080/",
          "height": 35
        },
        "id": "Gcf1yr-Y0mls",
        "outputId": "d5f96f63-22d9-4857-d230-af686ab5df12"
      },
      "outputs": [
        {
          "data": {
            "text/plain": [
              "'2.1.0+cu118'"
            ]
          },
          "execution_count": 2,
          "metadata": {},
          "output_type": "execute_result"
        }
      ],
      "source": [
        "torch.__version__"
      ]
    },
    {
      "cell_type": "code",
      "execution_count": 3,
      "metadata": {
        "colab": {
          "base_uri": "https://localhost:8080/",
          "height": 35
        },
        "id": "Iz1byBBS0mlu",
        "outputId": "7057b39e-a226-43ce-97ee-4e54f9f5cf31"
      },
      "outputs": [
        {
          "data": {
            "text/plain": [
              "'0.16.0+cpu'"
            ]
          },
          "execution_count": 3,
          "metadata": {},
          "output_type": "execute_result"
        }
      ],
      "source": [
        "torchtext.__version__"
      ]
    },
    {
      "cell_type": "markdown",
      "metadata": {
        "id": "dQC-kmj40mlv"
      },
      "source": [
        "# setting\n"
      ]
    },
    {
      "cell_type": "code",
      "execution_count": 4,
      "metadata": {},
      "outputs": [],
      "source": [
        "DATASET_NAME = \"wikiText2\""
      ]
    },
    {
      "cell_type": "code",
      "execution_count": 5,
      "metadata": {},
      "outputs": [],
      "source": [
        "artifact_path = Path('../../artifacts/word2vec')\n",
        "artifact_dataset_path = artifact_path / DATASET_NAME\n",
        "data_path = Path('../../data') / DATASET_NAME"
      ]
    },
    {
      "cell_type": "code",
      "execution_count": 6,
      "metadata": {},
      "outputs": [],
      "source": [
        "CONTEXT = NlpContext()"
      ]
    },
    {
      "cell_type": "code",
      "execution_count": 7,
      "metadata": {},
      "outputs": [],
      "source": [
        "BATCH_SIZE = 32\n",
        "CONTEXT_SIZE = 5"
      ]
    },
    {
      "cell_type": "code",
      "execution_count": 8,
      "metadata": {},
      "outputs": [],
      "source": [
        "DEVICE = torch.device(CONTEXT.device)"
      ]
    },
    {
      "cell_type": "code",
      "execution_count": 9,
      "metadata": {},
      "outputs": [],
      "source": [
        "tokenizer = get_tokenizer('basic_english')"
      ]
    },
    {
      "cell_type": "code",
      "execution_count": 10,
      "metadata": {
        "id": "VjIy_PjO0ml6"
      },
      "outputs": [],
      "source": [
        "def datapipe_factory(datapipe, context_size: int = 1, transform = None):\n",
        "    datapipe = (\n",
        "        datapipe\n",
        "        .map(lambda text: text.strip())\n",
        "        .map(lambda text: text.lower())\n",
        "        .filter(lambda text: is_longer_text(text, context_size))\n",
        "        .filter(lambda text: not is_corpus_title(text))\n",
        "        .map(tokenizer)\n",
        "        # .map(lambda text: drop_keywords(text, stopwords.words('english')))\n",
        "        # .batch(batch_size)\n",
        "        # .map(lambda text: F.to_tensor(text, padding_value=padding_idx))\n",
        "    )\n",
        "\n",
        "    if transform:\n",
        "      datapipe = datapipe.map(transform)\n",
        "\n",
        "    return datapipe"
      ]
    },
    {
      "cell_type": "code",
      "execution_count": 11,
      "metadata": {
        "id": "IJsLMBXd0ml5"
      },
      "outputs": [],
      "source": [
        "train_datapipe, val_datapipe, test_datapipe = WikiText2(data_path.as_posix())"
      ]
    },
    {
      "cell_type": "code",
      "execution_count": 12,
      "metadata": {
        "colab": {
          "base_uri": "https://localhost:8080/"
        },
        "id": "ZDQE8SdK0ml5",
        "outputId": "25f19425-0b0b-4158-f7c5-a5e4281e10a4"
      },
      "outputs": [
        {
          "name": "stderr",
          "output_type": "stream",
          "text": [
            "d:\\research\\pytorch-implementations\\.venv\\Lib\\site-packages\\torch\\utils\\data\\datapipes\\utils\\common.py:141: UserWarning: Local function is not supported by pickle, please use regular python function or functools.partial instead.\n",
            "  warnings.warn(\n"
          ]
        }
      ],
      "source": [
        "cloned_train_datapipe = datapipe_factory(train_datapipe, CONTEXT_SIZE)\n",
        "vocab = build_vocab(cloned_train_datapipe)"
      ]
    },
    {
      "cell_type": "code",
      "execution_count": 13,
      "metadata": {},
      "outputs": [],
      "source": [
        "VOCAB_SIZE = len(vocab)"
      ]
    },
    {
      "cell_type": "code",
      "execution_count": 14,
      "metadata": {
        "colab": {
          "base_uri": "https://localhost:8080/"
        },
        "id": "39QfrYufkefY",
        "outputId": "fdc52a35-2910-4d6c-fb09-a074df56d240"
      },
      "outputs": [],
      "source": [
        "# write_json_file(\n",
        "#     artifact_dataset_path.joinpath(\"vocab.json\"),\n",
        "#     list(vocab.get_stoi().keys()),\n",
        "# )"
      ]
    },
    {
      "cell_type": "code",
      "execution_count": 15,
      "metadata": {
        "colab": {
          "base_uri": "https://localhost:8080/"
        },
        "id": "h5eL12nFLH_M",
        "outputId": "60f7e4e4-09ef-41b6-e388-7079bc5f6c46"
      },
      "outputs": [
        {
          "data": {
            "text/plain": [
              "['<unk>',\n",
              " '<bos>',\n",
              " '<eos>',\n",
              " '<pad>',\n",
              " 'the',\n",
              " ',',\n",
              " '.',\n",
              " 'of',\n",
              " 'and',\n",
              " 'in',\n",
              " 'to',\n",
              " 'a',\n",
              " 'was',\n",
              " \"'\",\n",
              " '@-@',\n",
              " 'on',\n",
              " 'as',\n",
              " 's',\n",
              " 'that',\n",
              " 'for']"
            ]
          },
          "execution_count": 15,
          "metadata": {},
          "output_type": "execute_result"
        }
      ],
      "source": [
        "vocab.lookup_tokens(range(20))"
      ]
    },
    {
      "cell_type": "code",
      "execution_count": 16,
      "metadata": {
        "id": "VXZtp3Xk0ml5"
      },
      "outputs": [],
      "source": [
        "text_transform = T.Sequential(\n",
        "    T.VocabTransform(vocab),\n",
        "    T.Truncate(CONTEXT.max_seq_len - 2),\n",
        "    T.AddToken(token=CONTEXT.bos_idx, begin=True),\n",
        "    T.AddToken(token=CONTEXT.eos_idx, begin=False),\n",
        "    T.ToTensor(),\n",
        "    T.PadTransform(CONTEXT.max_seq_len, CONTEXT.padding_idx),\n",
        ")"
      ]
    },
    {
      "cell_type": "code",
      "execution_count": 17,
      "metadata": {
        "id": "1q159o50PHMf"
      },
      "outputs": [
        {
          "name": "stderr",
          "output_type": "stream",
          "text": [
            "d:\\research\\pytorch-implementations\\.venv\\Lib\\site-packages\\torch\\utils\\data\\datapipes\\utils\\common.py:141: UserWarning: Local function is not supported by pickle, please use regular python function or functools.partial instead.\n",
            "  warnings.warn(\n"
          ]
        }
      ],
      "source": [
        "train_datapipe = datapipe_factory(\n",
        "    train_datapipe,\n",
        "    CONTEXT_SIZE,\n",
        "    text_transform,\n",
        ")\n",
        "\n",
        "val_datapipe = datapipe_factory(\n",
        "    val_datapipe,\n",
        "    CONTEXT_SIZE,\n",
        "    text_transform,\n",
        ")\n",
        "\n",
        "test_datapipe = datapipe_factory(\n",
        "    test_datapipe,\n",
        "    CONTEXT_SIZE,\n",
        "    text_transform,\n",
        ")"
      ]
    },
    {
      "cell_type": "code",
      "execution_count": 18,
      "metadata": {},
      "outputs": [],
      "source": [
        "NUM_WORKERS = get_num_workers()"
      ]
    },
    {
      "cell_type": "code",
      "execution_count": 19,
      "metadata": {
        "id": "DL2__1kp0ml8"
      },
      "outputs": [],
      "source": [
        "collate_fn = lambda data: get_context(\n",
        "    data,\n",
        "    CONTEXT_SIZE // 2,\n",
        "    CONTEXT_SIZE // 2,\n",
        "    enable_random_context_size=False, # you can enable random context size for skipgram\n",
        ")\n",
        "\n",
        "train_dataloader = DataLoader(\n",
        "    train_datapipe,\n",
        "    batch_size=BATCH_SIZE,\n",
        "    collate_fn=collate_fn,\n",
        "    pin_memory=True,\n",
        "    num_workers=NUM_WORKERS,\n",
        ")\n",
        "\n",
        "val_dataloader = DataLoader(\n",
        "    val_datapipe,\n",
        "    batch_size=BATCH_SIZE,\n",
        "    collate_fn=collate_fn,\n",
        "    pin_memory=True,\n",
        "    num_workers=NUM_WORKERS,\n",
        ")\n",
        "\n",
        "test_dataloader = DataLoader(\n",
        "    test_datapipe,\n",
        "    batch_size=BATCH_SIZE,\n",
        "    collate_fn=collate_fn,\n",
        "    pin_memory=True,\n",
        "    num_workers=NUM_WORKERS,\n",
        ")"
      ]
    },
    {
      "cell_type": "code",
      "execution_count": 20,
      "metadata": {
        "id": "oz2f4qOd0ml7"
      },
      "outputs": [],
      "source": [
        "# check context size\n",
        "# for data in train_datapipe:\n",
        "#     if len(data) < 5:\n",
        "#         print(data)\n",
        "#         break"
      ]
    },
    {
      "cell_type": "code",
      "execution_count": 21,
      "metadata": {
        "colab": {
          "base_uri": "https://localhost:8080/"
        },
        "id": "sd9gWgCsLymY",
        "outputId": "6b781224-caf6-461d-fd69-83d9fe50c1dc"
      },
      "outputs": [],
      "source": [
        "# sample\n",
        "# for data in train_datapipe:\n",
        "#     if len(data) > 5:\n",
        "#         print(data)\n",
        "#         print(vocab.lookup_tokens(data))\n",
        "#         break"
      ]
    },
    {
      "cell_type": "code",
      "execution_count": 22,
      "metadata": {
        "colab": {
          "base_uri": "https://localhost:8080/"
        },
        "id": "a42AV49hp6vX",
        "outputId": "49b37f15-c86e-450b-a4ff-2335b471fee0"
      },
      "outputs": [],
      "source": [
        "# count = 0\n",
        "# for data in train_datapipe:\n",
        "#   count += len(data)\n",
        "# count"
      ]
    },
    {
      "cell_type": "code",
      "execution_count": 23,
      "metadata": {
        "colab": {
          "base_uri": "https://localhost:8080/"
        },
        "id": "frdhH6YwqDau",
        "outputId": "05768484-8667-4e4b-8add-6448602de244"
      },
      "outputs": [],
      "source": [
        "# number of words in training corpurs\n",
        "# wikitext2 count 1,993,228\n",
        "# wikitext103 count 101,227,641"
      ]
    },
    {
      "cell_type": "code",
      "execution_count": 24,
      "metadata": {
        "id": "c2mRhse60ml8"
      },
      "outputs": [
        {
          "name": "stdout",
          "output_type": "stream",
          "text": [
            "torch.Size([32, 1, 252]) torch.Size([32, 4, 252])\n"
          ]
        }
      ],
      "source": [
        "for gram, context in train_dataloader:\n",
        "    print(gram.shape, context.shape)\n",
        "    break"
      ]
    },
    {
      "cell_type": "markdown",
      "metadata": {
        "id": "L2Dm95bs0ml8"
      },
      "source": [
        "# subsampling\n"
      ]
    },
    {
      "cell_type": "code",
      "execution_count": 25,
      "metadata": {
        "id": "3SutljlQ37hh"
      },
      "outputs": [],
      "source": [
        "# load word frequency\n",
        "# word_counts = read_json_file(artifact_dataset_path.joinpath(\"word-count.json\"))\n",
        "# word_counts = torch.LongTensor(word_counts)"
      ]
    },
    {
      "cell_type": "code",
      "execution_count": 26,
      "metadata": {},
      "outputs": [
        {
          "name": "stderr",
          "output_type": "stream",
          "text": [
            "d:\\research\\pytorch-implementations\\.venv\\Lib\\site-packages\\torch\\utils\\data\\datapipes\\iter\\combining.py:333: UserWarning: Some child DataPipes are not exhausted when __iter__ is called. We are resetting the buffer and each child DataPipe will read from the start again.\n",
            "  warnings.warn(\"Some child DataPipes are not exhausted when __iter__ is called. We are resetting \"\n"
          ]
        }
      ],
      "source": [
        "word_counts = get_unigram_counts(\n",
        "    map(lambda x: x.tolist(), train_datapipe),\n",
        "    VOCAB_SIZE,\n",
        "    freq=False,\n",
        ")"
      ]
    },
    {
      "cell_type": "code",
      "execution_count": 27,
      "metadata": {
        "id": "Z-T_ZdaC0ml9"
      },
      "outputs": [],
      "source": [
        "word_freqs = get_unigram_counts(\n",
        "    map(lambda x: x.tolist(), train_datapipe),\n",
        "    VOCAB_SIZE,\n",
        "    freq=True,\n",
        ")"
      ]
    },
    {
      "cell_type": "code",
      "execution_count": 28,
      "metadata": {
        "colab": {
          "base_uri": "https://localhost:8080/"
        },
        "id": "FmYLnWPTVO-w",
        "outputId": "3ca2ae3a-d3f2-46cb-b189-df69791ce123"
      },
      "outputs": [
        {
          "data": {
            "text/plain": [
              "torch.Size([20351])"
            ]
          },
          "execution_count": 28,
          "metadata": {},
          "output_type": "execute_result"
        }
      ],
      "source": [
        "word_freqs.shape"
      ]
    },
    {
      "cell_type": "code",
      "execution_count": 29,
      "metadata": {
        "colab": {
          "base_uri": "https://localhost:8080/"
        },
        "id": "R9mbblWIfPId",
        "outputId": "eed6c760-2728-4ea0-d798-50b21734949a"
      },
      "outputs": [
        {
          "data": {
            "text/plain": [
              "tensor(1.0001)"
            ]
          },
          "execution_count": 29,
          "metadata": {},
          "output_type": "execute_result"
        }
      ],
      "source": [
        "sum(word_freqs)"
      ]
    },
    {
      "cell_type": "code",
      "execution_count": 30,
      "metadata": {
        "colab": {
          "base_uri": "https://localhost:8080/"
        },
        "id": "73IXZP6f0ml9",
        "outputId": "337f2433-4e4a-4529-aafe-ff3b7a9e1d39"
      },
      "outputs": [
        {
          "data": {
            "text/plain": [
              "tensor(4468736)"
            ]
          },
          "execution_count": 30,
          "metadata": {},
          "output_type": "execute_result"
        }
      ],
      "source": [
        "sum(word_counts)"
      ]
    },
    {
      "cell_type": "code",
      "execution_count": 31,
      "metadata": {},
      "outputs": [],
      "source": [
        "subsampling_threshold = 1e-5"
      ]
    },
    {
      "cell_type": "code",
      "execution_count": 32,
      "metadata": {
        "id": "Z_AVOBBn0ml9"
      },
      "outputs": [],
      "source": [
        "word_probs = (\n",
        "    subsampling_probability(word_freqs, subsampling_threshold)\n",
        "    .maximum(torch.zeros((1))) # avoid negative number\n",
        "    .to(DEVICE)\n",
        ")"
      ]
    },
    {
      "cell_type": "code",
      "execution_count": 33,
      "metadata": {},
      "outputs": [
        {
          "data": {
            "text/plain": [
              "tensor(1505.4606, device='cuda:0')"
            ]
          },
          "execution_count": 33,
          "metadata": {},
          "output_type": "execute_result"
        }
      ],
      "source": [
        "# the formula itself does not need normalization\n",
        "sum(word_probs)"
      ]
    },
    {
      "cell_type": "code",
      "execution_count": 34,
      "metadata": {
        "colab": {
          "base_uri": "https://localhost:8080/",
          "height": 466
        },
        "id": "tZqPLdRf0ml-",
        "outputId": "22484b9f-7393-4b09-980c-9bb6d2274120"
      },
      "outputs": [
        {
          "data": {
            "text/plain": [
              "Text(0, 0.5, 'drop probability')"
            ]
          },
          "execution_count": 34,
          "metadata": {},
          "output_type": "execute_result"
        },
        {
          "data": {
            "image/png": "[encoded data removed]",
            "text/plain": [
              "<Figure size 640x480 with 1 Axes>"
            ]
          },
          "metadata": {},
          "output_type": "display_data"
        }
      ],
      "source": [
        "plt.scatter(word_freqs, word_probs.cpu())\n",
        "plt.xlabel(\"word frequency\")\n",
        "plt.ylabel(\"drop probability\")"
      ]
    },
    {
      "cell_type": "code",
      "execution_count": 35,
      "metadata": {
        "colab": {
          "base_uri": "https://localhost:8080/"
        },
        "id": "5Pxl0SiKeWV2",
        "outputId": "50b0eb80-284e-4f12-c065-a4c6cadbd926"
      },
      "outputs": [],
      "source": [
        "# save word frequency\n",
        "# write_json_file(\n",
        "#     artifact_wikitext2_path.joinpath(\"word-count.json\"),\n",
        "#     word_counts.tolist(),\n",
        "# )"
      ]
    },
    {
      "cell_type": "markdown",
      "metadata": {
        "id": "Br5_RcSU0ml_"
      },
      "source": [
        "# training\n"
      ]
    },
    {
      "cell_type": "code",
      "execution_count": 36,
      "metadata": {
        "id": "ucGutfqLvOXa"
      },
      "outputs": [],
      "source": [
        "EMBED_DIM = 300"
      ]
    },
    {
      "cell_type": "code",
      "execution_count": 37,
      "metadata": {
        "id": "TLupxmPc0ml_"
      },
      "outputs": [],
      "source": [
        "EPOCHS = 20"
      ]
    },
    {
      "cell_type": "markdown",
      "metadata": {
        "id": "_h-1_YPH0ml_"
      },
      "source": [
        "## cross entropy\n"
      ]
    },
    {
      "cell_type": "markdown",
      "metadata": {
        "id": "PuKbk6FlQ6US"
      },
      "source": [
        "### SkipGram\n"
      ]
    },
    {
      "cell_type": "markdown",
      "metadata": {},
      "source": [
        "batch size 32, context size 5\n",
        "\n",
        "each epoch needs 2min, 11.6GB with 4 workers on linux\n",
        "\n",
        "each epoch needs 73min, 11.6GB with none workers on windows"
      ]
    },
    {
      "cell_type": "code",
      "execution_count": 62,
      "metadata": {
        "id": "D1sVrxGu0mmE"
      },
      "outputs": [],
      "source": [
        "model = Word2Vec(\n",
        "    VOCAB_SIZE,\n",
        "    EMBED_DIM,\n",
        "    Word2VecModelType.SKIP_GRAM,\n",
        "    context=CONTEXT,\n",
        ").to(DEVICE)"
      ]
    },
    {
      "cell_type": "code",
      "execution_count": 63,
      "metadata": {},
      "outputs": [
        {
          "data": {
            "text/plain": [
              "=================================================================\n",
              "Layer (type:depth-idx)                   Param #\n",
              "=================================================================\n",
              "Word2Vec                                 --\n",
              "├─Linear: 1-1                            6,125,651\n",
              "├─SkipGram: 1-2                          --\n",
              "│    └─Embedding: 2-1                    6,105,300\n",
              "=================================================================\n",
              "Total params: 12,230,951\n",
              "Trainable params: 12,230,951\n",
              "Non-trainable params: 0\n",
              "================================================================="
            ]
          },
          "execution_count": 63,
          "metadata": {},
          "output_type": "execute_result"
        }
      ],
      "source": [
        "torchinfo.summary(model)"
      ]
    },
    {
      "cell_type": "code",
      "execution_count": 64,
      "metadata": {
        "id": "5XTK-Pof0mmE"
      },
      "outputs": [],
      "source": [
        "criterion = nn.CrossEntropyLoss()\n",
        "optimizer = optim.SGD(model.parameters(), lr=1e-3)"
      ]
    },
    {
      "cell_type": "code",
      "execution_count": null,
      "metadata": {},
      "outputs": [
        {
          "name": "stderr",
          "output_type": "stream",
          "text": [
            "547it [02:20,  3.90it/s]\n"
          ]
        },
        {
          "name": "stdout",
          "output_type": "stream",
          "text": [
            "epoch 1 : 0.3087980635225172\n"
          ]
        },
        {
          "name": "stderr",
          "output_type": "stream",
          "text": [
            "547it [02:20,  3.91it/s]\n"
          ]
        },
        {
          "name": "stdout",
          "output_type": "stream",
          "text": [
            "epoch 2 : 0.3008768631164138\n"
          ]
        },
        {
          "name": "stderr",
          "output_type": "stream",
          "text": [
            "547it [02:02,  4.47it/s]\n"
          ]
        },
        {
          "name": "stdout",
          "output_type": "stream",
          "text": [
            "epoch 3 : 0.2930864764396255\n"
          ]
        },
        {
          "name": "stderr",
          "output_type": "stream",
          "text": [
            "547it [01:51,  4.91it/s]\n"
          ]
        },
        {
          "name": "stdout",
          "output_type": "stream",
          "text": [
            "epoch 4 : 0.28571212783414873\n"
          ]
        },
        {
          "name": "stderr",
          "output_type": "stream",
          "text": [
            "547it [01:51,  4.91it/s]\n"
          ]
        },
        {
          "name": "stdout",
          "output_type": "stream",
          "text": [
            "epoch 5 : 0.2787685870140873\n"
          ]
        },
        {
          "name": "stderr",
          "output_type": "stream",
          "text": [
            "547it [01:51,  4.90it/s]\n"
          ]
        },
        {
          "name": "stdout",
          "output_type": "stream",
          "text": [
            "epoch 6 : 0.27227624281079915\n"
          ]
        },
        {
          "name": "stderr",
          "output_type": "stream",
          "text": [
            "547it [01:51,  4.90it/s]\n"
          ]
        },
        {
          "name": "stdout",
          "output_type": "stream",
          "text": [
            "epoch 7 : 0.2660893277221596\n"
          ]
        },
        {
          "name": "stderr",
          "output_type": "stream",
          "text": [
            "547it [01:51,  4.89it/s]\n"
          ]
        },
        {
          "name": "stdout",
          "output_type": "stream",
          "text": [
            "epoch 8 : 0.26012423175611593\n"
          ]
        },
        {
          "name": "stderr",
          "output_type": "stream",
          "text": [
            "547it [01:51,  4.89it/s]\n"
          ]
        },
        {
          "name": "stdout",
          "output_type": "stream",
          "text": [
            "epoch 9 : 0.2543126828183175\n"
          ]
        },
        {
          "name": "stderr",
          "output_type": "stream",
          "text": [
            "547it [01:51,  4.89it/s]\n"
          ]
        },
        {
          "name": "stdout",
          "output_type": "stream",
          "text": [
            "epoch 10 : 0.24859831043058966\n"
          ]
        },
        {
          "name": "stderr",
          "output_type": "stream",
          "text": [
            "547it [01:51,  4.89it/s]\n"
          ]
        },
        {
          "name": "stdout",
          "output_type": "stream",
          "text": [
            "epoch 11 : 0.2429566849108468\n"
          ]
        },
        {
          "name": "stderr",
          "output_type": "stream",
          "text": [
            "547it [02:03,  4.44it/s]\n"
          ]
        },
        {
          "name": "stdout",
          "output_type": "stream",
          "text": [
            "epoch 12 : 0.23735726671848245\n"
          ]
        },
        {
          "name": "stderr",
          "output_type": "stream",
          "text": [
            "547it [02:18,  3.95it/s]\n"
          ]
        },
        {
          "name": "stdout",
          "output_type": "stream",
          "text": [
            "epoch 13 : 0.2317677917937201\n"
          ]
        },
        {
          "name": "stderr",
          "output_type": "stream",
          "text": [
            "547it [02:11,  4.15it/s]\n"
          ]
        },
        {
          "name": "stdout",
          "output_type": "stream",
          "text": [
            "epoch 14 : 0.22624234862004147\n"
          ]
        },
        {
          "name": "stderr",
          "output_type": "stream",
          "text": [
            "547it [02:11,  4.15it/s]\n"
          ]
        },
        {
          "name": "stdout",
          "output_type": "stream",
          "text": [
            "epoch 15 : 0.22074919936309487\n"
          ]
        },
        {
          "name": "stderr",
          "output_type": "stream",
          "text": [
            "547it [02:13,  4.08it/s]\n"
          ]
        },
        {
          "name": "stdout",
          "output_type": "stream",
          "text": [
            "epoch 16 : 0.2153011620809571\n"
          ]
        },
        {
          "name": "stderr",
          "output_type": "stream",
          "text": [
            "547it [02:12,  4.13it/s]\n"
          ]
        },
        {
          "name": "stdout",
          "output_type": "stream",
          "text": [
            "epoch 17 : 0.20986061034456072\n"
          ]
        },
        {
          "name": "stderr",
          "output_type": "stream",
          "text": [
            "547it [02:00,  4.54it/s]\n"
          ]
        },
        {
          "name": "stdout",
          "output_type": "stream",
          "text": [
            "epoch 18 : 0.20452876289321348\n"
          ]
        },
        {
          "name": "stderr",
          "output_type": "stream",
          "text": [
            "547it [01:52,  4.87it/s]\n"
          ]
        },
        {
          "name": "stdout",
          "output_type": "stream",
          "text": [
            "epoch 19 : 0.19922385570327697\n"
          ]
        },
        {
          "name": "stderr",
          "output_type": "stream",
          "text": [
            "547it [01:58,  4.61it/s]"
          ]
        },
        {
          "name": "stdout",
          "output_type": "stream",
          "text": [
            "epoch 20 : 0.1940036424521893\n"
          ]
        },
        {
          "name": "stderr",
          "output_type": "stream",
          "text": [
            "\n"
          ]
        },
        {
          "data": {
            "text/plain": [
              "[0.3087980635225172,\n",
              " 0.3008768631164138,\n",
              " 0.2930864764396255,\n",
              " 0.28571212783414873,\n",
              " 0.2787685870140873,\n",
              " 0.27227624281079915,\n",
              " 0.2660893277221596,\n",
              " 0.26012423175611593,\n",
              " 0.2543126828183175,\n",
              " 0.24859831043058966,\n",
              " 0.2429566849108468,\n",
              " 0.23735726671848245,\n",
              " 0.2317677917937201,\n",
              " 0.22624234862004147,\n",
              " 0.22074919936309487,\n",
              " 0.2153011620809571,\n",
              " 0.20986061034456072,\n",
              " 0.20452876289321348,\n",
              " 0.19922385570327697,\n",
              " 0.1940036424521893]"
            ]
          },
          "execution_count": 42,
          "metadata": {},
          "output_type": "execute_result"
        }
      ],
      "source": [
        "trainer = SkipGramTrainer(EPOCHS, DEVICE, feature_last=True)\n",
        "training_loss = trainer.run(train_dataloader, model, optimizer, criterion, word_probs=word_probs)"
      ]
    },
    {
      "cell_type": "code",
      "execution_count": 44,
      "metadata": {},
      "outputs": [
        {
          "data": {
            "text/plain": [
              "[<matplotlib.lines.Line2D at 0x7f1548250ac0>]"
            ]
          },
          "execution_count": 44,
          "metadata": {},
          "output_type": "execute_result"
        },
        {
          "data": {
            "image/png": "[encoded data removed]",
            "text/plain": [
              "<Figure size 640x480 with 1 Axes>"
            ]
          },
          "metadata": {},
          "output_type": "display_data"
        }
      ],
      "source": [
        "plt.plot(training_loss)"
      ]
    },
    {
      "cell_type": "code",
      "execution_count": 77,
      "metadata": {},
      "outputs": [],
      "source": [
        "model_path = artifact_path / \"sg.2.pth\""
      ]
    },
    {
      "cell_type": "code",
      "execution_count": 46,
      "metadata": {
        "id": "iUzEdQXd0mmF"
      },
      "outputs": [],
      "source": [
        "torch.save(model, model_path.as_posix())"
      ]
    },
    {
      "cell_type": "code",
      "execution_count": 78,
      "metadata": {
        "id": "PaRusaOZ0mmF"
      },
      "outputs": [],
      "source": [
        "model = torch.load(model_path.as_posix())"
      ]
    },
    {
      "cell_type": "markdown",
      "metadata": {
        "id": "mTD_ZolX0mmH"
      },
      "source": [
        "### CBOW\n"
      ]
    },
    {
      "cell_type": "markdown",
      "metadata": {},
      "source": [
        "batch size 32, context size 5\n",
        "\n",
        "each epoch needs 42s, 3.6GB with 4 workers on linux\n",
        "\n",
        "each epoch needs 42s, 3.6GB with none workers on windows"
      ]
    },
    {
      "cell_type": "code",
      "execution_count": 38,
      "metadata": {
        "id": "k63cX6-D0mmH"
      },
      "outputs": [],
      "source": [
        "model = Word2Vec(\n",
        "    VOCAB_SIZE,\n",
        "    EMBED_DIM,\n",
        "    Word2VecModelType.CBOW,\n",
        "    context=CONTEXT,\n",
        ").to(DEVICE)"
      ]
    },
    {
      "cell_type": "code",
      "execution_count": 39,
      "metadata": {},
      "outputs": [
        {
          "data": {
            "text/plain": [
              "=================================================================\n",
              "Layer (type:depth-idx)                   Param #\n",
              "=================================================================\n",
              "Word2Vec                                 --\n",
              "├─Linear: 1-1                            6,125,651\n",
              "├─CBOW: 1-2                              --\n",
              "│    └─Embedding: 2-1                    6,105,300\n",
              "=================================================================\n",
              "Total params: 12,230,951\n",
              "Trainable params: 12,230,951\n",
              "Non-trainable params: 0\n",
              "================================================================="
            ]
          },
          "execution_count": 39,
          "metadata": {},
          "output_type": "execute_result"
        }
      ],
      "source": [
        "torchinfo.summary(model)"
      ]
    },
    {
      "cell_type": "code",
      "execution_count": 40,
      "metadata": {
        "id": "M-j6UOGF0mmH"
      },
      "outputs": [],
      "source": [
        "criterion = nn.CrossEntropyLoss()\n",
        "optimizer = optim.SGD(model.parameters(), lr=1e-4)"
      ]
    },
    {
      "cell_type": "code",
      "execution_count": null,
      "metadata": {},
      "outputs": [
        {
          "name": "stderr",
          "output_type": "stream",
          "text": [
            "547it [00:46, 11.89it/s]\n"
          ]
        },
        {
          "name": "stdout",
          "output_type": "stream",
          "text": [
            "epoch 1 : 0.32005459873311354\n"
          ]
        },
        {
          "name": "stderr",
          "output_type": "stream",
          "text": [
            "547it [00:42, 12.78it/s]\n"
          ]
        },
        {
          "name": "stdout",
          "output_type": "stream",
          "text": [
            "epoch 2 : 0.31551956840877027\n"
          ]
        },
        {
          "name": "stderr",
          "output_type": "stream",
          "text": [
            "547it [00:42, 12.82it/s]\n"
          ]
        },
        {
          "name": "stdout",
          "output_type": "stream",
          "text": [
            "epoch 3 : 0.31102606066862015\n"
          ]
        },
        {
          "name": "stderr",
          "output_type": "stream",
          "text": [
            "547it [00:41, 13.06it/s]\n"
          ]
        },
        {
          "name": "stdout",
          "output_type": "stream",
          "text": [
            "epoch 4 : 0.3068001818809894\n"
          ]
        },
        {
          "name": "stderr",
          "output_type": "stream",
          "text": [
            "547it [00:41, 13.19it/s]\n"
          ]
        },
        {
          "name": "stdout",
          "output_type": "stream",
          "text": [
            "epoch 5 : 0.3031790271797495\n"
          ]
        },
        {
          "name": "stderr",
          "output_type": "stream",
          "text": [
            "547it [00:41, 13.12it/s]\n"
          ]
        },
        {
          "name": "stdout",
          "output_type": "stream",
          "text": [
            "epoch 6 : 0.30030418529519237\n"
          ]
        },
        {
          "name": "stderr",
          "output_type": "stream",
          "text": [
            "547it [00:41, 13.09it/s]\n"
          ]
        },
        {
          "name": "stdout",
          "output_type": "stream",
          "text": [
            "epoch 7 : 0.29790209352587693\n"
          ]
        },
        {
          "name": "stderr",
          "output_type": "stream",
          "text": [
            "547it [00:41, 13.11it/s]\n"
          ]
        },
        {
          "name": "stdout",
          "output_type": "stream",
          "text": [
            "epoch 8 : 0.2958969196849302\n"
          ]
        },
        {
          "name": "stderr",
          "output_type": "stream",
          "text": [
            "547it [00:42, 12.84it/s]\n"
          ]
        },
        {
          "name": "stdout",
          "output_type": "stream",
          "text": [
            "epoch 9 : 0.29419840086937826\n"
          ]
        },
        {
          "name": "stderr",
          "output_type": "stream",
          "text": [
            "547it [00:41, 13.33it/s]\n"
          ]
        },
        {
          "name": "stdout",
          "output_type": "stream",
          "text": [
            "epoch 10 : 0.29271949850890094\n"
          ]
        },
        {
          "name": "stderr",
          "output_type": "stream",
          "text": [
            "547it [00:40, 13.45it/s]\n"
          ]
        },
        {
          "name": "stdout",
          "output_type": "stream",
          "text": [
            "epoch 11 : 0.2913915446654686\n"
          ]
        },
        {
          "name": "stderr",
          "output_type": "stream",
          "text": [
            "547it [00:40, 13.61it/s]\n"
          ]
        },
        {
          "name": "stdout",
          "output_type": "stream",
          "text": [
            "epoch 12 : 0.2901640788444568\n"
          ]
        },
        {
          "name": "stderr",
          "output_type": "stream",
          "text": [
            "547it [00:41, 13.32it/s]\n"
          ]
        },
        {
          "name": "stdout",
          "output_type": "stream",
          "text": [
            "epoch 13 : 0.28900249833693537\n"
          ]
        },
        {
          "name": "stderr",
          "output_type": "stream",
          "text": [
            "547it [00:40, 13.39it/s]\n"
          ]
        },
        {
          "name": "stdout",
          "output_type": "stream",
          "text": [
            "epoch 14 : 0.2878982385946566\n"
          ]
        },
        {
          "name": "stderr",
          "output_type": "stream",
          "text": [
            "547it [00:40, 13.66it/s]\n"
          ]
        },
        {
          "name": "stdout",
          "output_type": "stream",
          "text": [
            "epoch 15 : 0.28687833330152673\n"
          ]
        },
        {
          "name": "stderr",
          "output_type": "stream",
          "text": [
            "547it [00:40, 13.65it/s]\n"
          ]
        },
        {
          "name": "stdout",
          "output_type": "stream",
          "text": [
            "epoch 16 : 0.28587390221552933\n"
          ]
        },
        {
          "name": "stderr",
          "output_type": "stream",
          "text": [
            "547it [00:39, 13.69it/s]\n"
          ]
        },
        {
          "name": "stdout",
          "output_type": "stream",
          "text": [
            "epoch 17 : 0.2849168373181337\n"
          ]
        },
        {
          "name": "stderr",
          "output_type": "stream",
          "text": [
            "547it [00:39, 13.69it/s]\n"
          ]
        },
        {
          "name": "stdout",
          "output_type": "stream",
          "text": [
            "epoch 18 : 0.28399199312919876\n"
          ]
        },
        {
          "name": "stderr",
          "output_type": "stream",
          "text": [
            "547it [00:33, 16.24it/s]\n"
          ]
        },
        {
          "name": "stdout",
          "output_type": "stream",
          "text": [
            "epoch 19 : 0.28306203162746624\n"
          ]
        },
        {
          "name": "stderr",
          "output_type": "stream",
          "text": [
            "547it [00:33, 16.26it/s]"
          ]
        },
        {
          "name": "stdout",
          "output_type": "stream",
          "text": [
            "epoch 20 : 0.2821944672836283\n"
          ]
        },
        {
          "name": "stderr",
          "output_type": "stream",
          "text": [
            "\n"
          ]
        }
      ],
      "source": [
        "trainer = CBOWTrainer(EPOCHS, DEVICE, feature_last=True)\n",
        "training_loss = trainer.run(train_dataloader, model, optimizer, criterion, word_probs=word_probs)"
      ]
    },
    {
      "cell_type": "code",
      "execution_count": 42,
      "metadata": {},
      "outputs": [
        {
          "data": {
            "text/plain": [
              "[<matplotlib.lines.Line2D at 0x7fb7640f9ba0>]"
            ]
          },
          "execution_count": 42,
          "metadata": {},
          "output_type": "execute_result"
        },
        {
          "data": {
            "image/png": "[encoded data removed]",
            "text/plain": [
              "<Figure size 640x480 with 1 Axes>"
            ]
          },
          "metadata": {},
          "output_type": "display_data"
        }
      ],
      "source": [
        "plt.plot(training_loss)"
      ]
    },
    {
      "cell_type": "code",
      "execution_count": 71,
      "metadata": {},
      "outputs": [],
      "source": [
        "model_path = artifact_path / \"cb.2.pth\""
      ]
    },
    {
      "cell_type": "code",
      "execution_count": 44,
      "metadata": {
        "id": "nyekoVbf0mmI"
      },
      "outputs": [],
      "source": [
        "torch.save(model, model_path.as_posix())"
      ]
    },
    {
      "cell_type": "code",
      "execution_count": 72,
      "metadata": {
        "id": "xwOZG0830mmI"
      },
      "outputs": [],
      "source": [
        "model = torch.load(model_path.as_posix())"
      ]
    },
    {
      "cell_type": "markdown",
      "metadata": {
        "id": "62UKYJJFRDrX"
      },
      "source": [
        "## NS\n"
      ]
    },
    {
      "cell_type": "markdown",
      "metadata": {},
      "source": [
        "batch size 32, context size 5\n",
        "\n",
        "each epoch needs 100s, 10GB with 4 workers on linux\n",
        "\n",
        "each epoch needs 73m, 1.7GB with none workers on windows\n",
        "\n",
        "each epoch needs 1m, 6GB with none workers on windows"
      ]
    },
    {
      "cell_type": "markdown",
      "metadata": {
        "id": "RGBmJD48PTbw"
      },
      "source": [
        "### SkipGram\n"
      ]
    },
    {
      "cell_type": "code",
      "execution_count": 38,
      "metadata": {
        "id": "vznrmHTXPS4B"
      },
      "outputs": [],
      "source": [
        "model = Word2Vec(\n",
        "    VOCAB_SIZE,\n",
        "    EMBED_DIM,\n",
        "    Word2VecModelType.SKIP_GRAM,\n",
        "    loss_type=LossType.NEGATIVE_SAMPLING,\n",
        "    context=CONTEXT,\n",
        ").to(DEVICE)"
      ]
    },
    {
      "cell_type": "code",
      "execution_count": 39,
      "metadata": {
        "id": "QEmVfMpMPc8N"
      },
      "outputs": [],
      "source": [
        "criterion = NegativeSampling(\n",
        "    word_freqs,\n",
        "    EMBED_DIM,\n",
        "    VOCAB_SIZE,\n",
        "    context=CONTEXT,\n",
        ").to(DEVICE)\n",
        "optimizer = optim.SGD([*model.parameters(), *criterion.parameters()], lr=1e-3)"
      ]
    },
    {
      "cell_type": "code",
      "execution_count": null,
      "metadata": {},
      "outputs": [
        {
          "name": "stderr",
          "output_type": "stream",
          "text": [
            "546it [01:04,  8.41it/s]\n"
          ]
        },
        {
          "name": "stdout",
          "output_type": "stream",
          "text": [
            "epoch 1 : 2485.2996221974176\n"
          ]
        },
        {
          "name": "stderr",
          "output_type": "stream",
          "text": [
            "546it [00:59,  9.15it/s]\n"
          ]
        },
        {
          "name": "stdout",
          "output_type": "stream",
          "text": [
            "epoch 2 : 1860.4642461537221\n"
          ]
        },
        {
          "name": "stderr",
          "output_type": "stream",
          "text": [
            "546it [00:59,  9.16it/s]\n"
          ]
        },
        {
          "name": "stdout",
          "output_type": "stream",
          "text": [
            "epoch 3 : 1637.0445704333395\n"
          ]
        },
        {
          "name": "stderr",
          "output_type": "stream",
          "text": [
            "546it [00:58,  9.28it/s]\n"
          ]
        },
        {
          "name": "stdout",
          "output_type": "stream",
          "text": [
            "epoch 4 : 1496.9900000805596\n"
          ]
        },
        {
          "name": "stderr",
          "output_type": "stream",
          "text": [
            "546it [00:58,  9.29it/s]\n"
          ]
        },
        {
          "name": "stdout",
          "output_type": "stream",
          "text": [
            "epoch 5 : 1372.8295347946264\n"
          ]
        },
        {
          "name": "stderr",
          "output_type": "stream",
          "text": [
            "546it [00:58,  9.28it/s]\n"
          ]
        },
        {
          "name": "stdout",
          "output_type": "stream",
          "text": [
            "epoch 6 : 1299.4940156455875\n"
          ]
        },
        {
          "name": "stderr",
          "output_type": "stream",
          "text": [
            "546it [00:58,  9.32it/s]\n"
          ]
        },
        {
          "name": "stdout",
          "output_type": "stream",
          "text": [
            "epoch 7 : 1224.6703676386344\n"
          ]
        },
        {
          "name": "stderr",
          "output_type": "stream",
          "text": [
            "546it [00:58,  9.31it/s]\n"
          ]
        },
        {
          "name": "stdout",
          "output_type": "stream",
          "text": [
            "epoch 8 : 1177.4832507447295\n"
          ]
        },
        {
          "name": "stderr",
          "output_type": "stream",
          "text": [
            "546it [00:58,  9.30it/s]\n"
          ]
        },
        {
          "name": "stdout",
          "output_type": "stream",
          "text": [
            "epoch 9 : 1130.7973346937479\n"
          ]
        },
        {
          "name": "stderr",
          "output_type": "stream",
          "text": [
            "546it [00:58,  9.31it/s]\n"
          ]
        },
        {
          "name": "stdout",
          "output_type": "stream",
          "text": [
            "epoch 10 : 1083.952336410117\n"
          ]
        },
        {
          "name": "stderr",
          "output_type": "stream",
          "text": [
            "546it [00:58,  9.31it/s]\n"
          ]
        },
        {
          "name": "stdout",
          "output_type": "stream",
          "text": [
            "epoch 11 : 1061.2660255606954\n"
          ]
        },
        {
          "name": "stderr",
          "output_type": "stream",
          "text": [
            "546it [00:58,  9.31it/s]\n"
          ]
        },
        {
          "name": "stdout",
          "output_type": "stream",
          "text": [
            "epoch 12 : 1046.0429872115963\n"
          ]
        },
        {
          "name": "stderr",
          "output_type": "stream",
          "text": [
            "546it [00:58,  9.30it/s]\n"
          ]
        },
        {
          "name": "stdout",
          "output_type": "stream",
          "text": [
            "epoch 13 : 988.5544165620882\n"
          ]
        },
        {
          "name": "stderr",
          "output_type": "stream",
          "text": [
            "546it [00:58,  9.35it/s]\n"
          ]
        },
        {
          "name": "stdout",
          "output_type": "stream",
          "text": [
            "epoch 14 : 985.177706290996\n"
          ]
        },
        {
          "name": "stderr",
          "output_type": "stream",
          "text": [
            "546it [00:58,  9.31it/s]\n"
          ]
        },
        {
          "name": "stdout",
          "output_type": "stream",
          "text": [
            "epoch 15 : 959.7168509171273\n"
          ]
        },
        {
          "name": "stderr",
          "output_type": "stream",
          "text": [
            "546it [00:58,  9.30it/s]\n"
          ]
        },
        {
          "name": "stdout",
          "output_type": "stream",
          "text": [
            "epoch 16 : 941.1742023359626\n"
          ]
        },
        {
          "name": "stderr",
          "output_type": "stream",
          "text": [
            "546it [00:58,  9.32it/s]\n"
          ]
        },
        {
          "name": "stdout",
          "output_type": "stream",
          "text": [
            "epoch 17 : 935.5892901818322\n"
          ]
        },
        {
          "name": "stderr",
          "output_type": "stream",
          "text": [
            "546it [00:58,  9.35it/s]\n"
          ]
        },
        {
          "name": "stdout",
          "output_type": "stream",
          "text": [
            "epoch 18 : 913.5014830815694\n"
          ]
        },
        {
          "name": "stderr",
          "output_type": "stream",
          "text": [
            "546it [00:58,  9.32it/s]\n"
          ]
        },
        {
          "name": "stdout",
          "output_type": "stream",
          "text": [
            "epoch 19 : 899.3524169921875\n"
          ]
        },
        {
          "name": "stderr",
          "output_type": "stream",
          "text": [
            "546it [00:58,  9.32it/s]"
          ]
        },
        {
          "name": "stdout",
          "output_type": "stream",
          "text": [
            "epoch 20 : 882.243330552532\n"
          ]
        },
        {
          "name": "stderr",
          "output_type": "stream",
          "text": [
            "\n"
          ]
        }
      ],
      "source": [
        "trainer = SkipGramTrainer(EPOCHS, DEVICE)\n",
        "training_loss = trainer.run(\n",
        "    train_dataloader,\n",
        "    model,\n",
        "    optimizer,\n",
        "    criterion,\n",
        "    word_probs=word_probs,\n",
        ")"
      ]
    },
    {
      "cell_type": "code",
      "execution_count": 41,
      "metadata": {},
      "outputs": [
        {
          "data": {
            "text/plain": [
              "[<matplotlib.lines.Line2D at 0x1eddc0ce390>]"
            ]
          },
          "execution_count": 41,
          "metadata": {},
          "output_type": "execute_result"
        },
        {
          "data": {
            "image/png": "[encoded data removed]",
            "text/plain": [
              "<Figure size 640x480 with 1 Axes>"
            ]
          },
          "metadata": {},
          "output_type": "display_data"
        }
      ],
      "source": [
        "plt.plot(training_loss)"
      ]
    },
    {
      "cell_type": "code",
      "execution_count": 42,
      "metadata": {},
      "outputs": [],
      "source": [
        "model_path = artifact_path / \"sg-ns.3.nonrandom-context.pth\""
      ]
    },
    {
      "cell_type": "code",
      "execution_count": 43,
      "metadata": {},
      "outputs": [],
      "source": [
        "torch.save(model.state_dict(), model_path.as_posix())"
      ]
    },
    {
      "cell_type": "code",
      "execution_count": 44,
      "metadata": {},
      "outputs": [
        {
          "data": {
            "text/plain": [
              "<All keys matched successfully>"
            ]
          },
          "execution_count": 44,
          "metadata": {},
          "output_type": "execute_result"
        }
      ],
      "source": [
        "model.load_state_dict(torch.load(model_path.as_posix()))"
      ]
    },
    {
      "cell_type": "markdown",
      "metadata": {
        "id": "T17Jiwv3trmZ"
      },
      "source": [
        "### CBOW\n"
      ]
    },
    {
      "cell_type": "markdown",
      "metadata": {},
      "source": [
        "batch size 32, context size 5\n",
        "\n",
        "__old__\n",
        "\n",
        "each epoch needs 30s, 5.5GB with 4 workers on linux\n",
        "\n",
        "each epoch needs 12min, 1.5GB with none workers on windows\n",
        "\n",
        "__optimized 9/28/2024__\n",
        "\n",
        "each epoch needs 20s, 2.2GB with none workers on windows"
      ]
    },
    {
      "cell_type": "code",
      "execution_count": 41,
      "metadata": {
        "id": "uToiCxSVtt1g"
      },
      "outputs": [],
      "source": [
        "model = Word2Vec(\n",
        "    VOCAB_SIZE,\n",
        "    EMBED_DIM,\n",
        "    Word2VecModelType.CBOW,\n",
        "    LossType.NEGATIVE_SAMPLING,\n",
        "    context=CONTEXT,\n",
        ").to(DEVICE)"
      ]
    },
    {
      "cell_type": "code",
      "execution_count": 42,
      "metadata": {
        "id": "JYWSQBOAtt4N"
      },
      "outputs": [],
      "source": [
        "criterion = NegativeSampling(\n",
        "    word_freqs,\n",
        "    EMBED_DIM,\n",
        "    VOCAB_SIZE,\n",
        "    context=CONTEXT,\n",
        ").to(DEVICE)\n",
        "optimizer = optim.SGD([*model.parameters(), *criterion.parameters()], lr=1e-4)"
      ]
    },
    {
      "cell_type": "code",
      "execution_count": null,
      "metadata": {},
      "outputs": [
        {
          "name": "stderr",
          "output_type": "stream",
          "text": [
            "546it [00:22, 24.70it/s]\n"
          ]
        },
        {
          "name": "stdout",
          "output_type": "stream",
          "text": [
            "epoch 1 : 245.17482281343092\n"
          ]
        },
        {
          "name": "stderr",
          "output_type": "stream",
          "text": [
            "546it [00:20, 26.99it/s]\n"
          ]
        },
        {
          "name": "stdout",
          "output_type": "stream",
          "text": [
            "epoch 2 : 224.06546887643395\n"
          ]
        },
        {
          "name": "stderr",
          "output_type": "stream",
          "text": [
            "546it [00:20, 26.78it/s]\n"
          ]
        },
        {
          "name": "stdout",
          "output_type": "stream",
          "text": [
            "epoch 3 : 217.40091974553877\n"
          ]
        },
        {
          "name": "stderr",
          "output_type": "stream",
          "text": [
            "546it [00:20, 26.51it/s]\n"
          ]
        },
        {
          "name": "stdout",
          "output_type": "stream",
          "text": [
            "epoch 4 : 213.0590999613761\n"
          ]
        },
        {
          "name": "stderr",
          "output_type": "stream",
          "text": [
            "546it [00:20, 27.16it/s]\n"
          ]
        },
        {
          "name": "stdout",
          "output_type": "stream",
          "text": [
            "epoch 5 : 209.74950287956148\n"
          ]
        },
        {
          "name": "stderr",
          "output_type": "stream",
          "text": [
            "546it [00:19, 27.51it/s]\n"
          ]
        },
        {
          "name": "stdout",
          "output_type": "stream",
          "text": [
            "epoch 6 : 207.06384235385576\n"
          ]
        },
        {
          "name": "stderr",
          "output_type": "stream",
          "text": [
            "546it [00:19, 27.69it/s]\n"
          ]
        },
        {
          "name": "stdout",
          "output_type": "stream",
          "text": [
            "epoch 7 : 204.78379977022584\n"
          ]
        },
        {
          "name": "stderr",
          "output_type": "stream",
          "text": [
            "546it [00:19, 27.67it/s]\n"
          ]
        },
        {
          "name": "stdout",
          "output_type": "stream",
          "text": [
            "epoch 8 : 202.80111095732664\n"
          ]
        },
        {
          "name": "stderr",
          "output_type": "stream",
          "text": [
            "546it [00:20, 27.19it/s]\n"
          ]
        },
        {
          "name": "stdout",
          "output_type": "stream",
          "text": [
            "epoch 9 : 201.0723012894474\n"
          ]
        },
        {
          "name": "stderr",
          "output_type": "stream",
          "text": [
            "546it [00:20, 27.18it/s]\n"
          ]
        },
        {
          "name": "stdout",
          "output_type": "stream",
          "text": [
            "epoch 10 : 199.5101189407922\n"
          ]
        },
        {
          "name": "stderr",
          "output_type": "stream",
          "text": [
            "546it [00:20, 27.24it/s]\n"
          ]
        },
        {
          "name": "stdout",
          "output_type": "stream",
          "text": [
            "epoch 11 : 198.1014504437049\n"
          ]
        },
        {
          "name": "stderr",
          "output_type": "stream",
          "text": [
            "546it [00:20, 27.14it/s]\n"
          ]
        },
        {
          "name": "stdout",
          "output_type": "stream",
          "text": [
            "epoch 12 : 196.8443015541755\n"
          ]
        },
        {
          "name": "stderr",
          "output_type": "stream",
          "text": [
            "546it [00:20, 27.19it/s]\n"
          ]
        },
        {
          "name": "stdout",
          "output_type": "stream",
          "text": [
            "epoch 13 : 195.61808669162824\n"
          ]
        },
        {
          "name": "stderr",
          "output_type": "stream",
          "text": [
            "546it [00:20, 26.47it/s]\n"
          ]
        },
        {
          "name": "stdout",
          "output_type": "stream",
          "text": [
            "epoch 14 : 194.53400771493327\n"
          ]
        },
        {
          "name": "stderr",
          "output_type": "stream",
          "text": [
            "546it [00:19, 27.86it/s]\n"
          ]
        },
        {
          "name": "stdout",
          "output_type": "stream",
          "text": [
            "epoch 15 : 193.54096538708038\n"
          ]
        },
        {
          "name": "stderr",
          "output_type": "stream",
          "text": [
            "546it [00:20, 26.81it/s]\n"
          ]
        },
        {
          "name": "stdout",
          "output_type": "stream",
          "text": [
            "epoch 16 : 192.5941497495041\n"
          ]
        },
        {
          "name": "stderr",
          "output_type": "stream",
          "text": [
            "546it [00:19, 27.56it/s]\n"
          ]
        },
        {
          "name": "stdout",
          "output_type": "stream",
          "text": [
            "epoch 17 : 191.69749379354698\n"
          ]
        },
        {
          "name": "stderr",
          "output_type": "stream",
          "text": [
            "546it [00:19, 27.60it/s]\n"
          ]
        },
        {
          "name": "stdout",
          "output_type": "stream",
          "text": [
            "epoch 18 : 190.91060362203092\n"
          ]
        },
        {
          "name": "stderr",
          "output_type": "stream",
          "text": [
            "546it [00:19, 27.48it/s]\n"
          ]
        },
        {
          "name": "stdout",
          "output_type": "stream",
          "text": [
            "epoch 19 : 190.0923442193721\n"
          ]
        },
        {
          "name": "stderr",
          "output_type": "stream",
          "text": [
            "546it [00:19, 27.70it/s]"
          ]
        },
        {
          "name": "stdout",
          "output_type": "stream",
          "text": [
            "epoch 20 : 189.37373910094487\n"
          ]
        },
        {
          "name": "stderr",
          "output_type": "stream",
          "text": [
            "\n"
          ]
        }
      ],
      "source": [
        "trainer = CBOWTrainer(EPOCHS, DEVICE)\n",
        "training_loss = trainer.run(train_dataloader, model, optimizer, criterion, word_probs=word_probs)"
      ]
    },
    {
      "cell_type": "code",
      "execution_count": 41,
      "metadata": {},
      "outputs": [
        {
          "data": {
            "text/plain": [
              "[<matplotlib.lines.Line2D at 0x1e8595a1250>]"
            ]
          },
          "execution_count": 41,
          "metadata": {},
          "output_type": "execute_result"
        },
        {
          "data": {
            "image/png": "[encoded data removed]",
            "text/plain": [
              "<Figure size 640x480 with 1 Axes>"
            ]
          },
          "metadata": {},
          "output_type": "display_data"
        }
      ],
      "source": [
        "plt.plot(training_loss)"
      ]
    },
    {
      "cell_type": "code",
      "execution_count": 42,
      "metadata": {},
      "outputs": [],
      "source": [
        "model_path = artifact_path / \"cb-ns.3.pth\""
      ]
    },
    {
      "cell_type": "code",
      "execution_count": 44,
      "metadata": {
        "id": "NHPvMLnq8koj"
      },
      "outputs": [],
      "source": [
        "torch.save(model.state_dict(), model_path.as_posix())"
      ]
    },
    {
      "cell_type": "code",
      "execution_count": 45,
      "metadata": {
        "id": "JmBIksc58uGj"
      },
      "outputs": [
        {
          "data": {
            "text/plain": [
              "<All keys matched successfully>"
            ]
          },
          "execution_count": 45,
          "metadata": {},
          "output_type": "execute_result"
        }
      ],
      "source": [
        "model.load_state_dict(torch.load(model_path.as_posix()))"
      ]
    },
    {
      "cell_type": "markdown",
      "metadata": {
        "id": "c1LtPLsWRRz3"
      },
      "source": [
        "## HS\n"
      ]
    },
    {
      "cell_type": "markdown",
      "metadata": {
        "id": "wx8hQALcPajl"
      },
      "source": [
        "### SkipGram\n"
      ]
    },
    {
      "cell_type": "markdown",
      "metadata": {},
      "source": [
        "batch size 32, context size 5\n",
        "\n",
        "each epoch needs 50s, 7.5GB with 4 workers on linux\n",
        "\n",
        "each epoch needs min, GB with none workers on windows"
      ]
    },
    {
      "cell_type": "code",
      "execution_count": 38,
      "metadata": {
        "id": "GKHsdNnEPbwU"
      },
      "outputs": [],
      "source": [
        "model = Word2Vec(\n",
        "    VOCAB_SIZE,\n",
        "    EMBED_DIM,\n",
        "    Word2VecModelType.SKIP_GRAM,\n",
        "    LossType.HIERARCHICAL_SOFTMAX,\n",
        "    context=CONTEXT,\n",
        ").to(DEVICE)"
      ]
    },
    {
      "cell_type": "code",
      "execution_count": 40,
      "metadata": {
        "id": "ygmqPYasPcil"
      },
      "outputs": [],
      "source": [
        "criterion = HierarchicalSoftmax(\n",
        "    word_counts,\n",
        "    EMBED_DIM,\n",
        "    VOCAB_SIZE,\n",
        "    context=CONTEXT,\n",
        ").to(DEVICE)\n",
        "optimizer = optim.SGD([*model.parameters(), *criterion.parameters()], lr=1e-3)"
      ]
    },
    {
      "cell_type": "code",
      "execution_count": null,
      "metadata": {},
      "outputs": [
        {
          "name": "stderr",
          "output_type": "stream",
          "text": [
            "546it [00:39, 13.89it/s]\n"
          ]
        },
        {
          "name": "stdout",
          "output_type": "stream",
          "text": [
            "epoch 1 : 0.1173579934455188\n"
          ]
        },
        {
          "name": "stderr",
          "output_type": "stream",
          "text": [
            "546it [00:39, 13.91it/s]\n"
          ]
        },
        {
          "name": "stdout",
          "output_type": "stream",
          "text": [
            "epoch 2 : 0.09393413118355652\n"
          ]
        },
        {
          "name": "stderr",
          "output_type": "stream",
          "text": [
            "546it [00:41, 13.31it/s]\n"
          ]
        },
        {
          "name": "stdout",
          "output_type": "stream",
          "text": [
            "epoch 3 : 0.08620688226330073\n"
          ]
        },
        {
          "name": "stderr",
          "output_type": "stream",
          "text": [
            "546it [00:44, 12.15it/s]\n"
          ]
        },
        {
          "name": "stdout",
          "output_type": "stream",
          "text": [
            "epoch 4 : 0.08339510082269785\n"
          ]
        },
        {
          "name": "stderr",
          "output_type": "stream",
          "text": [
            "546it [00:48, 11.24it/s]\n"
          ]
        },
        {
          "name": "stdout",
          "output_type": "stream",
          "text": [
            "epoch 5 : 0.08149199057319206\n"
          ]
        },
        {
          "name": "stderr",
          "output_type": "stream",
          "text": [
            "546it [00:46, 11.78it/s]\n"
          ]
        },
        {
          "name": "stdout",
          "output_type": "stream",
          "text": [
            "epoch 6 : 0.07983706359547502\n"
          ]
        },
        {
          "name": "stderr",
          "output_type": "stream",
          "text": [
            "546it [00:45, 11.99it/s]\n"
          ]
        },
        {
          "name": "stdout",
          "output_type": "stream",
          "text": [
            "epoch 7 : 0.07842107030446108\n"
          ]
        },
        {
          "name": "stderr",
          "output_type": "stream",
          "text": [
            "546it [00:44, 12.19it/s]\n"
          ]
        },
        {
          "name": "stdout",
          "output_type": "stream",
          "text": [
            "epoch 8 : 0.07719061535285439\n"
          ]
        },
        {
          "name": "stderr",
          "output_type": "stream",
          "text": [
            "546it [00:46, 11.67it/s]\n"
          ]
        },
        {
          "name": "stdout",
          "output_type": "stream",
          "text": [
            "epoch 9 : 0.07609419253553194\n"
          ]
        },
        {
          "name": "stderr",
          "output_type": "stream",
          "text": [
            "546it [00:47, 11.44it/s]\n"
          ]
        },
        {
          "name": "stdout",
          "output_type": "stream",
          "text": [
            "epoch 10 : 0.07515856055465998\n"
          ]
        },
        {
          "name": "stderr",
          "output_type": "stream",
          "text": [
            "546it [00:44, 12.15it/s]\n"
          ]
        },
        {
          "name": "stdout",
          "output_type": "stream",
          "text": [
            "epoch 11 : 0.07436773553832095\n"
          ]
        },
        {
          "name": "stderr",
          "output_type": "stream",
          "text": [
            "546it [00:44, 12.14it/s]\n"
          ]
        },
        {
          "name": "stdout",
          "output_type": "stream",
          "text": [
            "epoch 12 : 0.0736223155142625\n"
          ]
        },
        {
          "name": "stderr",
          "output_type": "stream",
          "text": [
            "546it [00:46, 11.75it/s]\n"
          ]
        },
        {
          "name": "stdout",
          "output_type": "stream",
          "text": [
            "epoch 13 : 0.07287868210665137\n"
          ]
        },
        {
          "name": "stderr",
          "output_type": "stream",
          "text": [
            "546it [00:45, 12.01it/s]\n"
          ]
        },
        {
          "name": "stdout",
          "output_type": "stream",
          "text": [
            "epoch 14 : 0.07221920698826516\n"
          ]
        },
        {
          "name": "stderr",
          "output_type": "stream",
          "text": [
            "546it [00:45, 11.91it/s]\n"
          ]
        },
        {
          "name": "stdout",
          "output_type": "stream",
          "text": [
            "epoch 15 : 0.07156809504757662\n"
          ]
        },
        {
          "name": "stderr",
          "output_type": "stream",
          "text": [
            "546it [00:49, 11.12it/s]\n"
          ]
        },
        {
          "name": "stdout",
          "output_type": "stream",
          "text": [
            "epoch 16 : 0.0708941439837627\n"
          ]
        },
        {
          "name": "stderr",
          "output_type": "stream",
          "text": [
            "546it [00:48, 11.17it/s]\n"
          ]
        },
        {
          "name": "stdout",
          "output_type": "stream",
          "text": [
            "epoch 17 : 0.07036363330049104\n"
          ]
        },
        {
          "name": "stderr",
          "output_type": "stream",
          "text": [
            "546it [00:45, 11.88it/s]\n"
          ]
        },
        {
          "name": "stdout",
          "output_type": "stream",
          "text": [
            "epoch 18 : 0.0697729457869757\n"
          ]
        },
        {
          "name": "stderr",
          "output_type": "stream",
          "text": [
            "546it [00:45, 12.07it/s]\n"
          ]
        },
        {
          "name": "stdout",
          "output_type": "stream",
          "text": [
            "epoch 19 : 0.06923326075514122\n"
          ]
        },
        {
          "name": "stderr",
          "output_type": "stream",
          "text": [
            "546it [00:46, 11.72it/s]"
          ]
        },
        {
          "name": "stdout",
          "output_type": "stream",
          "text": [
            "epoch 20 : 0.06876227408510954\n"
          ]
        },
        {
          "name": "stderr",
          "output_type": "stream",
          "text": [
            "\n"
          ]
        }
      ],
      "source": [
        "trainer = SkipGramTrainer(EPOCHS, DEVICE)\n",
        "training_loss = trainer.run(train_dataloader, model, optimizer, criterion, word_probs=word_probs)"
      ]
    },
    {
      "cell_type": "code",
      "execution_count": 42,
      "metadata": {},
      "outputs": [
        {
          "data": {
            "text/plain": [
              "[<matplotlib.lines.Line2D at 0x2b9853ed110>]"
            ]
          },
          "execution_count": 42,
          "metadata": {},
          "output_type": "execute_result"
        },
        {
          "data": {
            "image/png": "[encoded data removed]",
            "text/plain": [
              "<Figure size 640x480 with 1 Axes>"
            ]
          },
          "metadata": {},
          "output_type": "display_data"
        }
      ],
      "source": [
        "plt.plot(training_loss)"
      ]
    },
    {
      "cell_type": "code",
      "execution_count": 49,
      "metadata": {},
      "outputs": [],
      "source": [
        "model_path = artifact_path / \"sg-hs.2.random-context.pth\""
      ]
    },
    {
      "cell_type": "code",
      "execution_count": 44,
      "metadata": {},
      "outputs": [],
      "source": [
        "torch.save(model, model_path.as_posix())"
      ]
    },
    {
      "cell_type": "code",
      "execution_count": 50,
      "metadata": {},
      "outputs": [],
      "source": [
        "model = torch.load(model_path.as_posix())"
      ]
    },
    {
      "cell_type": "markdown",
      "metadata": {
        "id": "889SiePetuPH"
      },
      "source": [
        "### CBOW\n"
      ]
    },
    {
      "cell_type": "markdown",
      "metadata": {},
      "source": [
        "batch size 32, context size 5\n",
        "\n",
        "each epoch needs , GB with 4 workers on linux\n",
        "\n",
        "each epoch needs 40s, 2.6GB with none workers on windows"
      ]
    },
    {
      "cell_type": "code",
      "execution_count": 38,
      "metadata": {
        "id": "bKvN6LHUCGgd"
      },
      "outputs": [],
      "source": [
        "model = Word2Vec(\n",
        "    VOCAB_SIZE,\n",
        "    EMBED_DIM,\n",
        "    Word2VecModelType.CBOW,\n",
        "    LossType.HIERARCHICAL_SOFTMAX,\n",
        "    context=CONTEXT,\n",
        ").to(DEVICE)"
      ]
    },
    {
      "cell_type": "code",
      "execution_count": 39,
      "metadata": {
        "id": "rsTfF4GECGge"
      },
      "outputs": [],
      "source": [
        "criterion = HierarchicalSoftmax(\n",
        "    word_counts,\n",
        "    EMBED_DIM,\n",
        "    VOCAB_SIZE,\n",
        "    context=CONTEXT,\n",
        ").to(DEVICE)\n",
        "optimizer = optim.SGD([*model.parameters(), *criterion.parameters()], lr=1e-3)"
      ]
    },
    {
      "cell_type": "code",
      "execution_count": 40,
      "metadata": {},
      "outputs": [
        {
          "name": "stdout",
          "output_type": "stream",
          "text": [
            "Enable AMP: False\n",
            "Calculating dataset size...\n"
          ]
        },
        {
          "name": "stderr",
          "output_type": "stream",
          "text": [
            "546it [00:05, 107.55it/s]\n"
          ]
        },
        {
          "name": "stdout",
          "output_type": "stream",
          "text": [
            "Training...\n"
          ]
        },
        {
          "name": "stderr",
          "output_type": "stream",
          "text": [
            "546it [00:39, 13.73it/s]\n"
          ]
        },
        {
          "name": "stdout",
          "output_type": "stream",
          "text": [
            "------------------------------------\n",
            "Epoch 1\n",
            "------------------------------------\n",
            "0.0616678349011322 (0%)\n"
          ]
        },
        {
          "name": "stderr",
          "output_type": "stream",
          "text": [
            "546it [00:36, 14.85it/s]\n"
          ]
        },
        {
          "name": "stdout",
          "output_type": "stream",
          "text": [
            "------------------------------------\n",
            "Epoch 2\n",
            "------------------------------------\n",
            "0.055061814843870814 (-11%)\n"
          ]
        },
        {
          "name": "stderr",
          "output_type": "stream",
          "text": [
            "546it [00:35, 15.21it/s]\n"
          ]
        },
        {
          "name": "stdout",
          "output_type": "stream",
          "text": [
            "------------------------------------\n",
            "Epoch 3\n",
            "------------------------------------\n",
            "0.05213001235896136 (-5%)\n"
          ]
        },
        {
          "name": "stderr",
          "output_type": "stream",
          "text": [
            "546it [00:35, 15.47it/s]\n"
          ]
        },
        {
          "name": "stdout",
          "output_type": "stream",
          "text": [
            "------------------------------------\n",
            "Epoch 4\n",
            "------------------------------------\n",
            "0.05060642033023201 (-3%)\n"
          ]
        },
        {
          "name": "stderr",
          "output_type": "stream",
          "text": [
            "546it [00:42, 12.74it/s]\n"
          ]
        },
        {
          "name": "stdout",
          "output_type": "stream",
          "text": [
            "------------------------------------\n",
            "Epoch 5\n",
            "------------------------------------\n",
            "0.04958734445198757 (-2%)\n"
          ]
        },
        {
          "name": "stderr",
          "output_type": "stream",
          "text": [
            "546it [00:34, 15.66it/s]\n"
          ]
        },
        {
          "name": "stdout",
          "output_type": "stream",
          "text": [
            "------------------------------------\n",
            "Epoch 6\n",
            "------------------------------------\n",
            "0.048797425401664235 (-2%)\n"
          ]
        },
        {
          "name": "stderr",
          "output_type": "stream",
          "text": [
            "546it [00:38, 14.32it/s]\n"
          ]
        },
        {
          "name": "stdout",
          "output_type": "stream",
          "text": [
            "------------------------------------\n",
            "Epoch 7\n",
            "------------------------------------\n",
            "0.04815003377966766 (-1%)\n"
          ]
        },
        {
          "name": "stderr",
          "output_type": "stream",
          "text": [
            "546it [00:38, 14.15it/s]\n"
          ]
        },
        {
          "name": "stdout",
          "output_type": "stream",
          "text": [
            "------------------------------------\n",
            "Epoch 8\n",
            "------------------------------------\n",
            "0.04759441976846085 (-1%)\n"
          ]
        },
        {
          "name": "stderr",
          "output_type": "stream",
          "text": [
            "546it [00:38, 14.04it/s]\n"
          ]
        },
        {
          "name": "stdout",
          "output_type": "stream",
          "text": [
            "------------------------------------\n",
            "Epoch 9\n",
            "------------------------------------\n",
            "0.04706791804729531 (-1%)\n"
          ]
        },
        {
          "name": "stderr",
          "output_type": "stream",
          "text": [
            "546it [00:35, 15.20it/s]\n"
          ]
        },
        {
          "name": "stdout",
          "output_type": "stream",
          "text": [
            "------------------------------------\n",
            "Epoch 10\n",
            "------------------------------------\n",
            "0.04660998525543568 (-1%)\n"
          ]
        },
        {
          "name": "stderr",
          "output_type": "stream",
          "text": [
            "546it [00:36, 15.04it/s]\n"
          ]
        },
        {
          "name": "stdout",
          "output_type": "stream",
          "text": [
            "------------------------------------\n",
            "Epoch 11\n",
            "------------------------------------\n",
            "0.046196812120164674 (-1%)\n"
          ]
        },
        {
          "name": "stderr",
          "output_type": "stream",
          "text": [
            "546it [00:38, 14.32it/s]\n"
          ]
        },
        {
          "name": "stdout",
          "output_type": "stream",
          "text": [
            "------------------------------------\n",
            "Epoch 12\n",
            "------------------------------------\n",
            "0.04581092942017785 (-1%)\n"
          ]
        },
        {
          "name": "stderr",
          "output_type": "stream",
          "text": [
            "546it [00:39, 13.75it/s]\n"
          ]
        },
        {
          "name": "stdout",
          "output_type": "stream",
          "text": [
            "------------------------------------\n",
            "Epoch 13\n",
            "------------------------------------\n",
            "0.045470023317745634 (-1%)\n"
          ]
        },
        {
          "name": "stderr",
          "output_type": "stream",
          "text": [
            "546it [00:36, 15.12it/s]\n"
          ]
        },
        {
          "name": "stdout",
          "output_type": "stream",
          "text": [
            "------------------------------------\n",
            "Epoch 14\n",
            "------------------------------------\n",
            "0.04515198650953419 (-1%)\n"
          ]
        },
        {
          "name": "stderr",
          "output_type": "stream",
          "text": [
            "546it [00:35, 15.42it/s]\n"
          ]
        },
        {
          "name": "stdout",
          "output_type": "stream",
          "text": [
            "------------------------------------\n",
            "Epoch 15\n",
            "------------------------------------\n",
            "0.04484764160801793 (-1%)\n"
          ]
        },
        {
          "name": "stderr",
          "output_type": "stream",
          "text": [
            "546it [00:35, 15.46it/s]\n"
          ]
        },
        {
          "name": "stdout",
          "output_type": "stream",
          "text": [
            "------------------------------------\n",
            "Epoch 16\n",
            "------------------------------------\n",
            "0.044581113576096905 (-1%)\n"
          ]
        },
        {
          "name": "stderr",
          "output_type": "stream",
          "text": [
            "546it [00:36, 14.83it/s]\n"
          ]
        },
        {
          "name": "stdout",
          "output_type": "stream",
          "text": [
            "------------------------------------\n",
            "Epoch 17\n",
            "------------------------------------\n",
            "0.04434720289532358 (-1%)\n"
          ]
        },
        {
          "name": "stderr",
          "output_type": "stream",
          "text": [
            "546it [00:35, 15.23it/s]\n"
          ]
        },
        {
          "name": "stdout",
          "output_type": "stream",
          "text": [
            "------------------------------------\n",
            "Epoch 18\n",
            "------------------------------------\n",
            "0.04411974432173944 (-1%)\n"
          ]
        },
        {
          "name": "stderr",
          "output_type": "stream",
          "text": [
            "546it [00:35, 15.36it/s]\n"
          ]
        },
        {
          "name": "stdout",
          "output_type": "stream",
          "text": [
            "------------------------------------\n",
            "Epoch 19\n",
            "------------------------------------\n",
            "0.0439091603639583 (0%)\n"
          ]
        },
        {
          "name": "stderr",
          "output_type": "stream",
          "text": [
            "546it [00:35, 15.42it/s]"
          ]
        },
        {
          "name": "stdout",
          "output_type": "stream",
          "text": [
            "------------------------------------\n",
            "Epoch 20\n",
            "------------------------------------\n",
            "0.043687345492495616 (-1%)\n"
          ]
        },
        {
          "name": "stderr",
          "output_type": "stream",
          "text": [
            "\n"
          ]
        }
      ],
      "source": [
        "trainer = CBOWTrainer(EPOCHS, DEVICE)\n",
        "training_loss = trainer.run(train_dataloader, model, optimizer, criterion, word_probs=word_probs)"
      ]
    },
    {
      "cell_type": "code",
      "execution_count": 41,
      "metadata": {},
      "outputs": [
        {
          "data": {
            "text/plain": [
              "[<matplotlib.lines.Line2D at 0x1d54a3338d0>]"
            ]
          },
          "execution_count": 41,
          "metadata": {},
          "output_type": "execute_result"
        },
        {
          "data": {
            "image/png": "[encoded data removed]",
            "text/plain": [
              "<Figure size 640x480 with 1 Axes>"
            ]
          },
          "metadata": {},
          "output_type": "display_data"
        }
      ],
      "source": [
        "plt.plot(training_loss)"
      ]
    },
    {
      "cell_type": "code",
      "execution_count": 55,
      "metadata": {},
      "outputs": [],
      "source": [
        "model_path = artifact_path / \"cb-hs.2.pth\""
      ]
    },
    {
      "cell_type": "code",
      "execution_count": 60,
      "metadata": {},
      "outputs": [],
      "source": [
        "torch.save(model, model_path.as_posix())"
      ]
    },
    {
      "cell_type": "code",
      "execution_count": 56,
      "metadata": {},
      "outputs": [],
      "source": [
        "model = torch.load(model_path.as_posix())"
      ]
    },
    {
      "cell_type": "markdown",
      "metadata": {
        "id": "L7OmkYxH1jIT"
      },
      "source": [
        "# Evaluation\n"
      ]
    },
    {
      "cell_type": "markdown",
      "metadata": {
        "id": "NKBBG3gE0mmJ"
      },
      "source": [
        "## show embedding\n"
      ]
    },
    {
      "cell_type": "code",
      "execution_count": 45,
      "metadata": {},
      "outputs": [],
      "source": [
        "from torchtext.vocab import Vocab"
      ]
    },
    {
      "cell_type": "code",
      "execution_count": 46,
      "metadata": {
        "id": "zA3Gl4kX0mmL"
      },
      "outputs": [],
      "source": [
        "def sentence_to_vector(sentence: str, embedding: nn.Embedding, vocab: Vocab, device: torch.device) -> torch.Tensor:\n",
        "    with torch.no_grad():\n",
        "      tokens = tokenizer(sentence)\n",
        "      indices = torch.LongTensor(vocab(tokens)).to(device)\n",
        "      return embedding(indices)"
      ]
    },
    {
      "cell_type": "code",
      "execution_count": 47,
      "metadata": {
        "id": "u2hvO7it0mmJ"
      },
      "outputs": [],
      "source": [
        "sample_word_pairs = [\n",
        "    [\"paris\", \"france\"],\n",
        "    [\"beijing\", \"china\"],\n",
        "    [\"moscow\", \"russia\"],\n",
        "    [\"tokyo\", \"japan\"],\n",
        "    [\"athens\", \"greece\"],\n",
        "    [\"rome\", \"italy\"],\n",
        "    [\"berlin\", \"germany\"],\n",
        "    [\"madrid\", \"spain\"],\n",
        "    [\"lisbon\", \"portugal\"],\n",
        "]"
      ]
    },
    {
      "cell_type": "code",
      "execution_count": 48,
      "metadata": {
        "id": "Rlg9lLio0mmK"
      },
      "outputs": [],
      "source": [
        "vectors = []\n",
        "for pair in sample_word_pairs:\n",
        "    vectors.append(torch.cat([sentence_to_vector(item, model.embeddings, vocab, DEVICE) for item in pair]))\n",
        "\n",
        "vectors = torch.cat(vectors)"
      ]
    },
    {
      "cell_type": "code",
      "execution_count": 49,
      "metadata": {
        "id": "aT4IUgHd0mmK"
      },
      "outputs": [],
      "source": [
        "from sklearn.decomposition import PCA\n",
        "from sklearn.manifold import TSNE"
      ]
    },
    {
      "cell_type": "code",
      "execution_count": 50,
      "metadata": {
        "colab": {
          "base_uri": "https://localhost:8080/",
          "height": 75
        },
        "id": "UNl1Qq7e0mmK",
        "outputId": "9b3227a6-0109-46b8-fd66-d2f617dbfdd0"
      },
      "outputs": [
        {
          "data": {
            "text/html": [
              "<style>#sk-container-id-1 {color: black;}#sk-container-id-1 pre{padding: 0;}#sk-container-id-1 div.sk-toggleable {background-color: white;}#sk-container-id-1 label.sk-toggleable__label {cursor: pointer;display: block;width: 100%;margin-bottom: 0;padding: 0.3em;box-sizing: border-box;text-align: center;}#sk-container-id-1 label.sk-toggleable__label-arrow:before {content: \"▸\";float: left;margin-right: 0.25em;color: #696969;}#sk-container-id-1 label.sk-toggleable__label-arrow:hover:before {color: black;}#sk-container-id-1 div.sk-estimator:hover label.sk-toggleable__label-arrow:before {color: black;}#sk-container-id-1 div.sk-toggleable__content {max-height: 0;max-width: 0;overflow: hidden;text-align: left;background-color: #f0f8ff;}#sk-container-id-1 div.sk-toggleable__content pre {margin: 0.2em;color: black;border-radius: 0.25em;background-color: #f0f8ff;}#sk-container-id-1 input.sk-toggleable__control:checked~div.sk-toggleable__content {max-height: 200px;max-width: 100%;overflow: auto;}#sk-container-id-1 input.sk-toggleable__control:checked~label.sk-toggleable__label-arrow:before {content: \"▾\";}#sk-container-id-1 div.sk-estimator input.sk-toggleable__control:checked~label.sk-toggleable__label {background-color: #d4ebff;}#sk-container-id-1 div.sk-label input.sk-toggleable__control:checked~label.sk-toggleable__label {background-color: #d4ebff;}#sk-container-id-1 input.sk-hidden--visually {border: 0;clip: rect(1px 1px 1px 1px);clip: rect(1px, 1px, 1px, 1px);height: 1px;margin: -1px;overflow: hidden;padding: 0;position: absolute;width: 1px;}#sk-container-id-1 div.sk-estimator {font-family: monospace;background-color: #f0f8ff;border: 1px dotted black;border-radius: 0.25em;box-sizing: border-box;margin-bottom: 0.5em;}#sk-container-id-1 div.sk-estimator:hover {background-color: #d4ebff;}#sk-container-id-1 div.sk-parallel-item::after {content: \"\";width: 100%;border-bottom: 1px solid gray;flex-grow: 1;}#sk-container-id-1 div.sk-label:hover label.sk-toggleable__label {background-color: #d4ebff;}#sk-container-id-1 div.sk-serial::before {content: \"\";position: absolute;border-left: 1px solid gray;box-sizing: border-box;top: 0;bottom: 0;left: 50%;z-index: 0;}#sk-container-id-1 div.sk-serial {display: flex;flex-direction: column;align-items: center;background-color: white;padding-right: 0.2em;padding-left: 0.2em;position: relative;}#sk-container-id-1 div.sk-item {position: relative;z-index: 1;}#sk-container-id-1 div.sk-parallel {display: flex;align-items: stretch;justify-content: center;background-color: white;position: relative;}#sk-container-id-1 div.sk-item::before, #sk-container-id-1 div.sk-parallel-item::before {content: \"\";position: absolute;border-left: 1px solid gray;box-sizing: border-box;top: 0;bottom: 0;left: 50%;z-index: -1;}#sk-container-id-1 div.sk-parallel-item {display: flex;flex-direction: column;z-index: 1;position: relative;background-color: white;}#sk-container-id-1 div.sk-parallel-item:first-child::after {align-self: flex-end;width: 50%;}#sk-container-id-1 div.sk-parallel-item:last-child::after {align-self: flex-start;width: 50%;}#sk-container-id-1 div.sk-parallel-item:only-child::after {width: 0;}#sk-container-id-1 div.sk-dashed-wrapped {border: 1px dashed gray;margin: 0 0.4em 0.5em 0.4em;box-sizing: border-box;padding-bottom: 0.4em;background-color: white;}#sk-container-id-1 div.sk-label label {font-family: monospace;font-weight: bold;display: inline-block;line-height: 1.2em;}#sk-container-id-1 div.sk-label-container {text-align: center;}#sk-container-id-1 div.sk-container {/* jupyter's `normalize.less` sets `[hidden] { display: none; }` but bootstrap.min.css set `[hidden] { display: none !important; }` so we also need the `!important` here to be able to override the default hidden behavior on the sphinx rendered scikit-learn.org. See: https://github.com/scikit-learn/scikit-learn/issues/21755 */display: inline-block !important;position: relative;}#sk-container-id-1 div.sk-text-repr-fallback {display: none;}</style><div id=\"sk-container-id-1\" class=\"sk-top-container\"><div class=\"sk-text-repr-fallback\"><pre>PCA(n_components=2)</pre><b>In a Jupyter environment, please rerun this cell to show the HTML representation or trust the notebook. <br />On GitHub, the HTML representation is unable to render, please try loading this page with nbviewer.org.</b></div><div class=\"sk-container\" hidden><div class=\"sk-item\"><div class=\"sk-estimator sk-toggleable\"><input class=\"sk-toggleable__control sk-hidden--visually\" id=\"sk-estimator-id-1\" type=\"checkbox\" checked><label for=\"sk-estimator-id-1\" class=\"sk-toggleable__label sk-toggleable__label-arrow\">PCA</label><div class=\"sk-toggleable__content\"><pre>PCA(n_components=2)</pre></div></div></div></div></div>"
            ],
            "text/plain": [
              "PCA(n_components=2)"
            ]
          },
          "execution_count": 50,
          "metadata": {},
          "output_type": "execute_result"
        }
      ],
      "source": [
        "projector = PCA(2)\n",
        "projector.fit(model.embeddings.weight.clone().detach().cpu())"
      ]
    },
    {
      "cell_type": "code",
      "execution_count": null,
      "metadata": {
        "id": "GFtCCvFvn_Ct"
      },
      "outputs": [],
      "source": [
        "projector = TSNE(perplexity=2)\n",
        "projector.fit(model.embeddings.weight.clone().detach().cpu())"
      ]
    },
    {
      "cell_type": "code",
      "execution_count": 385,
      "metadata": {
        "colab": {
          "base_uri": "https://localhost:8080/",
          "height": 676
        },
        "id": "jvrd5M8U0mmK",
        "outputId": "f6c3875a-e8f2-446a-a435-af04c8c617f1"
      },
      "outputs": [
        {
          "data": {
            "image/png": "[encoded data removed]",
            "text/plain": [
              "<Figure size 800x800 with 1 Axes>"
            ]
          },
          "metadata": {},
          "output_type": "display_data"
        }
      ],
      "source": [
        "projected = projector.transform(vectors.detach().cpu())\n",
        "\n",
        "plt.figure(figsize=(8,8))\n",
        "for i in range(0, len(projected), 2):\n",
        "    pair = sample_word_pairs[i // 2]\n",
        "\n",
        "    plt.plot(projected[i:i+2, 0], projected[i:i+2, 1], '--')\n",
        "\n",
        "    for j in range(2):\n",
        "        x, y = projected[i+j, 0], projected[i+j, 1]\n",
        "        plt.scatter(x, y)\n",
        "        plt.text(x, y, pair[j])"
      ]
    },
    {
      "cell_type": "code",
      "execution_count": null,
      "metadata": {
        "colab": {
          "base_uri": "https://localhost:8080/",
          "height": 430
        },
        "id": "41P3miXNG4p6",
        "outputId": "41d904b8-fa91-4fed-b9aa-a8c99455b976"
      },
      "outputs": [
        {
          "data": {
            "image/png": "[encoded data removed]",
            "text/plain": [
              "<Figure size 640x480 with 1 Axes>"
            ]
          },
          "metadata": {},
          "output_type": "display_data"
        }
      ],
      "source": [
        "demo = 'mother father desk'\n",
        "projected = projector.transform(vectors.detach().cpu())\n",
        "for j in range(3):\n",
        "  x, y = projected[j, 0], projected[j, 1]\n",
        "  plt.scatter(x, y)\n",
        "  plt.text(x, y, tokenizer(demo)[j])\n",
        "  plt.plot(torch.Tensor([0, x]), torch.Tensor([0, y]), '--')"
      ]
    },
    {
      "cell_type": "markdown",
      "metadata": {},
      "source": [
        "## word analogy\n"
      ]
    },
    {
      "cell_type": "code",
      "execution_count": 46,
      "metadata": {},
      "outputs": [],
      "source": [
        "from torchlake.language_model.datasets import WordAnalogyDataset "
      ]
    },
    {
      "cell_type": "code",
      "execution_count": 47,
      "metadata": {},
      "outputs": [],
      "source": [
        "analogy_data_path = Path('../../data') / \"word-analogy\""
      ]
    },
    {
      "cell_type": "code",
      "execution_count": 48,
      "metadata": {},
      "outputs": [],
      "source": [
        "dataset = WordAnalogyDataset(analogy_data_path)"
      ]
    },
    {
      "cell_type": "code",
      "execution_count": 49,
      "metadata": {},
      "outputs": [
        {
          "data": {
            "text/plain": [
              "[('Athens', 'Greece', 'Baghdad', 'Iraq'),\n",
              " ('Athens', 'Greece', 'Bangkok', 'Thailand'),\n",
              " ('Athens', 'Greece', 'Beijing', 'China'),\n",
              " ('Athens', 'Greece', 'Berlin', 'Germany'),\n",
              " ('Athens', 'Greece', 'Bern', 'Switzerland'),\n",
              " ('Athens', 'Greece', 'Cairo', 'Egypt'),\n",
              " ('Athens', 'Greece', 'Canberra', 'Australia'),\n",
              " ('Athens', 'Greece', 'Hanoi', 'Vietnam'),\n",
              " ('Athens', 'Greece', 'Havana', 'Cuba'),\n",
              " ('Athens', 'Greece', 'Helsinki', 'Finland'),\n",
              " ('Athens', 'Greece', 'Islamabad', 'Pakistan'),\n",
              " ('Athens', 'Greece', 'Kabul', 'Afghanistan'),\n",
              " ('Athens', 'Greece', 'London', 'England'),\n",
              " ('Athens', 'Greece', 'Madrid', 'Spain'),\n",
              " ('Athens', 'Greece', 'Moscow', 'Russia'),\n",
              " ('Athens', 'Greece', 'Oslo', 'Norway'),\n",
              " ('Athens', 'Greece', 'Ottawa', 'Canada'),\n",
              " ('Athens', 'Greece', 'Paris', 'France'),\n",
              " ('Athens', 'Greece', 'Rome', 'Italy'),\n",
              " ('Athens', 'Greece', 'Stockholm', 'Sweden')]"
            ]
          },
          "execution_count": 49,
          "metadata": {},
          "output_type": "execute_result"
        }
      ],
      "source": [
        "dataset.data[:20]"
      ]
    },
    {
      "cell_type": "code",
      "execution_count": 50,
      "metadata": {},
      "outputs": [
        {
          "data": {
            "text/plain": [
              "[[12958, 6970, 18304, 5313],\n",
              " [12958, 6970, 9016, 6480],\n",
              " [12958, 6970, 10275, 1346],\n",
              " [12958, 6970, 4686, 1270],\n",
              " [12958, 6970, 0, 4409],\n",
              " [12958, 6970, 14016, 2280],\n",
              " [12958, 6970, 16617, 481],\n",
              " [12958, 6970, 14322, 1572],\n",
              " [12958, 6970, 17076, 6546],\n",
              " [12958, 6970, 0, 6575]]"
            ]
          },
          "execution_count": 50,
          "metadata": {},
          "output_type": "execute_result"
        }
      ],
      "source": [
        "tokens = [[vocab[word.lower()] for word in pairs] for pairs in dataset.data]\n",
        "tokens[:10]"
      ]
    },
    {
      "cell_type": "code",
      "execution_count": 51,
      "metadata": {},
      "outputs": [],
      "source": [
        "tokens = torch.LongTensor([token for token in tokens if len(token) == 4]).to(DEVICE)"
      ]
    },
    {
      "cell_type": "code",
      "execution_count": 52,
      "metadata": {},
      "outputs": [],
      "source": [
        "vectors = model.embeddings(tokens)"
      ]
    },
    {
      "cell_type": "code",
      "execution_count": 53,
      "metadata": {},
      "outputs": [
        {
          "data": {
            "text/plain": [
              "torch.Size([19544, 4, 300])"
            ]
          },
          "execution_count": 53,
          "metadata": {},
          "output_type": "execute_result"
        }
      ],
      "source": [
        "vectors.shape"
      ]
    },
    {
      "cell_type": "code",
      "execution_count": 54,
      "metadata": {},
      "outputs": [
        {
          "name": "stdout",
          "output_type": "stream",
          "text": [
            "0.038399286568164825\n"
          ]
        }
      ],
      "source": [
        "# sg-ce: 0.08\n",
        "# cb-ce: 0.08\n",
        "# sg-ns: 0.038\n",
        "# cbow-ns: 0.075\n",
        "# sg-hs: 0.08\n",
        "# cbow-hs: 0.08\n",
        "metric = nn.CosineSimilarity()\n",
        "\n",
        "country_a, capital_a, country_b, capital_b = vectors.transpose(0, 1)\n",
        "score = metric(country_a - capital_a - country_b, -capital_b)\n",
        "print(score.mean().item())"
      ]
    },
    {
      "cell_type": "markdown",
      "metadata": {
        "id": "_HbLdV310mmL"
      },
      "source": [
        "## Simple QA / relationship inference\n",
        "\n",
        "prove linear composability\n"
      ]
    },
    {
      "cell_type": "code",
      "execution_count": 387,
      "metadata": {
        "id": "ajHr6-gC0mmM"
      },
      "outputs": [],
      "source": [
        "question = sentence_to_vector('berlin') - sentence_to_vector('germany')"
      ]
    },
    {
      "cell_type": "code",
      "execution_count": 388,
      "metadata": {
        "colab": {
          "base_uri": "https://localhost:8080/"
        },
        "id": "341Cg28S0mmN",
        "outputId": "a2fbb3d2-a8d2-4257-f71b-1286ac8a96fc"
      },
      "outputs": [
        {
          "name": "stdout",
          "output_type": "stream",
          "text": [
            "question: france\n",
            "tensor([0.5920, 0.0461, 0.0130], device='cuda:0')\n",
            "answer: ['berlin', 'beijing', 'rome']\n",
            "-------------------------------\n",
            "question: china\n",
            "tensor([0.5827, 0.0960, 0.0737], device='cuda:0')\n",
            "answer: ['berlin', 'athens', 'beijing']\n",
            "-------------------------------\n",
            "question: russia\n",
            "tensor([0.5642, 0.0994, 0.0861], device='cuda:0')\n",
            "answer: ['berlin', 'beijing', 'paris']\n",
            "-------------------------------\n",
            "question: japan\n",
            "tensor([0.5794, 0.0735, 0.0387], device='cuda:0')\n",
            "answer: ['berlin', 'moscow', 'beijing']\n",
            "-------------------------------\n",
            "question: greece\n",
            "tensor([0.5650, 0.1255, 0.0694], device='cuda:0')\n",
            "answer: ['berlin', 'beijing', 'athens']\n",
            "-------------------------------\n",
            "question: italy\n",
            "tensor([0.6387, 0.1244, 0.1070], device='cuda:0')\n",
            "answer: ['berlin', 'beijing', 'rome']\n",
            "-------------------------------\n",
            "question: germany\n",
            "tensor([1.0000, 0.0849, 0.0374], device='cuda:0')\n",
            "answer: ['berlin', 'lisbon', 'madrid']\n",
            "-------------------------------\n",
            "question: spain\n",
            "tensor([0.6523, 0.1759, 0.0547], device='cuda:0')\n",
            "answer: ['berlin', 'beijing', 'rome']\n",
            "-------------------------------\n",
            "question: portugal\n",
            "tensor([0.6184, 0.1200, 0.0717], device='cuda:0')\n",
            "answer: ['berlin', 'beijing', 'rome']\n",
            "-------------------------------\n",
            "1/9\n"
          ]
        }
      ],
      "source": [
        "acc = 0\n",
        "\n",
        "metric = nn.CosineSimilarity()\n",
        "choices = [capital for capital, country in sample_word_pairs]\n",
        "for capital, country in sample_word_pairs:\n",
        "  print('question:', country)\n",
        "  guess = metric(question + sentence_to_vector(country), sentence_to_vector(\" \".join(choices)))\n",
        "  # guess = metric(question, model.embeddings.weight)\n",
        "  # print(guess)\n",
        "  topk_guess_value, topk_guess_idx = guess.topk(3, largest=True)\n",
        "  answer = [choices[g] for g in topk_guess_idx]\n",
        "  print(topk_guess_value)\n",
        "  # answer = vocab.lookup_tokens([guess[4:].abs().argmin()])\n",
        "  print('answer:', answer)\n",
        "  print('-------------------------------')\n",
        "\n",
        "  acc += answer[0] == capital\n",
        "\n",
        "print(f\"{acc}/{len(sample_word_pairs)}\")"
      ]
    },
    {
      "cell_type": "markdown",
      "metadata": {
        "id": "9xT4nfpj0mmP"
      },
      "source": [
        "## phrase construction\n"
      ]
    },
    {
      "cell_type": "code",
      "execution_count": null,
      "metadata": {},
      "outputs": [],
      "source": [
        "from collections import Counter"
      ]
    },
    {
      "cell_type": "code",
      "execution_count": null,
      "metadata": {},
      "outputs": [],
      "source": [
        "import nltk\n",
        "from nltk.corpus import stopwords"
      ]
    },
    {
      "cell_type": "code",
      "execution_count": null,
      "metadata": {},
      "outputs": [],
      "source": [
        "# nltk.__version__"
      ]
    },
    {
      "cell_type": "code",
      "execution_count": null,
      "metadata": {},
      "outputs": [],
      "source": [
        "nltk.download('stopwords')"
      ]
    },
    {
      "cell_type": "code",
      "execution_count": null,
      "metadata": {},
      "outputs": [],
      "source": [
        "stopwords.words('english')[:10]"
      ]
    },
    {
      "cell_type": "code",
      "execution_count": null,
      "metadata": {
        "colab": {
          "base_uri": "https://localhost:8080/"
        },
        "id": "4YTceMTl0mmP",
        "outputId": "91a30109-baca-418b-f81b-bfd4792efea6"
      },
      "outputs": [
        {
          "data": {
            "text/plain": [
              "torch.Size([6, 128])"
            ]
          },
          "execution_count": 104,
          "metadata": {},
          "output_type": "execute_result"
        }
      ],
      "source": [
        "# bigram count / unigram product => keep filtering"
      ]
    },
    {
      "cell_type": "code",
      "execution_count": 487,
      "metadata": {},
      "outputs": [],
      "source": [
        "train_datapipe, val_datapipe, test_datapipe = WikiText2(\"./data\")"
      ]
    },
    {
      "cell_type": "code",
      "execution_count": 488,
      "metadata": {},
      "outputs": [
        {
          "name": "stderr",
          "output_type": "stream",
          "text": [
            "d:\\research\\pytorch-implementations\\.venv\\Lib\\site-packages\\torch\\utils\\data\\datapipes\\utils\\common.py:141: UserWarning: Local function is not supported by pickle, please use regular python function or functools.partial instead.\n",
            "  warnings.warn(\n"
          ]
        }
      ],
      "source": [
        "ngrams_counter = Counter()\n",
        "for data in datapipe_factory(train_datapipe):\n",
        "    ngrams_counter.update(ngrams_iterator(data, 2))"
      ]
    },
    {
      "cell_type": "code",
      "execution_count": 489,
      "metadata": {},
      "outputs": [],
      "source": [
        "for stopword in stopwords.words('english'):\n",
        "    ngrams_counter.pop(stopword, \"\")\n",
        "\n",
        "import string\n",
        "\n",
        "for stopword in string.ascii_letters + string.punctuation:\n",
        "    ngrams_counter.pop(stopword, \"\")"
      ]
    },
    {
      "cell_type": "code",
      "execution_count": 490,
      "metadata": {},
      "outputs": [],
      "source": [
        "iter_limit = 1\n",
        "frequent_word_threshold = sum(ngrams_counter) * 1e-4\n",
        "count_threshold = 5e-5\n",
        "count_threshold_factor = 0.8"
      ]
    },
    {
      "cell_type": "code",
      "execution_count": 491,
      "metadata": {},
      "outputs": [
        {
          "name": "stderr",
          "output_type": "stream",
          "text": [
            "100%|█████████▉| 577048/577049 [00:00<00:00, 672551.02it/s]\n"
          ]
        }
      ],
      "source": [
        "phrases = set()\n",
        "bigrams = [key for key in ngrams_counter.keys() if \" \" in key and key != \"\"]\n",
        "for _ in range(iter_limit):\n",
        "   for bigram in tqdm(bigrams):\n",
        "      gram1, gram2 = bigram.split(\" \")\n",
        "      gram1_count, gram2_count = ngrams_counter[gram1], ngrams_counter[gram2]\n",
        "\n",
        "      if gram1_count > frequent_word_threshold or gram2_count > frequent_word_threshold:\n",
        "         continue\n",
        "\n",
        "      if gram1_count == 0 or gram2_count == 0:\n",
        "         continue\n",
        "\n",
        "      lift = ngrams_counter[bigram] / (gram1_count * gram2_count)\n",
        "      # print(bigram, lift)\n",
        "      if lift > count_threshold:\n",
        "         phrases.add(bigram)\n",
        "      else:\n",
        "         bigrams.remove(bigram)\n",
        "      \n",
        "      count_threshold *= count_threshold_factor"
      ]
    },
    {
      "cell_type": "code",
      "execution_count": null,
      "metadata": {},
      "outputs": [],
      "source": [
        "phrases"
      ]
    },
    {
      "cell_type": "code",
      "execution_count": 493,
      "metadata": {},
      "outputs": [
        {
          "data": {
            "text/plain": [
              "7.172148157986485e-05"
            ]
          },
          "execution_count": 493,
          "metadata": {},
          "output_type": "execute_result"
        }
      ],
      "source": [
        "ngrams_counter['video game'] / (ngrams_counter['video'] * ngrams_counter['game'])"
      ]
    },
    {
      "cell_type": "code",
      "execution_count": 494,
      "metadata": {},
      "outputs": [
        {
          "data": {
            "text/plain": [
              "True"
            ]
          },
          "execution_count": 494,
          "metadata": {},
          "output_type": "execute_result"
        }
      ],
      "source": [
        "'video game' in phrases"
      ]
    },
    {
      "cell_type": "markdown",
      "metadata": {},
      "source": [
        "# Profiling"
      ]
    },
    {
      "cell_type": "code",
      "execution_count": 1,
      "metadata": {},
      "outputs": [],
      "source": [
        "import torch.autograd.profiler as profiler"
      ]
    },
    {
      "cell_type": "code",
      "execution_count": null,
      "metadata": {},
      "outputs": [],
      "source": [
        "for gram, context in train_dataloader:\n",
        "    \n",
        "    with profiler.profile(with_stack=True, profile_memory=True) as prof:\n",
        "        gram = gram.to(CONTEXT.device)\n",
        "        context = context.to(CONTEXT.device)\n",
        "        \n",
        "        output = model(gram, word_probs)\n",
        "        loss = criterion(output, context)\n",
        "        loss.backward()\n",
        "        \n",
        "    break"
      ]
    },
    {
      "cell_type": "code",
      "execution_count": 54,
      "metadata": {},
      "outputs": [
        {
          "name": "stdout",
          "output_type": "stream",
          "text": [
            "-------------------------------------------------------  ------------  ------------  ------------  ------------  ------------  ------------  ------------  ------------  ------------  ------------  \n",
            "                                                   Name    Self CPU %      Self CPU   CPU total %     CPU total  CPU time avg       CPU Mem  Self CPU Mem      CUDA Mem  Self CUDA Mem    # of Calls  \n",
            "-------------------------------------------------------  ------------  ------------  ------------  ------------  ------------  ------------  ------------  ------------  ------------  ------------  \n",
            "                                             aten::topk        15.59%     293.022ms        15.59%     293.022ms     293.022ms           0 b           0 b           0 b           0 b             1  \n",
            "                                 aten::_index_put_impl_        13.37%     251.247ms        25.81%     485.048ms     242.524ms           0 b          -8 b           0 b     -48.05 Mb             2  \n",
            "                                         aten::scatter_         7.89%     148.300ms         7.89%     148.301ms     148.301ms           0 b           0 b           0 b           0 b             1  \n",
            "                                        aten::remainder         6.95%     130.573ms         6.95%     130.573ms      65.287ms           0 b           0 b     378.00 Kb     378.00 Kb             2  \n",
            "                                              aten::bmm         6.49%     122.059ms         6.49%     122.059ms      20.343ms           0 b           0 b      90.26 Mb      90.26 Mb             6  \n",
            "                                            aten::fill_         5.94%     111.556ms         5.94%     111.556ms      10.141ms           0 b           0 b           0 b           0 b            11  \n",
            "                                             aten::exp_         4.48%      84.182ms         4.48%      84.182ms      21.046ms           0 b           0 b           0 b           0 b             4  \n",
            "                         aten::embedding_dense_backward         4.44%      83.453ms         4.45%      83.659ms      83.659ms           0 b           0 b      23.29 Mb     -66.11 Mb             1  \n",
            "                                              aten::neg         3.31%      62.150ms         3.31%      62.150ms      10.358ms           0 b           0 b     567.00 Kb     567.00 Kb             6  \n",
            "                                       aten::clamp_min_         3.19%      59.918ms         3.19%      59.918ms      29.959ms           0 b           0 b           0 b           0 b             2  \n",
            "                                             aten::div_         2.76%      51.825ms         2.76%      51.825ms      25.913ms           0 b           0 b           0 b           0 b             2  \n",
            "                                     aten::exponential_         2.46%      46.271ms         2.46%      46.271ms      46.271ms           0 b           0 b           0 b           0 b             1  \n",
            "                                      aten::multinomial         2.26%      42.504ms        22.99%     432.086ms     432.086ms           0 b           0 b     315.00 Kb    -626.23 Mb             1  \n",
            "                              aten::_local_scalar_dense         2.17%      40.693ms         2.17%      40.693ms      20.346ms           0 b           0 b           0 b           0 b             2  \n",
            "                                     aten::index_select         2.15%      40.415ms         2.16%      40.669ms      40.669ms           0 b           0 b      36.91 Mb           0 b             1  \n",
            "                                          POSITIVE LOSS         1.92%      36.061ms        16.21%     304.645ms     304.645ms           0 b           0 b      32.00 Kb           0 b             1  \n",
            "                                             aten::log_         1.87%      35.095ms         1.87%      35.095ms      17.547ms           0 b           0 b           0 b           0 b             2  \n",
            "                                           aten::arange         1.75%      32.809ms         3.31%      62.293ms      10.382ms           0 b           0 b       1.23 Mb           0 b             6  \n",
            "                                          aten::sigmoid         1.70%      31.916ms         1.70%      31.916ms      15.958ms           0 b           0 b     189.00 Kb     189.00 Kb             2  \n",
            "                                   aten::_reshape_alias         1.13%      21.188ms         1.13%      21.188ms      10.594ms           0 b           0 b           0 b           0 b             2  \n",
            "                                          aten::divide_         0.98%      18.375ms         3.73%      70.200ms      35.100ms           0 b           0 b           0 b           0 b             2  \n",
            "                 aten::binary_cross_entropy_with_logits         0.86%      16.225ms        13.72%     257.864ms     128.932ms           0 b           0 b       1.00 Kb    -945.50 Kb             2  \n",
            "                                              aten::sum         0.64%      12.063ms         0.64%      12.097ms       2.016ms           0 b           0 b       9.26 Mb       9.20 Mb             6  \n",
            "                                         IndexBackward0         0.57%      10.624ms        26.38%     495.767ms     247.883ms           0 b           0 b      46.58 Mb           0 b             2  \n",
            "                                     UnsqueezeBackward0         0.55%      10.267ms         0.79%      14.903ms      14.903ms           0 b           0 b           0 b           0 b             1  \n",
            "                                   aten::slice_backward         0.53%      10.039ms         0.54%      10.169ms       5.085ms           0 b           0 b      46.58 Mb           0 b             2  \n",
            "                                           AddBackward0         0.46%       8.631ms         0.46%       8.631ms       8.631ms           0 b           0 b           0 b           0 b             1  \n",
            "                                              aten::sub         0.44%       8.354ms         0.44%       8.354ms       2.785ms           0 b           0 b       1.22 Gb       1.22 Gb             3  \n",
            "                                               aten::ge         0.44%       8.257ms         0.44%       8.257ms       8.257ms           0 b           0 b         512 b         512 b             1  \n",
            "                                         SliceBackward0         0.42%       7.976ms         0.97%      18.145ms       9.072ms           0 b           0 b      46.58 Mb           0 b             2  \n",
            "                                       aten::bernoulli_         0.36%       6.688ms         0.36%       6.697ms       6.697ms           0 b           0 b           0 b           0 b             1  \n",
            "                                            aten::empty         0.30%       5.631ms         0.30%       5.631ms     160.886us      63.00 Kb      63.00 Kb       2.06 Gb       2.06 Gb            35  \n",
            "                                              aten::div         0.29%       5.540ms         0.29%       5.540ms       1.847ms           0 b           0 b       1.00 Kb       1.00 Kb             3  \n",
            "                                              aten::mul         0.29%       5.445ms         0.29%       5.445ms       1.361ms           8 b           8 b     626.52 Mb     626.52 Mb             4  \n",
            "                                          aten::squeeze         0.25%       4.629ms         0.25%       4.636ms       4.636ms           0 b           0 b           0 b           0 b             1  \n",
            "                                    POSITIVE PREDICTION         0.16%       3.044ms         3.84%      72.166ms      72.166ms           0 b           0 b      17.38 Mb           0 b             1  \n",
            "                                             aten::add_         0.11%       2.026ms         0.11%       2.026ms     289.429us           0 b           0 b           0 b           0 b             7  \n",
            "                                            aten::copy_         0.10%       1.812ms         0.14%       2.564ms     197.231us           0 b     -63.00 Kb           0 b           0 b            13  \n",
            "                                           DivBackward0         0.06%       1.207ms         0.07%       1.310ms       1.310ms           0 b           0 b         512 b           0 b             1  \n",
            "                  BinaryCrossEntropyWithLogitsBackward0         0.04%     739.000us         1.74%      32.782ms      16.391ms           0 b           0 b     189.00 Kb           0 b             2  \n",
            "      autograd::engine::evaluate_function: DivBackward0         0.04%     729.000us         0.11%       2.039ms       2.039ms          -8 b          -8 b         512 b           0 b             1  \n",
            "                                          ViewBackward0         0.03%     640.000us         0.04%     680.000us      97.143us           0 b           0 b           0 b           0 b             7  \n",
            "                                           SumBackward1         0.03%     609.000us         0.03%     618.000us     618.000us           0 b           0 b           0 b           0 b             1  \n",
            "                                       PermuteBackward0         0.03%     539.000us         0.03%     586.000us      58.600us           0 b           0 b           0 b           0 b            10  \n",
            "                                              aten::min         0.03%     500.000us         0.03%     503.000us     503.000us           0 b           0 b         512 b           0 b             1  \n",
            "                                      NEGATIVE SAMPLING         0.02%     464.000us        37.27%     700.425ms     700.425ms           0 b           0 b     315.00 Kb      -3.67 Gb             1  \n",
            "                                          aten::resize_         0.02%     285.000us         0.02%     285.000us      57.000us           0 b           0 b      37.84 Mb      37.84 Mb             5  \n",
            "                                            aten::index         0.01%     198.000us         0.01%     249.000us      83.000us           0 b           0 b      55.49 Mb      55.49 Mb             3  \n",
            "                                    NEGATIVE PREDICTION         0.01%     164.000us         1.15%      21.682ms      21.682ms           0 b           0 b      46.30 Mb           0 b             1  \n",
            "                                              aten::max         0.01%     161.000us         0.01%     181.000us     181.000us           0 b           0 b         512 b           0 b             1  \n",
            "                                          NEGATIVE LOSS         0.01%     143.000us         0.32%       6.012ms       6.012ms           8 b           8 b     158.00 Kb        -512 b             1  \n",
            "                                             aten::view         0.01%     139.000us         0.01%     139.000us       6.043us           0 b           0 b           0 b           0 b            23  \n",
            "                                           aten::einsum         0.01%     134.000us         4.81%      90.452ms      45.226ms           0 b           0 b       8.31 Mb           0 b             2  \n",
            "                                          aten::permute         0.01%     131.000us         0.01%     152.000us       7.600us           0 b           0 b           0 b           0 b            20  \n",
            "                                             aten::mul_         0.01%     126.000us         0.01%     126.000us      31.500us           0 b           0 b           0 b           0 b             4  \n",
            "                                    aten::empty_strided         0.01%     125.000us         0.01%     125.000us      12.500us           0 b           0 b     627.02 Mb     627.02 Mb            10  \n",
            "                                        aten::embedding         0.01%      98.000us         2.17%      40.872ms      40.872ms           0 b           0 b      36.91 Mb    -252.00 Kb             1  \n",
            "                                               aten::eq         0.00%      91.000us         0.00%      91.000us      91.000us           0 b           0 b       8.00 Kb       8.00 Kb             1  \n",
            "                                       aten::as_strided         0.00%      87.000us         0.00%      87.000us       1.776us           0 b           0 b           0 b           0 b            49  \n",
            "                                          aten::reshape         0.00%      84.000us         1.14%      21.423ms       1.071ms           0 b           0 b     252.00 Kb           0 b            20  \n",
            "                                             aten::sub_         0.00%      74.000us         0.00%      74.000us      18.500us           0 b           0 b           0 b           0 b             4  \n",
            "                                       aten::empty_like         0.00%      61.000us         0.01%     210.000us      11.053us      63.00 Kb           0 b     711.55 Mb     315.00 Kb            19  \n",
            "                                              aten::add         0.00%      58.000us         0.00%      58.000us      29.000us           0 b           0 b       9.23 Mb       9.23 Mb             2  \n",
            "                                            aten::slice         0.00%      57.000us         0.00%      69.000us      17.250us           0 b           0 b           0 b           0 b             4  \n",
            "                                           aten::repeat         0.00%      55.000us         0.12%       2.287ms       2.287ms           0 b           0 b     626.03 Mb           0 b             1  \n",
            "autograd::engine::evaluate_function: EmbeddingBackwa...         0.00%      54.000us         4.46%      83.757ms      83.757ms           0 b           0 b      13.82 Mb      -9.47 Mb             1  \n",
            "                                         aten::_to_copy         0.00%      49.000us         0.08%       1.580ms     395.000us           0 b           0 b     630.00 Kb           0 b             4  \n",
            "                                            aten::zero_         0.00%      48.000us         5.34%     100.378ms      14.340ms           0 b           0 b           0 b           0 b             7  \n",
            "      autograd::engine::evaluate_function: BmmBackward0         0.00%      48.000us         2.83%      53.226ms      26.613ms           0 b           0 b      26.40 Mb     -55.56 Mb             2  \n",
            "autograd::engine::evaluate_function: BinaryCrossEntr...         0.00%      46.000us         1.75%      32.828ms      16.414ms           0 b           0 b    -189.50 Kb    -378.50 Kb             2  \n",
            "autograd::engine::evaluate_function: PermuteBackward...         0.00%      46.000us         0.04%     671.000us      67.100us           0 b           0 b      -9.23 Mb     -18.46 Mb            10  \n",
            "                                          aten::one_hot         0.00%      45.000us        13.41%     252.037ms     252.037ms           0 b           0 b       1.22 Gb           0 b             1  \n",
            "      autograd::engine::evaluate_function: AddBackward0         0.00%      42.000us         0.46%       8.673ms       8.673ms           0 b           0 b           0 b           0 b             1  \n",
            "                                           BmmBackward0         0.00%      39.000us         2.83%      53.178ms      26.589ms           0 b           0 b      81.95 Mb           0 b             2  \n",
            "    autograd::engine::evaluate_function: IndexBackward0         0.00%      38.000us        26.38%     495.805ms     247.903ms           0 b           0 b      -9.10 Mb     -55.68 Mb             2  \n",
            "                                        aten::unsqueeze         0.00%      33.000us         0.00%      39.000us      19.500us           0 b           0 b           0 b           0 b             2  \n",
            "                                     EmbeddingBackward0         0.00%      32.000us         4.45%      83.703ms      83.703ms           0 b           0 b      23.29 Mb           0 b             1  \n",
            "                                        aten::bernoulli         0.00%      31.000us         0.36%       6.743ms       6.743ms           0 b           0 b     126.00 Kb           0 b             1  \n",
            "                                               aten::to         0.00%      30.000us         0.09%       1.610ms     201.250us           0 b           0 b     630.00 Kb           0 b             8  \n",
            "                                            aten::clone         0.00%      27.000us         0.01%     231.000us      46.200us      63.00 Kb           0 b      83.55 Mb           0 b             5  \n",
            "                                               aten::lt         0.00%      26.000us         0.00%      26.000us      26.000us           0 b           0 b         512 b         512 b             1  \n",
            "                                        aten::transpose         0.00%      26.000us         0.00%      34.000us       8.500us           0 b           0 b           0 b           0 b             4  \n",
            "    autograd::engine::evaluate_function: SliceBackward0         0.00%      26.000us         1.07%      20.147ms      10.073ms           0 b           0 b     -23.29 Mb     -69.87 Mb             2  \n",
            "     autograd::engine::evaluate_function: ViewBackward0         0.00%      23.000us         0.04%     705.000us     100.714us           0 b           0 b           0 b           0 b             7  \n",
            "                                            aten::zeros         0.00%      21.000us         5.52%     103.770ms      25.942ms           0 b           0 b       1.29 Gb           0 b             4  \n",
            "                                             aten::rsub         0.00%      21.000us         0.44%       8.334ms       8.334ms           0 b           0 b       1.22 Gb           0 b             1  \n",
            "                                           aten::expand         0.00%      20.000us         0.00%      30.000us       7.500us           0 b           0 b           0 b           0 b             4  \n",
            "                                        aten::new_zeros         0.00%      19.000us         0.01%      95.000us      47.500us           0 b           0 b      46.58 Mb           0 b             2  \n",
            "                        torch::autograd::AccumulateGrad         0.00%      19.000us         0.00%      33.000us      16.500us           0 b           0 b           0 b           0 b             2  \n",
            "      autograd::engine::evaluate_function: SumBackward1         0.00%      19.000us         0.03%     637.000us     637.000us           0 b           0 b           0 b           0 b             1  \n",
            "                                           aten::unfold         0.00%      18.000us         0.00%      23.000us       5.750us           0 b           0 b           0 b           0 b             4  \n",
            "                                             aten::item         0.00%      18.000us         2.17%      40.711ms      20.355ms           0 b           0 b           0 b           0 b             2  \n",
            "autograd::engine::evaluate_function: UnsqueezeBackwa...         0.00%      17.000us         0.79%      14.920ms      14.920ms           0 b           0 b           0 b           0 b             1  \n",
            "                                      aten::bitwise_and         0.00%      14.000us         0.00%      14.000us      14.000us           0 b           0 b         512 b         512 b             1  \n",
            "                                        aten::ones_like         0.00%      13.000us         0.60%      11.251ms       5.625ms           0 b           0 b      32.00 Kb           0 b             2  \n",
            "                               aten::embedding_backward         0.00%      12.000us         4.45%      83.671ms      83.671ms           0 b           0 b      23.29 Mb           0 b             1  \n",
            "                                       aten::contiguous         0.00%      11.000us         0.01%     173.000us      43.250us      63.00 Kb           0 b      83.30 Mb           0 b             4  \n",
            "autograd::engine::evaluate_function: torch::autograd...         0.00%      11.000us         0.00%      44.000us      22.000us           0 b           0 b           0 b           0 b             2  \n",
            "                                                 detach         0.00%      11.000us         0.00%      11.000us       5.500us           0 b           0 b           0 b           0 b             2  \n",
            "                                       aten::zeros_like         0.00%       7.000us         0.00%      32.000us      32.000us           0 b           0 b     157.50 Kb           0 b             1  \n",
            "-------------------------------------------------------  ------------  ------------  ------------  ------------  ------------  ------------  ------------  ------------  ------------  ------------  \n",
            "Self CPU time total: 1.880s\n",
            "\n"
          ]
        }
      ],
      "source": [
        "print(prof.key_averages(group_by_stack_n=5).table(sort_by='self_cpu_time_total', row_limit=100))"
      ]
    },
    {
      "cell_type": "code",
      "execution_count": null,
      "metadata": {},
      "outputs": [],
      "source": []
    }
  ],
  "metadata": {
    "colab": {
      "provenance": [],
      "toc_visible": true
    },
    "kernelspec": {
      "display_name": ".venv",
      "language": "python",
      "name": "python3"
    },
    "language_info": {
      "codemirror_mode": {
        "name": "ipython",
        "version": 3
      },
      "file_extension": ".py",
      "mimetype": "text/x-python",
      "name": "python",
      "nbconvert_exporter": "python",
      "pygments_lexer": "ipython3",
      "version": "3.11.4"
    }
  },
  "nbformat": 4,
  "nbformat_minor": 0
}