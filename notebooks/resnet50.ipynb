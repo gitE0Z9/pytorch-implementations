{
    "cells": [
        {
            "cell_type": "code",
            "execution_count": 1,
            "metadata": {},
            "outputs": [],
            "source": [
                "from pathlib import Path\n",
                "\n",
                "import matplotlib.pyplot as plt\n",
                "import torch\n",
                "import torchinfo\n",
                "import torchvision\n",
                "from PIL import Image\n",
                "from torch.utils.data import DataLoader\n",
                "from torchlake.common.constants import IMAGENET_MEAN, IMAGENET_STD\n",
                "from torchlake.common.controller.trainer import ClassificationTrainer\n",
                "from torchlake.common.controller.evaluator import ClassificationEvaluator\n",
                "from torchlake.common.utils.platform import get_file_size, get_num_workers\n",
                "from torchlake.image_classification.models.resnet import ResNet\n",
                "from torchvision import transforms"
            ]
        },
        {
            "cell_type": "markdown",
            "metadata": {},
            "source": [
                "# Setting"
            ]
        },
        {
            "cell_type": "code",
            "execution_count": 2,
            "metadata": {},
            "outputs": [],
            "source": [
                "IMAGE_SIZE = 224\n",
                "BATCH_SIZE = 16"
            ]
        },
        {
            "cell_type": "code",
            "execution_count": 3,
            "metadata": {},
            "outputs": [],
            "source": [
                "artifact_path = Path(\"../../artifacts/resnet\")\n",
                "data_path = Path(\"../../data/animal10\")"
            ]
        },
        {
            "cell_type": "code",
            "execution_count": 4,
            "metadata": {},
            "outputs": [],
            "source": [
                "device = torch.device(\"cuda:0\")"
            ]
        },
        {
            "cell_type": "markdown",
            "metadata": {},
            "source": [
                "# data"
            ]
        },
        {
            "cell_type": "code",
            "execution_count": 5,
            "metadata": {},
            "outputs": [],
            "source": [
                "preprocess = transforms.Compose(\n",
                "    [\n",
                "        transforms.RandomHorizontalFlip(),\n",
                "        transforms.ColorJitter(),\n",
                "        transforms.Resize((IMAGE_SIZE, IMAGE_SIZE)),\n",
                "        transforms.ToTensor(),\n",
                "        transforms.Normalize(IMAGENET_MEAN, IMAGENET_STD),\n",
                "    ]\n",
                ")"
            ]
        },
        {
            "cell_type": "code",
            "execution_count": 6,
            "metadata": {},
            "outputs": [],
            "source": [
                "dataset = torchvision.datasets.ImageFolder(\n",
                "    data_path.as_posix(),\n",
                "    transform=preprocess,\n",
                ")"
            ]
        },
        {
            "cell_type": "code",
            "execution_count": 7,
            "metadata": {},
            "outputs": [],
            "source": [
                "train_loader = DataLoader(\n",
                "    dataset,\n",
                "    batch_size=BATCH_SIZE,\n",
                "    shuffle=True,\n",
                "    drop_last=True,\n",
                "    pin_memory=True,\n",
                "    num_workers=get_num_workers(),\n",
                ")"
            ]
        },
        {
            "cell_type": "code",
            "execution_count": 8,
            "metadata": {},
            "outputs": [],
            "source": [
                "num_class = len(dataset.classes)"
            ]
        },
        {
            "cell_type": "markdown",
            "metadata": {},
            "source": [
                "# model"
            ]
        },
        {
            "cell_type": "code",
            "execution_count": 9,
            "metadata": {},
            "outputs": [],
            "source": [
                "model = ResNet(output_size=num_class, key=50).to(device)"
            ]
        },
        {
            "cell_type": "code",
            "execution_count": 10,
            "metadata": {},
            "outputs": [
                {
                    "data": {
                        "text/plain": [
                            "===========================================================================\n",
                            "Layer (type:depth-idx)                             Param #\n",
                            "===========================================================================\n",
                            "ResNet                                             --\n",
                            "├─Sequential: 1-1                                  --\n",
                            "│    └─ConvBnRelu: 2-1                             --\n",
                            "│    │    └─Conv2d: 3-1                            9,408\n",
                            "│    │    └─BatchNorm2d: 3-2                       128\n",
                            "│    │    └─ReLU: 3-3                              --\n",
                            "│    └─MaxPool2d: 2-2                              --\n",
                            "├─Sequential: 1-2                                  --\n",
                            "│    └─ResBlock: 2-3                               --\n",
                            "│    │    └─BottleNeck: 3-4                        58,112\n",
                            "│    │    └─ConvBnRelu: 3-5                        16,896\n",
                            "│    └─ResBlock: 2-4                               --\n",
                            "│    │    └─BottleNeck: 3-6                        70,400\n",
                            "│    │    └─Identity: 3-7                          --\n",
                            "│    └─ResBlock: 2-5                               --\n",
                            "│    │    └─BottleNeck: 3-8                        70,400\n",
                            "│    │    └─Identity: 3-9                          --\n",
                            "├─Sequential: 1-3                                  --\n",
                            "│    └─ResBlock: 2-6                               --\n",
                            "│    │    └─BottleNeck: 3-10                       247,296\n",
                            "│    │    └─ConvBnRelu: 3-11                       132,096\n",
                            "│    └─ResBlock: 2-7                               --\n",
                            "│    │    └─BottleNeck: 3-12                       280,064\n",
                            "│    │    └─Identity: 3-13                         --\n",
                            "│    └─ResBlock: 2-8                               --\n",
                            "│    │    └─BottleNeck: 3-14                       280,064\n",
                            "│    │    └─Identity: 3-15                         --\n",
                            "│    └─ResBlock: 2-9                               --\n",
                            "│    │    └─BottleNeck: 3-16                       280,064\n",
                            "│    │    └─Identity: 3-17                         --\n",
                            "│    └─MaxPool2d: 2-10                             --\n",
                            "├─Sequential: 1-4                                  --\n",
                            "│    └─ResBlock: 2-11                              --\n",
                            "│    │    └─BottleNeck: 3-18                       986,112\n",
                            "│    │    └─ConvBnRelu: 3-19                       526,336\n",
                            "│    └─ResBlock: 2-12                              --\n",
                            "│    │    └─BottleNeck: 3-20                       1,117,184\n",
                            "│    │    └─Identity: 3-21                         --\n",
                            "│    └─ResBlock: 2-13                              --\n",
                            "│    │    └─BottleNeck: 3-22                       1,117,184\n",
                            "│    │    └─Identity: 3-23                         --\n",
                            "│    └─ResBlock: 2-14                              --\n",
                            "│    │    └─BottleNeck: 3-24                       1,117,184\n",
                            "│    │    └─Identity: 3-25                         --\n",
                            "│    └─ResBlock: 2-15                              --\n",
                            "│    │    └─BottleNeck: 3-26                       1,117,184\n",
                            "│    │    └─Identity: 3-27                         --\n",
                            "│    └─ResBlock: 2-16                              --\n",
                            "│    │    └─BottleNeck: 3-28                       1,117,184\n",
                            "│    │    └─Identity: 3-29                         --\n",
                            "│    └─MaxPool2d: 2-17                             --\n",
                            "├─Sequential: 1-5                                  --\n",
                            "│    └─ResBlock: 2-18                              --\n",
                            "│    │    └─BottleNeck: 3-30                       3,938,304\n",
                            "│    │    └─ConvBnRelu: 3-31                       2,101,248\n",
                            "│    └─ResBlock: 2-19                              --\n",
                            "│    │    └─BottleNeck: 3-32                       4,462,592\n",
                            "│    │    └─Identity: 3-33                         --\n",
                            "│    └─ResBlock: 2-20                              --\n",
                            "│    │    └─BottleNeck: 3-34                       4,462,592\n",
                            "│    │    └─Identity: 3-35                         --\n",
                            "├─Sequential: 1-6                                  --\n",
                            "│    └─AdaptiveAvgPool2d: 2-21                     --\n",
                            "│    └─Flatten: 2-22                               --\n",
                            "├─Linear: 1-7                                      20,490\n",
                            "===========================================================================\n",
                            "Total params: 23,528,522\n",
                            "Trainable params: 23,528,522\n",
                            "Non-trainable params: 0\n",
                            "==========================================================================="
                        ]
                    },
                    "execution_count": 10,
                    "metadata": {},
                    "output_type": "execute_result"
                }
            ],
            "source": [
                "torchinfo.summary(model)"
            ]
        },
        {
            "cell_type": "markdown",
            "metadata": {},
            "source": [
                "# training"
            ]
        },
        {
            "cell_type": "code",
            "execution_count": 11,
            "metadata": {},
            "outputs": [],
            "source": [
                "epochs = 10\n",
                "acc_iters = 64 // BATCH_SIZE"
            ]
        },
        {
            "cell_type": "code",
            "execution_count": 12,
            "metadata": {},
            "outputs": [],
            "source": [
                "trainer = ClassificationTrainer(epochs, device, acc_iters)"
            ]
        },
        {
            "cell_type": "code",
            "execution_count": 13,
            "metadata": {},
            "outputs": [],
            "source": [
                "criterion = trainer.get_criterion(num_class)\n",
                "optim = torch.optim.Adam(model.parameters())"
            ]
        },
        {
            "cell_type": "code",
            "execution_count": 40,
            "metadata": {},
            "outputs": [
                {
                    "name": "stderr",
                    "output_type": "stream",
                    "text": [
                        "100%|██████████| 1636/1636 [04:39<00:00,  5.84it/s]\n"
                    ]
                },
                {
                    "name": "stdout",
                    "output_type": "stream",
                    "text": [
                        "epoch 1: 0.032176847903730946\n"
                    ]
                },
                {
                    "name": "stderr",
                    "output_type": "stream",
                    "text": [
                        "100%|██████████| 1636/1636 [04:43<00:00,  5.78it/s]\n"
                    ]
                },
                {
                    "name": "stdout",
                    "output_type": "stream",
                    "text": [
                        "epoch 2: 0.028110389810062184\n"
                    ]
                },
                {
                    "name": "stderr",
                    "output_type": "stream",
                    "text": [
                        "100%|██████████| 1636/1636 [04:43<00:00,  5.77it/s]\n"
                    ]
                },
                {
                    "name": "stdout",
                    "output_type": "stream",
                    "text": [
                        "epoch 3: 0.025668095604767478\n"
                    ]
                },
                {
                    "name": "stderr",
                    "output_type": "stream",
                    "text": [
                        "100%|██████████| 1636/1636 [04:56<00:00,  5.52it/s]\n"
                    ]
                },
                {
                    "name": "stdout",
                    "output_type": "stream",
                    "text": [
                        "epoch 4: 0.02375792081951025\n"
                    ]
                },
                {
                    "name": "stderr",
                    "output_type": "stream",
                    "text": [
                        "100%|██████████| 1636/1636 [04:48<00:00,  5.68it/s]\n"
                    ]
                },
                {
                    "name": "stdout",
                    "output_type": "stream",
                    "text": [
                        "epoch 5: 0.022512893380271435\n"
                    ]
                },
                {
                    "name": "stderr",
                    "output_type": "stream",
                    "text": [
                        "100%|██████████| 1636/1636 [04:50<00:00,  5.63it/s]\n"
                    ]
                },
                {
                    "name": "stdout",
                    "output_type": "stream",
                    "text": [
                        "epoch 6: 0.02107753414109846\n"
                    ]
                },
                {
                    "name": "stderr",
                    "output_type": "stream",
                    "text": [
                        "100%|██████████| 1636/1636 [04:33<00:00,  5.97it/s]\n"
                    ]
                },
                {
                    "name": "stdout",
                    "output_type": "stream",
                    "text": [
                        "epoch 7: 0.01999660179009298\n"
                    ]
                },
                {
                    "name": "stderr",
                    "output_type": "stream",
                    "text": [
                        "100%|██████████| 1636/1636 [04:32<00:00,  6.01it/s]\n"
                    ]
                },
                {
                    "name": "stdout",
                    "output_type": "stream",
                    "text": [
                        "epoch 8: 0.018937925457751772\n"
                    ]
                },
                {
                    "name": "stderr",
                    "output_type": "stream",
                    "text": [
                        "100%|██████████| 1636/1636 [04:35<00:00,  5.95it/s]\n"
                    ]
                },
                {
                    "name": "stdout",
                    "output_type": "stream",
                    "text": [
                        "epoch 9: 0.017812709400014875\n"
                    ]
                },
                {
                    "name": "stderr",
                    "output_type": "stream",
                    "text": [
                        "100%|██████████| 1636/1636 [04:30<00:00,  6.06it/s]"
                    ]
                },
                {
                    "name": "stdout",
                    "output_type": "stream",
                    "text": [
                        "epoch 10: 0.016961729453035687\n"
                    ]
                },
                {
                    "name": "stderr",
                    "output_type": "stream",
                    "text": [
                        "\n"
                    ]
                }
            ],
            "source": [
                "training_loss = trainer.run(train_loader, model, optim, criterion)"
            ]
        },
        {
            "cell_type": "code",
            "execution_count": 41,
            "metadata": {},
            "outputs": [
                {
                    "data": {
                        "text/plain": [
                            "[<matplotlib.lines.Line2D at 0x1e71e4d5a50>]"
                        ]
                    },
                    "execution_count": 41,
                    "metadata": {},
                    "output_type": "execute_result"
                },
                {
                    "data": {
                        "image/png": "[encoded data removed]",
                        "text/plain": [
                            "<Figure size 640x480 with 1 Axes>"
                        ]
                    },
                    "metadata": {},
                    "output_type": "display_data"
                }
            ],
            "source": [
                "plt.plot(training_loss)"
            ]
        },
        {
            "cell_type": "markdown",
            "metadata": {},
            "source": [
                "# inference"
            ]
        },
        {
            "cell_type": "code",
            "execution_count": 11,
            "metadata": {},
            "outputs": [],
            "source": [
                "test_preprocess = transforms.Compose([\n",
                "    transforms.Resize((IMAGE_SIZE, IMAGE_SIZE)),\n",
                "    transforms.ToTensor(),\n",
                "    transforms.Normalize(IMAGENET_MEAN, IMAGENET_STD),\n",
                "])"
            ]
        },
        {
            "cell_type": "code",
            "execution_count": 12,
            "metadata": {},
            "outputs": [],
            "source": [
                "test_dataset = torchvision.datasets.ImageFolder(\n",
                "    data_path.as_posix(),\n",
                "    transform=test_preprocess,\n",
                ")"
            ]
        },
        {
            "cell_type": "code",
            "execution_count": 13,
            "metadata": {},
            "outputs": [],
            "source": [
                "test_loader = DataLoader(\n",
                "    test_dataset,\n",
                "    batch_size=BATCH_SIZE,\n",
                "    pin_memory=True,\n",
                "    num_workers=get_num_workers(),\n",
                ")"
            ]
        },
        {
            "cell_type": "code",
            "execution_count": 14,
            "metadata": {},
            "outputs": [],
            "source": [
                "evaluator = ClassificationEvaluator(num_class, device)"
            ]
        },
        {
            "cell_type": "code",
            "execution_count": 18,
            "metadata": {},
            "outputs": [
                {
                    "name": "stderr",
                    "output_type": "stream",
                    "text": [
                        "100%|██████████| 1637/1637 [02:23<00:00, 11.43it/s]"
                    ]
                },
                {
                    "name": "stdout",
                    "output_type": "stream",
                    "text": [
                        "[[4434   73   28   13   65   66   55   82   12   35]\n",
                        " [ 241 2054   38   14   26   11  138   85    9    7]\n",
                        " [  75   21 1197    3   19    5   23   73   15   15]\n",
                        " [  32    1    3 1903   16   26    4    4   91   32]\n",
                        " [ 201   12    6   42 2685   24   13   43   35   37]\n",
                        " [ 489    1    6   11   18 1070    2   25   11   35]\n",
                        " [ 153   74   17    5   20    3 1392  189    5    8]\n",
                        " [ 139   13   28    2   35   10   79 1480   23   11]\n",
                        " [ 162   13    5  203   38   38    6    8 4294   54]\n",
                        " [ 181    3   14   33   32   32    1   16   41 1509]]\n"
                    ]
                },
                {
                    "name": "stderr",
                    "output_type": "stream",
                    "text": [
                        "\n"
                    ]
                }
            ],
            "source": [
                "confusion_matrix = evaluator.run(test_loader, model)"
            ]
        },
        {
            "cell_type": "code",
            "execution_count": 22,
            "metadata": {},
            "outputs": [
                {
                    "name": "stdout",
                    "output_type": "stream",
                    "text": [
                        "cane      : 0.9117828500925355\n",
                        "cavallo   : 0.783072817384674\n",
                        "elefante  : 0.8278008298755186\n",
                        "farfalla  : 0.9010416666666666\n",
                        "gallina   : 0.8666881859264042\n",
                        "gatto     : 0.6414868105515588\n",
                        "mucca     : 0.7459807073954984\n",
                        "pecora    : 0.8131868131868132\n",
                        "ragno     : 0.8906865795478116\n",
                        "scoiattolo: 0.8104189044038668\n"
                    ]
                }
            ],
            "source": [
                "per_class_acc = evaluator.get_per_class_accuracy(confusion_matrix)\n",
                "evaluator.show_per_class_accuracy(test_dataset.classes, per_class_acc)"
            ]
        },
        {
            "cell_type": "code",
            "execution_count": 23,
            "metadata": {},
            "outputs": [
                {
                    "data": {
                        "text/plain": [
                            "0.8192146165031347"
                        ]
                    },
                    "execution_count": 23,
                    "metadata": {},
                    "output_type": "execute_result"
                }
            ],
            "source": [
                "per_class_acc.mean()"
            ]
        },
        {
            "cell_type": "code",
            "execution_count": 24,
            "metadata": {},
            "outputs": [
                {
                    "data": {
                        "image/png": "[encoded data removed]",
                        "text/plain": [
                            "<Figure size 600x400 with 2 Axes>"
                        ]
                    },
                    "metadata": {},
                    "output_type": "display_data"
                }
            ],
            "source": [
                "evaluator.plot_confusion_matrix(\n",
                "    confusion_matrix,\n",
                "    test_dataset.classes,\n",
                "    \"Blues\",\n",
                "    annot=False,\n",
                "    figsize=(6, 4),\n",
                ")"
            ]
        },
        {
            "cell_type": "code",
            "execution_count": 56,
            "metadata": {},
            "outputs": [],
            "source": [
                "# image from internet\n",
                "import requests\n",
                "from io import BytesIO\n",
                "\n",
                "demo_url = \"http://t2.gstatic.com/licensed-image?q=tbn:ANd9GcSFoiMCj_B7I2ML4tMYIbrcSgD9gBkp-G1JVfYz8R5xtL76jjcXyhY92BwcFNKCSxCU1NwmZ5XfIAO1VCF7WCM\" # cow\n",
                "# demo_url = \"http://t0.gstatic.com/licensed-image?q=tbn:ANd9GcRgs4mxH44aRwV3qnlSmBlnP2u4pEDu8gatItCeqvXEb3yUol302ClE9ujMszbxXiyPZopDy-3i9EzcjjLNdTI\" # horse\n",
                "img = Image.open(BytesIO(requests.get(demo_url).content))\n",
                "img = test_preprocess(img).unsqueeze(0).to(device)"
            ]
        },
        {
            "cell_type": "code",
            "execution_count": null,
            "metadata": {},
            "outputs": [],
            "source": [
                "# randomly sampled from dataset\n",
                "\n",
                "# import random\n",
                "# idx = random.randint(0, len(dataset))\n",
                "# sample = test_dataset[idx]\n",
                "# img = sample[0].unsqueeze(0).to(device)"
            ]
        },
        {
            "cell_type": "code",
            "execution_count": 57,
            "metadata": {},
            "outputs": [
                {
                    "name": "stdout",
                    "output_type": "stream",
                    "text": [
                        "cane\n"
                    ]
                }
            ],
            "source": [
                "model.eval()\n",
                "with torch.no_grad():\n",
                "    prediction = model(img).detach().cpu()\n",
                "    print(dataset.classes[prediction.argmax()])\n",
                "    # print(dataset.classes[sample[1]])"
            ]
        },
        {
            "cell_type": "code",
            "execution_count": 15,
            "metadata": {},
            "outputs": [],
            "source": [
                "model_path = artifact_path / 'resnet.pth'"
            ]
        },
        {
            "cell_type": "code",
            "execution_count": 64,
            "metadata": {},
            "outputs": [],
            "source": [
                "torch.save(model.state_dict(), model_path)"
            ]
        },
        {
            "cell_type": "code",
            "execution_count": 17,
            "metadata": {},
            "outputs": [
                {
                    "data": {
                        "text/plain": [
                            "'90.06MB'"
                        ]
                    },
                    "execution_count": 17,
                    "metadata": {},
                    "output_type": "execute_result"
                }
            ],
            "source": [
                "get_file_size(model_path)"
            ]
        },
        {
            "cell_type": "code",
            "execution_count": 16,
            "metadata": {},
            "outputs": [
                {
                    "data": {
                        "text/plain": [
                            "<All keys matched successfully>"
                        ]
                    },
                    "execution_count": 16,
                    "metadata": {},
                    "output_type": "execute_result"
                }
            ],
            "source": [
                "model.load_state_dict(torch.load(model_path.as_posix()))"
            ]
        },
        {
            "cell_type": "code",
            "execution_count": 27,
            "metadata": {},
            "outputs": [],
            "source": [
                "# Netron 檢查\n",
                "onnx_path = artifact_path / \"resnet.onnx\"\n",
                "torch.onnx.export(model.cpu(), torch.randn(1, 3, 224, 224), onnx_path.as_posix())"
            ]
        },
        {
            "cell_type": "code",
            "execution_count": null,
            "metadata": {},
            "outputs": [],
            "source": []
        }
    ],
    "metadata": {
        "kernelspec": {
            "display_name": ".venv",
            "language": "python",
            "name": "python3"
        },
        "language_info": {
            "codemirror_mode": {
                "name": "ipython",
                "version": 3
            },
            "file_extension": ".py",
            "mimetype": "text/x-python",
            "name": "python",
            "nbconvert_exporter": "python",
            "pygments_lexer": "ipython3",
            "version": "3.11.4"
        }
    },
    "nbformat": 4,
    "nbformat_minor": 2
}