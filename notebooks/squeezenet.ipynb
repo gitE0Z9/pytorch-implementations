{
    "cells": [
        {
            "cell_type": "code",
            "execution_count": 89,
            "metadata": {},
            "outputs": [],
            "source": [
                "from pathlib import Path\n",
                "\n",
                "import matplotlib.pyplot as plt\n",
                "import torch\n",
                "import torchinfo\n",
                "from torch.utils.data import DataLoader\n",
                "from torchlake.common.constants import IMAGENET_MEAN, IMAGENET_STD\n",
                "from torchlake.common.controller.trainer import ClassificationTrainer\n",
                "from torchlake.common.controller.evaluator import ClassificationEvaluator\n",
                "from torchlake.common.utils.platform import get_num_workers, get_file_size\n",
                "from torchlake.image_classification.models.squeezenet import SqueezeNet\n",
                "from torchvision import transforms\n",
                "from torchvision.datasets import GTSRB"
            ]
        },
        {
            "cell_type": "markdown",
            "metadata": {},
            "source": [
                "# Setting"
            ]
        },
        {
            "cell_type": "code",
            "execution_count": 90,
            "metadata": {},
            "outputs": [],
            "source": [
                "IMAGE_SIZE = 224\n",
                "BATCH_SIZE = 64"
            ]
        },
        {
            "cell_type": "code",
            "execution_count": 91,
            "metadata": {},
            "outputs": [],
            "source": [
                "artifact_path = Path(\"../../artifacts/squeezenet\")\n",
                "data_path = Path(\"../../data/gtsrb\")"
            ]
        },
        {
            "cell_type": "code",
            "execution_count": 92,
            "metadata": {},
            "outputs": [],
            "source": [
                "device = torch.device(\"cuda:0\")"
            ]
        },
        {
            "cell_type": "markdown",
            "metadata": {},
            "source": [
                "# data"
            ]
        },
        {
            "cell_type": "code",
            "execution_count": 93,
            "metadata": {},
            "outputs": [],
            "source": [
                "preprocess = transforms.Compose(\n",
                "    [\n",
                "        transforms.RandomHorizontalFlip(),\n",
                "        transforms.Resize((IMAGE_SIZE, IMAGE_SIZE)),\n",
                "        transforms.ToTensor(),\n",
                "        transforms.Normalize(IMAGENET_MEAN, IMAGENET_STD),\n",
                "    ]\n",
                ")"
            ]
        },
        {
            "cell_type": "code",
            "execution_count": 94,
            "metadata": {},
            "outputs": [],
            "source": [
                "train_dataset = GTSRB(\n",
                "    data_path.as_posix(),\n",
                "    split=\"train\",\n",
                "    transform=preprocess,\n",
                "    download=True,\n",
                ")"
            ]
        },
        {
            "cell_type": "code",
            "execution_count": 95,
            "metadata": {},
            "outputs": [],
            "source": [
                "train_loader = DataLoader(\n",
                "    train_dataset,\n",
                "    batch_size=BATCH_SIZE,\n",
                "    shuffle=True,\n",
                "    drop_last=True,\n",
                "    pin_memory=True,\n",
                "    num_workers=get_num_workers(),\n",
                ")"
            ]
        },
        {
            "cell_type": "code",
            "execution_count": 96,
            "metadata": {},
            "outputs": [],
            "source": [
                "num_class = 43"
            ]
        },
        {
            "cell_type": "code",
            "execution_count": 97,
            "metadata": {},
            "outputs": [
                {
                    "data": {
                        "text/plain": [
                            "26640"
                        ]
                    },
                    "execution_count": 97,
                    "metadata": {},
                    "output_type": "execute_result"
                }
            ],
            "source": [
                "len(train_dataset)"
            ]
        },
        {
            "cell_type": "code",
            "execution_count": 98,
            "metadata": {},
            "outputs": [
                {
                    "name": "stdout",
                    "output_type": "stream",
                    "text": [
                        "13\n"
                    ]
                },
                {
                    "data": {
                        "text/plain": [
                            "<matplotlib.image.AxesImage at 0x27ec1097510>"
                        ]
                    },
                    "execution_count": 98,
                    "metadata": {},
                    "output_type": "execute_result"
                },
                {
                    "data": {
                        "image/png": "[encoded data removed]",
                        "text/plain": [
                            "<Figure size 640x480 with 1 Axes>"
                        ]
                    },
                    "metadata": {},
                    "output_type": "display_data"
                }
            ],
            "source": [
                "import random\n",
                "from torchlake.common.utils.convert import img_tensor_to_np\n",
                "\n",
                "demo_img, demo_label = random.choice(train_dataset)\n",
                "print(demo_label)\n",
                "plt.imshow((img_tensor_to_np(demo_img) * IMAGENET_STD + IMAGENET_MEAN).clip(0, 1))"
            ]
        },
        {
            "cell_type": "markdown",
            "metadata": {},
            "source": [
                "# model"
            ]
        },
        {
            "cell_type": "code",
            "execution_count": 99,
            "metadata": {},
            "outputs": [],
            "source": [
                "model = SqueezeNet(output_size=num_class, version=\"1.1\").to(device)"
            ]
        },
        {
            "cell_type": "code",
            "execution_count": 100,
            "metadata": {},
            "outputs": [
                {
                    "data": {
                        "text/plain": [
                            "===========================================================================\n",
                            "Layer (type:depth-idx)                             Param #\n",
                            "===========================================================================\n",
                            "SqueezeNet                                         --\n",
                            "├─Sequential: 1-1                                  --\n",
                            "│    └─Conv2dNormActivation: 2-1                   --\n",
                            "│    │    └─Conv2d: 3-1                            1,792\n",
                            "│    │    └─ReLU: 3-2                              --\n",
                            "│    └─MaxPool2d: 2-2                              --\n",
                            "│    └─FireModule: 2-3                             --\n",
                            "│    │    └─Conv2dNormActivation: 3-3              1,040\n",
                            "│    │    └─Conv2dNormActivation: 3-4              1,088\n",
                            "│    │    └─Conv2dNormActivation: 3-5              9,280\n",
                            "│    └─ResBlock: 2-4                               --\n",
                            "│    │    └─FireModule: 3-6                        12,432\n",
                            "│    │    └─Identity: 3-7                          --\n",
                            "│    └─MaxPool2d: 2-5                              --\n",
                            "│    └─FireModule: 2-6                             --\n",
                            "│    │    └─Conv2dNormActivation: 3-8              4,128\n",
                            "│    │    └─Conv2dNormActivation: 3-9              4,224\n",
                            "│    │    └─Conv2dNormActivation: 3-10             36,992\n",
                            "│    └─ResBlock: 2-7                               --\n",
                            "│    │    └─FireModule: 3-11                       49,440\n",
                            "│    │    └─Identity: 3-12                         --\n",
                            "│    └─MaxPool2d: 2-8                              --\n",
                            "│    └─FireModule: 2-9                             --\n",
                            "│    │    └─Conv2dNormActivation: 3-13             12,336\n",
                            "│    │    └─Conv2dNormActivation: 3-14             9,408\n",
                            "│    │    └─Conv2dNormActivation: 3-15             83,136\n",
                            "│    └─ResBlock: 2-10                              --\n",
                            "│    │    └─FireModule: 3-16                       111,024\n",
                            "│    │    └─Identity: 3-17                         --\n",
                            "│    └─FireModule: 2-11                            --\n",
                            "│    │    └─Conv2dNormActivation: 3-18             24,640\n",
                            "│    │    └─Conv2dNormActivation: 3-19             16,640\n",
                            "│    │    └─Conv2dNormActivation: 3-20             147,712\n",
                            "│    └─ResBlock: 2-12                              --\n",
                            "│    │    └─FireModule: 3-21                       197,184\n",
                            "│    │    └─Identity: 3-22                         --\n",
                            "│    └─Dropout: 2-13                               --\n",
                            "│    └─Conv2dNormActivation: 2-14                  --\n",
                            "│    │    └─Conv2d: 3-23                           22,059\n",
                            "│    │    └─ReLU: 3-24                             --\n",
                            "├─FlattenFeature: 1-2                              --\n",
                            "│    └─Sequential: 2-15                            --\n",
                            "│    │    └─AdaptiveAvgPool2d: 3-25                --\n",
                            "│    │    └─Flatten: 3-26                          --\n",
                            "===========================================================================\n",
                            "Total params: 744,555\n",
                            "Trainable params: 744,555\n",
                            "Non-trainable params: 0\n",
                            "==========================================================================="
                        ]
                    },
                    "execution_count": 100,
                    "metadata": {},
                    "output_type": "execute_result"
                }
            ],
            "source": [
                "torchinfo.summary(model)"
            ]
        },
        {
            "cell_type": "markdown",
            "metadata": {},
            "source": [
                "# training"
            ]
        },
        {
            "cell_type": "code",
            "execution_count": 101,
            "metadata": {},
            "outputs": [],
            "source": [
                "epochs = 30\n",
                "acc_iters = 256 // BATCH_SIZE"
            ]
        },
        {
            "cell_type": "code",
            "execution_count": 102,
            "metadata": {},
            "outputs": [],
            "source": [
                "trainer = ClassificationTrainer(epochs, device, acc_iters)"
            ]
        },
        {
            "cell_type": "code",
            "execution_count": 103,
            "metadata": {},
            "outputs": [],
            "source": [
                "criterion = trainer.get_criterion(num_class)\n",
                "optim = torch.optim.Adam(model.parameters())"
            ]
        },
        {
            "cell_type": "code",
            "execution_count": 104,
            "metadata": {},
            "outputs": [
                {
                    "name": "stderr",
                    "output_type": "stream",
                    "text": [
                        "100%|██████████| 416/416 [01:00<00:00,  6.84it/s]\n"
                    ]
                },
                {
                    "name": "stdout",
                    "output_type": "stream",
                    "text": [
                        "epoch 1 : 0.013780091029520217\n"
                    ]
                },
                {
                    "name": "stderr",
                    "output_type": "stream",
                    "text": [
                        "100%|██████████| 416/416 [00:57<00:00,  7.19it/s]\n"
                    ]
                },
                {
                    "name": "stdout",
                    "output_type": "stream",
                    "text": [
                        "epoch 2 : 0.012924502243269952\n"
                    ]
                },
                {
                    "name": "stderr",
                    "output_type": "stream",
                    "text": [
                        "100%|██████████| 416/416 [00:59<00:00,  7.00it/s]\n"
                    ]
                },
                {
                    "name": "stdout",
                    "output_type": "stream",
                    "text": [
                        "epoch 3 : 0.012105761270504445\n"
                    ]
                },
                {
                    "name": "stderr",
                    "output_type": "stream",
                    "text": [
                        "100%|██████████| 416/416 [00:59<00:00,  6.97it/s]\n"
                    ]
                },
                {
                    "name": "stdout",
                    "output_type": "stream",
                    "text": [
                        "epoch 4 : 0.010239492579085682\n"
                    ]
                },
                {
                    "name": "stderr",
                    "output_type": "stream",
                    "text": [
                        "100%|██████████| 416/416 [01:00<00:00,  6.84it/s]\n"
                    ]
                },
                {
                    "name": "stdout",
                    "output_type": "stream",
                    "text": [
                        "epoch 5 : 0.008698477656043205\n"
                    ]
                },
                {
                    "name": "stderr",
                    "output_type": "stream",
                    "text": [
                        "100%|██████████| 416/416 [01:00<00:00,  6.88it/s]\n"
                    ]
                },
                {
                    "name": "stdout",
                    "output_type": "stream",
                    "text": [
                        "epoch 6 : 0.007803850039356173\n"
                    ]
                },
                {
                    "name": "stderr",
                    "output_type": "stream",
                    "text": [
                        "100%|██████████| 416/416 [00:59<00:00,  7.01it/s]\n"
                    ]
                },
                {
                    "name": "stdout",
                    "output_type": "stream",
                    "text": [
                        "epoch 7 : 0.007287546443806674\n"
                    ]
                },
                {
                    "name": "stderr",
                    "output_type": "stream",
                    "text": [
                        "100%|██████████| 416/416 [00:59<00:00,  6.94it/s]\n"
                    ]
                },
                {
                    "name": "stdout",
                    "output_type": "stream",
                    "text": [
                        "epoch 8 : 0.006443018700967793\n"
                    ]
                },
                {
                    "name": "stderr",
                    "output_type": "stream",
                    "text": [
                        "100%|██████████| 416/416 [01:02<00:00,  6.62it/s]\n"
                    ]
                },
                {
                    "name": "stdout",
                    "output_type": "stream",
                    "text": [
                        "epoch 9 : 0.005614385905993493\n"
                    ]
                },
                {
                    "name": "stderr",
                    "output_type": "stream",
                    "text": [
                        "100%|██████████| 416/416 [00:58<00:00,  7.12it/s]\n"
                    ]
                },
                {
                    "name": "stdout",
                    "output_type": "stream",
                    "text": [
                        "epoch 10 : 0.00472848249494116\n"
                    ]
                },
                {
                    "name": "stderr",
                    "output_type": "stream",
                    "text": [
                        "100%|██████████| 416/416 [01:04<00:00,  6.44it/s]\n"
                    ]
                },
                {
                    "name": "stdout",
                    "output_type": "stream",
                    "text": [
                        "epoch 11 : 0.003965902253045128\n"
                    ]
                },
                {
                    "name": "stderr",
                    "output_type": "stream",
                    "text": [
                        "100%|██████████| 416/416 [01:01<00:00,  6.79it/s]\n"
                    ]
                },
                {
                    "name": "stdout",
                    "output_type": "stream",
                    "text": [
                        "epoch 12 : 0.00344938045712367\n"
                    ]
                },
                {
                    "name": "stderr",
                    "output_type": "stream",
                    "text": [
                        "100%|██████████| 416/416 [00:59<00:00,  6.94it/s]\n"
                    ]
                },
                {
                    "name": "stdout",
                    "output_type": "stream",
                    "text": [
                        "epoch 13 : 0.003248936172615056\n"
                    ]
                },
                {
                    "name": "stderr",
                    "output_type": "stream",
                    "text": [
                        "100%|██████████| 416/416 [01:05<00:00,  6.38it/s]\n"
                    ]
                },
                {
                    "name": "stdout",
                    "output_type": "stream",
                    "text": [
                        "epoch 14 : 0.002750951763888364\n"
                    ]
                },
                {
                    "name": "stderr",
                    "output_type": "stream",
                    "text": [
                        "100%|██████████| 416/416 [01:05<00:00,  6.36it/s]\n"
                    ]
                },
                {
                    "name": "stdout",
                    "output_type": "stream",
                    "text": [
                        "epoch 15 : 0.0024672592107190913\n"
                    ]
                },
                {
                    "name": "stderr",
                    "output_type": "stream",
                    "text": [
                        "100%|██████████| 416/416 [01:04<00:00,  6.47it/s]\n"
                    ]
                },
                {
                    "name": "stdout",
                    "output_type": "stream",
                    "text": [
                        "epoch 16 : 0.0023622298972790865\n"
                    ]
                },
                {
                    "name": "stderr",
                    "output_type": "stream",
                    "text": [
                        "100%|██████████| 416/416 [01:00<00:00,  6.91it/s]\n"
                    ]
                },
                {
                    "name": "stdout",
                    "output_type": "stream",
                    "text": [
                        "epoch 17 : 0.0023571480130787957\n"
                    ]
                },
                {
                    "name": "stderr",
                    "output_type": "stream",
                    "text": [
                        "100%|██████████| 416/416 [00:55<00:00,  7.44it/s]\n"
                    ]
                },
                {
                    "name": "stdout",
                    "output_type": "stream",
                    "text": [
                        "epoch 18 : 0.002173178597401532\n"
                    ]
                },
                {
                    "name": "stderr",
                    "output_type": "stream",
                    "text": [
                        "100%|██████████| 416/416 [00:56<00:00,  7.37it/s]\n"
                    ]
                },
                {
                    "name": "stdout",
                    "output_type": "stream",
                    "text": [
                        "epoch 19 : 0.002088413598392855\n"
                    ]
                },
                {
                    "name": "stderr",
                    "output_type": "stream",
                    "text": [
                        "100%|██████████| 416/416 [00:57<00:00,  7.27it/s]\n"
                    ]
                },
                {
                    "name": "stdout",
                    "output_type": "stream",
                    "text": [
                        "epoch 20 : 0.00215941451922565\n"
                    ]
                },
                {
                    "name": "stderr",
                    "output_type": "stream",
                    "text": [
                        "100%|██████████| 416/416 [00:55<00:00,  7.44it/s]\n"
                    ]
                },
                {
                    "name": "stdout",
                    "output_type": "stream",
                    "text": [
                        "epoch 21 : 0.0020731980825635567\n"
                    ]
                },
                {
                    "name": "stderr",
                    "output_type": "stream",
                    "text": [
                        "100%|██████████| 416/416 [00:54<00:00,  7.61it/s]\n"
                    ]
                },
                {
                    "name": "stdout",
                    "output_type": "stream",
                    "text": [
                        "epoch 22 : 0.0021278744541352633\n"
                    ]
                },
                {
                    "name": "stderr",
                    "output_type": "stream",
                    "text": [
                        "100%|██████████| 416/416 [00:54<00:00,  7.57it/s]\n"
                    ]
                },
                {
                    "name": "stdout",
                    "output_type": "stream",
                    "text": [
                        "epoch 23 : 0.0020057813378046444\n"
                    ]
                },
                {
                    "name": "stderr",
                    "output_type": "stream",
                    "text": [
                        "100%|██████████| 416/416 [00:59<00:00,  6.99it/s]\n"
                    ]
                },
                {
                    "name": "stdout",
                    "output_type": "stream",
                    "text": [
                        "epoch 24 : 0.002014115939975734\n"
                    ]
                },
                {
                    "name": "stderr",
                    "output_type": "stream",
                    "text": [
                        "100%|██████████| 416/416 [00:58<00:00,  7.07it/s]\n"
                    ]
                },
                {
                    "name": "stdout",
                    "output_type": "stream",
                    "text": [
                        "epoch 25 : 0.0019100884624444565\n"
                    ]
                },
                {
                    "name": "stderr",
                    "output_type": "stream",
                    "text": [
                        "100%|██████████| 416/416 [00:57<00:00,  7.25it/s]\n"
                    ]
                },
                {
                    "name": "stdout",
                    "output_type": "stream",
                    "text": [
                        "epoch 26 : 0.0019528119443678476\n"
                    ]
                },
                {
                    "name": "stderr",
                    "output_type": "stream",
                    "text": [
                        "100%|██████████| 416/416 [00:59<00:00,  7.04it/s]\n"
                    ]
                },
                {
                    "name": "stdout",
                    "output_type": "stream",
                    "text": [
                        "epoch 27 : 0.0019164650587369509\n"
                    ]
                },
                {
                    "name": "stderr",
                    "output_type": "stream",
                    "text": [
                        "100%|██████████| 416/416 [01:02<00:00,  6.62it/s]\n"
                    ]
                },
                {
                    "name": "stdout",
                    "output_type": "stream",
                    "text": [
                        "epoch 28 : 0.0019028796544463288\n"
                    ]
                },
                {
                    "name": "stderr",
                    "output_type": "stream",
                    "text": [
                        "100%|██████████| 416/416 [00:56<00:00,  7.37it/s]\n"
                    ]
                },
                {
                    "name": "stdout",
                    "output_type": "stream",
                    "text": [
                        "epoch 29 : 0.001873241419511592\n"
                    ]
                },
                {
                    "name": "stderr",
                    "output_type": "stream",
                    "text": [
                        "100%|██████████| 416/416 [00:57<00:00,  7.18it/s]"
                    ]
                },
                {
                    "name": "stdout",
                    "output_type": "stream",
                    "text": [
                        "epoch 30 : 0.001872978207057503\n"
                    ]
                },
                {
                    "name": "stderr",
                    "output_type": "stream",
                    "text": [
                        "\n"
                    ]
                }
            ],
            "source": [
                "training_loss = trainer.run(train_loader, model, optim, criterion)"
            ]
        },
        {
            "cell_type": "code",
            "execution_count": 105,
            "metadata": {},
            "outputs": [
                {
                    "data": {
                        "text/plain": [
                            "[<matplotlib.lines.Line2D at 0x27e6cd19a50>]"
                        ]
                    },
                    "execution_count": 105,
                    "metadata": {},
                    "output_type": "execute_result"
                },
                {
                    "data": {
                        "image/png": "[encoded data removed]",
                        "text/plain": [
                            "<Figure size 640x480 with 1 Axes>"
                        ]
                    },
                    "metadata": {},
                    "output_type": "display_data"
                }
            ],
            "source": [
                "plt.plot(training_loss)"
            ]
        },
        {
            "cell_type": "markdown",
            "metadata": {},
            "source": [
                "# inference"
            ]
        },
        {
            "cell_type": "code",
            "execution_count": 106,
            "metadata": {},
            "outputs": [],
            "source": [
                "test_preprocess = transforms.Compose([\n",
                "    transforms.Resize((IMAGE_SIZE, IMAGE_SIZE)),\n",
                "    transforms.ToTensor(),\n",
                "    transforms.Normalize(IMAGENET_MEAN, IMAGENET_STD),\n",
                "])"
            ]
        },
        {
            "cell_type": "code",
            "execution_count": 107,
            "metadata": {},
            "outputs": [],
            "source": [
                "test_dataset = GTSRB(\n",
                "    data_path.as_posix(),\n",
                "    split=\"test\",\n",
                "    transform=test_preprocess,\n",
                "    download=True,\n",
                ")"
            ]
        },
        {
            "cell_type": "code",
            "execution_count": 108,
            "metadata": {},
            "outputs": [],
            "source": [
                "test_loader = DataLoader(\n",
                "    test_dataset,\n",
                "    batch_size=BATCH_SIZE,\n",
                "    pin_memory=True,\n",
                "    num_workers=get_num_workers(),\n",
                ")"
            ]
        },
        {
            "cell_type": "code",
            "execution_count": 109,
            "metadata": {},
            "outputs": [],
            "source": [
                "evaluator = ClassificationEvaluator(num_class, device)"
            ]
        },
        {
            "cell_type": "code",
            "execution_count": 110,
            "metadata": {},
            "outputs": [
                {
                    "name": "stderr",
                    "output_type": "stream",
                    "text": [
                        "100%|██████████| 198/198 [00:24<00:00,  8.10it/s]"
                    ]
                },
                {
                    "name": "stdout",
                    "output_type": "stream",
                    "text": [
                        "[[  2  12   0 ...   0   0   0]\n",
                        " [  0 694   3 ...   0   0   0]\n",
                        " [  0   5 728 ...   0   0   0]\n",
                        " ...\n",
                        " [ 24   0   0 ...   0   0   0]\n",
                        " [ 35   1   0 ...   0   0   0]\n",
                        " [ 49   3   0 ...   0   0   0]]\n"
                    ]
                },
                {
                    "name": "stderr",
                    "output_type": "stream",
                    "text": [
                        "\n"
                    ]
                }
            ],
            "source": [
                "confusion_matrix = evaluator.run(test_loader, model)"
            ]
        },
        {
            "cell_type": "code",
            "execution_count": 111,
            "metadata": {},
            "outputs": [
                {
                    "name": "stdout",
                    "output_type": "stream",
                    "text": [
                        "0         : 0.03333333333333333\n",
                        "1         : 0.9638888888888889\n",
                        "2         : 0.9706666666666667\n",
                        "3         : 0.8733333333333333\n",
                        "4         : 0.9166666666666666\n",
                        "5         : 0.9746031746031746\n",
                        "6         : 0.0\n",
                        "7         : 0.9444444444444444\n",
                        "8         : 0.8666666666666667\n",
                        "9         : 0.9916666666666667\n",
                        "10        : 0.9954545454545455\n",
                        "11        : 0.9142857142857143\n",
                        "12        : 0.9043478260869565\n",
                        "13        : 0.9972222222222222\n",
                        "14        : 0.8740740740740741\n",
                        "15        : 0.9142857142857143\n",
                        "16        : 0.0\n",
                        "17        : 0.7888888888888889\n",
                        "18        : 0.7871794871794872\n",
                        "19        : 0.0\n",
                        "20        : 1.0\n",
                        "21        : 0.6444444444444445\n",
                        "22        : 0.975\n",
                        "23        : 0.0\n",
                        "24        : 0.9444444444444444\n",
                        "25        : 0.95\n",
                        "26        : 0.9777777777777777\n",
                        "27        : 0.0\n",
                        "28        : 0.9866666666666667\n",
                        "29        : 1.0\n",
                        "30        : 0.58\n",
                        "31        : 0.9259259259259259\n",
                        "32        : 0.0\n",
                        "33        : 0.0\n",
                        "34        : 0.9666666666666667\n",
                        "35        : 0.9641025641025641\n",
                        "36        : 0.0\n",
                        "37        : 0.0\n",
                        "38        : 0.8521739130434782\n",
                        "39        : 0.1111111111111111\n",
                        "40        : 0.0\n",
                        "41        : 0.0\n",
                        "42        : 0.0\n"
                    ]
                }
            ],
            "source": [
                "per_class_acc = evaluator.get_per_class_accuracy(confusion_matrix)\n",
                "evaluator.show_per_class_accuracy(range(num_class), per_class_acc)"
            ]
        },
        {
            "cell_type": "code",
            "execution_count": 112,
            "metadata": {},
            "outputs": [
                {
                    "data": {
                        "text/plain": [
                            "0.6183563215797797"
                        ]
                    },
                    "execution_count": 112,
                    "metadata": {},
                    "output_type": "execute_result"
                }
            ],
            "source": [
                "per_class_acc.mean()"
            ]
        },
        {
            "cell_type": "code",
            "execution_count": 113,
            "metadata": {},
            "outputs": [
                {
                    "data": {
                        "image/png": "[encoded data removed]",
                        "text/plain": [
                            "<Figure size 800x600 with 2 Axes>"
                        ]
                    },
                    "metadata": {},
                    "output_type": "display_data"
                }
            ],
            "source": [
                "evaluator.plot_confusion_matrix(\n",
                "    confusion_matrix,\n",
                "    range(num_class),\n",
                "    \"Blues\",\n",
                "    annot=False,\n",
                "    figsize=(8, 6),\n",
                ")"
            ]
        },
        {
            "cell_type": "code",
            "execution_count": 114,
            "metadata": {},
            "outputs": [],
            "source": [
                "model_path = artifact_path / f'squeezenet.pth'"
            ]
        },
        {
            "cell_type": "code",
            "execution_count": 115,
            "metadata": {},
            "outputs": [],
            "source": [
                "torch.save(model.state_dict(), model_path)"
            ]
        },
        {
            "cell_type": "code",
            "execution_count": 116,
            "metadata": {},
            "outputs": [
                {
                    "data": {
                        "text/plain": [
                            "'2.86MB'"
                        ]
                    },
                    "execution_count": 116,
                    "metadata": {},
                    "output_type": "execute_result"
                }
            ],
            "source": [
                "get_file_size(model_path)"
            ]
        },
        {
            "cell_type": "code",
            "execution_count": 117,
            "metadata": {},
            "outputs": [
                {
                    "data": {
                        "text/plain": [
                            "<All keys matched successfully>"
                        ]
                    },
                    "execution_count": 117,
                    "metadata": {},
                    "output_type": "execute_result"
                }
            ],
            "source": [
                "model.load_state_dict(torch.load(model_path.as_posix()))"
            ]
        },
        {
            "cell_type": "code",
            "execution_count": null,
            "metadata": {},
            "outputs": [],
            "source": []
        }
    ],
    "metadata": {
        "kernelspec": {
            "display_name": ".venv",
            "language": "python",
            "name": "python3"
        },
        "language_info": {
            "codemirror_mode": {
                "name": "ipython",
                "version": 3
            },
            "file_extension": ".py",
            "mimetype": "text/x-python",
            "name": "python",
            "nbconvert_exporter": "python",
            "pygments_lexer": "ipython3",
            "version": "3.11.4"
        }
    },
    "nbformat": 4,
    "nbformat_minor": 2
}