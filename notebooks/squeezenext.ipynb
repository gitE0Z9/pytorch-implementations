{
    "cells": [
        {
            "cell_type": "code",
            "execution_count": 1,
            "metadata": {},
            "outputs": [],
            "source": [
                "from pathlib import Path\n",
                "\n",
                "import matplotlib.pyplot as plt\n",
                "import torch\n",
                "import torchinfo\n",
                "from torch.utils.data import DataLoader\n",
                "from torchlake.common.constants import IMAGENET_MEAN, IMAGENET_STD\n",
                "from torchlake.common.controller.trainer import ClassificationTrainer\n",
                "from torchlake.common.controller.evaluator import ClassificationEvaluator\n",
                "from torchlake.common.utils.platform import get_num_workers, get_file_size\n",
                "from torchlake.image_classification.models.squeezenext import SqueezeNeXt\n",
                "from torchvision import transforms\n",
                "from torchvision.datasets import GTSRB"
            ]
        },
        {
            "cell_type": "markdown",
            "metadata": {},
            "source": [
                "# Setting"
            ]
        },
        {
            "cell_type": "code",
            "execution_count": 2,
            "metadata": {},
            "outputs": [],
            "source": [
                "IMAGE_SIZE = 224\n",
                "BATCH_SIZE = 64"
            ]
        },
        {
            "cell_type": "code",
            "execution_count": 3,
            "metadata": {},
            "outputs": [],
            "source": [
                "artifact_path = Path(\"../../artifacts/squeezenext\")\n",
                "data_path = Path(\"../../data/gtsrb\")"
            ]
        },
        {
            "cell_type": "code",
            "execution_count": 4,
            "metadata": {},
            "outputs": [],
            "source": [
                "device = torch.device(\"cuda:0\")"
            ]
        },
        {
            "cell_type": "markdown",
            "metadata": {},
            "source": [
                "# data"
            ]
        },
        {
            "cell_type": "code",
            "execution_count": 5,
            "metadata": {},
            "outputs": [],
            "source": [
                "preprocess = transforms.Compose(\n",
                "    [\n",
                "        transforms.RandomHorizontalFlip(),\n",
                "        transforms.Resize((IMAGE_SIZE, IMAGE_SIZE)),\n",
                "        transforms.ToTensor(),\n",
                "        transforms.Normalize(IMAGENET_MEAN, IMAGENET_STD),\n",
                "    ]\n",
                ")"
            ]
        },
        {
            "cell_type": "code",
            "execution_count": 6,
            "metadata": {},
            "outputs": [],
            "source": [
                "train_dataset = GTSRB(\n",
                "    data_path.as_posix(),\n",
                "    split=\"train\",\n",
                "    transform=preprocess,\n",
                "    download=True,\n",
                ")"
            ]
        },
        {
            "cell_type": "code",
            "execution_count": 7,
            "metadata": {},
            "outputs": [],
            "source": [
                "train_loader = DataLoader(\n",
                "    train_dataset,\n",
                "    batch_size=BATCH_SIZE,\n",
                "    shuffle=True,\n",
                "    drop_last=True,\n",
                "    pin_memory=True,\n",
                "    num_workers=get_num_workers(),\n",
                ")"
            ]
        },
        {
            "cell_type": "code",
            "execution_count": 8,
            "metadata": {},
            "outputs": [],
            "source": [
                "num_class = 43"
            ]
        },
        {
            "cell_type": "code",
            "execution_count": 9,
            "metadata": {},
            "outputs": [
                {
                    "data": {
                        "text/plain": [
                            "26640"
                        ]
                    },
                    "execution_count": 9,
                    "metadata": {},
                    "output_type": "execute_result"
                }
            ],
            "source": [
                "len(train_dataset)"
            ]
        },
        {
            "cell_type": "code",
            "execution_count": 10,
            "metadata": {},
            "outputs": [
                {
                    "name": "stdout",
                    "output_type": "stream",
                    "text": [
                        "38\n"
                    ]
                },
                {
                    "data": {
                        "text/plain": [
                            "<matplotlib.image.AxesImage at 0x1955ec6b6d0>"
                        ]
                    },
                    "execution_count": 10,
                    "metadata": {},
                    "output_type": "execute_result"
                },
                {
                    "data": {
                        "image/png": "[encoded data removed]",
                        "text/plain": [
                            "<Figure size 640x480 with 1 Axes>"
                        ]
                    },
                    "metadata": {},
                    "output_type": "display_data"
                }
            ],
            "source": [
                "import random\n",
                "from torchlake.common.utils.convert import img_tensor_to_np\n",
                "\n",
                "demo_img, demo_label = random.choice(train_dataset)\n",
                "print(demo_label)\n",
                "plt.imshow((img_tensor_to_np(demo_img) * IMAGENET_STD + IMAGENET_MEAN).clip(0, 1))"
            ]
        },
        {
            "cell_type": "markdown",
            "metadata": {},
            "source": [
                "# model"
            ]
        },
        {
            "cell_type": "code",
            "execution_count": 11,
            "metadata": {},
            "outputs": [],
            "source": [
                "model = SqueezeNeXt(output_size=num_class, width_multiplier=1.0, version=4).to(device)"
            ]
        },
        {
            "cell_type": "code",
            "execution_count": 12,
            "metadata": {},
            "outputs": [
                {
                    "data": {
                        "text/plain": [
                            "================================================================================\n",
                            "Layer (type:depth-idx)                                  Param #\n",
                            "================================================================================\n",
                            "SqueezeNeXt                                             --\n",
                            "├─Sequential: 1-1                                       --\n",
                            "│    └─Conv2dNormActivation: 2-1                        --\n",
                            "│    │    └─Conv2d: 3-1                                 4,864\n",
                            "│    │    └─ReLU: 3-2                                   --\n",
                            "│    └─MaxPool2d: 2-2                                   --\n",
                            "│    └─ResBlock: 2-3                                    --\n",
                            "│    │    └─ReLU: 3-3                                   --\n",
                            "│    │    └─BottleNeck: 3-4                             2,992\n",
                            "│    │    └─Conv2dNormActivation: 3-5                   2,112\n",
                            "│    └─ResBlock: 2-4                                    --\n",
                            "│    │    └─ReLU: 3-6                                   --\n",
                            "│    │    └─BottleNeck: 3-7                             2,480\n",
                            "│    │    └─Identity: 3-8                               --\n",
                            "│    └─ResBlock: 2-5                                    --\n",
                            "│    │    └─ReLU: 3-9                                   --\n",
                            "│    │    └─BottleNeck: 3-10                            8,544\n",
                            "│    │    └─Conv2dNormActivation: 3-11                  2,176\n",
                            "│    └─ResBlock: 2-6                                    --\n",
                            "│    │    └─ReLU: 3-12                                  --\n",
                            "│    │    └─BottleNeck: 3-13                            9,568\n",
                            "│    │    └─Identity: 3-14                              --\n",
                            "│    └─ResBlock: 2-7                                    --\n",
                            "│    │    └─ReLU: 3-15                                  --\n",
                            "│    │    └─BottleNeck: 3-16                            9,568\n",
                            "│    │    └─Identity: 3-17                              --\n",
                            "│    └─ResBlock: 2-8                                    --\n",
                            "│    │    └─ReLU: 3-18                                  --\n",
                            "│    │    └─BottleNeck: 3-19                            9,568\n",
                            "│    │    └─Identity: 3-20                              --\n",
                            "│    └─ResBlock: 2-9                                    --\n",
                            "│    │    └─ReLU: 3-21                                  --\n",
                            "│    │    └─BottleNeck: 3-22                            9,568\n",
                            "│    │    └─Identity: 3-23                              --\n",
                            "│    └─ResBlock: 2-10                                   --\n",
                            "│    │    └─ReLU: 3-24                                  --\n",
                            "│    │    └─BottleNeck: 3-25                            9,568\n",
                            "│    │    └─Identity: 3-26                              --\n",
                            "│    └─ResBlock: 2-11                                   --\n",
                            "│    │    └─ReLU: 3-27                                  --\n",
                            "│    │    └─BottleNeck: 3-28                            9,568\n",
                            "│    │    └─Identity: 3-29                              --\n",
                            "│    └─ResBlock: 2-12                                   --\n",
                            "│    │    └─ReLU: 3-30                                  --\n",
                            "│    │    └─BottleNeck: 3-31                            9,568\n",
                            "│    │    └─Identity: 3-32                              --\n",
                            "│    └─ResBlock: 2-13                                   --\n",
                            "│    │    └─ReLU: 3-33                                  --\n",
                            "│    │    └─BottleNeck: 3-34                            9,568\n",
                            "│    │    └─Identity: 3-35                              --\n",
                            "│    └─ResBlock: 2-14                                   --\n",
                            "│    │    └─ReLU: 3-36                                  --\n",
                            "│    │    └─BottleNeck: 3-37                            9,568\n",
                            "│    │    └─Identity: 3-38                              --\n",
                            "│    └─ResBlock: 2-15                                   --\n",
                            "│    │    └─ReLU: 3-39                                  --\n",
                            "│    │    └─BottleNeck: 3-40                            33,472\n",
                            "│    │    └─Conv2dNormActivation: 3-41                  8,448\n",
                            "│    └─ResBlock: 2-16                                   --\n",
                            "│    │    └─ReLU: 3-42                                  --\n",
                            "│    │    └─BottleNeck: 3-43                            37,568\n",
                            "│    │    └─Identity: 3-44                              --\n",
                            "│    └─ResBlock: 2-17                                   --\n",
                            "│    │    └─ReLU: 3-45                                  --\n",
                            "│    │    └─BottleNeck: 3-46                            37,568\n",
                            "│    │    └─Identity: 3-47                              --\n",
                            "│    └─ResBlock: 2-18                                   --\n",
                            "│    │    └─ReLU: 3-48                                  --\n",
                            "│    │    └─BottleNeck: 3-49                            37,568\n",
                            "│    │    └─Identity: 3-50                              --\n",
                            "│    └─ResBlock: 2-19                                   --\n",
                            "│    │    └─ReLU: 3-51                                  --\n",
                            "│    │    └─BottleNeck: 3-52                            37,568\n",
                            "│    │    └─Identity: 3-53                              --\n",
                            "│    └─ResBlock: 2-20                                   --\n",
                            "│    │    └─ReLU: 3-54                                  --\n",
                            "│    │    └─BottleNeck: 3-55                            37,568\n",
                            "│    │    └─Identity: 3-56                              --\n",
                            "│    └─ResBlock: 2-21                                   --\n",
                            "│    │    └─ReLU: 3-57                                  --\n",
                            "│    │    └─BottleNeck: 3-58                            37,568\n",
                            "│    │    └─Identity: 3-59                              --\n",
                            "│    └─ResBlock: 2-22                                   --\n",
                            "│    │    └─ReLU: 3-60                                  --\n",
                            "│    │    └─BottleNeck: 3-61                            37,568\n",
                            "│    │    └─Identity: 3-62                              --\n",
                            "│    └─ResBlock: 2-23                                   --\n",
                            "│    │    └─ReLU: 3-63                                  --\n",
                            "│    │    └─BottleNeck: 3-64                            132,480\n",
                            "│    │    └─Conv2dNormActivation: 3-65                  33,280\n",
                            "│    └─Conv2dNormActivation: 2-24                       --\n",
                            "│    │    └─Conv2d: 3-66                                32,896\n",
                            "│    │    └─ReLU: 3-67                                  --\n",
                            "├─FlattenFeature: 1-2                                   --\n",
                            "│    └─Sequential: 2-25                                 --\n",
                            "│    │    └─AdaptiveAvgPool2d: 3-68                     --\n",
                            "│    │    └─Flatten: 3-69                               --\n",
                            "├─Linear: 1-3                                           5,547\n",
                            "================================================================================\n",
                            "Total params: 618,379\n",
                            "Trainable params: 618,379\n",
                            "Non-trainable params: 0\n",
                            "================================================================================"
                        ]
                    },
                    "execution_count": 12,
                    "metadata": {},
                    "output_type": "execute_result"
                }
            ],
            "source": [
                "torchinfo.summary(model)"
            ]
        },
        {
            "cell_type": "markdown",
            "metadata": {},
            "source": [
                "# training"
            ]
        },
        {
            "cell_type": "code",
            "execution_count": 13,
            "metadata": {},
            "outputs": [],
            "source": [
                "epochs = 30\n",
                "acc_iters = 256 // BATCH_SIZE"
            ]
        },
        {
            "cell_type": "code",
            "execution_count": 14,
            "metadata": {},
            "outputs": [],
            "source": [
                "trainer = ClassificationTrainer(epochs, device, acc_iters)"
            ]
        },
        {
            "cell_type": "code",
            "execution_count": 15,
            "metadata": {},
            "outputs": [],
            "source": [
                "criterion = trainer.get_criterion(num_class)\n",
                "optim = torch.optim.Adam(model.parameters())"
            ]
        },
        {
            "cell_type": "code",
            "execution_count": 16,
            "metadata": {},
            "outputs": [
                {
                    "name": "stderr",
                    "output_type": "stream",
                    "text": [
                        "  0%|          | 0/416 [00:00<?, ?it/s]"
                    ]
                },
                {
                    "name": "stderr",
                    "output_type": "stream",
                    "text": [
                        "100%|██████████| 416/416 [01:23<00:00,  4.99it/s]\n"
                    ]
                },
                {
                    "name": "stdout",
                    "output_type": "stream",
                    "text": [
                        "epoch 1 : 0.013057440530526666\n"
                    ]
                },
                {
                    "name": "stderr",
                    "output_type": "stream",
                    "text": [
                        "100%|██████████| 416/416 [01:12<00:00,  5.76it/s]\n"
                    ]
                },
                {
                    "name": "stdout",
                    "output_type": "stream",
                    "text": [
                        "epoch 2 : 0.011812272777136128\n"
                    ]
                },
                {
                    "name": "stderr",
                    "output_type": "stream",
                    "text": [
                        "100%|██████████| 416/416 [01:09<00:00,  5.95it/s]\n"
                    ]
                },
                {
                    "name": "stdout",
                    "output_type": "stream",
                    "text": [
                        "epoch 3 : 0.009644898337473232\n"
                    ]
                },
                {
                    "name": "stderr",
                    "output_type": "stream",
                    "text": [
                        "100%|██████████| 416/416 [01:09<00:00,  5.96it/s]\n"
                    ]
                },
                {
                    "name": "stdout",
                    "output_type": "stream",
                    "text": [
                        "epoch 4 : 0.00651509102093629\n"
                    ]
                },
                {
                    "name": "stderr",
                    "output_type": "stream",
                    "text": [
                        "100%|██████████| 416/416 [01:12<00:00,  5.76it/s]\n"
                    ]
                },
                {
                    "name": "stdout",
                    "output_type": "stream",
                    "text": [
                        "epoch 5 : 0.004412878572251289\n"
                    ]
                },
                {
                    "name": "stderr",
                    "output_type": "stream",
                    "text": [
                        "100%|██████████| 416/416 [01:10<00:00,  5.88it/s]\n"
                    ]
                },
                {
                    "name": "stdout",
                    "output_type": "stream",
                    "text": [
                        "epoch 6 : 0.0030341275420281678\n"
                    ]
                },
                {
                    "name": "stderr",
                    "output_type": "stream",
                    "text": [
                        "100%|██████████| 416/416 [01:12<00:00,  5.73it/s]\n"
                    ]
                },
                {
                    "name": "stdout",
                    "output_type": "stream",
                    "text": [
                        "epoch 7 : 0.002202930809009838\n"
                    ]
                },
                {
                    "name": "stderr",
                    "output_type": "stream",
                    "text": [
                        "100%|██████████| 416/416 [01:12<00:00,  5.73it/s]\n"
                    ]
                },
                {
                    "name": "stdout",
                    "output_type": "stream",
                    "text": [
                        "epoch 8 : 0.0015642507420964718\n"
                    ]
                },
                {
                    "name": "stderr",
                    "output_type": "stream",
                    "text": [
                        "100%|██████████| 416/416 [01:12<00:00,  5.77it/s]\n"
                    ]
                },
                {
                    "name": "stdout",
                    "output_type": "stream",
                    "text": [
                        "epoch 9 : 0.001190454259253434\n"
                    ]
                },
                {
                    "name": "stderr",
                    "output_type": "stream",
                    "text": [
                        "100%|██████████| 416/416 [01:14<00:00,  5.56it/s]\n"
                    ]
                },
                {
                    "name": "stdout",
                    "output_type": "stream",
                    "text": [
                        "epoch 10 : 0.0009168183826729476\n"
                    ]
                },
                {
                    "name": "stderr",
                    "output_type": "stream",
                    "text": [
                        "100%|██████████| 416/416 [01:11<00:00,  5.82it/s]\n"
                    ]
                },
                {
                    "name": "stdout",
                    "output_type": "stream",
                    "text": [
                        "epoch 11 : 0.0007774157818403182\n"
                    ]
                },
                {
                    "name": "stderr",
                    "output_type": "stream",
                    "text": [
                        "100%|██████████| 416/416 [01:11<00:00,  5.79it/s]\n"
                    ]
                },
                {
                    "name": "stdout",
                    "output_type": "stream",
                    "text": [
                        "epoch 12 : 0.0006279586626498293\n"
                    ]
                },
                {
                    "name": "stderr",
                    "output_type": "stream",
                    "text": [
                        "100%|██████████| 416/416 [01:10<00:00,  5.90it/s]\n"
                    ]
                },
                {
                    "name": "stdout",
                    "output_type": "stream",
                    "text": [
                        "epoch 13 : 0.0005362410533437539\n"
                    ]
                },
                {
                    "name": "stderr",
                    "output_type": "stream",
                    "text": [
                        "100%|██████████| 416/416 [01:11<00:00,  5.80it/s]\n"
                    ]
                },
                {
                    "name": "stdout",
                    "output_type": "stream",
                    "text": [
                        "epoch 14 : 0.0004852648231078022\n"
                    ]
                },
                {
                    "name": "stderr",
                    "output_type": "stream",
                    "text": [
                        "100%|██████████| 416/416 [01:11<00:00,  5.80it/s]\n"
                    ]
                },
                {
                    "name": "stdout",
                    "output_type": "stream",
                    "text": [
                        "epoch 15 : 0.00040527500435088697\n"
                    ]
                },
                {
                    "name": "stderr",
                    "output_type": "stream",
                    "text": [
                        "100%|██████████| 416/416 [01:13<00:00,  5.67it/s]\n"
                    ]
                },
                {
                    "name": "stdout",
                    "output_type": "stream",
                    "text": [
                        "epoch 16 : 0.00038745942617004824\n"
                    ]
                },
                {
                    "name": "stderr",
                    "output_type": "stream",
                    "text": [
                        "100%|██████████| 416/416 [01:11<00:00,  5.79it/s]\n"
                    ]
                },
                {
                    "name": "stdout",
                    "output_type": "stream",
                    "text": [
                        "epoch 17 : 0.0003447008787921172\n"
                    ]
                },
                {
                    "name": "stderr",
                    "output_type": "stream",
                    "text": [
                        "100%|██████████| 416/416 [01:16<00:00,  5.42it/s]\n"
                    ]
                },
                {
                    "name": "stdout",
                    "output_type": "stream",
                    "text": [
                        "epoch 18 : 0.00032725749818714926\n"
                    ]
                },
                {
                    "name": "stderr",
                    "output_type": "stream",
                    "text": [
                        "100%|██████████| 416/416 [01:14<00:00,  5.59it/s]\n"
                    ]
                },
                {
                    "name": "stdout",
                    "output_type": "stream",
                    "text": [
                        "epoch 19 : 0.00025310054464765784\n"
                    ]
                },
                {
                    "name": "stderr",
                    "output_type": "stream",
                    "text": [
                        "100%|██████████| 416/416 [01:23<00:00,  4.97it/s]\n"
                    ]
                },
                {
                    "name": "stdout",
                    "output_type": "stream",
                    "text": [
                        "epoch 20 : 0.00029804757611355645\n"
                    ]
                },
                {
                    "name": "stderr",
                    "output_type": "stream",
                    "text": [
                        "100%|██████████| 416/416 [01:14<00:00,  5.61it/s]\n"
                    ]
                },
                {
                    "name": "stdout",
                    "output_type": "stream",
                    "text": [
                        "epoch 21 : 0.0002644395736935551\n"
                    ]
                },
                {
                    "name": "stderr",
                    "output_type": "stream",
                    "text": [
                        "100%|██████████| 416/416 [01:15<00:00,  5.50it/s]\n"
                    ]
                },
                {
                    "name": "stdout",
                    "output_type": "stream",
                    "text": [
                        "epoch 22 : 0.0002201932343705966\n"
                    ]
                },
                {
                    "name": "stderr",
                    "output_type": "stream",
                    "text": [
                        "100%|██████████| 416/416 [01:11<00:00,  5.78it/s]\n"
                    ]
                },
                {
                    "name": "stdout",
                    "output_type": "stream",
                    "text": [
                        "epoch 23 : 0.0002441722433777963\n"
                    ]
                },
                {
                    "name": "stderr",
                    "output_type": "stream",
                    "text": [
                        "100%|██████████| 416/416 [01:21<00:00,  5.10it/s]\n"
                    ]
                },
                {
                    "name": "stdout",
                    "output_type": "stream",
                    "text": [
                        "epoch 24 : 0.00021885365186755315\n"
                    ]
                },
                {
                    "name": "stderr",
                    "output_type": "stream",
                    "text": [
                        "100%|██████████| 416/416 [01:24<00:00,  4.94it/s]\n"
                    ]
                },
                {
                    "name": "stdout",
                    "output_type": "stream",
                    "text": [
                        "epoch 25 : 0.00021576684871040295\n"
                    ]
                },
                {
                    "name": "stderr",
                    "output_type": "stream",
                    "text": [
                        "100%|██████████| 416/416 [01:13<00:00,  5.66it/s]\n"
                    ]
                },
                {
                    "name": "stdout",
                    "output_type": "stream",
                    "text": [
                        "epoch 26 : 0.00019287712434080416\n"
                    ]
                },
                {
                    "name": "stderr",
                    "output_type": "stream",
                    "text": [
                        "100%|██████████| 416/416 [01:11<00:00,  5.80it/s]\n"
                    ]
                },
                {
                    "name": "stdout",
                    "output_type": "stream",
                    "text": [
                        "epoch 27 : 0.00017416448775538112\n"
                    ]
                },
                {
                    "name": "stderr",
                    "output_type": "stream",
                    "text": [
                        "100%|██████████| 416/416 [01:11<00:00,  5.85it/s]\n"
                    ]
                },
                {
                    "name": "stdout",
                    "output_type": "stream",
                    "text": [
                        "epoch 28 : 0.00017770421296439473\n"
                    ]
                },
                {
                    "name": "stderr",
                    "output_type": "stream",
                    "text": [
                        "100%|██████████| 416/416 [01:14<00:00,  5.61it/s]\n"
                    ]
                },
                {
                    "name": "stdout",
                    "output_type": "stream",
                    "text": [
                        "epoch 29 : 0.00015982730050723148\n"
                    ]
                },
                {
                    "name": "stderr",
                    "output_type": "stream",
                    "text": [
                        "100%|██████████| 416/416 [01:12<00:00,  5.75it/s]"
                    ]
                },
                {
                    "name": "stdout",
                    "output_type": "stream",
                    "text": [
                        "epoch 30 : 0.00020529915397232273\n"
                    ]
                },
                {
                    "name": "stderr",
                    "output_type": "stream",
                    "text": [
                        "\n"
                    ]
                }
            ],
            "source": [
                "training_loss = trainer.run(train_loader, model, optim, criterion)"
            ]
        },
        {
            "cell_type": "code",
            "execution_count": 17,
            "metadata": {},
            "outputs": [
                {
                    "data": {
                        "text/plain": [
                            "[<matplotlib.lines.Line2D at 0x1955ec91e90>]"
                        ]
                    },
                    "execution_count": 17,
                    "metadata": {},
                    "output_type": "execute_result"
                },
                {
                    "data": {
                        "image/png": "[encoded data removed]",
                        "text/plain": [
                            "<Figure size 640x480 with 1 Axes>"
                        ]
                    },
                    "metadata": {},
                    "output_type": "display_data"
                }
            ],
            "source": [
                "plt.plot(training_loss)"
            ]
        },
        {
            "cell_type": "markdown",
            "metadata": {},
            "source": [
                "# inference"
            ]
        },
        {
            "cell_type": "code",
            "execution_count": 18,
            "metadata": {},
            "outputs": [],
            "source": [
                "test_preprocess = transforms.Compose([\n",
                "    transforms.Resize((IMAGE_SIZE, IMAGE_SIZE)),\n",
                "    transforms.ToTensor(),\n",
                "    transforms.Normalize(IMAGENET_MEAN, IMAGENET_STD),\n",
                "])"
            ]
        },
        {
            "cell_type": "code",
            "execution_count": 19,
            "metadata": {},
            "outputs": [],
            "source": [
                "test_dataset = GTSRB(\n",
                "    data_path.as_posix(),\n",
                "    split=\"test\",\n",
                "    transform=test_preprocess,\n",
                "    download=True,\n",
                ")"
            ]
        },
        {
            "cell_type": "code",
            "execution_count": 20,
            "metadata": {},
            "outputs": [],
            "source": [
                "test_loader = DataLoader(\n",
                "    test_dataset,\n",
                "    batch_size=BATCH_SIZE,\n",
                "    pin_memory=True,\n",
                "    num_workers=get_num_workers(),\n",
                ")"
            ]
        },
        {
            "cell_type": "code",
            "execution_count": 21,
            "metadata": {},
            "outputs": [],
            "source": [
                "evaluator = ClassificationEvaluator(num_class, device)"
            ]
        },
        {
            "cell_type": "code",
            "execution_count": 22,
            "metadata": {},
            "outputs": [
                {
                    "name": "stderr",
                    "output_type": "stream",
                    "text": [
                        "100%|██████████| 198/198 [02:14<00:00,  1.47it/s]"
                    ]
                },
                {
                    "name": "stdout",
                    "output_type": "stream",
                    "text": [
                        "[[ 19  33   3 ...   0   0   0]\n",
                        " [ 24 614  56 ...   1   0   0]\n",
                        " [  0  34 649 ...   0   0   0]\n",
                        " ...\n",
                        " [  0   0   0 ...  73   0   0]\n",
                        " [  0   0   0 ...   0  31  13]\n",
                        " [  0   2   0 ...   0   5  69]]\n"
                    ]
                },
                {
                    "name": "stderr",
                    "output_type": "stream",
                    "text": [
                        "\n"
                    ]
                }
            ],
            "source": [
                "confusion_matrix = evaluator.run(test_loader, model)"
            ]
        },
        {
            "cell_type": "code",
            "execution_count": 23,
            "metadata": {},
            "outputs": [
                {
                    "name": "stdout",
                    "output_type": "stream",
                    "text": [
                        "0         : 0.31666666666666665\n",
                        "1         : 0.8527777777777777\n",
                        "2         : 0.8653333333333333\n",
                        "3         : 0.7022222222222222\n",
                        "4         : 0.8303030303030303\n",
                        "5         : 0.7158730158730159\n",
                        "6         : 0.7533333333333333\n",
                        "7         : 0.7333333333333333\n",
                        "8         : 0.8377777777777777\n",
                        "9         : 0.9291666666666667\n",
                        "10        : 0.9757575757575757\n",
                        "11        : 0.8547619047619047\n",
                        "12        : 0.8594202898550725\n",
                        "13        : 0.9888888888888889\n",
                        "14        : 0.8814814814814815\n",
                        "15        : 0.6428571428571429\n",
                        "16        : 0.8666666666666667\n",
                        "17        : 0.8388888888888889\n",
                        "18        : 0.6410256410256411\n",
                        "19        : 0.75\n",
                        "20        : 0.2111111111111111\n",
                        "21        : 0.3888888888888889\n",
                        "22        : 0.9083333333333333\n",
                        "23        : 0.5066666666666667\n",
                        "24        : 0.4111111111111111\n",
                        "25        : 0.8979166666666667\n",
                        "26        : 0.8666666666666667\n",
                        "27        : 0.4166666666666667\n",
                        "28        : 0.6\n",
                        "29        : 0.7444444444444445\n",
                        "30        : 0.21333333333333335\n",
                        "31        : 0.7703703703703704\n",
                        "32        : 0.6\n",
                        "33        : 0.5285714285714286\n",
                        "34        : 0.9666666666666667\n",
                        "35        : 0.8641025641025641\n",
                        "36        : 0.7583333333333333\n",
                        "37        : 0.5333333333333333\n",
                        "38        : 0.9130434782608695\n",
                        "39        : 0.26666666666666666\n",
                        "40        : 0.8111111111111111\n",
                        "41        : 0.5166666666666667\n",
                        "42        : 0.7666666666666667\n"
                    ]
                }
            ],
            "source": [
                "per_class_acc = evaluator.get_per_class_accuracy(confusion_matrix)\n",
                "evaluator.show_per_class_accuracy(range(num_class), per_class_acc)"
            ]
        },
        {
            "cell_type": "code",
            "execution_count": 24,
            "metadata": {},
            "outputs": [
                {
                    "data": {
                        "text/plain": [
                            "0.704586204932767"
                        ]
                    },
                    "execution_count": 24,
                    "metadata": {},
                    "output_type": "execute_result"
                }
            ],
            "source": [
                "per_class_acc.mean()"
            ]
        },
        {
            "cell_type": "code",
            "execution_count": 25,
            "metadata": {},
            "outputs": [
                {
                    "data": {
                        "image/png": "[encoded data removed]",
                        "text/plain": [
                            "<Figure size 800x600 with 2 Axes>"
                        ]
                    },
                    "metadata": {},
                    "output_type": "display_data"
                }
            ],
            "source": [
                "evaluator.plot_confusion_matrix(\n",
                "    confusion_matrix,\n",
                "    range(num_class),\n",
                "    \"Blues\",\n",
                "    annot=False,\n",
                "    figsize=(8, 6),\n",
                ")"
            ]
        },
        {
            "cell_type": "code",
            "execution_count": 26,
            "metadata": {},
            "outputs": [],
            "source": [
                "model_path = artifact_path / f'squeezenext-{model.width_multiplier}-{model.num_layer}v{model.version}.pth'"
            ]
        },
        {
            "cell_type": "code",
            "execution_count": 27,
            "metadata": {},
            "outputs": [],
            "source": [
                "torch.save(model.state_dict(), model_path)"
            ]
        },
        {
            "cell_type": "code",
            "execution_count": 28,
            "metadata": {},
            "outputs": [
                {
                    "data": {
                        "text/plain": [
                            "'2.64MB'"
                        ]
                    },
                    "execution_count": 28,
                    "metadata": {},
                    "output_type": "execute_result"
                }
            ],
            "source": [
                "get_file_size(model_path)"
            ]
        },
        {
            "cell_type": "code",
            "execution_count": 29,
            "metadata": {},
            "outputs": [
                {
                    "data": {
                        "text/plain": [
                            "<All keys matched successfully>"
                        ]
                    },
                    "execution_count": 29,
                    "metadata": {},
                    "output_type": "execute_result"
                }
            ],
            "source": [
                "model.load_state_dict(torch.load(model_path.as_posix()))"
            ]
        },
        {
            "cell_type": "code",
            "execution_count": null,
            "metadata": {},
            "outputs": [],
            "source": []
        }
    ],
    "metadata": {
        "kernelspec": {
            "display_name": ".venv",
            "language": "python",
            "name": "python3"
        },
        "language_info": {
            "codemirror_mode": {
                "name": "ipython",
                "version": 3
            },
            "file_extension": ".py",
            "mimetype": "text/x-python",
            "name": "python",
            "nbconvert_exporter": "python",
            "pygments_lexer": "ipython3",
            "version": "3.11.4"
        }
    },
    "nbformat": 4,
    "nbformat_minor": 2
}