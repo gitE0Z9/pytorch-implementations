{
    "cells": [
        {
            "cell_type": "code",
            "execution_count": 291,
            "metadata": {},
            "outputs": [],
            "source": [
                "from pathlib import Path\n",
                "\n",
                "import matplotlib.pyplot as plt\n",
                "import numpy as np\n",
                "import pandas as pd\n",
                "import torch\n",
                "import torchinfo\n",
                "import torchtext.transforms as T\n",
                "from sklearn.preprocessing import LabelEncoder\n",
                "from torch.utils.data import DataLoader\n",
                "from torchlake.common.controller.evaluator import ClassificationEvaluator\n",
                "from torchlake.common.controller.trainer import ClassificationTrainer\n",
                "from torchlake.common.schemas import NlpContext\n",
                "from torchlake.common.utils.text import build_vocab\n",
                "from torchlake.text_classification.models.dcnn import DCNN\n",
                "from torchlake.common.utils.platform import get_file_size\n",
                "from torchtext.data.utils import get_tokenizer"
            ]
        },
        {
            "cell_type": "markdown",
            "metadata": {},
            "source": [
                "# setting\n"
            ]
        },
        {
            "cell_type": "code",
            "execution_count": 292,
            "metadata": {},
            "outputs": [],
            "source": [
                "data_path = Path(\"../../data/covid-tweet\")\n",
                "artifacts_path = Path(\"../../artifacts/dcnn\")"
            ]
        },
        {
            "cell_type": "code",
            "execution_count": 293,
            "metadata": {},
            "outputs": [],
            "source": [
                "batch_size = 128\n",
                "CONTEXT = NlpContext()"
            ]
        },
        {
            "cell_type": "markdown",
            "metadata": {},
            "source": [
                "# data"
            ]
        },
        {
            "cell_type": "code",
            "execution_count": 294,
            "metadata": {},
            "outputs": [],
            "source": [
                "train_data = pd.read_csv(\n",
                "    data_path.joinpath(\"Corona_NLP_train.csv\").as_posix(),\n",
                "    encoding='latin-1',\n",
                "    usecols=['OriginalTweet', 'Sentiment'],\n",
                ")"
            ]
        },
        {
            "cell_type": "code",
            "execution_count": 295,
            "metadata": {},
            "outputs": [
                {
                    "data": {
                        "text/html": [
                            "<div>\n",
                            "<style scoped>\n",
                            "    .dataframe tbody tr th:only-of-type {\n",
                            "        vertical-align: middle;\n",
                            "    }\n",
                            "\n",
                            "    .dataframe tbody tr th {\n",
                            "        vertical-align: top;\n",
                            "    }\n",
                            "\n",
                            "    .dataframe thead th {\n",
                            "        text-align: right;\n",
                            "    }\n",
                            "</style>\n",
                            "<table border=\"1\" class=\"dataframe\">\n",
                            "  <thead>\n",
                            "    <tr style=\"text-align: right;\">\n",
                            "      <th></th>\n",
                            "      <th>OriginalTweet</th>\n",
                            "      <th>Sentiment</th>\n",
                            "    </tr>\n",
                            "  </thead>\n",
                            "  <tbody>\n",
                            "    <tr>\n",
                            "      <th>0</th>\n",
                            "      <td>@MeNyrbie @Phil_Gahan @Chrisitv https://t.co/i...</td>\n",
                            "      <td>Neutral</td>\n",
                            "    </tr>\n",
                            "    <tr>\n",
                            "      <th>7</th>\n",
                            "      <td>Was at the supermarket today. Didn't buy toile...</td>\n",
                            "      <td>Neutral</td>\n",
                            "    </tr>\n",
                            "    <tr>\n",
                            "      <th>10</th>\n",
                            "      <td>All month there hasn't been crowding in the su...</td>\n",
                            "      <td>Neutral</td>\n",
                            "    </tr>\n",
                            "    <tr>\n",
                            "      <th>16</th>\n",
                            "      <td>????? ????? ????? ????? ??\\r\\r\\n?????? ????? ?...</td>\n",
                            "      <td>Neutral</td>\n",
                            "    </tr>\n",
                            "    <tr>\n",
                            "      <th>17</th>\n",
                            "      <td>@eyeonthearctic 16MAR20 Russia consumer survei...</td>\n",
                            "      <td>Neutral</td>\n",
                            "    </tr>\n",
                            "    <tr>\n",
                            "      <th>...</th>\n",
                            "      <td>...</td>\n",
                            "      <td>...</td>\n",
                            "    </tr>\n",
                            "    <tr>\n",
                            "      <th>41141</th>\n",
                            "      <td>#Coronavirus ?? ????? ??? ????? ?? ??? ???????...</td>\n",
                            "      <td>Neutral</td>\n",
                            "    </tr>\n",
                            "    <tr>\n",
                            "      <th>41143</th>\n",
                            "      <td>https://t.co/8s4vKvcO1r #5gtowers?? #EcuadorUn...</td>\n",
                            "      <td>Neutral</td>\n",
                            "    </tr>\n",
                            "    <tr>\n",
                            "      <th>41144</th>\n",
                            "      <td>@_Sunrise_SV @Gamzap @NPR What does not having...</td>\n",
                            "      <td>Neutral</td>\n",
                            "    </tr>\n",
                            "    <tr>\n",
                            "      <th>41152</th>\n",
                            "      <td>Airline pilots offering to stock supermarket s...</td>\n",
                            "      <td>Neutral</td>\n",
                            "    </tr>\n",
                            "    <tr>\n",
                            "      <th>41155</th>\n",
                            "      <td>Is it wrong that the smell of hand sanitizer i...</td>\n",
                            "      <td>Neutral</td>\n",
                            "    </tr>\n",
                            "  </tbody>\n",
                            "</table>\n",
                            "<p>7713 rows × 2 columns</p>\n",
                            "</div>"
                        ],
                        "text/plain": [
                            "                                           OriginalTweet Sentiment\n",
                            "0      @MeNyrbie @Phil_Gahan @Chrisitv https://t.co/i...   Neutral\n",
                            "7      Was at the supermarket today. Didn't buy toile...   Neutral\n",
                            "10     All month there hasn't been crowding in the su...   Neutral\n",
                            "16     ????? ????? ????? ????? ??\\r\\r\\n?????? ????? ?...   Neutral\n",
                            "17     @eyeonthearctic 16MAR20 Russia consumer survei...   Neutral\n",
                            "...                                                  ...       ...\n",
                            "41141  #Coronavirus ?? ????? ??? ????? ?? ??? ???????...   Neutral\n",
                            "41143  https://t.co/8s4vKvcO1r #5gtowers?? #EcuadorUn...   Neutral\n",
                            "41144  @_Sunrise_SV @Gamzap @NPR What does not having...   Neutral\n",
                            "41152  Airline pilots offering to stock supermarket s...   Neutral\n",
                            "41155  Is it wrong that the smell of hand sanitizer i...   Neutral\n",
                            "\n",
                            "[7713 rows x 2 columns]"
                        ]
                    },
                    "execution_count": 295,
                    "metadata": {},
                    "output_type": "execute_result"
                }
            ],
            "source": [
                "train_data.query(\"Sentiment == 'Neutral'\")"
            ]
        },
        {
            "cell_type": "code",
            "execution_count": 296,
            "metadata": {},
            "outputs": [],
            "source": [
                "test_data = pd.read_csv(\n",
                "    data_path.joinpath(\"Corona_NLP_test.csv\").as_posix(),\n",
                "    encoding='latin-1',\n",
                "    usecols=['OriginalTweet', 'Sentiment'],\n",
                ")"
            ]
        },
        {
            "cell_type": "code",
            "execution_count": 297,
            "metadata": {},
            "outputs": [
                {
                    "data": {
                        "text/plain": [
                            "Sentiment\n",
                            "Positive              11422\n",
                            "Negative               9917\n",
                            "Neutral                7713\n",
                            "Extremely Positive     6624\n",
                            "Extremely Negative     5481\n",
                            "Name: count, dtype: int64"
                        ]
                    },
                    "execution_count": 297,
                    "metadata": {},
                    "output_type": "execute_result"
                }
            ],
            "source": [
                "train_data['Sentiment'].value_counts()"
            ]
        },
        {
            "cell_type": "code",
            "execution_count": 298,
            "metadata": {},
            "outputs": [],
            "source": [
                "train_data[\"OriginalTweet\"] = train_data[\"OriginalTweet\"].str.replace(\"\\@.*\\s\", \"\", regex=True)"
            ]
        },
        {
            "cell_type": "code",
            "execution_count": 299,
            "metadata": {},
            "outputs": [],
            "source": [
                "tokenizer = get_tokenizer('basic_english')"
            ]
        },
        {
            "cell_type": "code",
            "execution_count": 300,
            "metadata": {},
            "outputs": [],
            "source": [
                "vocab = build_vocab(\n",
                "    train_data[\"OriginalTweet\"].apply(lambda x: tokenizer(x)).tolist(),\n",
                "    context=CONTEXT,\n",
                ")"
            ]
        },
        {
            "cell_type": "code",
            "execution_count": 301,
            "metadata": {},
            "outputs": [],
            "source": [
                "VOCAB_SIZE = len(vocab)\n",
                "NUM_CLASS = train_data['Sentiment'].nunique()"
            ]
        },
        {
            "cell_type": "code",
            "execution_count": 302,
            "metadata": {},
            "outputs": [],
            "source": [
                "train_data['OriginalTweet'] = train_data['OriginalTweet'].str.lower()\n",
                "test_data['OriginalTweet'] = test_data['OriginalTweet'].str.lower()"
            ]
        },
        {
            "cell_type": "code",
            "execution_count": 303,
            "metadata": {},
            "outputs": [],
            "source": [
                "label_encoder = LabelEncoder()\n",
                "train_data['Sentiment'] = label_encoder.fit_transform(train_data['Sentiment'])"
            ]
        },
        {
            "cell_type": "code",
            "execution_count": 304,
            "metadata": {},
            "outputs": [],
            "source": [
                "test_data['Sentiment'] = label_encoder.transform(test_data['Sentiment'])"
            ]
        },
        {
            "cell_type": "code",
            "execution_count": 305,
            "metadata": {},
            "outputs": [],
            "source": [
                "text_transform = T.Sequential(\n",
                "    T.VocabTransform(vocab),\n",
                "    T.Truncate(CONTEXT.max_seq_len - 2),\n",
                "    T.AddToken(token=CONTEXT.bos_idx, begin=True),\n",
                "    T.AddToken(token=CONTEXT.eos_idx, begin=False),\n",
                "    T.ToTensor(),\n",
                "    T.PadTransform(CONTEXT.max_seq_len, CONTEXT.padding_idx),\n",
                ")"
            ]
        },
        {
            "cell_type": "code",
            "execution_count": 306,
            "metadata": {},
            "outputs": [],
            "source": [
                "def collate_fn(batch: np.ndarray):\n",
                "    text_placeholder, label_placeholder = [], []\n",
                "\n",
                "    for text, label in batch:\n",
                "        text = tokenizer(text)\n",
                "        text = text_transform(text)\n",
                "        text_placeholder.append(text)\n",
                "        label_placeholder.append(label)\n",
                "\n",
                "    return [torch.stack(text_placeholder), torch.Tensor(label_placeholder)]"
            ]
        },
        {
            "cell_type": "code",
            "execution_count": 307,
            "metadata": {},
            "outputs": [],
            "source": [
                "train_iter = DataLoader(\n",
                "    train_data.to_numpy(),\n",
                "    batch_size=batch_size,\n",
                "    collate_fn=collate_fn,\n",
                "    shuffle=True,\n",
                "    drop_last=True,\n",
                ")\n",
                "\n",
                "test_iter = DataLoader(\n",
                "    test_data.to_numpy(),\n",
                "    batch_size=batch_size,\n",
                "    collate_fn=collate_fn,\n",
                ")"
            ]
        },
        {
            "cell_type": "code",
            "execution_count": 308,
            "metadata": {},
            "outputs": [
                {
                    "name": "stdout",
                    "output_type": "stream",
                    "text": [
                        "torch.Size([128, 256])\n",
                        "torch.Size([128])\n"
                    ]
                },
                {
                    "name": "stderr",
                    "output_type": "stream",
                    "text": [
                        "d:\\research\\pytorch-implementations\\.venv\\Lib\\site-packages\\torch\\_jit_internal.py:1355: UserWarning: The inner type of a container is lost when calling torch.jit.isinstance in eager mode. For example, List[int] would become list and therefore falsely return True for List[float] or List[str].\n",
                        "  warnings.warn(\n"
                    ]
                }
            ],
            "source": [
                "for text, label in train_iter:\n",
                "    print(text.shape)\n",
                "    print(label.shape)\n",
                "    break"
            ]
        },
        {
            "cell_type": "markdown",
            "metadata": {},
            "source": [
                "# model\n"
            ]
        },
        {
            "cell_type": "code",
            "execution_count": 309,
            "metadata": {},
            "outputs": [],
            "source": [
                "DEVICE = torch.device(CONTEXT.device)"
            ]
        },
        {
            "cell_type": "code",
            "execution_count": 310,
            "metadata": {},
            "outputs": [],
            "source": [
                "model = DCNN(\n",
                "    VOCAB_SIZE,\n",
                "    embed_dim=300,\n",
                "    output_size=NUM_CLASS,\n",
                "    kernels=(14, 10, 6),\n",
                "    hidden_dims=(32, 64, 128),\n",
                "    topk=10,\n",
                "    context=CONTEXT,\n",
                ").to(DEVICE)"
            ]
        },
        {
            "cell_type": "code",
            "execution_count": 311,
            "metadata": {},
            "outputs": [
                {
                    "data": {
                        "text/plain": [
                            "======================================================================\n",
                            "Layer (type:depth-idx)                        Param #\n",
                            "======================================================================\n",
                            "Dcnn                                          --\n",
                            "├─Embedding: 1-1                              3,207,000\n",
                            "├─Sequential: 1-2                             --\n",
                            "│    └─Block: 2-1                             32\n",
                            "│    │    └─Sequential: 3-1                   134,432\n",
                            "│    │    └─Tanh: 3-2                         --\n",
                            "│    └─Block: 2-2                             64\n",
                            "│    │    └─Sequential: 3-3                   20,544\n",
                            "│    │    └─Tanh: 3-4                         --\n",
                            "│    └─Dropout: 2-3                           --\n",
                            "│    └─WideConv1d: 2-4                        --\n",
                            "│    │    └─Conv1d: 3-5                       49,280\n",
                            "│    └─Folding: 2-5                           --\n",
                            "│    └─KmaxPool1d: 2-6                        --\n",
                            "├─Sequential: 1-3                             --\n",
                            "│    └─FlattenFeature: 2-7                    --\n",
                            "│    │    └─Sequential: 3-6                   --\n",
                            "│    └─Linear: 2-8                            3,205\n",
                            "======================================================================\n",
                            "Total params: 3,414,557\n",
                            "Trainable params: 3,414,557\n",
                            "Non-trainable params: 0\n",
                            "======================================================================"
                        ]
                    },
                    "execution_count": 311,
                    "metadata": {},
                    "output_type": "execute_result"
                }
            ],
            "source": [
                "torchinfo.summary(model)"
            ]
        },
        {
            "cell_type": "markdown",
            "metadata": {},
            "source": [
                "# train\n"
            ]
        },
        {
            "cell_type": "code",
            "execution_count": 312,
            "metadata": {},
            "outputs": [],
            "source": [
                "EPOCHS = 20"
            ]
        },
        {
            "cell_type": "code",
            "execution_count": 313,
            "metadata": {},
            "outputs": [],
            "source": [
                "trainer = ClassificationTrainer(EPOCHS, DEVICE)"
            ]
        },
        {
            "cell_type": "code",
            "execution_count": 314,
            "metadata": {},
            "outputs": [],
            "source": [
                "criterion = trainer.get_criterion(NUM_CLASS, ignore_index=CONTEXT.padding_idx)\n",
                "optimizer = torch.optim.Adam(model.parameters(), lr=1e-3)"
            ]
        },
        {
            "cell_type": "code",
            "execution_count": 315,
            "metadata": {},
            "outputs": [
                {
                    "name": "stderr",
                    "output_type": "stream",
                    "text": [
                        "100%|██████████| 321/321 [00:08<00:00, 35.88it/s]\n"
                    ]
                },
                {
                    "name": "stdout",
                    "output_type": "stream",
                    "text": [
                        "epoch 1 : 0.009625775785971654\n"
                    ]
                },
                {
                    "name": "stderr",
                    "output_type": "stream",
                    "text": [
                        "100%|██████████| 321/321 [00:09<00:00, 34.21it/s]\n"
                    ]
                },
                {
                    "name": "stdout",
                    "output_type": "stream",
                    "text": [
                        "epoch 2 : 0.007423693420092729\n"
                    ]
                },
                {
                    "name": "stderr",
                    "output_type": "stream",
                    "text": [
                        "100%|██████████| 321/321 [00:09<00:00, 35.25it/s]\n"
                    ]
                },
                {
                    "name": "stdout",
                    "output_type": "stream",
                    "text": [
                        "epoch 3 : 0.005964349103783986\n"
                    ]
                },
                {
                    "name": "stderr",
                    "output_type": "stream",
                    "text": [
                        "100%|██████████| 321/321 [00:10<00:00, 31.22it/s]\n"
                    ]
                },
                {
                    "name": "stdout",
                    "output_type": "stream",
                    "text": [
                        "epoch 4 : 0.004967746076774653\n"
                    ]
                },
                {
                    "name": "stderr",
                    "output_type": "stream",
                    "text": [
                        "100%|██████████| 321/321 [00:10<00:00, 31.90it/s]\n"
                    ]
                },
                {
                    "name": "stdout",
                    "output_type": "stream",
                    "text": [
                        "epoch 5 : 0.004338194282487546\n"
                    ]
                },
                {
                    "name": "stderr",
                    "output_type": "stream",
                    "text": [
                        "100%|██████████| 321/321 [00:09<00:00, 33.64it/s]\n"
                    ]
                },
                {
                    "name": "stdout",
                    "output_type": "stream",
                    "text": [
                        "epoch 6 : 0.0038253732527551063\n"
                    ]
                },
                {
                    "name": "stderr",
                    "output_type": "stream",
                    "text": [
                        "100%|██████████| 321/321 [00:09<00:00, 33.31it/s]\n"
                    ]
                },
                {
                    "name": "stdout",
                    "output_type": "stream",
                    "text": [
                        "epoch 7 : 0.003486077887270124\n"
                    ]
                },
                {
                    "name": "stderr",
                    "output_type": "stream",
                    "text": [
                        "100%|██████████| 321/321 [00:09<00:00, 35.43it/s]\n"
                    ]
                },
                {
                    "name": "stdout",
                    "output_type": "stream",
                    "text": [
                        "epoch 8 : 0.003204887983464633\n"
                    ]
                },
                {
                    "name": "stderr",
                    "output_type": "stream",
                    "text": [
                        "100%|██████████| 321/321 [00:09<00:00, 33.81it/s]\n"
                    ]
                },
                {
                    "name": "stdout",
                    "output_type": "stream",
                    "text": [
                        "epoch 9 : 0.0029426903084552964\n"
                    ]
                },
                {
                    "name": "stderr",
                    "output_type": "stream",
                    "text": [
                        "100%|██████████| 321/321 [00:09<00:00, 32.61it/s]\n"
                    ]
                },
                {
                    "name": "stdout",
                    "output_type": "stream",
                    "text": [
                        "epoch 10 : 0.0027297040570173356\n"
                    ]
                },
                {
                    "name": "stderr",
                    "output_type": "stream",
                    "text": [
                        "100%|██████████| 321/321 [00:09<00:00, 32.79it/s]\n"
                    ]
                },
                {
                    "name": "stdout",
                    "output_type": "stream",
                    "text": [
                        "epoch 11 : 0.0026088897871416397\n"
                    ]
                },
                {
                    "name": "stderr",
                    "output_type": "stream",
                    "text": [
                        "100%|██████████| 321/321 [00:08<00:00, 36.08it/s]\n"
                    ]
                },
                {
                    "name": "stdout",
                    "output_type": "stream",
                    "text": [
                        "epoch 12 : 0.0023924454196568032\n"
                    ]
                },
                {
                    "name": "stderr",
                    "output_type": "stream",
                    "text": [
                        "100%|██████████| 321/321 [00:08<00:00, 37.65it/s]\n"
                    ]
                },
                {
                    "name": "stdout",
                    "output_type": "stream",
                    "text": [
                        "epoch 13 : 0.002304723546506599\n"
                    ]
                },
                {
                    "name": "stderr",
                    "output_type": "stream",
                    "text": [
                        "100%|██████████| 321/321 [00:10<00:00, 30.26it/s]\n"
                    ]
                },
                {
                    "name": "stdout",
                    "output_type": "stream",
                    "text": [
                        "epoch 14 : 0.002227832873299648\n"
                    ]
                },
                {
                    "name": "stderr",
                    "output_type": "stream",
                    "text": [
                        "100%|██████████| 321/321 [00:08<00:00, 36.05it/s]\n"
                    ]
                },
                {
                    "name": "stdout",
                    "output_type": "stream",
                    "text": [
                        "epoch 15 : 0.002158140646862417\n"
                    ]
                },
                {
                    "name": "stderr",
                    "output_type": "stream",
                    "text": [
                        "100%|██████████| 321/321 [00:08<00:00, 36.34it/s]\n"
                    ]
                },
                {
                    "name": "stdout",
                    "output_type": "stream",
                    "text": [
                        "epoch 16 : 0.002068062221872217\n"
                    ]
                },
                {
                    "name": "stderr",
                    "output_type": "stream",
                    "text": [
                        "100%|██████████| 321/321 [00:08<00:00, 37.09it/s]\n"
                    ]
                },
                {
                    "name": "stdout",
                    "output_type": "stream",
                    "text": [
                        "epoch 17 : 0.0019849377573319823\n"
                    ]
                },
                {
                    "name": "stderr",
                    "output_type": "stream",
                    "text": [
                        "100%|██████████| 321/321 [00:08<00:00, 37.14it/s]\n"
                    ]
                },
                {
                    "name": "stdout",
                    "output_type": "stream",
                    "text": [
                        "epoch 18 : 0.0019867795726612233\n"
                    ]
                },
                {
                    "name": "stderr",
                    "output_type": "stream",
                    "text": [
                        "100%|██████████| 321/321 [00:08<00:00, 36.62it/s]\n"
                    ]
                },
                {
                    "name": "stdout",
                    "output_type": "stream",
                    "text": [
                        "epoch 19 : 0.0018593925492028558\n"
                    ]
                },
                {
                    "name": "stderr",
                    "output_type": "stream",
                    "text": [
                        "100%|██████████| 321/321 [00:09<00:00, 33.84it/s]"
                    ]
                },
                {
                    "name": "stdout",
                    "output_type": "stream",
                    "text": [
                        "epoch 20 : 0.0018240464368916329\n"
                    ]
                },
                {
                    "name": "stderr",
                    "output_type": "stream",
                    "text": [
                        "\n"
                    ]
                }
            ],
            "source": [
                "training_loss = trainer.run(train_iter, model, optimizer, criterion)"
            ]
        },
        {
            "cell_type": "code",
            "execution_count": 316,
            "metadata": {},
            "outputs": [
                {
                    "data": {
                        "text/plain": [
                            "[<matplotlib.lines.Line2D at 0x2a8955e6d90>]"
                        ]
                    },
                    "execution_count": 316,
                    "metadata": {},
                    "output_type": "execute_result"
                },
                {
                    "data": {
                        "image/png": "[encoded data removed]",
                        "text/plain": [
                            "<Figure size 640x480 with 1 Axes>"
                        ]
                    },
                    "metadata": {},
                    "output_type": "display_data"
                }
            ],
            "source": [
                "plt.plot(training_loss)"
            ]
        },
        {
            "cell_type": "markdown",
            "metadata": {},
            "source": [
                "# inference\n"
            ]
        },
        {
            "cell_type": "code",
            "execution_count": 317,
            "metadata": {},
            "outputs": [],
            "source": [
                "evaluator = ClassificationEvaluator(NUM_CLASS, DEVICE)"
            ]
        },
        {
            "cell_type": "code",
            "execution_count": 318,
            "metadata": {},
            "outputs": [
                {
                    "name": "stderr",
                    "output_type": "stream",
                    "text": [
                        "  0%|          | 0/30 [00:00<?, ?it/s]"
                    ]
                },
                {
                    "name": "stderr",
                    "output_type": "stream",
                    "text": [
                        "100%|██████████| 30/30 [00:00<00:00, 33.50it/s]"
                    ]
                },
                {
                    "name": "stdout",
                    "output_type": "stream",
                    "text": [
                        "[[400   1 167   0  24]\n",
                        " [  3 357  17   0 222]\n",
                        " [120  13 707   0 201]\n",
                        " [  2   7 301   0 309]\n",
                        " [  6  85 184   0 672]]\n"
                    ]
                },
                {
                    "name": "stderr",
                    "output_type": "stream",
                    "text": [
                        "\n"
                    ]
                }
            ],
            "source": [
                "test_confusion_matrix = evaluator.run(test_iter, model)"
            ]
        },
        {
            "cell_type": "code",
            "execution_count": 319,
            "metadata": {},
            "outputs": [
                {
                    "name": "stdout",
                    "output_type": "stream",
                    "text": [
                        "Extremely Negative: 0.6757\n",
                        "Extremely Positive: 0.596\n",
                        "Negative  : 0.6792\n",
                        "Neutral   : 0.0\n",
                        "Positive  : 0.7096\n"
                    ]
                }
            ],
            "source": [
                "per_class_accs = evaluator.get_per_class_accuracy(test_confusion_matrix)\n",
                "evaluator.show_per_class_accuracy(label_encoder.classes_, per_class_accs.round(4))"
            ]
        },
        {
            "cell_type": "code",
            "execution_count": 320,
            "metadata": {},
            "outputs": [
                {
                    "data": {
                        "text/plain": [
                            "0.5320865898727474"
                        ]
                    },
                    "execution_count": 320,
                    "metadata": {},
                    "output_type": "execute_result"
                }
            ],
            "source": [
                "per_class_accs.mean()"
            ]
        },
        {
            "cell_type": "code",
            "execution_count": 321,
            "metadata": {},
            "outputs": [
                {
                    "data": {
                        "image/png": "[encoded data removed]",
                        "text/plain": [
                            "<Figure size 600x400 with 2 Axes>"
                        ]
                    },
                    "metadata": {},
                    "output_type": "display_data"
                }
            ],
            "source": [
                "evaluator.plot_confusion_matrix(\n",
                "    test_confusion_matrix,\n",
                "    label_encoder.classes_,\n",
                "    cmap=\"Blues\",\n",
                "    figsize=(6, 4),\n",
                ")"
            ]
        },
        {
            "cell_type": "code",
            "execution_count": 322,
            "metadata": {},
            "outputs": [],
            "source": [
                "model_path = artifacts_path.joinpath(\"dcnn.pth\")"
            ]
        },
        {
            "cell_type": "code",
            "execution_count": 323,
            "metadata": {},
            "outputs": [],
            "source": [
                "torch.save(model.state_dict(), model_path)"
            ]
        },
        {
            "cell_type": "code",
            "execution_count": 324,
            "metadata": {},
            "outputs": [
                {
                    "data": {
                        "text/plain": [
                            "'13.03MB'"
                        ]
                    },
                    "execution_count": 324,
                    "metadata": {},
                    "output_type": "execute_result"
                }
            ],
            "source": [
                "get_file_size(model_path.as_posix())"
            ]
        },
        {
            "cell_type": "code",
            "execution_count": 325,
            "metadata": {},
            "outputs": [
                {
                    "data": {
                        "text/plain": [
                            "<All keys matched successfully>"
                        ]
                    },
                    "execution_count": 325,
                    "metadata": {},
                    "output_type": "execute_result"
                }
            ],
            "source": [
                "model.load_state_dict(torch.load(model_path))"
            ]
        },
        {
            "cell_type": "code",
            "execution_count": null,
            "metadata": {},
            "outputs": [],
            "source": []
        }
    ],
    "metadata": {
        "kernelspec": {
            "display_name": ".venv",
            "language": "python",
            "name": "python3"
        },
        "language_info": {
            "codemirror_mode": {
                "name": "ipython",
                "version": 3
            },
            "file_extension": ".py",
            "mimetype": "text/x-python",
            "name": "python",
            "nbconvert_exporter": "python",
            "pygments_lexer": "ipython3",
            "version": "3.11.4"
        }
    },
    "nbformat": 4,
    "nbformat_minor": 2
}