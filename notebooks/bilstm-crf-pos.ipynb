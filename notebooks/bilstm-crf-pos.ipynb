{
    "cells": [
        {
            "cell_type": "code",
            "execution_count": 169,
            "metadata": {},
            "outputs": [],
            "source": [
                "from pathlib import Path\n",
                "\n",
                "import matplotlib.pyplot as plt\n",
                "import torch\n",
                "import torchinfo\n",
                "import torchtext.transforms as T\n",
                "from torch.utils.data import DataLoader\n",
                "from torchlake.common.controller.evaluator import ClassificationEvaluator\n",
                "from torchlake.common.schemas import NlpContext\n",
                "from torchlake.common.utils.platform import get_file_size, get_num_workers\n",
                "from torchlake.common.utils.text import build_vocab\n",
                "from torchlake.tag_prediction.controllers.trainer_bilstm_crf import BiLSTMCRFTrainer\n",
                "from torchlake.tag_prediction.models.bilstm_crf import (BiLSTMCRF,\n",
                "                                                        LinearCRFLoss)\n",
                "from torchtext.data.utils import get_tokenizer\n",
                "from torchtext.datasets import CoNLL2000Chunking"
            ]
        },
        {
            "cell_type": "markdown",
            "metadata": {},
            "source": [
                "# setting\n"
            ]
        },
        {
            "cell_type": "code",
            "execution_count": 170,
            "metadata": {},
            "outputs": [],
            "source": [
                "artifacts_path = Path(\"../../artifacts/bilstm-crf\")\n",
                "data_path = Path(\"../../data/CoNLL2000\")"
            ]
        },
        {
            "cell_type": "code",
            "execution_count": 171,
            "metadata": {},
            "outputs": [],
            "source": [
                "BATCH_SIZE = 128\n",
                "CONTEXT = NlpContext()"
            ]
        },
        {
            "cell_type": "markdown",
            "metadata": {},
            "source": [
                "# data\n"
            ]
        },
        {
            "cell_type": "code",
            "execution_count": 172,
            "metadata": {},
            "outputs": [],
            "source": [
                "def datapipe_factory(datapipe, text_transform=None, label_transform=None):\n",
                "    datapipe = datapipe.map(\n",
                "        lambda pair: [[word.lower() for word in pair[0]], pair[1]]\n",
                "    ).filter(lambda item: len(item[0]) > CONTEXT.min_seq_len)\n",
                "\n",
                "    if text_transform:\n",
                "        datapipe = datapipe.map(lambda item: (text_transform(item[0]), item[1]))\n",
                "\n",
                "    if label_transform:\n",
                "        datapipe = datapipe.map(lambda item: (item[0], label_transform(item[1])))\n",
                "\n",
                "    return datapipe"
            ]
        },
        {
            "cell_type": "code",
            "execution_count": 173,
            "metadata": {},
            "outputs": [],
            "source": [
                "train_data, test_data = CoNLL2000Chunking(data_path.as_posix())"
            ]
        },
        {
            "cell_type": "code",
            "execution_count": 174,
            "metadata": {},
            "outputs": [],
            "source": [
                "vocab = build_vocab(map(lambda it: it[0], train_data))\n",
                "label_vocab = build_vocab(map(lambda it: it[1], train_data))"
            ]
        },
        {
            "cell_type": "code",
            "execution_count": 175,
            "metadata": {},
            "outputs": [],
            "source": [
                "VOCAB_SIZE = len(vocab)\n",
                "NUM_CLASS = len(label_vocab)"
            ]
        },
        {
            "cell_type": "code",
            "execution_count": 176,
            "metadata": {},
            "outputs": [
                {
                    "data": {
                        "text/plain": [
                            "(4406, 48)"
                        ]
                    },
                    "execution_count": 176,
                    "metadata": {},
                    "output_type": "execute_result"
                }
            ],
            "source": [
                "VOCAB_SIZE, NUM_CLASS"
            ]
        },
        {
            "cell_type": "code",
            "execution_count": 177,
            "metadata": {},
            "outputs": [],
            "source": [
                "text_transform = T.Sequential(\n",
                "    T.VocabTransform(vocab),\n",
                "    T.Truncate(CONTEXT.max_seq_len - 2),\n",
                "    T.AddToken(token=CONTEXT.bos_idx, begin=True),\n",
                "    T.AddToken(token=CONTEXT.eos_idx, begin=False),\n",
                "    T.ToTensor(),\n",
                "    T.PadTransform(CONTEXT.max_seq_len, CONTEXT.padding_idx),\n",
                ")"
            ]
        },
        {
            "cell_type": "code",
            "execution_count": 178,
            "metadata": {},
            "outputs": [],
            "source": [
                "label_transform = T.Sequential(\n",
                "    T.VocabTransform(label_vocab),\n",
                "    T.Truncate(CONTEXT.max_seq_len - 2),\n",
                "    T.AddToken(token=CONTEXT.bos_idx, begin=True),\n",
                "    T.AddToken(token=CONTEXT.eos_idx, begin=False),\n",
                "    T.ToTensor(),\n",
                "    T.PadTransform(CONTEXT.max_seq_len, CONTEXT.padding_idx),\n",
                ")"
            ]
        },
        {
            "cell_type": "code",
            "execution_count": 179,
            "metadata": {},
            "outputs": [],
            "source": [
                "def collate_fn(batch: list):\n",
                "    text_placeholder, label_placeholder = [], []\n",
                "\n",
                "    for row in batch:\n",
                "        text, label = row[0], row[1]\n",
                "        text_placeholder.append(text)\n",
                "        label_placeholder.append(label)\n",
                "\n",
                "    return torch.stack(text_placeholder), torch.stack(label_placeholder)"
            ]
        },
        {
            "cell_type": "code",
            "execution_count": 180,
            "metadata": {},
            "outputs": [],
            "source": [
                "NUM_WORKERS = get_num_workers()"
            ]
        },
        {
            "cell_type": "code",
            "execution_count": 181,
            "metadata": {},
            "outputs": [
                {
                    "name": "stderr",
                    "output_type": "stream",
                    "text": [
                        "d:\\research\\pytorch-implementations\\.venv\\Lib\\site-packages\\torch\\utils\\data\\datapipes\\utils\\common.py:141: UserWarning: Local function is not supported by pickle, please use regular python function or functools.partial instead.\n",
                        "  warnings.warn(\n"
                    ]
                }
            ],
            "source": [
                "train_iter = DataLoader(\n",
                "    datapipe_factory(train_data, text_transform, label_transform),\n",
                "    batch_size=BATCH_SIZE,\n",
                "    # collate_fn=collate_fn,\n",
                "    num_workers=NUM_WORKERS,\n",
                "    shuffle=True,\n",
                "    drop_last=True,\n",
                ")\n",
                "\n",
                "test_iter = DataLoader(\n",
                "    datapipe_factory(test_data, text_transform, label_transform),\n",
                "    batch_size=BATCH_SIZE,\n",
                "    # collate_fn=collate_fn,\n",
                "    num_workers=NUM_WORKERS,\n",
                ")"
            ]
        },
        {
            "cell_type": "code",
            "execution_count": 182,
            "metadata": {},
            "outputs": [
                {
                    "name": "stdout",
                    "output_type": "stream",
                    "text": [
                        "torch.Size([128, 256]) torch.Size([128, 256])\n"
                    ]
                }
            ],
            "source": [
                "for text, label in train_iter:\n",
                "    print(text.shape, label.shape)\n",
                "    break"
            ]
        },
        {
            "cell_type": "markdown",
            "metadata": {},
            "source": [
                "# model\n"
            ]
        },
        {
            "cell_type": "code",
            "execution_count": 183,
            "metadata": {},
            "outputs": [],
            "source": [
                "DEVICE = torch.device(CONTEXT.device)"
            ]
        },
        {
            "cell_type": "code",
            "execution_count": 184,
            "metadata": {},
            "outputs": [],
            "source": [
                "EMBED_DIM = 300\n",
                "HIDDEN_DIM = 256\n",
                "model = BiLSTMCRF(\n",
                "    VOCAB_SIZE,\n",
                "    EMBED_DIM,\n",
                "    HIDDEN_DIM,\n",
                "    NUM_CLASS,\n",
                "    num_layers=2,\n",
                "    context=CONTEXT,\n",
                ").to(DEVICE)"
            ]
        },
        {
            "cell_type": "code",
            "execution_count": 185,
            "metadata": {},
            "outputs": [
                {
                    "data": {
                        "text/plain": [
                            "=================================================================\n",
                            "Layer (type:depth-idx)                   Param #\n",
                            "=================================================================\n",
                            "BiLSTMCRF                                --\n",
                            "├─LSTMDiscriminator: 1-1                 --\n",
                            "│    └─Embedding: 2-1                    1,321,800\n",
                            "│    └─LSTM: 2-2                         2,719,744\n",
                            "│    └─LayerNorm: 2-3                    1,024\n",
                            "│    └─Linear: 2-4                       24,624\n",
                            "├─LinearCRF: 1-2                         2,304\n",
                            "=================================================================\n",
                            "Total params: 4,069,496\n",
                            "Trainable params: 4,069,496\n",
                            "Non-trainable params: 0\n",
                            "================================================================="
                        ]
                    },
                    "execution_count": 185,
                    "metadata": {},
                    "output_type": "execute_result"
                }
            ],
            "source": [
                "torchinfo.summary(model)"
            ]
        },
        {
            "cell_type": "markdown",
            "metadata": {},
            "source": [
                "# train\n"
            ]
        },
        {
            "cell_type": "code",
            "execution_count": 186,
            "metadata": {},
            "outputs": [],
            "source": [
                "EPOCHS = 30"
            ]
        },
        {
            "cell_type": "code",
            "execution_count": 187,
            "metadata": {},
            "outputs": [],
            "source": [
                "trainer = BiLSTMCRFTrainer(EPOCHS, DEVICE)"
            ]
        },
        {
            "cell_type": "code",
            "execution_count": 188,
            "metadata": {},
            "outputs": [],
            "source": [
                "criterion = LinearCRFLoss(crf_weight=10, context=CONTEXT)\n",
                "optimizer = torch.optim.SGD(model.parameters(), lr=1e-2, weight_decay=1e-4)"
            ]
        },
        {
            "cell_type": "code",
            "execution_count": 189,
            "metadata": {},
            "outputs": [],
            "source": [
                "scheduler = torch.optim.lr_scheduler.ReduceLROnPlateau(optimizer, 'min', patience=2, threshold=.05 ,threshold_mode ='rel')"
            ]
        },
        {
            "cell_type": "code",
            "execution_count": 190,
            "metadata": {},
            "outputs": [
                {
                    "name": "stderr",
                    "output_type": "stream",
                    "text": [
                        "67it [00:06, 10.05it/s]\n"
                    ]
                },
                {
                    "name": "stdout",
                    "output_type": "stream",
                    "text": [
                        "epoch 1 : 16.7716871695732\n"
                    ]
                },
                {
                    "name": "stderr",
                    "output_type": "stream",
                    "text": [
                        "67it [00:05, 12.17it/s]\n"
                    ]
                },
                {
                    "name": "stdout",
                    "output_type": "stream",
                    "text": [
                        "epoch 2 : 3.514554607334422\n"
                    ]
                },
                {
                    "name": "stderr",
                    "output_type": "stream",
                    "text": [
                        "67it [00:05, 12.25it/s]\n"
                    ]
                },
                {
                    "name": "stdout",
                    "output_type": "stream",
                    "text": [
                        "epoch 3 : 3.100198464607125\n"
                    ]
                },
                {
                    "name": "stderr",
                    "output_type": "stream",
                    "text": [
                        "67it [00:05, 11.44it/s]\n"
                    ]
                },
                {
                    "name": "stdout",
                    "output_type": "stream",
                    "text": [
                        "epoch 4 : 2.7613431055154374\n"
                    ]
                },
                {
                    "name": "stderr",
                    "output_type": "stream",
                    "text": [
                        "67it [00:05, 12.35it/s]\n"
                    ]
                },
                {
                    "name": "stdout",
                    "output_type": "stream",
                    "text": [
                        "epoch 5 : 2.5503544273661145\n"
                    ]
                },
                {
                    "name": "stderr",
                    "output_type": "stream",
                    "text": [
                        "67it [00:05, 12.32it/s]\n"
                    ]
                },
                {
                    "name": "stdout",
                    "output_type": "stream",
                    "text": [
                        "epoch 6 : 2.367295809646151\n"
                    ]
                },
                {
                    "name": "stderr",
                    "output_type": "stream",
                    "text": [
                        "67it [00:05, 12.36it/s]\n"
                    ]
                },
                {
                    "name": "stdout",
                    "output_type": "stream",
                    "text": [
                        "epoch 7 : 2.231012027655075\n"
                    ]
                },
                {
                    "name": "stderr",
                    "output_type": "stream",
                    "text": [
                        "67it [00:05, 12.00it/s]\n"
                    ]
                },
                {
                    "name": "stdout",
                    "output_type": "stream",
                    "text": [
                        "epoch 8 : 2.1144108825655126\n"
                    ]
                },
                {
                    "name": "stderr",
                    "output_type": "stream",
                    "text": [
                        "67it [00:05, 12.34it/s]\n"
                    ]
                },
                {
                    "name": "stdout",
                    "output_type": "stream",
                    "text": [
                        "epoch 9 : 2.03115618584761\n"
                    ]
                },
                {
                    "name": "stderr",
                    "output_type": "stream",
                    "text": [
                        "67it [00:05, 12.34it/s]\n"
                    ]
                },
                {
                    "name": "stdout",
                    "output_type": "stream",
                    "text": [
                        "epoch 10 : 1.9473694242648225\n"
                    ]
                },
                {
                    "name": "stderr",
                    "output_type": "stream",
                    "text": [
                        "67it [00:05, 12.31it/s]\n"
                    ]
                },
                {
                    "name": "stdout",
                    "output_type": "stream",
                    "text": [
                        "epoch 11 : 1.8791448233732537\n"
                    ]
                },
                {
                    "name": "stderr",
                    "output_type": "stream",
                    "text": [
                        "67it [00:05, 12.00it/s]\n"
                    ]
                },
                {
                    "name": "stdout",
                    "output_type": "stream",
                    "text": [
                        "epoch 12 : 1.8056974606727487\n"
                    ]
                },
                {
                    "name": "stderr",
                    "output_type": "stream",
                    "text": [
                        "67it [00:05, 12.18it/s]\n"
                    ]
                },
                {
                    "name": "stdout",
                    "output_type": "stream",
                    "text": [
                        "epoch 13 : 1.75312253788336\n"
                    ]
                },
                {
                    "name": "stderr",
                    "output_type": "stream",
                    "text": [
                        "67it [00:05, 12.17it/s]\n"
                    ]
                },
                {
                    "name": "stdout",
                    "output_type": "stream",
                    "text": [
                        "epoch 14 : 1.6926954895702762\n"
                    ]
                },
                {
                    "name": "stderr",
                    "output_type": "stream",
                    "text": [
                        "67it [00:05, 12.27it/s]\n"
                    ]
                },
                {
                    "name": "stdout",
                    "output_type": "stream",
                    "text": [
                        "epoch 15 : 1.6869242582748185\n"
                    ]
                },
                {
                    "name": "stderr",
                    "output_type": "stream",
                    "text": [
                        "67it [00:05, 11.99it/s]\n"
                    ]
                },
                {
                    "name": "stdout",
                    "output_type": "stream",
                    "text": [
                        "epoch 16 : 1.6412668637375334\n"
                    ]
                },
                {
                    "name": "stderr",
                    "output_type": "stream",
                    "text": [
                        "67it [00:05, 12.31it/s]\n"
                    ]
                },
                {
                    "name": "stdout",
                    "output_type": "stream",
                    "text": [
                        "epoch 17 : 1.6165546819345276\n"
                    ]
                },
                {
                    "name": "stderr",
                    "output_type": "stream",
                    "text": [
                        "67it [00:05, 12.30it/s]\n"
                    ]
                },
                {
                    "name": "stdout",
                    "output_type": "stream",
                    "text": [
                        "epoch 18 : 1.5900407869424393\n"
                    ]
                },
                {
                    "name": "stderr",
                    "output_type": "stream",
                    "text": [
                        "67it [00:05, 12.32it/s]\n"
                    ]
                },
                {
                    "name": "stdout",
                    "output_type": "stream",
                    "text": [
                        "epoch 19 : 1.5888278288627737\n"
                    ]
                },
                {
                    "name": "stderr",
                    "output_type": "stream",
                    "text": [
                        "67it [00:05, 12.06it/s]\n"
                    ]
                },
                {
                    "name": "stdout",
                    "output_type": "stream",
                    "text": [
                        "epoch 20 : 1.5793213417280967\n"
                    ]
                },
                {
                    "name": "stderr",
                    "output_type": "stream",
                    "text": [
                        "67it [00:05, 12.32it/s]\n"
                    ]
                },
                {
                    "name": "stdout",
                    "output_type": "stream",
                    "text": [
                        "epoch 21 : 1.5687427129318465\n"
                    ]
                },
                {
                    "name": "stderr",
                    "output_type": "stream",
                    "text": [
                        "67it [00:05, 12.35it/s]\n"
                    ]
                },
                {
                    "name": "stdout",
                    "output_type": "stream",
                    "text": [
                        "epoch 22 : 1.558733860058571\n"
                    ]
                },
                {
                    "name": "stderr",
                    "output_type": "stream",
                    "text": [
                        "67it [00:05, 12.36it/s]\n"
                    ]
                },
                {
                    "name": "stdout",
                    "output_type": "stream",
                    "text": [
                        "epoch 23 : 1.5743316767820672\n"
                    ]
                },
                {
                    "name": "stderr",
                    "output_type": "stream",
                    "text": [
                        "67it [00:05, 12.04it/s]\n"
                    ]
                },
                {
                    "name": "stdout",
                    "output_type": "stream",
                    "text": [
                        "epoch 24 : 1.5609386572197301\n"
                    ]
                },
                {
                    "name": "stderr",
                    "output_type": "stream",
                    "text": [
                        "67it [00:05, 12.35it/s]\n"
                    ]
                },
                {
                    "name": "stdout",
                    "output_type": "stream",
                    "text": [
                        "epoch 25 : 1.5903305811668509\n"
                    ]
                },
                {
                    "name": "stderr",
                    "output_type": "stream",
                    "text": [
                        "67it [00:05, 12.35it/s]\n"
                    ]
                },
                {
                    "name": "stdout",
                    "output_type": "stream",
                    "text": [
                        "epoch 26 : 1.5885328641578333\n"
                    ]
                },
                {
                    "name": "stderr",
                    "output_type": "stream",
                    "text": [
                        "67it [00:05, 11.96it/s]\n"
                    ]
                },
                {
                    "name": "stdout",
                    "output_type": "stream",
                    "text": [
                        "epoch 27 : 1.5836782722330804\n"
                    ]
                },
                {
                    "name": "stderr",
                    "output_type": "stream",
                    "text": [
                        "67it [00:05, 12.37it/s]\n"
                    ]
                },
                {
                    "name": "stdout",
                    "output_type": "stream",
                    "text": [
                        "epoch 28 : 1.5792897067852874\n"
                    ]
                },
                {
                    "name": "stderr",
                    "output_type": "stream",
                    "text": [
                        "67it [00:05, 12.41it/s]\n"
                    ]
                },
                {
                    "name": "stdout",
                    "output_type": "stream",
                    "text": [
                        "epoch 29 : 1.5736045339214269\n"
                    ]
                },
                {
                    "name": "stderr",
                    "output_type": "stream",
                    "text": [
                        "67it [00:05, 12.34it/s]"
                    ]
                },
                {
                    "name": "stdout",
                    "output_type": "stream",
                    "text": [
                        "epoch 30 : 1.5694690177689736\n"
                    ]
                },
                {
                    "name": "stderr",
                    "output_type": "stream",
                    "text": [
                        "\n"
                    ]
                }
            ],
            "source": [
                "training_loss = trainer.run(train_iter, model, optimizer, criterion, scheduler)"
            ]
        },
        {
            "cell_type": "code",
            "execution_count": 191,
            "metadata": {},
            "outputs": [
                {
                    "data": {
                        "text/plain": [
                            "[<matplotlib.lines.Line2D at 0x269fe297e50>]"
                        ]
                    },
                    "execution_count": 191,
                    "metadata": {},
                    "output_type": "execute_result"
                },
                {
                    "data": {
                        "image/png": "[encoded data removed]",
                        "text/plain": [
                            "<Figure size 640x480 with 1 Axes>"
                        ]
                    },
                    "metadata": {},
                    "output_type": "display_data"
                }
            ],
            "source": [
                "plt.plot(training_loss)"
            ]
        },
        {
            "cell_type": "markdown",
            "metadata": {},
            "source": [
                "# inference\n"
            ]
        },
        {
            "cell_type": "code",
            "execution_count": 192,
            "metadata": {},
            "outputs": [],
            "source": [
                "evaluator = ClassificationEvaluator(NUM_CLASS, DEVICE, feature_dim=-1) # for crf, need to set reduction=None"
            ]
        },
        {
            "cell_type": "code",
            "execution_count": 193,
            "metadata": {},
            "outputs": [
                {
                    "name": "stderr",
                    "output_type": "stream",
                    "text": [
                        "16it [00:01, 14.48it/s]"
                    ]
                },
                {
                    "name": "stdout",
                    "output_type": "stream",
                    "text": [
                        "[[   0    0    0 ...    0    0    0]\n",
                        " [   0 1949    0 ...    0    0    0]\n",
                        " [   0    0 1949 ...    0    0    0]\n",
                        " ...\n",
                        " [   0    0    0 ...    0    0    0]\n",
                        " [   0    0    0 ...    0    0    0]\n",
                        " [   0    0    0 ...    0    0    0]]\n"
                    ]
                },
                {
                    "name": "stderr",
                    "output_type": "stream",
                    "text": [
                        "\n"
                    ]
                }
            ],
            "source": [
                "confusion_matrix = evaluator.run(test_iter, model.foot) # for bilstm itself, use model.foot, otherwise use model"
            ]
        },
        {
            "cell_type": "code",
            "execution_count": 194,
            "metadata": {},
            "outputs": [
                {
                    "name": "stdout",
                    "output_type": "stream",
                    "text": [
                        "<unk>     : 0.0\n",
                        "<bos>     : 1.0\n",
                        "<eos>     : 1.0\n",
                        "<pad>     : 0.0\n",
                        "NN        : 0.6312005751258087\n",
                        "IN        : 0.974258533855624\n",
                        "NNP       : 0.6179104477611941\n",
                        "DT        : 0.9848308051341891\n",
                        "NNS       : 0.6326009197751661\n",
                        "JJ        : 0.6393022062596203\n",
                        ",         : 1.0\n",
                        ".         : 0.9984488107549121\n",
                        "CD        : 0.7912568306010929\n",
                        "VBD       : 0.8314350797266514\n",
                        "RB        : 0.7575169738118331\n",
                        "VB        : 0.8407908428720083\n",
                        "CC        : 0.9889380530973452\n",
                        "TO        : 1.0\n",
                        "VBN       : 0.6747368421052632\n",
                        "VBZ       : 0.7857142857142857\n",
                        "PRP       : 0.9504950495049505\n",
                        "VBG       : 0.5623145400593472\n",
                        "VBP       : 0.7606837606837606\n",
                        "MD        : 1.0\n",
                        "PRP$      : 1.0\n",
                        "POS       : 0.9973958333333334\n",
                        "$         : 0.9885496183206107\n",
                        "``        : 1.0\n",
                        "''        : 0.9897959183673469\n",
                        ":         : 0.9936305732484076\n",
                        "WDT       : 0.7927461139896373\n",
                        "JJR       : 0.8064516129032258\n",
                        "WP        : 0.9519230769230769\n",
                        "WRB       : 0.9887640449438202\n",
                        "NNPS      : 0.008403361344537815\n",
                        "JJS       : 0.8266666666666667\n",
                        "RBR       : 0.42857142857142855\n",
                        ")         : 0.0\n",
                        "(         : 0.0\n",
                        "EX        : 1.0\n",
                        "RBS       : 0.9795918367346939\n",
                        "RP        : 0.08333333333333333\n",
                        "PDT       : 0.0\n",
                        "FW        : 0.0\n",
                        "#         : 0.0\n",
                        "WP$       : 0.0\n",
                        "UH        : 0.0\n",
                        "SYM       : 0.0\n"
                    ]
                }
            ],
            "source": [
                "per_class_acc = evaluator.get_per_class_accuracy(confusion_matrix)\n",
                "evaluator.show_per_class_accuracy(label_vocab.get_itos(), per_class_acc)"
            ]
        },
        {
            "cell_type": "code",
            "execution_count": 195,
            "metadata": {},
            "outputs": [
                {
                    "data": {
                        "text/plain": [
                            "0.6649604085346176"
                        ]
                    },
                    "execution_count": 195,
                    "metadata": {},
                    "output_type": "execute_result"
                }
            ],
            "source": [
                "per_class_acc[4:].mean()"
            ]
        },
        {
            "cell_type": "code",
            "execution_count": 196,
            "metadata": {},
            "outputs": [
                {
                    "name": "stderr",
                    "output_type": "stream",
                    "text": [
                        "d:\\research\\pytorch-implementations\\.venv\\Lib\\site-packages\\torchlake\\common\\controller\\evaluator.py:129: RuntimeWarning: invalid value encountered in divide\n",
                        "  percentage = np.where(total == 0, 0, hits / total)\n"
                    ]
                },
                {
                    "data": {
                        "image/png": "[encoded data removed]",
                        "text/plain": [
                            "<Figure size 800x800 with 2 Axes>"
                        ]
                    },
                    "metadata": {},
                    "output_type": "display_data"
                }
            ],
            "source": [
                "evaluator.plot_confusion_matrix(\n",
                "    confusion_matrix,\n",
                "    label_vocab.get_itos(),\n",
                "    \"Blues\",\n",
                "    annot=False,\n",
                "    figsize=(8, 8),\n",
                ")"
            ]
        },
        {
            "cell_type": "code",
            "execution_count": 197,
            "metadata": {},
            "outputs": [],
            "source": [
                "model_path = artifacts_path / 'conll2000.pth'"
            ]
        },
        {
            "cell_type": "code",
            "execution_count": 198,
            "metadata": {},
            "outputs": [],
            "source": [
                "torch.save(model.state_dict(), model_path.as_posix())"
            ]
        },
        {
            "cell_type": "code",
            "execution_count": 199,
            "metadata": {},
            "outputs": [
                {
                    "data": {
                        "text/plain": [
                            "'15.53MiB'"
                        ]
                    },
                    "execution_count": 199,
                    "metadata": {},
                    "output_type": "execute_result"
                }
            ],
            "source": [
                "get_file_size(model_path)"
            ]
        },
        {
            "cell_type": "code",
            "execution_count": 200,
            "metadata": {},
            "outputs": [
                {
                    "data": {
                        "text/plain": [
                            "<All keys matched successfully>"
                        ]
                    },
                    "execution_count": 200,
                    "metadata": {},
                    "output_type": "execute_result"
                }
            ],
            "source": [
                "model.load_state_dict(torch.load(model_path.as_posix()))"
            ]
        },
        {
            "cell_type": "code",
            "execution_count": null,
            "metadata": {},
            "outputs": [],
            "source": []
        },
        {
            "cell_type": "markdown",
            "metadata": {},
            "source": [
                "# Visualization\n"
            ]
        },
        {
            "cell_type": "code",
            "execution_count": 201,
            "metadata": {},
            "outputs": [],
            "source": [
                "from seaborn import heatmap"
            ]
        },
        {
            "cell_type": "code",
            "execution_count": 202,
            "metadata": {},
            "outputs": [
                {
                    "data": {
                        "text/plain": [
                            "<Axes: title={'center': 'transition probability'}>"
                        ]
                    },
                    "execution_count": 202,
                    "metadata": {},
                    "output_type": "execute_result"
                },
                {
                    "data": {
                        "image/png": "[encoded data removed]",
                        "text/plain": [
                            "<Figure size 800x600 with 2 Axes>"
                        ]
                    },
                    "metadata": {},
                    "output_type": "display_data"
                }
            ],
            "source": [
                "plt.figure(figsize=(8, 6))\n",
                "plt.title('transition probability')\n",
                "heatmap(\n",
                "    model.head.transition\n",
                "    .softmax(-1)\n",
                "    .clone()\n",
                "    .detach()\n",
                "    .cpu()\n",
                "    .numpy(),\n",
                "    xticklabels=label_vocab.get_itos(),\n",
                "    yticklabels=label_vocab.get_itos(),\n",
                "    cmap=\"Reds\",\n",
                ")"
            ]
        }
    ],
    "metadata": {
        "kernelspec": {
            "display_name": ".venv",
            "language": "python",
            "name": "python3"
        },
        "language_info": {
            "codemirror_mode": {
                "name": "ipython",
                "version": 3
            },
            "file_extension": ".py",
            "mimetype": "text/x-python",
            "name": "python",
            "nbconvert_exporter": "python",
            "pygments_lexer": "ipython3",
            "version": "3.11.4"
        }
    },
    "nbformat": 4,
    "nbformat_minor": 2
}