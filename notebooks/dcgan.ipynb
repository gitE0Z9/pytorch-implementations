{
 "cells": [
  {
   "cell_type": "code",
   "execution_count": null,
   "metadata": {},
   "outputs": [],
   "source": [
    "from pathlib import Path\n",
    "\n",
    "import matplotlib.pyplot as plt\n",
    "import torch\n",
    "import torchinfo\n",
    "import torchvision\n",
    "import torchvision.transforms as T\n",
    "from torch import nn\n",
    "from torch.utils.data import DataLoader\n",
    "from torchlake.common.controller.recorder import TrainRecorder\n",
    "from torchlake.common.utils.convert import img_tensor_to_np\n",
    "from torchlake.common.utils.plot import plot_grids\n",
    "from torchlake.common.utils.random import generate_normal\n",
    "from torchlake.image_generation.controllers.trainer_gan import GANTrainer\n",
    "from torchlake.image_generation.models.dcgan import (DCGANDiscriminator,\n",
    "                                                     DCGANGenerator)\n",
    "from torchlake.image_generation.models.gan import GANDiscriminatorLoss, GANGeneratorLoss\n",
    "from tqdm import tqdm"
   ]
  },
  {
   "cell_type": "markdown",
   "metadata": {},
   "source": [
    "# Setting"
   ]
  },
  {
   "cell_type": "code",
   "execution_count": 127,
   "metadata": {},
   "outputs": [],
   "source": [
    "IMAGE_SIZE = 32\n",
    "BATCH_SIZE = 64"
   ]
  },
  {
   "cell_type": "code",
   "execution_count": 128,
   "metadata": {},
   "outputs": [],
   "source": [
    "artifact_path = Path('../../artifacts/dcgan')\n",
    "artifact_path.mkdir(exist_ok=True)\n",
    "\n",
    "data_path = Path('../../data/cifar10')"
   ]
  },
  {
   "cell_type": "code",
   "execution_count": 129,
   "metadata": {},
   "outputs": [],
   "source": [
    "DEVICE = torch.device('cuda:0')"
   ]
  },
  {
   "cell_type": "markdown",
   "metadata": {},
   "source": [
    "# Data"
   ]
  },
  {
   "cell_type": "code",
   "execution_count": 130,
   "metadata": {},
   "outputs": [],
   "source": [
    "preprocess = T.Compose(\n",
    "    [\n",
    "        T.Resize((IMAGE_SIZE, IMAGE_SIZE)),\n",
    "        T.ToTensor(),\n",
    "        lambda x: 2 * x - 1,\n",
    "    ]\n",
    ")"
   ]
  },
  {
   "cell_type": "code",
   "execution_count": 131,
   "metadata": {},
   "outputs": [],
   "source": [
    "train_data = torchvision.datasets.CIFAR10(\n",
    "    root=data_path.as_posix(),\n",
    "    train=True,\n",
    "    transform=preprocess,\n",
    ")\n",
    "\n",
    "test_data = torchvision.datasets.CIFAR10(\n",
    "    root=data_path.as_posix(),\n",
    "    train=True,\n",
    "    transform=preprocess,\n",
    ")"
   ]
  },
  {
   "cell_type": "code",
   "execution_count": 132,
   "metadata": {},
   "outputs": [
    {
     "name": "stdout",
     "output_type": "stream",
     "text": [
      "torch.Size([3, 32, 32])\n"
     ]
    }
   ],
   "source": [
    "for img, _ in train_data:\n",
    "    print(img.shape)\n",
    "    break"
   ]
  },
  {
   "cell_type": "code",
   "execution_count": 133,
   "metadata": {},
   "outputs": [],
   "source": [
    "train_loader = DataLoader(\n",
    "    train_data,\n",
    "    batch_size=BATCH_SIZE,\n",
    "    shuffle=True,\n",
    "    drop_last=True,\n",
    ")\n",
    "\n",
    "test_loader = DataLoader(\n",
    "    test_data,\n",
    "    batch_size=BATCH_SIZE,\n",
    ")"
   ]
  },
  {
   "cell_type": "code",
   "execution_count": 134,
   "metadata": {},
   "outputs": [
    {
     "data": {
      "text/plain": [
       "<matplotlib.image.AxesImage at 0x2a9421ed050>"
      ]
     },
     "execution_count": 134,
     "metadata": {},
     "output_type": "execute_result"
    },
    {
     "data": {
      "image/png": "[encoded data removed]",
      "text/plain": [
       "<Figure size 200x200 with 1 Axes>"
      ]
     },
     "metadata": {},
     "output_type": "display_data"
    }
   ],
   "source": [
    "# 資料集繪圖\n",
    "plt.figure(figsize=(2, 2))\n",
    "plt.imshow(\n",
    "    img_tensor_to_np((train_data[1][0] + 1) / 2), \n",
    "    # cmap='gray',\n",
    ")"
   ]
  },
  {
   "cell_type": "markdown",
   "metadata": {},
   "source": [
    "# model"
   ]
  },
  {
   "cell_type": "code",
   "execution_count": 135,
   "metadata": {},
   "outputs": [],
   "source": [
    "LATENT_DIM = 128\n",
    "HIDDEN_DIM = 1024\n",
    "NUM_BLOCK = 4"
   ]
  },
  {
   "cell_type": "code",
   "execution_count": 136,
   "metadata": {},
   "outputs": [],
   "source": [
    "# 2 x 16 = 32\n",
    "generator = DCGANGenerator(LATENT_DIM, 3, HIDDEN_DIM, num_block=NUM_BLOCK, init_shape=(2, 2)).to(DEVICE)\n",
    "# 32 / 32 = 1\n",
    "discriminator = DCGANDiscriminator(3, HIDDEN_DIM // (2**NUM_BLOCK), image_shape=(IMAGE_SIZE, IMAGE_SIZE), num_block=NUM_BLOCK).to(DEVICE)"
   ]
  },
  {
   "cell_type": "code",
   "execution_count": 137,
   "metadata": {},
   "outputs": [
    {
     "data": {
      "text/plain": [
       "=================================================================\n",
       "Layer (type:depth-idx)                   Param #\n",
       "=================================================================\n",
       "DCGANGenerator                           --\n",
       "├─Sequential: 1-1                        --\n",
       "│    └─Linear: 2-1                       528,384\n",
       "│    └─Unflatten: 2-2                    --\n",
       "│    └─BatchNorm2d: 2-3                  2,048\n",
       "├─Sequential: 1-2                        --\n",
       "│    └─ConvBNReLU: 2-4                   --\n",
       "│    │    └─ConvTranspose2d: 3-1         8,388,608\n",
       "│    │    └─BatchNorm2d: 3-2             1,024\n",
       "│    │    └─ReLU: 3-3                    --\n",
       "│    └─ConvBNReLU: 2-5                   --\n",
       "│    │    └─ConvTranspose2d: 3-4         2,097,152\n",
       "│    │    └─BatchNorm2d: 3-5             512\n",
       "│    │    └─ReLU: 3-6                    --\n",
       "│    └─ConvBNReLU: 2-6                   --\n",
       "│    │    └─ConvTranspose2d: 3-7         524,288\n",
       "│    │    └─BatchNorm2d: 3-8             256\n",
       "│    │    └─ReLU: 3-9                    --\n",
       "│    └─ConvBNReLU: 2-7                   --\n",
       "│    │    └─ConvTranspose2d: 3-10        131,072\n",
       "│    │    └─BatchNorm2d: 3-11            128\n",
       "│    │    └─ReLU: 3-12                   --\n",
       "├─Sequential: 1-3                        --\n",
       "│    └─Conv2d: 2-8                       1,731\n",
       "│    └─Tanh: 2-9                         --\n",
       "=================================================================\n",
       "Total params: 11,675,203\n",
       "Trainable params: 11,675,203\n",
       "Non-trainable params: 0\n",
       "================================================================="
      ]
     },
     "execution_count": 137,
     "metadata": {},
     "output_type": "execute_result"
    }
   ],
   "source": [
    "torchinfo.summary(generator)"
   ]
  },
  {
   "cell_type": "code",
   "execution_count": 138,
   "metadata": {},
   "outputs": [
    {
     "data": {
      "text/plain": [
       "DCGANGenerator(\n",
       "  (foot): Sequential(\n",
       "    (0): Linear(in_features=128, out_features=4096, bias=True)\n",
       "    (1): Unflatten(dim=-1, unflattened_size=(1024, 2, 2))\n",
       "    (2): BatchNorm2d(1024, eps=1e-05, momentum=0.1, affine=True, track_running_stats=True)\n",
       "  )\n",
       "  (blocks): Sequential(\n",
       "    (0): ConvBNReLU(\n",
       "      (conv): ConvTranspose2d(1024, 512, kernel_size=(4, 4), stride=(2, 2), padding=(1, 1), bias=False)\n",
       "      (bn): BatchNorm2d(512, eps=1e-05, momentum=0.1, affine=True, track_running_stats=True)\n",
       "      (activation): ReLU()\n",
       "    )\n",
       "    (1): ConvBNReLU(\n",
       "      (conv): ConvTranspose2d(512, 256, kernel_size=(4, 4), stride=(2, 2), padding=(1, 1), bias=False)\n",
       "      (bn): BatchNorm2d(256, eps=1e-05, momentum=0.1, affine=True, track_running_stats=True)\n",
       "      (activation): ReLU()\n",
       "    )\n",
       "    (2): ConvBNReLU(\n",
       "      (conv): ConvTranspose2d(256, 128, kernel_size=(4, 4), stride=(2, 2), padding=(1, 1), bias=False)\n",
       "      (bn): BatchNorm2d(128, eps=1e-05, momentum=0.1, affine=True, track_running_stats=True)\n",
       "      (activation): ReLU()\n",
       "    )\n",
       "    (3): ConvBNReLU(\n",
       "      (conv): ConvTranspose2d(128, 64, kernel_size=(4, 4), stride=(2, 2), padding=(1, 1), bias=False)\n",
       "      (bn): BatchNorm2d(64, eps=1e-05, momentum=0.1, affine=True, track_running_stats=True)\n",
       "      (activation): ReLU()\n",
       "    )\n",
       "  )\n",
       "  (head): Sequential(\n",
       "    (0): Conv2d(64, 3, kernel_size=(3, 3), stride=(1, 1), padding=(1, 1))\n",
       "    (1): Tanh()\n",
       "  )\n",
       ")"
      ]
     },
     "execution_count": 138,
     "metadata": {},
     "output_type": "execute_result"
    }
   ],
   "source": [
    "generator"
   ]
  },
  {
   "cell_type": "code",
   "execution_count": 139,
   "metadata": {},
   "outputs": [
    {
     "data": {
      "text/plain": [
       "=================================================================\n",
       "Layer (type:depth-idx)                   Param #\n",
       "=================================================================\n",
       "DCGANDiscriminator                       --\n",
       "├─Sequential: 1-1                        --\n",
       "│    └─Conv2dNormActivation: 2-1         --\n",
       "│    │    └─Conv2d: 3-1                  1,792\n",
       "│    │    └─LeakyReLU: 3-2               --\n",
       "├─Sequential: 1-2                        --\n",
       "│    └─Conv2dNormActivation: 2-2         --\n",
       "│    │    └─Conv2d: 3-3                  73,728\n",
       "│    │    └─BatchNorm2d: 3-4             256\n",
       "│    │    └─LeakyReLU: 3-5               --\n",
       "│    └─Conv2dNormActivation: 2-3         --\n",
       "│    │    └─Conv2d: 3-6                  294,912\n",
       "│    │    └─BatchNorm2d: 3-7             512\n",
       "│    │    └─LeakyReLU: 3-8               --\n",
       "│    └─Conv2dNormActivation: 2-4         --\n",
       "│    │    └─Conv2d: 3-9                  1,179,648\n",
       "│    │    └─BatchNorm2d: 3-10            1,024\n",
       "│    │    └─LeakyReLU: 3-11              --\n",
       "│    └─Conv2dNormActivation: 2-5         --\n",
       "│    │    └─Conv2d: 3-12                 4,718,592\n",
       "│    │    └─BatchNorm2d: 3-13            2,048\n",
       "│    │    └─LeakyReLU: 3-14              --\n",
       "├─Sequential: 1-3                        --\n",
       "│    └─FlattenFeature: 2-6               --\n",
       "│    │    └─Sequential: 3-15             --\n",
       "│    └─Linear: 2-7                       1,025\n",
       "=================================================================\n",
       "Total params: 6,273,537\n",
       "Trainable params: 6,273,537\n",
       "Non-trainable params: 0\n",
       "================================================================="
      ]
     },
     "execution_count": 139,
     "metadata": {},
     "output_type": "execute_result"
    }
   ],
   "source": [
    "torchinfo.summary(discriminator)"
   ]
  },
  {
   "cell_type": "code",
   "execution_count": 140,
   "metadata": {},
   "outputs": [
    {
     "data": {
      "text/plain": [
       "DCGANDiscriminator(\n",
       "  (foot): Sequential(\n",
       "    (0): Conv2dNormActivation(\n",
       "      (0): Conv2d(3, 64, kernel_size=(3, 3), stride=(2, 2), padding=(1, 1))\n",
       "      (1): LeakyReLU(negative_slope=0.2)\n",
       "    )\n",
       "  )\n",
       "  (blocks): Sequential(\n",
       "    (0): Conv2dNormActivation(\n",
       "      (0): Conv2d(64, 128, kernel_size=(3, 3), stride=(2, 2), padding=(1, 1), bias=False)\n",
       "      (1): BatchNorm2d(128, eps=1e-05, momentum=0.1, affine=True, track_running_stats=True)\n",
       "      (2): LeakyReLU(negative_slope=0.2)\n",
       "    )\n",
       "    (1): Conv2dNormActivation(\n",
       "      (0): Conv2d(128, 256, kernel_size=(3, 3), stride=(2, 2), padding=(1, 1), bias=False)\n",
       "      (1): BatchNorm2d(256, eps=1e-05, momentum=0.1, affine=True, track_running_stats=True)\n",
       "      (2): LeakyReLU(negative_slope=0.2)\n",
       "    )\n",
       "    (2): Conv2dNormActivation(\n",
       "      (0): Conv2d(256, 512, kernel_size=(3, 3), stride=(2, 2), padding=(1, 1), bias=False)\n",
       "      (1): BatchNorm2d(512, eps=1e-05, momentum=0.1, affine=True, track_running_stats=True)\n",
       "      (2): LeakyReLU(negative_slope=0.2)\n",
       "    )\n",
       "    (3): Conv2dNormActivation(\n",
       "      (0): Conv2d(512, 1024, kernel_size=(3, 3), stride=(2, 2), padding=(1, 1), bias=False)\n",
       "      (1): BatchNorm2d(1024, eps=1e-05, momentum=0.1, affine=True, track_running_stats=True)\n",
       "      (2): LeakyReLU(negative_slope=0.2)\n",
       "    )\n",
       "  )\n",
       "  (head): Sequential(\n",
       "    (0): FlattenFeature(\n",
       "      (pool): Sequential(\n",
       "        (0): Identity()\n",
       "        (1): Flatten(start_dim=1, end_dim=-1)\n",
       "      )\n",
       "    )\n",
       "    (1): Linear(in_features=1024, out_features=1, bias=True)\n",
       "  )\n",
       ")"
      ]
     },
     "execution_count": 140,
     "metadata": {},
     "output_type": "execute_result"
    }
   ],
   "source": [
    "discriminator"
   ]
  },
  {
   "cell_type": "markdown",
   "metadata": {},
   "source": [
    "# train"
   ]
  },
  {
   "cell_type": "code",
   "execution_count": 141,
   "metadata": {},
   "outputs": [],
   "source": [
    "EPOCH = 30"
   ]
  },
  {
   "cell_type": "code",
   "execution_count": 142,
   "metadata": {},
   "outputs": [],
   "source": [
    "trainer = GANTrainer(EPOCH, DEVICE)\n",
    "# trainer.set_discriminator_cycle(2)"
   ]
  },
  {
   "cell_type": "code",
   "execution_count": 143,
   "metadata": {},
   "outputs": [],
   "source": [
    "recorder = TrainRecorder(total_epoch=EPOCH, num_loss=2, loss_names=[\"discriminator\", \"generator\"])\n",
    "recorder.increment_data_size(len(train_data))"
   ]
  },
  {
   "cell_type": "code",
   "execution_count": 144,
   "metadata": {},
   "outputs": [],
   "source": [
    "LR = 5e-5\n",
    "BETA = (0.5, 0.999)"
   ]
  },
  {
   "cell_type": "code",
   "execution_count": null,
   "metadata": {},
   "outputs": [],
   "source": [
    "criterion_g = GANGeneratorLoss()\n",
    "criterion_d = GANDiscriminatorLoss()\n",
    "optim_g = torch.optim.Adam(generator.parameters(), lr=LR , betas=BETA)\n",
    "optim_d = torch.optim.Adam(discriminator.parameters(), lr=LR, betas=BETA)"
   ]
  },
  {
   "cell_type": "code",
   "execution_count": null,
   "metadata": {},
   "outputs": [],
   "source": [
    "from typing import Any, Generator\n",
    "\n",
    "def noise_generator(batch: tuple[Any]) -> Generator[torch.Tensor, None, None]:\n",
    "    batch_size = len(batch[0])\n",
    "    \n",
    "    while True:\n",
    "        yield generate_normal(batch_size, LATENT_DIM).to(DEVICE)"
   ]
  },
  {
   "cell_type": "code",
   "execution_count": null,
   "metadata": {},
   "outputs": [
    {
     "name": "stdout",
     "output_type": "stream",
     "text": [
      "Enable AMP: False\n"
     ]
    },
    {
     "name": "stderr",
     "output_type": "stream",
     "text": [
      "100%|██████████| 781/781 [00:31<00:00, 24.77it/s]\n"
     ]
    },
    {
     "name": "stdout",
     "output_type": "stream",
     "text": [
      "------------------------------------\n",
      "Epoch 1\n",
      "------------------------------------\n",
      "discriminator: 8.4203e-03 (0.00%)\n",
      "generator: 1.5746e-02 (0.00%)\n"
     ]
    },
    {
     "name": "stderr",
     "output_type": "stream",
     "text": [
      "100%|██████████| 781/781 [00:30<00:00, 25.50it/s]\n"
     ]
    },
    {
     "name": "stdout",
     "output_type": "stream",
     "text": [
      "------------------------------------\n",
      "Epoch 2\n",
      "------------------------------------\n",
      "discriminator: 1.8644e-02 (121.00%)\n",
      "generator: 2.8149e-02 (79.00%)\n"
     ]
    },
    {
     "name": "stderr",
     "output_type": "stream",
     "text": [
      "100%|██████████| 781/781 [00:29<00:00, 26.43it/s]\n"
     ]
    },
    {
     "name": "stdout",
     "output_type": "stream",
     "text": [
      "------------------------------------\n",
      "Epoch 3\n",
      "------------------------------------\n",
      "discriminator: 2.9006e-02 (56.00%)\n",
      "generator: 4.0222e-02 (43.00%)\n"
     ]
    },
    {
     "name": "stderr",
     "output_type": "stream",
     "text": [
      "100%|██████████| 781/781 [00:29<00:00, 26.48it/s]\n"
     ]
    },
    {
     "name": "stdout",
     "output_type": "stream",
     "text": [
      "------------------------------------\n",
      "Epoch 4\n",
      "------------------------------------\n",
      "discriminator: 3.9461e-02 (36.00%)\n",
      "generator: 5.2066e-02 (29.00%)\n"
     ]
    },
    {
     "name": "stderr",
     "output_type": "stream",
     "text": [
      "100%|██████████| 781/781 [00:30<00:00, 26.03it/s]\n"
     ]
    },
    {
     "name": "stdout",
     "output_type": "stream",
     "text": [
      "------------------------------------\n",
      "Epoch 5\n",
      "------------------------------------\n",
      "discriminator: 4.9899e-02 (26.00%)\n",
      "generator: 6.3943e-02 (23.00%)\n"
     ]
    },
    {
     "name": "stderr",
     "output_type": "stream",
     "text": [
      "100%|██████████| 781/781 [00:29<00:00, 26.07it/s]\n"
     ]
    },
    {
     "name": "stdout",
     "output_type": "stream",
     "text": [
      "------------------------------------\n",
      "Epoch 6\n",
      "------------------------------------\n",
      "discriminator: 6.0273e-02 (21.00%)\n",
      "generator: 7.5967e-02 (19.00%)\n"
     ]
    },
    {
     "name": "stderr",
     "output_type": "stream",
     "text": [
      "100%|██████████| 781/781 [00:30<00:00, 25.51it/s]\n"
     ]
    },
    {
     "name": "stdout",
     "output_type": "stream",
     "text": [
      "------------------------------------\n",
      "Epoch 7\n",
      "------------------------------------\n",
      "discriminator: 7.0637e-02 (17.00%)\n",
      "generator: 8.7936e-02 (16.00%)\n"
     ]
    },
    {
     "name": "stderr",
     "output_type": "stream",
     "text": [
      "100%|██████████| 781/781 [00:29<00:00, 26.48it/s]\n"
     ]
    },
    {
     "name": "stdout",
     "output_type": "stream",
     "text": [
      "------------------------------------\n",
      "Epoch 8\n",
      "------------------------------------\n",
      "discriminator: 8.0959e-02 (15.00%)\n",
      "generator: 9.9990e-02 (14.00%)\n"
     ]
    },
    {
     "name": "stderr",
     "output_type": "stream",
     "text": [
      "100%|██████████| 781/781 [00:28<00:00, 27.37it/s]\n"
     ]
    },
    {
     "name": "stdout",
     "output_type": "stream",
     "text": [
      "------------------------------------\n",
      "Epoch 9\n",
      "------------------------------------\n",
      "discriminator: 9.1274e-02 (13.00%)\n",
      "generator: 1.1195e-01 (12.00%)\n"
     ]
    },
    {
     "name": "stderr",
     "output_type": "stream",
     "text": [
      "100%|██████████| 781/781 [00:28<00:00, 27.35it/s]\n"
     ]
    },
    {
     "name": "stdout",
     "output_type": "stream",
     "text": [
      "------------------------------------\n",
      "Epoch 10\n",
      "------------------------------------\n",
      "discriminator: 1.0153e-01 (11.00%)\n",
      "generator: 1.2408e-01 (11.00%)\n"
     ]
    },
    {
     "name": "stderr",
     "output_type": "stream",
     "text": [
      "100%|██████████| 781/781 [00:28<00:00, 27.37it/s]\n"
     ]
    },
    {
     "name": "stdout",
     "output_type": "stream",
     "text": [
      "------------------------------------\n",
      "Epoch 11\n",
      "------------------------------------\n",
      "discriminator: 1.1174e-01 (10.00%)\n",
      "generator: 1.3629e-01 (10.00%)\n"
     ]
    },
    {
     "name": "stderr",
     "output_type": "stream",
     "text": [
      "100%|██████████| 781/781 [00:28<00:00, 27.45it/s]\n"
     ]
    },
    {
     "name": "stdout",
     "output_type": "stream",
     "text": [
      "------------------------------------\n",
      "Epoch 12\n",
      "------------------------------------\n",
      "discriminator: 1.2188e-01 (9.00%)\n",
      "generator: 1.4865e-01 (9.00%)\n"
     ]
    },
    {
     "name": "stderr",
     "output_type": "stream",
     "text": [
      "100%|██████████| 781/781 [00:28<00:00, 27.44it/s]\n"
     ]
    },
    {
     "name": "stdout",
     "output_type": "stream",
     "text": [
      "------------------------------------\n",
      "Epoch 13\n",
      "------------------------------------\n",
      "discriminator: 1.3197e-01 (8.00%)\n",
      "generator: 1.6111e-01 (8.00%)\n"
     ]
    },
    {
     "name": "stderr",
     "output_type": "stream",
     "text": [
      "100%|██████████| 781/781 [00:28<00:00, 27.49it/s]\n"
     ]
    },
    {
     "name": "stdout",
     "output_type": "stream",
     "text": [
      "------------------------------------\n",
      "Epoch 14\n",
      "------------------------------------\n",
      "discriminator: 1.4197e-01 (8.00%)\n",
      "generator: 1.7371e-01 (8.00%)\n"
     ]
    },
    {
     "name": "stderr",
     "output_type": "stream",
     "text": [
      "100%|██████████| 781/781 [00:28<00:00, 27.13it/s]\n"
     ]
    },
    {
     "name": "stdout",
     "output_type": "stream",
     "text": [
      "------------------------------------\n",
      "Epoch 15\n",
      "------------------------------------\n",
      "discriminator: 1.5184e-01 (7.00%)\n",
      "generator: 1.8658e-01 (7.00%)\n"
     ]
    },
    {
     "name": "stderr",
     "output_type": "stream",
     "text": [
      "100%|██████████| 781/781 [00:28<00:00, 27.26it/s]\n"
     ]
    },
    {
     "name": "stdout",
     "output_type": "stream",
     "text": [
      "------------------------------------\n",
      "Epoch 16\n",
      "------------------------------------\n",
      "discriminator: 1.6155e-01 (6.00%)\n",
      "generator: 1.9986e-01 (7.00%)\n"
     ]
    },
    {
     "name": "stderr",
     "output_type": "stream",
     "text": [
      "100%|██████████| 781/781 [00:29<00:00, 26.85it/s]\n"
     ]
    },
    {
     "name": "stdout",
     "output_type": "stream",
     "text": [
      "------------------------------------\n",
      "Epoch 17\n",
      "------------------------------------\n",
      "discriminator: 1.7110e-01 (6.00%)\n",
      "generator: 2.1344e-01 (7.00%)\n"
     ]
    },
    {
     "name": "stderr",
     "output_type": "stream",
     "text": [
      "100%|██████████| 781/781 [00:29<00:00, 26.28it/s]\n"
     ]
    },
    {
     "name": "stdout",
     "output_type": "stream",
     "text": [
      "------------------------------------\n",
      "Epoch 18\n",
      "------------------------------------\n",
      "discriminator: 1.8058e-01 (6.00%)\n",
      "generator: 2.2721e-01 (6.00%)\n"
     ]
    },
    {
     "name": "stderr",
     "output_type": "stream",
     "text": [
      "100%|██████████| 781/781 [00:29<00:00, 26.49it/s]\n"
     ]
    },
    {
     "name": "stdout",
     "output_type": "stream",
     "text": [
      "------------------------------------\n",
      "Epoch 19\n",
      "------------------------------------\n",
      "discriminator: 1.8992e-01 (5.00%)\n",
      "generator: 2.4117e-01 (6.00%)\n"
     ]
    },
    {
     "name": "stderr",
     "output_type": "stream",
     "text": [
      "100%|██████████| 781/781 [00:29<00:00, 26.41it/s]\n"
     ]
    },
    {
     "name": "stdout",
     "output_type": "stream",
     "text": [
      "------------------------------------\n",
      "Epoch 20\n",
      "------------------------------------\n",
      "discriminator: 1.9912e-01 (5.00%)\n",
      "generator: 2.5552e-01 (6.00%)\n"
     ]
    },
    {
     "name": "stderr",
     "output_type": "stream",
     "text": [
      "100%|██████████| 781/781 [00:29<00:00, 26.40it/s]\n"
     ]
    },
    {
     "name": "stdout",
     "output_type": "stream",
     "text": [
      "------------------------------------\n",
      "Epoch 21\n",
      "------------------------------------\n",
      "discriminator: 2.0815e-01 (5.00%)\n",
      "generator: 2.7028e-01 (6.00%)\n"
     ]
    },
    {
     "name": "stderr",
     "output_type": "stream",
     "text": [
      "100%|██████████| 781/781 [00:29<00:00, 26.63it/s]\n"
     ]
    },
    {
     "name": "stdout",
     "output_type": "stream",
     "text": [
      "------------------------------------\n",
      "Epoch 22\n",
      "------------------------------------\n",
      "discriminator: 2.1705e-01 (4.00%)\n",
      "generator: 2.8530e-01 (6.00%)\n"
     ]
    },
    {
     "name": "stderr",
     "output_type": "stream",
     "text": [
      "100%|██████████| 781/781 [00:29<00:00, 26.62it/s]\n"
     ]
    },
    {
     "name": "stdout",
     "output_type": "stream",
     "text": [
      "------------------------------------\n",
      "Epoch 23\n",
      "------------------------------------\n",
      "discriminator: 2.2578e-01 (4.00%)\n",
      "generator: 3.0076e-01 (5.00%)\n"
     ]
    },
    {
     "name": "stderr",
     "output_type": "stream",
     "text": [
      "100%|██████████| 781/781 [00:28<00:00, 27.06it/s]\n"
     ]
    },
    {
     "name": "stdout",
     "output_type": "stream",
     "text": [
      "------------------------------------\n",
      "Epoch 24\n",
      "------------------------------------\n",
      "discriminator: 2.3437e-01 (4.00%)\n",
      "generator: 3.1670e-01 (5.00%)\n"
     ]
    },
    {
     "name": "stderr",
     "output_type": "stream",
     "text": [
      "100%|██████████| 781/781 [00:28<00:00, 27.19it/s]\n"
     ]
    },
    {
     "name": "stdout",
     "output_type": "stream",
     "text": [
      "------------------------------------\n",
      "Epoch 25\n",
      "------------------------------------\n",
      "discriminator: 2.4280e-01 (4.00%)\n",
      "generator: 3.3312e-01 (5.00%)\n"
     ]
    },
    {
     "name": "stderr",
     "output_type": "stream",
     "text": [
      "100%|██████████| 781/781 [00:29<00:00, 26.83it/s]\n"
     ]
    },
    {
     "name": "stdout",
     "output_type": "stream",
     "text": [
      "------------------------------------\n",
      "Epoch 26\n",
      "------------------------------------\n",
      "discriminator: 2.5106e-01 (3.00%)\n",
      "generator: 3.4986e-01 (5.00%)\n"
     ]
    },
    {
     "name": "stderr",
     "output_type": "stream",
     "text": [
      "100%|██████████| 781/781 [00:29<00:00, 26.73it/s]\n"
     ]
    },
    {
     "name": "stdout",
     "output_type": "stream",
     "text": [
      "------------------------------------\n",
      "Epoch 27\n",
      "------------------------------------\n",
      "discriminator: 2.5921e-01 (3.00%)\n",
      "generator: 3.6705e-01 (5.00%)\n"
     ]
    },
    {
     "name": "stderr",
     "output_type": "stream",
     "text": [
      "100%|██████████| 781/781 [00:29<00:00, 26.78it/s]\n"
     ]
    },
    {
     "name": "stdout",
     "output_type": "stream",
     "text": [
      "------------------------------------\n",
      "Epoch 28\n",
      "------------------------------------\n",
      "discriminator: 2.6722e-01 (3.00%)\n",
      "generator: 3.8455e-01 (5.00%)\n"
     ]
    },
    {
     "name": "stderr",
     "output_type": "stream",
     "text": [
      "100%|██████████| 781/781 [00:29<00:00, 26.77it/s]\n"
     ]
    },
    {
     "name": "stdout",
     "output_type": "stream",
     "text": [
      "------------------------------------\n",
      "Epoch 29\n",
      "------------------------------------\n",
      "discriminator: 2.7499e-01 (3.00%)\n",
      "generator: 4.0253e-01 (5.00%)\n"
     ]
    },
    {
     "name": "stderr",
     "output_type": "stream",
     "text": [
      "100%|██████████| 781/781 [00:28<00:00, 27.11it/s]"
     ]
    },
    {
     "name": "stdout",
     "output_type": "stream",
     "text": [
      "------------------------------------\n",
      "Epoch 30\n",
      "------------------------------------\n",
      "discriminator: 2.8264e-01 (3.00%)\n",
      "generator: 4.2107e-01 (5.00%)\n"
     ]
    },
    {
     "name": "stderr",
     "output_type": "stream",
     "text": [
      "\n"
     ]
    }
   ],
   "source": [
    "training_losses = trainer.run(\n",
    "    train_loader,\n",
    "    noise_generator,\n",
    "    generator,\n",
    "    discriminator,\n",
    "    optim_g,\n",
    "    optim_d,\n",
    "    criterion_g,\n",
    "    criterion_d,\n",
    "    recorder=recorder,\n",
    ")"
   ]
  },
  {
   "cell_type": "code",
   "execution_count": 148,
   "metadata": {},
   "outputs": [
    {
     "data": {
      "text/plain": [
       "<matplotlib.legend.Legend at 0x2a9843e1990>"
      ]
     },
     "execution_count": 148,
     "metadata": {},
     "output_type": "execute_result"
    },
    {
     "data": {
      "image/png": "[encoded data removed]",
      "text/plain": [
       "<Figure size 640x480 with 1 Axes>"
      ]
     },
     "metadata": {},
     "output_type": "display_data"
    }
   ],
   "source": [
    "plt.plot(training_losses[0], label=\"discriminator loss\")\n",
    "plt.plot(training_losses[1], label=\"generator loss\")\n",
    "plt.legend(bbox_to_anchor=(1, 1))"
   ]
  },
  {
   "cell_type": "markdown",
   "metadata": {},
   "source": [
    "# evaluation"
   ]
  },
  {
   "cell_type": "code",
   "execution_count": 149,
   "metadata": {},
   "outputs": [],
   "source": [
    "TEST_BATCH_SIZE = 9"
   ]
  },
  {
   "cell_type": "code",
   "execution_count": 152,
   "metadata": {},
   "outputs": [
    {
     "data": {
      "image/png": "[encoded data removed]",
      "text/plain": [
       "<Figure size 400x400 with 9 Axes>"
      ]
     },
     "metadata": {},
     "output_type": "display_data"
    }
   ],
   "source": [
    "# 合成圖片\n",
    "generator.eval()\n",
    "with torch.no_grad():\n",
    "    noise = generate_normal(TEST_BATCH_SIZE, LATENT_DIM).to(DEVICE)\n",
    "    gen_img = (generator(noise) + 1) / 2\n",
    "    \n",
    "plot_grids(\n",
    "    img_tensor_to_np(gen_img),\n",
    "    num_row=3,\n",
    "    num_col=3,\n",
    "    figsize=(4,4),\n",
    "    # cmap='gray',\n",
    ")"
   ]
  },
  {
   "cell_type": "code",
   "execution_count": 153,
   "metadata": {},
   "outputs": [
    {
     "name": "stderr",
     "output_type": "stream",
     "text": [
      "100%|██████████| 782/782 [00:18<00:00, 43.05it/s]"
     ]
    },
    {
     "name": "stdout",
     "output_type": "stream",
     "text": [
      "0.7897\n"
     ]
    },
    {
     "name": "stderr",
     "output_type": "stream",
     "text": [
      "\n"
     ]
    }
   ],
   "source": [
    "# 區別是否為真實圖片\n",
    "generator.eval()\n",
    "discriminator.eval()\n",
    "with torch.no_grad():\n",
    "    hits = 0.0\n",
    "    for img, _ in tqdm(test_loader):\n",
    "        img = img.to(DEVICE)\n",
    "        hits += discriminator(img).sigmoid().gt(0.5).sum().item()\n",
    "\n",
    "    print(hits / len(train_data))"
   ]
  },
  {
   "cell_type": "code",
   "execution_count": 154,
   "metadata": {},
   "outputs": [
    {
     "name": "stderr",
     "output_type": "stream",
     "text": [
      "100%|██████████| 782/782 [00:23<00:00, 33.30it/s]"
     ]
    },
    {
     "name": "stdout",
     "output_type": "stream",
     "text": [
      "0.26754\n"
     ]
    },
    {
     "name": "stderr",
     "output_type": "stream",
     "text": [
      "\n"
     ]
    }
   ],
   "source": [
    "# 區別是否為合成圖片\n",
    "generator.eval()\n",
    "discriminator.eval()\n",
    "with torch.no_grad():\n",
    "    hits = 0.0\n",
    "    for img, _ in tqdm(test_loader):\n",
    "        noise = torch.randn(BATCH_SIZE, LATENT_DIM).to(DEVICE)\n",
    "        gen_img = generator(noise)\n",
    "        hits += discriminator(gen_img).sigmoid().gt(0.5).sum().item()\n",
    "    print(hits / len(train_data))"
   ]
  },
  {
   "cell_type": "code",
   "execution_count": 158,
   "metadata": {},
   "outputs": [],
   "source": [
    "from torchlake.common.controller.weight_manager import WeightManager\n",
    "\n",
    "weight_manager = WeightManager(artifact_path.joinpath('dcgan.generator.pth').as_posix())"
   ]
  },
  {
   "cell_type": "code",
   "execution_count": 162,
   "metadata": {},
   "outputs": [
    {
     "data": {
      "text/plain": [
       "WindowsPath('../../artifacts/dcgan/dcgan.generator.pth')"
      ]
     },
     "execution_count": 162,
     "metadata": {},
     "output_type": "execute_result"
    }
   ],
   "source": [
    "generator_path = weight_manager.get_filename()\n",
    "generator_path"
   ]
  },
  {
   "cell_type": "code",
   "execution_count": 161,
   "metadata": {},
   "outputs": [
    {
     "name": "stdout",
     "output_type": "stream",
     "text": [
      "Save weight to ..\\..\\artifacts\\dcgan\\dcgan.generator.pth, model size is 44.56MiB\n"
     ]
    }
   ],
   "source": [
    "weight_manager.save_weight(generator.state_dict(), generator_path)"
   ]
  },
  {
   "cell_type": "code",
   "execution_count": 163,
   "metadata": {},
   "outputs": [],
   "source": [
    "weight_manager.load_weight(generator_path, generator)"
   ]
  }
 ],
 "metadata": {
  "kernelspec": {
   "display_name": ".venv",
   "language": "python",
   "name": "python3"
  },
  "language_info": {
   "codemirror_mode": {
    "name": "ipython",
    "version": 3
   },
   "file_extension": ".py",
   "mimetype": "text/x-python",
   "name": "python",
   "nbconvert_exporter": "python",
   "pygments_lexer": "ipython3",
   "version": "3.11.4"
  }
 },
 "nbformat": 4,
 "nbformat_minor": 2
}
