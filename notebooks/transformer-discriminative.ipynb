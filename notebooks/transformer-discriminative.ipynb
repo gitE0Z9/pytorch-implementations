{
    "cells": [
        {
            "cell_type": "code",
            "execution_count": 1,
            "metadata": {},
            "outputs": [],
            "source": [
                "from pathlib import Path\n",
                "\n",
                "import matplotlib.pyplot as plt\n",
                "import torch\n",
                "import torchinfo\n",
                "import torchtext\n",
                "import torchtext.transforms as T\n",
                "from torch.utils.data import DataLoader\n",
                "from torchlake.common.controller.evaluator import ClassificationEvaluator\n",
                "from torchlake.common.controller.trainer import ClassificationTrainer\n",
                "from torchlake.common.schemas import NlpContext\n",
                "from torchlake.common.utils.platform import get_file_size, get_num_workers\n",
                "from torchlake.common.utils.text import build_vocab, is_longer_text\n",
                "from torchlake.sequence_data.models.transformer import TransformerEncoder\n",
                "from torchlake.text_classification.datasets.ag_news import CLASS_NAMES\n",
                "from torchtext.data.utils import get_tokenizer\n",
                "from torchtext.datasets import AG_NEWS"
            ]
        },
        {
            "cell_type": "code",
            "execution_count": 2,
            "metadata": {},
            "outputs": [
                {
                    "data": {
                        "text/plain": [
                            "'2.1.0+cu118'"
                        ]
                    },
                    "execution_count": 2,
                    "metadata": {},
                    "output_type": "execute_result"
                }
            ],
            "source": [
                "torch.__version__"
            ]
        },
        {
            "cell_type": "code",
            "execution_count": 3,
            "metadata": {},
            "outputs": [
                {
                    "data": {
                        "text/plain": [
                            "'0.16.0+cpu'"
                        ]
                    },
                    "execution_count": 3,
                    "metadata": {},
                    "output_type": "execute_result"
                }
            ],
            "source": [
                "torchtext.__version__"
            ]
        },
        {
            "cell_type": "markdown",
            "metadata": {},
            "source": [
                "# setting\n"
            ]
        },
        {
            "cell_type": "code",
            "execution_count": 4,
            "metadata": {},
            "outputs": [],
            "source": [
                "batch_size = 128\n",
                "CONTEXT = NlpContext()"
            ]
        },
        {
            "cell_type": "code",
            "execution_count": 5,
            "metadata": {},
            "outputs": [],
            "source": [
                "tokenizer = get_tokenizer(\"basic_english\")"
            ]
        },
        {
            "cell_type": "code",
            "execution_count": 6,
            "metadata": {},
            "outputs": [],
            "source": [
                "artifact_path = Path(\"../../artifacts/transformer\")\n",
                "artifact_path.mkdir(exist_ok=True)\n",
                "\n",
                "dataset_path = Path(\"../../data/AGNews\")"
            ]
        },
        {
            "cell_type": "code",
            "execution_count": 7,
            "metadata": {},
            "outputs": [],
            "source": [
                "DEVICE = torch.device(CONTEXT.device)"
            ]
        },
        {
            "cell_type": "markdown",
            "metadata": {},
            "source": [
                "# dataset\n"
            ]
        },
        {
            "cell_type": "code",
            "execution_count": 8,
            "metadata": {},
            "outputs": [],
            "source": [
                "NUM_CLASS = len(CLASS_NAMES)"
            ]
        },
        {
            "cell_type": "code",
            "execution_count": 9,
            "metadata": {},
            "outputs": [],
            "source": [
                "MINIMUM_LENGTH = 5"
            ]
        },
        {
            "cell_type": "code",
            "execution_count": 10,
            "metadata": {},
            "outputs": [],
            "source": [
                "def datapipe_factory(\n",
                "    datapipe,\n",
                "    minimum_length: int = 1,\n",
                "    transform=None,\n",
                "):\n",
                "    datapipe = (\n",
                "        datapipe\n",
                "            .map(lambda pair: (pair[1], pair[0])) # label, text -> text, label\n",
                "            .map(lambda pair: (pair[0], pair[1]-1))\n",
                "            .map(lambda pair: (pair[0].strip(), pair[1]))\n",
                "            .map(lambda pair: (pair[0].lower(), pair[1]))\n",
                "            .filter(lambda pair: is_longer_text(pair[0], minimum_length))\n",
                "            .map(\n",
                "                lambda pair: (tokenizer(pair[0]), pair[1])\n",
                "            )\n",
                "    )\n",
                "\n",
                "    if transform:\n",
                "        datapipe = datapipe.map(lambda item: (transform(item[0]), item[1]))\n",
                "\n",
                "    return datapipe"
            ]
        },
        {
            "cell_type": "code",
            "execution_count": 11,
            "metadata": {},
            "outputs": [],
            "source": [
                "train_datapipe, test_datapipe = AG_NEWS(dataset_path.as_posix())"
            ]
        },
        {
            "cell_type": "code",
            "execution_count": 12,
            "metadata": {},
            "outputs": [
                {
                    "name": "stderr",
                    "output_type": "stream",
                    "text": [
                        "d:\\research\\pytorch-implementations\\.venv\\Lib\\site-packages\\torch\\utils\\data\\datapipes\\utils\\common.py:141: UserWarning: Local function is not supported by pickle, please use regular python function or functools.partial instead.\n",
                        "  warnings.warn(\n"
                    ]
                }
            ],
            "source": [
                "vocab = build_vocab(map(lambda x: x[0], datapipe_factory(train_datapipe)))"
            ]
        },
        {
            "cell_type": "code",
            "execution_count": 13,
            "metadata": {},
            "outputs": [
                {
                    "data": {
                        "text/plain": [
                            "30335"
                        ]
                    },
                    "execution_count": 13,
                    "metadata": {},
                    "output_type": "execute_result"
                }
            ],
            "source": [
                "VOCAB_SIZE = len(vocab)\n",
                "VOCAB_SIZE"
            ]
        },
        {
            "cell_type": "code",
            "execution_count": 14,
            "metadata": {},
            "outputs": [],
            "source": [
                "text_transform = T.Sequential(\n",
                "    T.VocabTransform(vocab),\n",
                "    T.Truncate(CONTEXT.max_seq_len - 1),\n",
                "    T.AddToken(token=CONTEXT.bos_idx, begin=True),\n",
                "    T.ToTensor(),\n",
                "    T.PadTransform(CONTEXT.max_seq_len, CONTEXT.padding_idx),\n",
                ")"
            ]
        },
        {
            "cell_type": "code",
            "execution_count": 15,
            "metadata": {},
            "outputs": [],
            "source": [
                "train_datapipe = datapipe_factory(\n",
                "    train_datapipe,\n",
                "    minimum_length=MINIMUM_LENGTH,\n",
                "    transform=text_transform,\n",
                ")\n",
                "\n",
                "test_datapipe = datapipe_factory(\n",
                "    test_datapipe,\n",
                "    minimum_length=MINIMUM_LENGTH,\n",
                "    transform=text_transform,\n",
                ")"
            ]
        },
        {
            "cell_type": "code",
            "execution_count": 16,
            "metadata": {},
            "outputs": [
                {
                    "name": "stdout",
                    "output_type": "stream",
                    "text": [
                        "torch.Size([256])\n",
                        "2\n"
                    ]
                }
            ],
            "source": [
                "for text, label in train_datapipe:\n",
                "    print(text.shape)\n",
                "    print(label)\n",
                "    break"
            ]
        },
        {
            "cell_type": "code",
            "execution_count": 17,
            "metadata": {},
            "outputs": [],
            "source": [
                "NUM_WORKERS = get_num_workers()"
            ]
        },
        {
            "cell_type": "code",
            "execution_count": 18,
            "metadata": {},
            "outputs": [],
            "source": [
                "def collate_fn(batch: list):\n",
                "    text_placeholder, label_placeholder = [], []\n",
                "    for text, label in batch:\n",
                "        text_placeholder.append(text)\n",
                "        label_placeholder.append(label)\n",
                "\n",
                "    return torch.stack(text_placeholder), torch.LongTensor(label_placeholder)"
            ]
        },
        {
            "cell_type": "code",
            "execution_count": 19,
            "metadata": {},
            "outputs": [],
            "source": [
                "train_dataloader = DataLoader(\n",
                "    train_datapipe,\n",
                "    batch_size=batch_size,\n",
                "    num_workers=NUM_WORKERS,\n",
                "    collate_fn=collate_fn,\n",
                "    shuffle=True,\n",
                ")\n",
                "\n",
                "test_dataloader = DataLoader(\n",
                "    test_datapipe,\n",
                "    batch_size=batch_size,\n",
                "    num_workers=NUM_WORKERS,\n",
                "    collate_fn=collate_fn,\n",
                ")"
            ]
        },
        {
            "cell_type": "code",
            "execution_count": 20,
            "metadata": {},
            "outputs": [
                {
                    "name": "stdout",
                    "output_type": "stream",
                    "text": [
                        "torch.Size([128, 256]) torch.Size([128])\n"
                    ]
                },
                {
                    "name": "stderr",
                    "output_type": "stream",
                    "text": [
                        "d:\\research\\pytorch-implementations\\.venv\\Lib\\site-packages\\torch\\utils\\data\\datapipes\\iter\\combining.py:333: UserWarning: Some child DataPipes are not exhausted when __iter__ is called. We are resetting the buffer and each child DataPipe will read from the start again.\n",
                        "  warnings.warn(\"Some child DataPipes are not exhausted when __iter__ is called. We are resetting \"\n"
                    ]
                }
            ],
            "source": [
                "for text, label in train_dataloader:\n",
                "    print(text.shape, label.shape)\n",
                "    break"
            ]
        },
        {
            "cell_type": "markdown",
            "metadata": {},
            "source": [
                "# model\n"
            ]
        },
        {
            "cell_type": "code",
            "execution_count": 21,
            "metadata": {},
            "outputs": [],
            "source": [
                "HIDDEN_DIM = 256"
            ]
        },
        {
            "cell_type": "code",
            "execution_count": 22,
            "metadata": {},
            "outputs": [],
            "source": [
                "from torch import nn\n",
                "\n",
                "# just like ViT\n",
                "class TransformerDiscriminator(nn.Module):\n",
                "    def __init__(self):\n",
                "        super().__init__()\n",
                "        self.att = TransformerEncoder(\n",
                "            VOCAB_SIZE,\n",
                "            HIDDEN_DIM,\n",
                "            num_layers = 6,\n",
                "            num_heads = 8,\n",
                "            padding_idx=CONTEXT.padding_idx,\n",
                "        )\n",
                "        self.fc = nn.Linear(HIDDEN_DIM, NUM_CLASS)\n",
                "\n",
                "    def forward(self, x):        \n",
                "        return self.fc(self.att(x)[:, 0])"
            ]
        },
        {
            "cell_type": "code",
            "execution_count": 23,
            "metadata": {},
            "outputs": [],
            "source": [
                "model = TransformerDiscriminator().to(DEVICE)"
            ]
        },
        {
            "cell_type": "code",
            "execution_count": 24,
            "metadata": {},
            "outputs": [
                {
                    "data": {
                        "text/plain": [
                            "===============================================================================================\n",
                            "Layer (type:depth-idx)                                                 Param #\n",
                            "===============================================================================================\n",
                            "TransformerDiscriminator                                               --\n",
                            "├─TransformerEncoder: 1-1                                              --\n",
                            "│    └─ModuleDict: 2-1                                                 --\n",
                            "│    │    └─PositionEncoding: 3-1                                      --\n",
                            "│    │    └─Embedding: 3-2                                             7,765,760\n",
                            "│    │    └─Dropout: 3-3                                               --\n",
                            "│    └─Sequential: 2-2                                                 --\n",
                            "│    │    └─TransformerEncoderBlock: 3-4                               789,760\n",
                            "│    │    └─TransformerEncoderBlock: 3-5                               789,760\n",
                            "│    │    └─TransformerEncoderBlock: 3-6                               789,760\n",
                            "│    │    └─TransformerEncoderBlock: 3-7                               789,760\n",
                            "│    │    └─TransformerEncoderBlock: 3-8                               789,760\n",
                            "│    │    └─TransformerEncoderBlock: 3-9                               789,760\n",
                            "├─Linear: 1-2                                                          1,028\n",
                            "===============================================================================================\n",
                            "Total params: 12,505,348\n",
                            "Trainable params: 12,505,348\n",
                            "Non-trainable params: 0\n",
                            "==============================================================================================="
                        ]
                    },
                    "execution_count": 24,
                    "metadata": {},
                    "output_type": "execute_result"
                }
            ],
            "source": [
                "torchinfo.summary(model)"
            ]
        },
        {
            "cell_type": "markdown",
            "metadata": {},
            "source": [
                "# train"
            ]
        },
        {
            "cell_type": "code",
            "execution_count": 25,
            "metadata": {},
            "outputs": [],
            "source": [
                "EPOCHS = 10"
            ]
        },
        {
            "cell_type": "code",
            "execution_count": 26,
            "metadata": {},
            "outputs": [],
            "source": [
                "trainer = ClassificationTrainer(EPOCHS, DEVICE)"
            ]
        },
        {
            "cell_type": "code",
            "execution_count": 27,
            "metadata": {},
            "outputs": [],
            "source": [
                "criterion = trainer.get_criterion(NUM_CLASS)\n",
                "optimizer = torch.optim.Adam(model.parameters(), lr=1e-4)"
            ]
        },
        {
            "cell_type": "code",
            "execution_count": 28,
            "metadata": {},
            "outputs": [],
            "source": [
                "scheduler = torch.optim.lr_scheduler.ReduceLROnPlateau(optimizer, 'min', patience=2, threshold=.05 ,threshold_mode ='rel')"
            ]
        },
        {
            "cell_type": "code",
            "execution_count": 29,
            "metadata": {},
            "outputs": [
                {
                    "name": "stderr",
                    "output_type": "stream",
                    "text": [
                        "938it [04:12,  3.72it/s]\n"
                    ]
                },
                {
                    "name": "stdout",
                    "output_type": "stream",
                    "text": [
                        "epoch 1 : 0.3221207831396477\n"
                    ]
                },
                {
                    "name": "stderr",
                    "output_type": "stream",
                    "text": [
                        "938it [04:14,  3.69it/s]\n"
                    ]
                },
                {
                    "name": "stdout",
                    "output_type": "stream",
                    "text": [
                        "epoch 2 : 0.2260042939072987\n"
                    ]
                },
                {
                    "name": "stderr",
                    "output_type": "stream",
                    "text": [
                        "938it [04:14,  3.68it/s]\n"
                    ]
                },
                {
                    "name": "stdout",
                    "output_type": "stream",
                    "text": [
                        "epoch 3 : 0.2038360163807742\n"
                    ]
                },
                {
                    "name": "stderr",
                    "output_type": "stream",
                    "text": [
                        "938it [04:12,  3.71it/s]\n"
                    ]
                },
                {
                    "name": "stdout",
                    "output_type": "stream",
                    "text": [
                        "epoch 4 : 0.18866281023125914\n"
                    ]
                },
                {
                    "name": "stderr",
                    "output_type": "stream",
                    "text": [
                        "938it [04:14,  3.69it/s]\n"
                    ]
                },
                {
                    "name": "stdout",
                    "output_type": "stream",
                    "text": [
                        "epoch 5 : 0.17766677440483686\n"
                    ]
                },
                {
                    "name": "stderr",
                    "output_type": "stream",
                    "text": [
                        "938it [04:14,  3.68it/s]\n"
                    ]
                },
                {
                    "name": "stdout",
                    "output_type": "stream",
                    "text": [
                        "epoch 6 : 0.1651472176141195\n"
                    ]
                },
                {
                    "name": "stderr",
                    "output_type": "stream",
                    "text": [
                        "938it [04:09,  3.75it/s]\n"
                    ]
                },
                {
                    "name": "stdout",
                    "output_type": "stream",
                    "text": [
                        "epoch 7 : 0.1581976563453293\n"
                    ]
                },
                {
                    "name": "stderr",
                    "output_type": "stream",
                    "text": [
                        "938it [04:04,  3.84it/s]\n"
                    ]
                },
                {
                    "name": "stdout",
                    "output_type": "stream",
                    "text": [
                        "epoch 8 : 0.15023241562248546\n"
                    ]
                },
                {
                    "name": "stderr",
                    "output_type": "stream",
                    "text": [
                        "938it [04:10,  3.74it/s]\n"
                    ]
                },
                {
                    "name": "stdout",
                    "output_type": "stream",
                    "text": [
                        "epoch 9 : 0.14290984048406835\n"
                    ]
                },
                {
                    "name": "stderr",
                    "output_type": "stream",
                    "text": [
                        "938it [04:21,  3.59it/s]"
                    ]
                },
                {
                    "name": "stdout",
                    "output_type": "stream",
                    "text": [
                        "epoch 10 : 0.13701544406968774\n"
                    ]
                },
                {
                    "name": "stderr",
                    "output_type": "stream",
                    "text": [
                        "\n"
                    ]
                }
            ],
            "source": [
                "training_loss = trainer.run(train_dataloader, model, optimizer, criterion, scheduler)"
            ]
        },
        {
            "cell_type": "code",
            "execution_count": 30,
            "metadata": {},
            "outputs": [
                {
                    "data": {
                        "text/plain": [
                            "[<matplotlib.lines.Line2D at 0x2a9b9dff190>]"
                        ]
                    },
                    "execution_count": 30,
                    "metadata": {},
                    "output_type": "execute_result"
                },
                {
                    "data": {
                        "image/png": "[encoded data removed]",
                        "text/plain": [
                            "<Figure size 640x480 with 1 Axes>"
                        ]
                    },
                    "metadata": {},
                    "output_type": "display_data"
                }
            ],
            "source": [
                "plt.plot(training_loss)"
            ]
        },
        {
            "cell_type": "markdown",
            "metadata": {},
            "source": [
                "# inference\n"
            ]
        },
        {
            "cell_type": "code",
            "execution_count": 31,
            "metadata": {},
            "outputs": [],
            "source": [
                "evaluator = ClassificationEvaluator(NUM_CLASS, DEVICE)"
            ]
        },
        {
            "cell_type": "code",
            "execution_count": 32,
            "metadata": {},
            "outputs": [
                {
                    "name": "stderr",
                    "output_type": "stream",
                    "text": [
                        "60it [00:05, 10.64it/s]"
                    ]
                },
                {
                    "name": "stdout",
                    "output_type": "stream",
                    "text": [
                        "[[1732   56   82   30]\n",
                        " [  39 1841   15    5]\n",
                        " [  90   33 1640  137]\n",
                        " [ 138   45  187 1530]]\n"
                    ]
                },
                {
                    "name": "stderr",
                    "output_type": "stream",
                    "text": [
                        "\n"
                    ]
                }
            ],
            "source": [
                "confusion_matrix = evaluator.run(test_dataloader, model)"
            ]
        },
        {
            "cell_type": "code",
            "execution_count": 33,
            "metadata": {},
            "outputs": [
                {
                    "name": "stdout",
                    "output_type": "stream",
                    "text": [
                        "world     : 0.911578947368421\n",
                        "sports    : 0.9689473684210527\n",
                        "business  : 0.8631578947368421\n",
                        "science   : 0.8052631578947368\n"
                    ]
                }
            ],
            "source": [
                "per_class_acc = evaluator.get_per_class_accuracy(confusion_matrix)\n",
                "evaluator.show_per_class_accuracy(CLASS_NAMES , per_class_acc)"
            ]
        },
        {
            "cell_type": "code",
            "execution_count": 34,
            "metadata": {},
            "outputs": [
                {
                    "data": {
                        "text/plain": [
                            "0.8872368421052632"
                        ]
                    },
                    "execution_count": 34,
                    "metadata": {},
                    "output_type": "execute_result"
                }
            ],
            "source": [
                "per_class_acc.mean()"
            ]
        },
        {
            "cell_type": "code",
            "execution_count": 35,
            "metadata": {},
            "outputs": [
                {
                    "data": {
                        "image/png": "[encoded data removed]",
                        "text/plain": [
                            "<Figure size 600x400 with 2 Axes>"
                        ]
                    },
                    "metadata": {},
                    "output_type": "display_data"
                }
            ],
            "source": [
                "evaluator.plot_confusion_matrix(\n",
                "    confusion_matrix,\n",
                "    CLASS_NAMES,\n",
                "    \"Blues\",\n",
                "    annot=True,\n",
                "    figsize=(6, 4),\n",
                ")"
            ]
        },
        {
            "cell_type": "code",
            "execution_count": 36,
            "metadata": {},
            "outputs": [],
            "source": [
                "model_path = artifact_path.joinpath(\"transformer.agnews.pth\")"
            ]
        },
        {
            "cell_type": "code",
            "execution_count": 37,
            "metadata": {},
            "outputs": [],
            "source": [
                "torch.save(model.state_dict(), model_path)"
            ]
        },
        {
            "cell_type": "code",
            "execution_count": 38,
            "metadata": {},
            "outputs": [
                {
                    "data": {
                        "text/plain": [
                            "'47.83MiB'"
                        ]
                    },
                    "execution_count": 38,
                    "metadata": {},
                    "output_type": "execute_result"
                }
            ],
            "source": [
                "get_file_size(model_path)"
            ]
        },
        {
            "cell_type": "code",
            "execution_count": 39,
            "metadata": {},
            "outputs": [
                {
                    "data": {
                        "text/plain": [
                            "<All keys matched successfully>"
                        ]
                    },
                    "execution_count": 39,
                    "metadata": {},
                    "output_type": "execute_result"
                }
            ],
            "source": [
                "model.load_state_dict(torch.load(model_path))"
            ]
        }
    ],
    "metadata": {
        "kernelspec": {
            "display_name": ".venv",
            "language": "python",
            "name": "python3"
        },
        "language_info": {
            "codemirror_mode": {
                "name": "ipython",
                "version": 3
            },
            "file_extension": ".py",
            "mimetype": "text/x-python",
            "name": "python",
            "nbconvert_exporter": "python",
            "pygments_lexer": "ipython3",
            "version": "3.11.4"
        }
    },
    "nbformat": 4,
    "nbformat_minor": 2
}