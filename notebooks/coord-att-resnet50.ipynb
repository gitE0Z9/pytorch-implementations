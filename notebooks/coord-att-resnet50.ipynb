{
    "cells": [
        {
            "cell_type": "code",
            "execution_count": 1,
            "metadata": {},
            "outputs": [],
            "source": [
                "from pathlib import Path\n",
                "\n",
                "import matplotlib.pyplot as plt\n",
                "import torch\n",
                "import torchinfo\n",
                "import torchvision\n",
                "from torch.utils.data import DataLoader\n",
                "from torchlake.common.constants import IMAGENET_MEAN, IMAGENET_STD\n",
                "from torchlake.common.controller.trainer import ClassificationTrainer\n",
                "from torchlake.common.controller.evaluator import ClassificationEvaluator\n",
                "from torchlake.common.utils.platform import get_num_workers, get_file_size\n",
                "from torchlake.image_classification.models.coord_attention import CoordAttentionResNet\n",
                "from torchvision import transforms"
            ]
        },
        {
            "cell_type": "markdown",
            "metadata": {},
            "source": [
                "# Setting"
            ]
        },
        {
            "cell_type": "code",
            "execution_count": 2,
            "metadata": {},
            "outputs": [],
            "source": [
                "IMAGE_SIZE = 224\n",
                "BATCH_SIZE = 16"
            ]
        },
        {
            "cell_type": "code",
            "execution_count": 3,
            "metadata": {},
            "outputs": [],
            "source": [
                "artifact_path = Path(\"../../artifacts/coord-att\")\n",
                "data_path = Path(\"../../data/animal10\")"
            ]
        },
        {
            "cell_type": "code",
            "execution_count": 4,
            "metadata": {},
            "outputs": [],
            "source": [
                "device = torch.device(\"cuda:0\")"
            ]
        },
        {
            "cell_type": "markdown",
            "metadata": {},
            "source": [
                "# data"
            ]
        },
        {
            "cell_type": "code",
            "execution_count": 5,
            "metadata": {},
            "outputs": [],
            "source": [
                "preprocess = transforms.Compose(\n",
                "    [\n",
                "        transforms.RandomHorizontalFlip(),\n",
                "        transforms.ColorJitter(),\n",
                "        transforms.Resize((IMAGE_SIZE, IMAGE_SIZE)),\n",
                "        transforms.ToTensor(),\n",
                "        transforms.Normalize(IMAGENET_MEAN, IMAGENET_STD),\n",
                "    ]\n",
                ")"
            ]
        },
        {
            "cell_type": "code",
            "execution_count": 6,
            "metadata": {},
            "outputs": [],
            "source": [
                "dataset = torchvision.datasets.ImageFolder(\n",
                "    data_path.as_posix(),\n",
                "    transform=preprocess,\n",
                ")"
            ]
        },
        {
            "cell_type": "code",
            "execution_count": 7,
            "metadata": {},
            "outputs": [],
            "source": [
                "train_loader = DataLoader(\n",
                "    dataset,\n",
                "    batch_size=BATCH_SIZE,\n",
                "    shuffle=True,\n",
                "    drop_last=True,\n",
                "    pin_memory=True,\n",
                "    num_workers=get_num_workers(),\n",
                ")"
            ]
        },
        {
            "cell_type": "code",
            "execution_count": 8,
            "metadata": {},
            "outputs": [],
            "source": [
                "num_class = len(dataset.classes)"
            ]
        },
        {
            "cell_type": "markdown",
            "metadata": {},
            "source": [
                "# model"
            ]
        },
        {
            "cell_type": "code",
            "execution_count": 9,
            "metadata": {},
            "outputs": [],
            "source": [
                "model = CoordAttentionResNet(output_size=num_class, key=50).to(device)"
            ]
        },
        {
            "cell_type": "code",
            "execution_count": 10,
            "metadata": {},
            "outputs": [
                {
                    "data": {
                        "text/plain": [
                            "================================================================================\n",
                            "Layer (type:depth-idx)                                  Param #\n",
                            "================================================================================\n",
                            "CoordAttentionResNet                                    --\n",
                            "├─Sequential: 1-1                                       --\n",
                            "│    └─ConvBnRelu: 2-1                                  --\n",
                            "│    │    └─Conv2d: 3-1                                 9,408\n",
                            "│    │    └─BatchNorm2d: 3-2                            128\n",
                            "│    │    └─ReLU: 3-3                                   --\n",
                            "│    └─MaxPool2d: 2-2                                   --\n",
                            "├─Sequential: 1-2                                       --\n",
                            "│    └─ResBlock: 2-3                                    --\n",
                            "│    │    └─BottleNeck: 3-4                             64,784\n",
                            "│    │    └─ConvBnRelu: 3-5                             16,896\n",
                            "│    └─ResBlock: 2-4                                    --\n",
                            "│    │    └─BottleNeck: 3-6                             77,072\n",
                            "│    │    └─Identity: 3-7                               --\n",
                            "│    └─ResBlock: 2-5                                    --\n",
                            "│    │    └─BottleNeck: 3-8                             77,072\n",
                            "│    │    └─Identity: 3-9                               --\n",
                            "├─Sequential: 1-3                                       --\n",
                            "│    └─ResBlock: 2-6                                    --\n",
                            "│    │    └─BottleNeck: 3-10                            272,928\n",
                            "│    │    └─ConvBnRelu: 3-11                            132,096\n",
                            "│    └─ResBlock: 2-7                                    --\n",
                            "│    │    └─BottleNeck: 3-12                            305,696\n",
                            "│    │    └─Identity: 3-13                              --\n",
                            "│    └─ResBlock: 2-8                                    --\n",
                            "│    │    └─BottleNeck: 3-14                            305,696\n",
                            "│    │    └─Identity: 3-15                              --\n",
                            "│    └─ResBlock: 2-9                                    --\n",
                            "│    │    └─BottleNeck: 3-16                            305,696\n",
                            "│    │    └─Identity: 3-17                              --\n",
                            "│    └─MaxPool2d: 2-10                                  --\n",
                            "├─Sequential: 1-4                                       --\n",
                            "│    └─ResBlock: 2-11                                   --\n",
                            "│    │    └─BottleNeck: 3-18                            1,086,528\n",
                            "│    │    └─ConvBnRelu: 3-19                            526,336\n",
                            "│    └─ResBlock: 2-12                                   --\n",
                            "│    │    └─BottleNeck: 3-20                            1,217,600\n",
                            "│    │    └─Identity: 3-21                              --\n",
                            "│    └─ResBlock: 2-13                                   --\n",
                            "│    │    └─BottleNeck: 3-22                            1,217,600\n",
                            "│    │    └─Identity: 3-23                              --\n",
                            "│    └─ResBlock: 2-14                                   --\n",
                            "│    │    └─BottleNeck: 3-24                            1,217,600\n",
                            "│    │    └─Identity: 3-25                              --\n",
                            "│    └─ResBlock: 2-15                                   --\n",
                            "│    │    └─BottleNeck: 3-26                            1,217,600\n",
                            "│    │    └─Identity: 3-27                              --\n",
                            "│    └─ResBlock: 2-16                                   --\n",
                            "│    │    └─BottleNeck: 3-28                            1,217,600\n",
                            "│    │    └─Identity: 3-29                              --\n",
                            "│    └─MaxPool2d: 2-17                                  --\n",
                            "├─Sequential: 1-5                                       --\n",
                            "│    └─ResBlock: 2-18                                   --\n",
                            "│    │    └─BottleNeck: 3-30                            4,335,744\n",
                            "│    │    └─ConvBnRelu: 3-31                            2,101,248\n",
                            "│    └─ResBlock: 2-19                                   --\n",
                            "│    │    └─BottleNeck: 3-32                            4,860,032\n",
                            "│    │    └─Identity: 3-33                              --\n",
                            "│    └─ResBlock: 2-20                                   --\n",
                            "│    │    └─BottleNeck: 3-34                            4,860,032\n",
                            "│    │    └─Identity: 3-35                              --\n",
                            "├─Sequential: 1-6                                       --\n",
                            "│    └─AdaptiveAvgPool2d: 2-21                          --\n",
                            "│    └─Flatten: 2-22                                    --\n",
                            "├─Linear: 1-7                                           20,490\n",
                            "================================================================================\n",
                            "Total params: 25,445,882\n",
                            "Trainable params: 25,445,882\n",
                            "Non-trainable params: 0\n",
                            "================================================================================"
                        ]
                    },
                    "execution_count": 10,
                    "metadata": {},
                    "output_type": "execute_result"
                }
            ],
            "source": [
                "torchinfo.summary(model)"
            ]
        },
        {
            "cell_type": "markdown",
            "metadata": {},
            "source": [
                "# training"
            ]
        },
        {
            "cell_type": "code",
            "execution_count": 11,
            "metadata": {},
            "outputs": [],
            "source": [
                "epochs = 10\n",
                "acc_iters = 64 // BATCH_SIZE"
            ]
        },
        {
            "cell_type": "code",
            "execution_count": 12,
            "metadata": {},
            "outputs": [],
            "source": [
                "trainer = ClassificationTrainer(epochs, device, acc_iters)"
            ]
        },
        {
            "cell_type": "code",
            "execution_count": 13,
            "metadata": {},
            "outputs": [],
            "source": [
                "criterion = trainer.get_criterion(num_class)\n",
                "optim = torch.optim.Adam(model.parameters(), weight_decay=1e-5)"
            ]
        },
        {
            "cell_type": "code",
            "execution_count": 14,
            "metadata": {},
            "outputs": [
                {
                    "name": "stderr",
                    "output_type": "stream",
                    "text": [
                        "100%|██████████| 1636/1636 [17:58<00:00,  1.52it/s]\n"
                    ]
                },
                {
                    "name": "stdout",
                    "output_type": "stream",
                    "text": [
                        "epoch 1 : 0.025291525085358754\n"
                    ]
                },
                {
                    "name": "stderr",
                    "output_type": "stream",
                    "text": [
                        "100%|██████████| 1636/1636 [06:10<00:00,  4.41it/s]\n"
                    ]
                },
                {
                    "name": "stdout",
                    "output_type": "stream",
                    "text": [
                        "epoch 2 : 0.018949594668597712\n"
                    ]
                },
                {
                    "name": "stderr",
                    "output_type": "stream",
                    "text": [
                        "100%|██████████| 1636/1636 [06:10<00:00,  4.41it/s]\n"
                    ]
                },
                {
                    "name": "stdout",
                    "output_type": "stream",
                    "text": [
                        "epoch 3 : 0.01562203953502595\n"
                    ]
                },
                {
                    "name": "stderr",
                    "output_type": "stream",
                    "text": [
                        "100%|██████████| 1636/1636 [06:10<00:00,  4.41it/s]\n"
                    ]
                },
                {
                    "name": "stdout",
                    "output_type": "stream",
                    "text": [
                        "epoch 4 : 0.013327953619438435\n"
                    ]
                },
                {
                    "name": "stderr",
                    "output_type": "stream",
                    "text": [
                        "100%|██████████| 1636/1636 [06:10<00:00,  4.41it/s]\n"
                    ]
                },
                {
                    "name": "stdout",
                    "output_type": "stream",
                    "text": [
                        "epoch 5 : 0.011874872488214483\n"
                    ]
                },
                {
                    "name": "stderr",
                    "output_type": "stream",
                    "text": [
                        "100%|██████████| 1636/1636 [06:12<00:00,  4.39it/s]\n"
                    ]
                },
                {
                    "name": "stdout",
                    "output_type": "stream",
                    "text": [
                        "epoch 6 : 0.010468818714473884\n"
                    ]
                },
                {
                    "name": "stderr",
                    "output_type": "stream",
                    "text": [
                        "100%|██████████| 1636/1636 [06:11<00:00,  4.40it/s]\n"
                    ]
                },
                {
                    "name": "stdout",
                    "output_type": "stream",
                    "text": [
                        "epoch 7 : 0.009300321593102463\n"
                    ]
                },
                {
                    "name": "stderr",
                    "output_type": "stream",
                    "text": [
                        "100%|██████████| 1636/1636 [06:10<00:00,  4.42it/s]\n"
                    ]
                },
                {
                    "name": "stdout",
                    "output_type": "stream",
                    "text": [
                        "epoch 8 : 0.00830661527477182\n"
                    ]
                },
                {
                    "name": "stderr",
                    "output_type": "stream",
                    "text": [
                        "100%|██████████| 1636/1636 [06:08<00:00,  4.44it/s]\n"
                    ]
                },
                {
                    "name": "stdout",
                    "output_type": "stream",
                    "text": [
                        "epoch 9 : 0.007432138972117595\n"
                    ]
                },
                {
                    "name": "stderr",
                    "output_type": "stream",
                    "text": [
                        "100%|██████████| 1636/1636 [06:08<00:00,  4.43it/s]"
                    ]
                },
                {
                    "name": "stdout",
                    "output_type": "stream",
                    "text": [
                        "epoch 10 : 0.006762483415771948\n"
                    ]
                },
                {
                    "name": "stderr",
                    "output_type": "stream",
                    "text": [
                        "\n"
                    ]
                }
            ],
            "source": [
                "training_loss = trainer.run(train_loader, model, optim, criterion)"
            ]
        },
        {
            "cell_type": "code",
            "execution_count": 15,
            "metadata": {},
            "outputs": [
                {
                    "data": {
                        "text/plain": [
                            "[<matplotlib.lines.Line2D at 0x2061ed7b990>]"
                        ]
                    },
                    "execution_count": 15,
                    "metadata": {},
                    "output_type": "execute_result"
                },
                {
                    "data": {
                        "image/png": "[encoded data removed]",
                        "text/plain": [
                            "<Figure size 640x480 with 1 Axes>"
                        ]
                    },
                    "metadata": {},
                    "output_type": "display_data"
                }
            ],
            "source": [
                "plt.plot(training_loss)"
            ]
        },
        {
            "cell_type": "markdown",
            "metadata": {},
            "source": [
                "# inference"
            ]
        },
        {
            "cell_type": "code",
            "execution_count": 16,
            "metadata": {},
            "outputs": [],
            "source": [
                "test_preprocess = transforms.Compose([\n",
                "    transforms.Resize((IMAGE_SIZE, IMAGE_SIZE)),\n",
                "    transforms.ToTensor(),\n",
                "    transforms.Normalize(IMAGENET_MEAN, IMAGENET_STD),\n",
                "])"
            ]
        },
        {
            "cell_type": "code",
            "execution_count": 17,
            "metadata": {},
            "outputs": [],
            "source": [
                "test_dataset = torchvision.datasets.ImageFolder(\n",
                "    data_path.as_posix(),\n",
                "    transform=test_preprocess,\n",
                ")"
            ]
        },
        {
            "cell_type": "code",
            "execution_count": 18,
            "metadata": {},
            "outputs": [],
            "source": [
                "test_loader = DataLoader(\n",
                "    test_dataset,\n",
                "    batch_size=BATCH_SIZE,\n",
                "    pin_memory=True,\n",
                "    num_workers=get_num_workers(),\n",
                ")"
            ]
        },
        {
            "cell_type": "code",
            "execution_count": 19,
            "metadata": {},
            "outputs": [],
            "source": [
                "evaluator = ClassificationEvaluator(num_class, device)"
            ]
        },
        {
            "cell_type": "code",
            "execution_count": 20,
            "metadata": {},
            "outputs": [
                {
                    "name": "stderr",
                    "output_type": "stream",
                    "text": [
                        "100%|██████████| 1637/1637 [02:37<00:00, 10.41it/s]"
                    ]
                },
                {
                    "name": "stdout",
                    "output_type": "stream",
                    "text": [
                        "[[4177  179   42   57  179   43   28   45   65   48]\n",
                        " [  39 2441    8   22   36    2   37    9   21    8]\n",
                        " [  21   34 1311    6   13    2    7   17   24   11]\n",
                        " [   1    5    1 1998    9    3    0    0   89    6]\n",
                        " [  27   14    3   55 2918    8    2    5   56   10]\n",
                        " [ 124   15   14   21   42 1375    2    4   27   44]\n",
                        " [  80  209   23    7   52    3 1366  101   20    5]\n",
                        " [  55   46   21    5   71   14   45 1502   41   20]\n",
                        " [   3   10    1  134   13    3    0    2 4646    9]\n",
                        " [  22    7    9   22   45   15    0    9  134 1599]]\n"
                    ]
                },
                {
                    "name": "stderr",
                    "output_type": "stream",
                    "text": [
                        "\n"
                    ]
                }
            ],
            "source": [
                "confusion_matrix = evaluator.run(test_loader, model)"
            ]
        },
        {
            "cell_type": "code",
            "execution_count": 21,
            "metadata": {},
            "outputs": [
                {
                    "name": "stdout",
                    "output_type": "stream",
                    "text": [
                        "cane      : 0.8589348139008842\n",
                        "cavallo   : 0.9306138009912314\n",
                        "elefante  : 0.9066390041493776\n",
                        "farfalla  : 0.9460227272727273\n",
                        "gallina   : 0.9418979987088444\n",
                        "gatto     : 0.8243405275779376\n",
                        "mucca     : 0.7320471596998929\n",
                        "pecora    : 0.8252747252747252\n",
                        "ragno     : 0.9637004770794441\n",
                        "scoiattolo: 0.8587540279269602\n"
                    ]
                }
            ],
            "source": [
                "per_class_acc = evaluator.get_per_class_accuracy(confusion_matrix)\n",
                "evaluator.show_per_class_accuracy(test_dataset.classes, per_class_acc)"
            ]
        },
        {
            "cell_type": "code",
            "execution_count": 22,
            "metadata": {},
            "outputs": [
                {
                    "data": {
                        "text/plain": [
                            "0.8788225262582025"
                        ]
                    },
                    "execution_count": 22,
                    "metadata": {},
                    "output_type": "execute_result"
                }
            ],
            "source": [
                "per_class_acc.mean()"
            ]
        },
        {
            "cell_type": "code",
            "execution_count": 23,
            "metadata": {},
            "outputs": [
                {
                    "data": {
                        "image/png": "[encoded data removed]",
                        "text/plain": [
                            "<Figure size 600x400 with 2 Axes>"
                        ]
                    },
                    "metadata": {},
                    "output_type": "display_data"
                }
            ],
            "source": [
                "evaluator.plot_confusion_matrix(\n",
                "    confusion_matrix,\n",
                "    test_dataset.classes,\n",
                "    \"Blues\",\n",
                "    annot=False,\n",
                "    figsize=(6, 4),\n",
                ")"
            ]
        },
        {
            "cell_type": "code",
            "execution_count": 24,
            "metadata": {},
            "outputs": [],
            "source": [
                "model_path = artifact_path / 'coord-att-resnet50.pth'"
            ]
        },
        {
            "cell_type": "code",
            "execution_count": 25,
            "metadata": {},
            "outputs": [],
            "source": [
                "torch.save(model.state_dict(), model_path)"
            ]
        },
        {
            "cell_type": "code",
            "execution_count": 26,
            "metadata": {},
            "outputs": [
                {
                    "data": {
                        "text/plain": [
                            "'97.44MB'"
                        ]
                    },
                    "execution_count": 26,
                    "metadata": {},
                    "output_type": "execute_result"
                }
            ],
            "source": [
                "get_file_size(model_path)"
            ]
        },
        {
            "cell_type": "code",
            "execution_count": 27,
            "metadata": {},
            "outputs": [
                {
                    "data": {
                        "text/plain": [
                            "<All keys matched successfully>"
                        ]
                    },
                    "execution_count": 27,
                    "metadata": {},
                    "output_type": "execute_result"
                }
            ],
            "source": [
                "model.load_state_dict(torch.load(model_path.as_posix()))"
            ]
        },
        {
            "cell_type": "code",
            "execution_count": null,
            "metadata": {},
            "outputs": [],
            "source": []
        }
    ],
    "metadata": {
        "kernelspec": {
            "display_name": ".venv",
            "language": "python",
            "name": "python3"
        },
        "language_info": {
            "codemirror_mode": {
                "name": "ipython",
                "version": 3
            },
            "file_extension": ".py",
            "mimetype": "text/x-python",
            "name": "python",
            "nbconvert_exporter": "python",
            "pygments_lexer": "ipython3",
            "version": "3.11.4"
        }
    },
    "nbformat": 4,
    "nbformat_minor": 2
}